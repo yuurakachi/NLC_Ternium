{
  "cells": [
    {
      "cell_type": "markdown",
      "metadata": {
        "id": "SkNrpJzeY_z3"
      },
      "source": [
        "# **NLC TERNIUM**\n",
        "*Equipo 1: Data Maniacs*\n",
        "\n",
        "*   Fernando Varela Roman | A01425020\n",
        "*   Yuu Ricardo Akachi Tanaka | A01351969\n",
        "*   Juan Carlos Sala Pulido | A00832952\n",
        "*   Valeria Edith Lugo Gutiérrez | A00830523\n",
        "*   Pablo Monzón Terrazas | A01562619\n",
        "*   Sabrina Carsellé Aldaco | A01368666\n",
        "*   Donnet Emmanuel Hernández Franco | A01352049\n",
        "*   Itzel Yacquelin Beltrán Reyes | A00832700\n",
        "\n",
        "\n"
      ]
    },
    {
      "cell_type": "markdown",
      "source": [
        "# **Etapa 2: Comprensión y Preparación de Datos**"
      ],
      "metadata": {
        "id": "LzlCtg1sGNuv"
      }
    },
    {
      "cell_type": "markdown",
      "metadata": {
        "id": "s8D054IzZiCn"
      },
      "source": [
        "## Leyendo las librerías"
      ]
    },
    {
      "cell_type": "code",
      "execution_count": 1,
      "metadata": {
        "id": "hBywZHdLEr4-"
      },
      "outputs": [],
      "source": [
        "import pandas as pd\n",
        "from pandas.compat import numpy\n",
        "import numpy as np"
      ]
    },
    {
      "cell_type": "markdown",
      "metadata": {
        "id": "MXExDswrZnd3"
      },
      "source": [
        "## Leyendo los datos"
      ]
    },
    {
      "cell_type": "code",
      "execution_count": 3,
      "metadata": {
        "colab": {
          "base_uri": "https://localhost:8080/",
          "height": 1077
        },
        "id": "yaL7DwEjE-jW",
        "outputId": "ab03bc63-7224-4015-f3f2-1dfe5c5162f7"
      },
      "outputs": [
        {
          "output_type": "display_data",
          "data": {
            "text/plain": [
              "          Aviso                               Descripción  \\\n",
              "0      56855451                 fuga en cilindro rotativo   \n",
              "1      56942361  SE-44927-1-HH Servicio de Emergencia equ   \n",
              "2      56737243            cabledo de comunicacion de PLC   \n",
              "3      56957151  SE-48312-1-HH Servicio de Emergencia equ   \n",
              "4      56968883  SE-48189-1-HH Servicio de Emergencia equ   \n",
              "...         ...                                       ...   \n",
              "64714  56562478     DAÑARSE ENGRANE EN TRANSIMION ENTRADA   \n",
              "64715  56188446                          FV-2164 AMARRADA   \n",
              "64716  56371418      255f2 cambio de solenoide de barrido   \n",
              "64717  56572395      671-j revisar control de arrancador.   \n",
              "64718  56442327                     instalar tapa de 223G   \n",
              "\n",
              "                                               Qué pasó?  \\\n",
              "0      REPORTA OPERADOR FUGA EN CILINDRO ROTATIVO DE ...   \n",
              "1                                              falla plc   \n",
              "2      SE PIDE PONER CABLE DE COMUNICACION A TABLERO ...   \n",
              "3                           FALLAS EN PLC CONTROL LOGICS   \n",
              "4                             falla en plc control logix   \n",
              "...                                                  ...   \n",
              "64714    REPORTAN FUERTE RUIDO EN TRANSMISION DE ENTRADA   \n",
              "64715                               REPORTAN ATORAMIENTO   \n",
              "64716                        REPORTAN FALLA EN SOLENOIDE   \n",
              "64717                          EL ARRANCADOR TIENE FALLA   \n",
              "64718           SE DAÑA EMPAQUE DE TAPA INFERIOR EN 223G   \n",
              "\n",
              "                                           Por qué pasó?  \\\n",
              "0      POR DAÑARSE VALVULA ROTATIVA DE ENRROLLADOR OT...   \n",
              "1                                           programacion   \n",
              "2                 POR FALTA DE COMUNICACION DE PLC A PLC   \n",
              "3                                           PROGRAMACION   \n",
              "4                                          desprogramado   \n",
              "...                                                  ...   \n",
              "64714   SE ACUDE A DESTAPAR Y SE ENCONTRO ENGRANE DAÑADO   \n",
              "64715                           POR FALTA DE LUBRICACION   \n",
              "64716                           ATORAMIENTO EN SOLENOIDE   \n",
              "64717                        FALLA CONTROL DE ARRANCADOR   \n",
              "64718                               POR FIN DE VIDA UTIL   \n",
              "\n",
              "                                            Qué se hizo?  \\\n",
              "0      SE CAMBIA CILINDRO DAÑADO POR REFACCION TRABAJ...   \n",
              "1      se efectua servicio de cia control tech en ten...   \n",
              "2      SE ADAPTARON GABINETES Y CONECTORES POR DONDE ...   \n",
              "3                                   SE CONFIGUARA LOGICA   \n",
              "4                           se modifica programacion plc   \n",
              "...                                                  ...   \n",
              "64714   SE COMIENZAN PREPARATIVOS PARA CAMBIO DE ENGRANE   \n",
              "64715                LA LAVAN CON PETROLEO Y LA LUBRICAN   \n",
              "64716                       SE PIDE SOLENOIDE PARA CAMBI   \n",
              "64717              SE MOVIERON TIEMPOS DE TEMPORIZADORES   \n",
              "64718                                  SE CAMBIA EMPAQUE   \n",
              "\n",
              "               Parte Objeto                          Síntoma  \\\n",
              "0      VALVULA DISTRIBUCION                            FUGAS   \n",
              "1                       PLC  SEÑAL/INDICACIÓN/ALARMA ERRÓNEA   \n",
              "2                     OTROS                            OTROS   \n",
              "3                     OTROS                    DESPROGRAMADO   \n",
              "4                       PLC                 FALLA DE CONTROL   \n",
              "...                     ...                              ...   \n",
              "64714              ENGRANES                         FRACTURA   \n",
              "64715   TUBERIAS Y VALVULAS                           RAYADA   \n",
              "64716             DIAFRAGMA                        CORROSION   \n",
              "64717            CONEXIONES                       PROTECCION   \n",
              "64718                 TAPAS                         DESGASTE   \n",
              "\n",
              "                                 Texto Síntoma                Causa  \\\n",
              "0                                         fuga    BAJO NIVEL ACEITE   \n",
              "1                              desprogramacion  ERROR DE PROGRAMACI   \n",
              "2      SE PIDE PONER CABLE DE COMUNICACION A T                OTROS   \n",
              "3                                          NaN  ERROR DE PROGRAMACI   \n",
              "4                   falla en plc control logix  FALLA DE COMUNICACI   \n",
              "...                                        ...                  ...   \n",
              "64714                                      NaN               FATIGA   \n",
              "64715                                      NaN        CONTAMINACION   \n",
              "64716                                      NaN               FATIGA   \n",
              "64717                                      NaN           PROTECCION   \n",
              "64718                                      NaN               FATIGA   \n",
              "\n",
              "           Equipo                              Denominación  \\\n",
              "0      26003529.0                    MANDRIL ENROLLADOR OTE   \n",
              "1      26108316.0                       PLC'S TENSONIVELADO   \n",
              "2      23100185.0                    BOTONERA SCRAP CHOPPER   \n",
              "3             NaN                                       NaN   \n",
              "4      26108316.0                       PLC'S TENSONIVELADO   \n",
              "...           ...                                       ...   \n",
              "64714  26108160.0                     FLECHA DE TRANSMISION   \n",
              "64715  26000905.0         XSV2164 VALVULA SALIDA GAS 255-F1   \n",
              "64716  26000879.0        PSL2079 SWITCH PRESION BAJA 255-F1   \n",
              "64717  26116529.0  INT 52-13 ARRANCADOR TENS. REDUCIDA 671J   \n",
              "64718  26102120.0                   223-E TORRE ABSORBEDORA   \n",
              "\n",
              "                      Ubicac.técnica                    Denominación.1 Parada  \\\n",
              "0      HM-LAM-LAFR-FR03-EOTE-ENO-ELA              EMBOBINADO DE LÁMINA    NaN   \n",
              "1              HM-LFR-TNIV-SELE-EECO       EQUIPO ELECTRICO DE CONTROL    NaN   \n",
              "2              HM-ACX-SLIT-SLI1-ENCH                     SCRAP CHOPPER    NaN   \n",
              "3                   HM-LFR-TNIV-SOLD                         SOLDADORA    NaN   \n",
              "4              HM-LFR-TNIV-SELE-EECO       EQUIPO ELECTRICO DE CONTROL    NaN   \n",
              "...                              ...                               ...    ...   \n",
              "64714          HM-LFR-TNIV-TNIV-RTE2               RIENDA DE TENSION 2    NaN   \n",
              "64715          HM-RED-P3M5-CADE-SDES    SISTEMA DE DESCARGA PLANTA 3M5      X   \n",
              "64716          HM-RED-P3M5-CADE-SDES    SISTEMA DE DESCARGA PLANTA 3M5    NaN   \n",
              "64717      HM-RED-PL4M-SELE-S601-21A                   CCM EL-903-N21A    NaN   \n",
              "64718          HM-RED-P3M5-AUXI-SABS  SISTEMA ABSORCION CO2 PLANTA 3M5    NaN   \n",
              "\n",
              "       Duración parada Inicio avería  \n",
              "0                 0.00      4/9/3754  \n",
              "1                 0.00     2/21/2021  \n",
              "2                 0.00     3/30/2021  \n",
              "3                 0.00     7/20/2021  \n",
              "4                 0.00     7/26/2021  \n",
              "...                ...           ...  \n",
              "64714             0.00     2/27/2022  \n",
              "64715             0.05      3/6/2022  \n",
              "64716             0.00     6/23/2022  \n",
              "64717             0.00      8/3/2022  \n",
              "64718             0.00      9/4/2022  \n",
              "\n",
              "[64719 rows x 16 columns]"
            ],
            "text/html": [
              "\n",
              "  <div id=\"df-276670eb-0ee6-479e-b743-5ff3564468e8\">\n",
              "    <div class=\"colab-df-container\">\n",
              "      <div>\n",
              "<style scoped>\n",
              "    .dataframe tbody tr th:only-of-type {\n",
              "        vertical-align: middle;\n",
              "    }\n",
              "\n",
              "    .dataframe tbody tr th {\n",
              "        vertical-align: top;\n",
              "    }\n",
              "\n",
              "    .dataframe thead th {\n",
              "        text-align: right;\n",
              "    }\n",
              "</style>\n",
              "<table border=\"1\" class=\"dataframe\">\n",
              "  <thead>\n",
              "    <tr style=\"text-align: right;\">\n",
              "      <th></th>\n",
              "      <th>Aviso</th>\n",
              "      <th>Descripción</th>\n",
              "      <th>Qué pasó?</th>\n",
              "      <th>Por qué pasó?</th>\n",
              "      <th>Qué se hizo?</th>\n",
              "      <th>Parte Objeto</th>\n",
              "      <th>Síntoma</th>\n",
              "      <th>Texto Síntoma</th>\n",
              "      <th>Causa</th>\n",
              "      <th>Equipo</th>\n",
              "      <th>Denominación</th>\n",
              "      <th>Ubicac.técnica</th>\n",
              "      <th>Denominación.1</th>\n",
              "      <th>Parada</th>\n",
              "      <th>Duración parada</th>\n",
              "      <th>Inicio avería</th>\n",
              "    </tr>\n",
              "  </thead>\n",
              "  <tbody>\n",
              "    <tr>\n",
              "      <th>0</th>\n",
              "      <td>56855451</td>\n",
              "      <td>fuga en cilindro rotativo</td>\n",
              "      <td>REPORTA OPERADOR FUGA EN CILINDRO ROTATIVO DE ...</td>\n",
              "      <td>POR DAÑARSE VALVULA ROTATIVA DE ENRROLLADOR OT...</td>\n",
              "      <td>SE CAMBIA CILINDRO DAÑADO POR REFACCION TRABAJ...</td>\n",
              "      <td>VALVULA DISTRIBUCION</td>\n",
              "      <td>FUGAS</td>\n",
              "      <td>fuga</td>\n",
              "      <td>BAJO NIVEL ACEITE</td>\n",
              "      <td>26003529.0</td>\n",
              "      <td>MANDRIL ENROLLADOR OTE</td>\n",
              "      <td>HM-LAM-LAFR-FR03-EOTE-ENO-ELA</td>\n",
              "      <td>EMBOBINADO DE LÁMINA</td>\n",
              "      <td>NaN</td>\n",
              "      <td>0.00</td>\n",
              "      <td>4/9/3754</td>\n",
              "    </tr>\n",
              "    <tr>\n",
              "      <th>1</th>\n",
              "      <td>56942361</td>\n",
              "      <td>SE-44927-1-HH Servicio de Emergencia equ</td>\n",
              "      <td>falla plc</td>\n",
              "      <td>programacion</td>\n",
              "      <td>se efectua servicio de cia control tech en ten...</td>\n",
              "      <td>PLC</td>\n",
              "      <td>SEÑAL/INDICACIÓN/ALARMA ERRÓNEA</td>\n",
              "      <td>desprogramacion</td>\n",
              "      <td>ERROR DE PROGRAMACI</td>\n",
              "      <td>26108316.0</td>\n",
              "      <td>PLC'S TENSONIVELADO</td>\n",
              "      <td>HM-LFR-TNIV-SELE-EECO</td>\n",
              "      <td>EQUIPO ELECTRICO DE CONTROL</td>\n",
              "      <td>NaN</td>\n",
              "      <td>0.00</td>\n",
              "      <td>2/21/2021</td>\n",
              "    </tr>\n",
              "    <tr>\n",
              "      <th>2</th>\n",
              "      <td>56737243</td>\n",
              "      <td>cabledo de comunicacion de PLC</td>\n",
              "      <td>SE PIDE PONER CABLE DE COMUNICACION A TABLERO ...</td>\n",
              "      <td>POR FALTA DE COMUNICACION DE PLC A PLC</td>\n",
              "      <td>SE ADAPTARON GABINETES Y CONECTORES POR DONDE ...</td>\n",
              "      <td>OTROS</td>\n",
              "      <td>OTROS</td>\n",
              "      <td>SE PIDE PONER CABLE DE COMUNICACION A T</td>\n",
              "      <td>OTROS</td>\n",
              "      <td>23100185.0</td>\n",
              "      <td>BOTONERA SCRAP CHOPPER</td>\n",
              "      <td>HM-ACX-SLIT-SLI1-ENCH</td>\n",
              "      <td>SCRAP CHOPPER</td>\n",
              "      <td>NaN</td>\n",
              "      <td>0.00</td>\n",
              "      <td>3/30/2021</td>\n",
              "    </tr>\n",
              "    <tr>\n",
              "      <th>3</th>\n",
              "      <td>56957151</td>\n",
              "      <td>SE-48312-1-HH Servicio de Emergencia equ</td>\n",
              "      <td>FALLAS EN PLC CONTROL LOGICS</td>\n",
              "      <td>PROGRAMACION</td>\n",
              "      <td>SE CONFIGUARA LOGICA</td>\n",
              "      <td>OTROS</td>\n",
              "      <td>DESPROGRAMADO</td>\n",
              "      <td>NaN</td>\n",
              "      <td>ERROR DE PROGRAMACI</td>\n",
              "      <td>NaN</td>\n",
              "      <td>NaN</td>\n",
              "      <td>HM-LFR-TNIV-SOLD</td>\n",
              "      <td>SOLDADORA</td>\n",
              "      <td>NaN</td>\n",
              "      <td>0.00</td>\n",
              "      <td>7/20/2021</td>\n",
              "    </tr>\n",
              "    <tr>\n",
              "      <th>4</th>\n",
              "      <td>56968883</td>\n",
              "      <td>SE-48189-1-HH Servicio de Emergencia equ</td>\n",
              "      <td>falla en plc control logix</td>\n",
              "      <td>desprogramado</td>\n",
              "      <td>se modifica programacion plc</td>\n",
              "      <td>PLC</td>\n",
              "      <td>FALLA DE CONTROL</td>\n",
              "      <td>falla en plc control logix</td>\n",
              "      <td>FALLA DE COMUNICACI</td>\n",
              "      <td>26108316.0</td>\n",
              "      <td>PLC'S TENSONIVELADO</td>\n",
              "      <td>HM-LFR-TNIV-SELE-EECO</td>\n",
              "      <td>EQUIPO ELECTRICO DE CONTROL</td>\n",
              "      <td>NaN</td>\n",
              "      <td>0.00</td>\n",
              "      <td>7/26/2021</td>\n",
              "    </tr>\n",
              "    <tr>\n",
              "      <th>...</th>\n",
              "      <td>...</td>\n",
              "      <td>...</td>\n",
              "      <td>...</td>\n",
              "      <td>...</td>\n",
              "      <td>...</td>\n",
              "      <td>...</td>\n",
              "      <td>...</td>\n",
              "      <td>...</td>\n",
              "      <td>...</td>\n",
              "      <td>...</td>\n",
              "      <td>...</td>\n",
              "      <td>...</td>\n",
              "      <td>...</td>\n",
              "      <td>...</td>\n",
              "      <td>...</td>\n",
              "      <td>...</td>\n",
              "    </tr>\n",
              "    <tr>\n",
              "      <th>64714</th>\n",
              "      <td>56562478</td>\n",
              "      <td>DAÑARSE ENGRANE EN TRANSIMION ENTRADA</td>\n",
              "      <td>REPORTAN FUERTE RUIDO EN TRANSMISION DE ENTRADA</td>\n",
              "      <td>SE ACUDE A DESTAPAR Y SE ENCONTRO ENGRANE DAÑADO</td>\n",
              "      <td>SE COMIENZAN PREPARATIVOS PARA CAMBIO DE ENGRANE</td>\n",
              "      <td>ENGRANES</td>\n",
              "      <td>FRACTURA</td>\n",
              "      <td>NaN</td>\n",
              "      <td>FATIGA</td>\n",
              "      <td>26108160.0</td>\n",
              "      <td>FLECHA DE TRANSMISION</td>\n",
              "      <td>HM-LFR-TNIV-TNIV-RTE2</td>\n",
              "      <td>RIENDA DE TENSION 2</td>\n",
              "      <td>NaN</td>\n",
              "      <td>0.00</td>\n",
              "      <td>2/27/2022</td>\n",
              "    </tr>\n",
              "    <tr>\n",
              "      <th>64715</th>\n",
              "      <td>56188446</td>\n",
              "      <td>FV-2164 AMARRADA</td>\n",
              "      <td>REPORTAN ATORAMIENTO</td>\n",
              "      <td>POR FALTA DE LUBRICACION</td>\n",
              "      <td>LA LAVAN CON PETROLEO Y LA LUBRICAN</td>\n",
              "      <td>TUBERIAS Y VALVULAS</td>\n",
              "      <td>RAYADA</td>\n",
              "      <td>NaN</td>\n",
              "      <td>CONTAMINACION</td>\n",
              "      <td>26000905.0</td>\n",
              "      <td>XSV2164 VALVULA SALIDA GAS 255-F1</td>\n",
              "      <td>HM-RED-P3M5-CADE-SDES</td>\n",
              "      <td>SISTEMA DE DESCARGA PLANTA 3M5</td>\n",
              "      <td>X</td>\n",
              "      <td>0.05</td>\n",
              "      <td>3/6/2022</td>\n",
              "    </tr>\n",
              "    <tr>\n",
              "      <th>64716</th>\n",
              "      <td>56371418</td>\n",
              "      <td>255f2 cambio de solenoide de barrido</td>\n",
              "      <td>REPORTAN FALLA EN SOLENOIDE</td>\n",
              "      <td>ATORAMIENTO EN SOLENOIDE</td>\n",
              "      <td>SE PIDE SOLENOIDE PARA CAMBI</td>\n",
              "      <td>DIAFRAGMA</td>\n",
              "      <td>CORROSION</td>\n",
              "      <td>NaN</td>\n",
              "      <td>FATIGA</td>\n",
              "      <td>26000879.0</td>\n",
              "      <td>PSL2079 SWITCH PRESION BAJA 255-F1</td>\n",
              "      <td>HM-RED-P3M5-CADE-SDES</td>\n",
              "      <td>SISTEMA DE DESCARGA PLANTA 3M5</td>\n",
              "      <td>NaN</td>\n",
              "      <td>0.00</td>\n",
              "      <td>6/23/2022</td>\n",
              "    </tr>\n",
              "    <tr>\n",
              "      <th>64717</th>\n",
              "      <td>56572395</td>\n",
              "      <td>671-j revisar control de arrancador.</td>\n",
              "      <td>EL ARRANCADOR TIENE FALLA</td>\n",
              "      <td>FALLA CONTROL DE ARRANCADOR</td>\n",
              "      <td>SE MOVIERON TIEMPOS DE TEMPORIZADORES</td>\n",
              "      <td>CONEXIONES</td>\n",
              "      <td>PROTECCION</td>\n",
              "      <td>NaN</td>\n",
              "      <td>PROTECCION</td>\n",
              "      <td>26116529.0</td>\n",
              "      <td>INT 52-13 ARRANCADOR TENS. REDUCIDA 671J</td>\n",
              "      <td>HM-RED-PL4M-SELE-S601-21A</td>\n",
              "      <td>CCM EL-903-N21A</td>\n",
              "      <td>NaN</td>\n",
              "      <td>0.00</td>\n",
              "      <td>8/3/2022</td>\n",
              "    </tr>\n",
              "    <tr>\n",
              "      <th>64718</th>\n",
              "      <td>56442327</td>\n",
              "      <td>instalar tapa de 223G</td>\n",
              "      <td>SE DAÑA EMPAQUE DE TAPA INFERIOR EN 223G</td>\n",
              "      <td>POR FIN DE VIDA UTIL</td>\n",
              "      <td>SE CAMBIA EMPAQUE</td>\n",
              "      <td>TAPAS</td>\n",
              "      <td>DESGASTE</td>\n",
              "      <td>NaN</td>\n",
              "      <td>FATIGA</td>\n",
              "      <td>26102120.0</td>\n",
              "      <td>223-E TORRE ABSORBEDORA</td>\n",
              "      <td>HM-RED-P3M5-AUXI-SABS</td>\n",
              "      <td>SISTEMA ABSORCION CO2 PLANTA 3M5</td>\n",
              "      <td>NaN</td>\n",
              "      <td>0.00</td>\n",
              "      <td>9/4/2022</td>\n",
              "    </tr>\n",
              "  </tbody>\n",
              "</table>\n",
              "<p>64719 rows × 16 columns</p>\n",
              "</div>\n",
              "      <button class=\"colab-df-convert\" onclick=\"convertToInteractive('df-276670eb-0ee6-479e-b743-5ff3564468e8')\"\n",
              "              title=\"Convert this dataframe to an interactive table.\"\n",
              "              style=\"display:none;\">\n",
              "        \n",
              "  <svg xmlns=\"http://www.w3.org/2000/svg\" height=\"24px\"viewBox=\"0 0 24 24\"\n",
              "       width=\"24px\">\n",
              "    <path d=\"M0 0h24v24H0V0z\" fill=\"none\"/>\n",
              "    <path d=\"M18.56 5.44l.94 2.06.94-2.06 2.06-.94-2.06-.94-.94-2.06-.94 2.06-2.06.94zm-11 1L8.5 8.5l.94-2.06 2.06-.94-2.06-.94L8.5 2.5l-.94 2.06-2.06.94zm10 10l.94 2.06.94-2.06 2.06-.94-2.06-.94-.94-2.06-.94 2.06-2.06.94z\"/><path d=\"M17.41 7.96l-1.37-1.37c-.4-.4-.92-.59-1.43-.59-.52 0-1.04.2-1.43.59L10.3 9.45l-7.72 7.72c-.78.78-.78 2.05 0 2.83L4 21.41c.39.39.9.59 1.41.59.51 0 1.02-.2 1.41-.59l7.78-7.78 2.81-2.81c.8-.78.8-2.07 0-2.86zM5.41 20L4 18.59l7.72-7.72 1.47 1.35L5.41 20z\"/>\n",
              "  </svg>\n",
              "      </button>\n",
              "      \n",
              "  <style>\n",
              "    .colab-df-container {\n",
              "      display:flex;\n",
              "      flex-wrap:wrap;\n",
              "      gap: 12px;\n",
              "    }\n",
              "\n",
              "    .colab-df-convert {\n",
              "      background-color: #E8F0FE;\n",
              "      border: none;\n",
              "      border-radius: 50%;\n",
              "      cursor: pointer;\n",
              "      display: none;\n",
              "      fill: #1967D2;\n",
              "      height: 32px;\n",
              "      padding: 0 0 0 0;\n",
              "      width: 32px;\n",
              "    }\n",
              "\n",
              "    .colab-df-convert:hover {\n",
              "      background-color: #E2EBFA;\n",
              "      box-shadow: 0px 1px 2px rgba(60, 64, 67, 0.3), 0px 1px 3px 1px rgba(60, 64, 67, 0.15);\n",
              "      fill: #174EA6;\n",
              "    }\n",
              "\n",
              "    [theme=dark] .colab-df-convert {\n",
              "      background-color: #3B4455;\n",
              "      fill: #D2E3FC;\n",
              "    }\n",
              "\n",
              "    [theme=dark] .colab-df-convert:hover {\n",
              "      background-color: #434B5C;\n",
              "      box-shadow: 0px 1px 3px 1px rgba(0, 0, 0, 0.15);\n",
              "      filter: drop-shadow(0px 1px 2px rgba(0, 0, 0, 0.3));\n",
              "      fill: #FFFFFF;\n",
              "    }\n",
              "  </style>\n",
              "\n",
              "      <script>\n",
              "        const buttonEl =\n",
              "          document.querySelector('#df-276670eb-0ee6-479e-b743-5ff3564468e8 button.colab-df-convert');\n",
              "        buttonEl.style.display =\n",
              "          google.colab.kernel.accessAllowed ? 'block' : 'none';\n",
              "\n",
              "        async function convertToInteractive(key) {\n",
              "          const element = document.querySelector('#df-276670eb-0ee6-479e-b743-5ff3564468e8');\n",
              "          const dataTable =\n",
              "            await google.colab.kernel.invokeFunction('convertToInteractive',\n",
              "                                                     [key], {});\n",
              "          if (!dataTable) return;\n",
              "\n",
              "          const docLinkHtml = 'Like what you see? Visit the ' +\n",
              "            '<a target=\"_blank\" href=https://colab.research.google.com/notebooks/data_table.ipynb>data table notebook</a>'\n",
              "            + ' to learn more about interactive tables.';\n",
              "          element.innerHTML = '';\n",
              "          dataTable['output_type'] = 'display_data';\n",
              "          await google.colab.output.renderOutput(dataTable, element);\n",
              "          const docLink = document.createElement('div');\n",
              "          docLink.innerHTML = docLinkHtml;\n",
              "          element.appendChild(docLink);\n",
              "        }\n",
              "      </script>\n",
              "    </div>\n",
              "  </div>\n",
              "  "
            ]
          },
          "metadata": {}
        }
      ],
      "source": [
        "df =pd.read_csv(\"/content/Avisos M2 HM.csv\") \n",
        "display(df)"
      ]
    },
    {
      "cell_type": "markdown",
      "metadata": {
        "id": "7yDkCqAZZz4l"
      },
      "source": [
        "### **1. Comprensión de los Datos**"
      ]
    },
    {
      "cell_type": "markdown",
      "metadata": {
        "id": "alA7ycJiZ9Oa"
      },
      "source": [
        "### Dimensión de los datos"
      ]
    },
    {
      "cell_type": "code",
      "execution_count": 4,
      "metadata": {
        "colab": {
          "base_uri": "https://localhost:8080/",
          "height": 0
        },
        "id": "z0qLLnH6Z_9J",
        "outputId": "f2724ecb-1f59-4bc6-87b9-2013915fb928"
      },
      "outputs": [
        {
          "output_type": "execute_result",
          "data": {
            "text/plain": [
              "(64719, 16)"
            ]
          },
          "metadata": {},
          "execution_count": 4
        }
      ],
      "source": [
        "# Tamaño del DataFrame (fila y columna)\n",
        "df.shape"
      ]
    },
    {
      "cell_type": "markdown",
      "metadata": {
        "id": "5tUsZhYic3-w"
      },
      "source": [
        "Nuestra base de datos contiene 64,719 registros y cuenta con 16 variables"
      ]
    },
    {
      "cell_type": "markdown",
      "metadata": {
        "id": "j18ENQ6XhGi8"
      },
      "source": [
        "### Descripción de las variables"
      ]
    },
    {
      "cell_type": "markdown",
      "metadata": {
        "id": "eNvxziHD9dih"
      },
      "source": [
        "Observamos los primeros 5 registros de la base de datos para ver de qué se tratan las variables"
      ]
    },
    {
      "cell_type": "code",
      "execution_count": 5,
      "metadata": {
        "colab": {
          "base_uri": "https://localhost:8080/",
          "height": 652
        },
        "id": "1nuuNeGlhJ-_",
        "outputId": "8d96a2ed-b0e5-4ca5-d93e-87b1b2530dcb"
      },
      "outputs": [
        {
          "output_type": "execute_result",
          "data": {
            "text/plain": [
              "      Aviso                               Descripción  \\\n",
              "0  56855451                 fuga en cilindro rotativo   \n",
              "1  56942361  SE-44927-1-HH Servicio de Emergencia equ   \n",
              "2  56737243            cabledo de comunicacion de PLC   \n",
              "3  56957151  SE-48312-1-HH Servicio de Emergencia equ   \n",
              "4  56968883  SE-48189-1-HH Servicio de Emergencia equ   \n",
              "\n",
              "                                           Qué pasó?  \\\n",
              "0  REPORTA OPERADOR FUGA EN CILINDRO ROTATIVO DE ...   \n",
              "1                                          falla plc   \n",
              "2  SE PIDE PONER CABLE DE COMUNICACION A TABLERO ...   \n",
              "3                       FALLAS EN PLC CONTROL LOGICS   \n",
              "4                         falla en plc control logix   \n",
              "\n",
              "                                       Por qué pasó?  \\\n",
              "0  POR DAÑARSE VALVULA ROTATIVA DE ENRROLLADOR OT...   \n",
              "1                                       programacion   \n",
              "2             POR FALTA DE COMUNICACION DE PLC A PLC   \n",
              "3                                       PROGRAMACION   \n",
              "4                                      desprogramado   \n",
              "\n",
              "                                        Qué se hizo?          Parte Objeto  \\\n",
              "0  SE CAMBIA CILINDRO DAÑADO POR REFACCION TRABAJ...  VALVULA DISTRIBUCION   \n",
              "1  se efectua servicio de cia control tech en ten...                   PLC   \n",
              "2  SE ADAPTARON GABINETES Y CONECTORES POR DONDE ...                 OTROS   \n",
              "3                               SE CONFIGUARA LOGICA                 OTROS   \n",
              "4                       se modifica programacion plc                   PLC   \n",
              "\n",
              "                           Síntoma                            Texto Síntoma  \\\n",
              "0                            FUGAS                                     fuga   \n",
              "1  SEÑAL/INDICACIÓN/ALARMA ERRÓNEA                          desprogramacion   \n",
              "2                            OTROS  SE PIDE PONER CABLE DE COMUNICACION A T   \n",
              "3                    DESPROGRAMADO                                      NaN   \n",
              "4                 FALLA DE CONTROL               falla en plc control logix   \n",
              "\n",
              "                 Causa      Equipo            Denominación  \\\n",
              "0    BAJO NIVEL ACEITE  26003529.0  MANDRIL ENROLLADOR OTE   \n",
              "1  ERROR DE PROGRAMACI  26108316.0     PLC'S TENSONIVELADO   \n",
              "2                OTROS  23100185.0  BOTONERA SCRAP CHOPPER   \n",
              "3  ERROR DE PROGRAMACI         NaN                     NaN   \n",
              "4  FALLA DE COMUNICACI  26108316.0     PLC'S TENSONIVELADO   \n",
              "\n",
              "                  Ubicac.técnica               Denominación.1 Parada  \\\n",
              "0  HM-LAM-LAFR-FR03-EOTE-ENO-ELA         EMBOBINADO DE LÁMINA    NaN   \n",
              "1          HM-LFR-TNIV-SELE-EECO  EQUIPO ELECTRICO DE CONTROL    NaN   \n",
              "2          HM-ACX-SLIT-SLI1-ENCH                SCRAP CHOPPER    NaN   \n",
              "3               HM-LFR-TNIV-SOLD                    SOLDADORA    NaN   \n",
              "4          HM-LFR-TNIV-SELE-EECO  EQUIPO ELECTRICO DE CONTROL    NaN   \n",
              "\n",
              "   Duración parada Inicio avería  \n",
              "0              0.0      4/9/3754  \n",
              "1              0.0     2/21/2021  \n",
              "2              0.0     3/30/2021  \n",
              "3              0.0     7/20/2021  \n",
              "4              0.0     7/26/2021  "
            ],
            "text/html": [
              "\n",
              "  <div id=\"df-b109248d-867a-4d8b-a440-10f2bd0c38a5\">\n",
              "    <div class=\"colab-df-container\">\n",
              "      <div>\n",
              "<style scoped>\n",
              "    .dataframe tbody tr th:only-of-type {\n",
              "        vertical-align: middle;\n",
              "    }\n",
              "\n",
              "    .dataframe tbody tr th {\n",
              "        vertical-align: top;\n",
              "    }\n",
              "\n",
              "    .dataframe thead th {\n",
              "        text-align: right;\n",
              "    }\n",
              "</style>\n",
              "<table border=\"1\" class=\"dataframe\">\n",
              "  <thead>\n",
              "    <tr style=\"text-align: right;\">\n",
              "      <th></th>\n",
              "      <th>Aviso</th>\n",
              "      <th>Descripción</th>\n",
              "      <th>Qué pasó?</th>\n",
              "      <th>Por qué pasó?</th>\n",
              "      <th>Qué se hizo?</th>\n",
              "      <th>Parte Objeto</th>\n",
              "      <th>Síntoma</th>\n",
              "      <th>Texto Síntoma</th>\n",
              "      <th>Causa</th>\n",
              "      <th>Equipo</th>\n",
              "      <th>Denominación</th>\n",
              "      <th>Ubicac.técnica</th>\n",
              "      <th>Denominación.1</th>\n",
              "      <th>Parada</th>\n",
              "      <th>Duración parada</th>\n",
              "      <th>Inicio avería</th>\n",
              "    </tr>\n",
              "  </thead>\n",
              "  <tbody>\n",
              "    <tr>\n",
              "      <th>0</th>\n",
              "      <td>56855451</td>\n",
              "      <td>fuga en cilindro rotativo</td>\n",
              "      <td>REPORTA OPERADOR FUGA EN CILINDRO ROTATIVO DE ...</td>\n",
              "      <td>POR DAÑARSE VALVULA ROTATIVA DE ENRROLLADOR OT...</td>\n",
              "      <td>SE CAMBIA CILINDRO DAÑADO POR REFACCION TRABAJ...</td>\n",
              "      <td>VALVULA DISTRIBUCION</td>\n",
              "      <td>FUGAS</td>\n",
              "      <td>fuga</td>\n",
              "      <td>BAJO NIVEL ACEITE</td>\n",
              "      <td>26003529.0</td>\n",
              "      <td>MANDRIL ENROLLADOR OTE</td>\n",
              "      <td>HM-LAM-LAFR-FR03-EOTE-ENO-ELA</td>\n",
              "      <td>EMBOBINADO DE LÁMINA</td>\n",
              "      <td>NaN</td>\n",
              "      <td>0.0</td>\n",
              "      <td>4/9/3754</td>\n",
              "    </tr>\n",
              "    <tr>\n",
              "      <th>1</th>\n",
              "      <td>56942361</td>\n",
              "      <td>SE-44927-1-HH Servicio de Emergencia equ</td>\n",
              "      <td>falla plc</td>\n",
              "      <td>programacion</td>\n",
              "      <td>se efectua servicio de cia control tech en ten...</td>\n",
              "      <td>PLC</td>\n",
              "      <td>SEÑAL/INDICACIÓN/ALARMA ERRÓNEA</td>\n",
              "      <td>desprogramacion</td>\n",
              "      <td>ERROR DE PROGRAMACI</td>\n",
              "      <td>26108316.0</td>\n",
              "      <td>PLC'S TENSONIVELADO</td>\n",
              "      <td>HM-LFR-TNIV-SELE-EECO</td>\n",
              "      <td>EQUIPO ELECTRICO DE CONTROL</td>\n",
              "      <td>NaN</td>\n",
              "      <td>0.0</td>\n",
              "      <td>2/21/2021</td>\n",
              "    </tr>\n",
              "    <tr>\n",
              "      <th>2</th>\n",
              "      <td>56737243</td>\n",
              "      <td>cabledo de comunicacion de PLC</td>\n",
              "      <td>SE PIDE PONER CABLE DE COMUNICACION A TABLERO ...</td>\n",
              "      <td>POR FALTA DE COMUNICACION DE PLC A PLC</td>\n",
              "      <td>SE ADAPTARON GABINETES Y CONECTORES POR DONDE ...</td>\n",
              "      <td>OTROS</td>\n",
              "      <td>OTROS</td>\n",
              "      <td>SE PIDE PONER CABLE DE COMUNICACION A T</td>\n",
              "      <td>OTROS</td>\n",
              "      <td>23100185.0</td>\n",
              "      <td>BOTONERA SCRAP CHOPPER</td>\n",
              "      <td>HM-ACX-SLIT-SLI1-ENCH</td>\n",
              "      <td>SCRAP CHOPPER</td>\n",
              "      <td>NaN</td>\n",
              "      <td>0.0</td>\n",
              "      <td>3/30/2021</td>\n",
              "    </tr>\n",
              "    <tr>\n",
              "      <th>3</th>\n",
              "      <td>56957151</td>\n",
              "      <td>SE-48312-1-HH Servicio de Emergencia equ</td>\n",
              "      <td>FALLAS EN PLC CONTROL LOGICS</td>\n",
              "      <td>PROGRAMACION</td>\n",
              "      <td>SE CONFIGUARA LOGICA</td>\n",
              "      <td>OTROS</td>\n",
              "      <td>DESPROGRAMADO</td>\n",
              "      <td>NaN</td>\n",
              "      <td>ERROR DE PROGRAMACI</td>\n",
              "      <td>NaN</td>\n",
              "      <td>NaN</td>\n",
              "      <td>HM-LFR-TNIV-SOLD</td>\n",
              "      <td>SOLDADORA</td>\n",
              "      <td>NaN</td>\n",
              "      <td>0.0</td>\n",
              "      <td>7/20/2021</td>\n",
              "    </tr>\n",
              "    <tr>\n",
              "      <th>4</th>\n",
              "      <td>56968883</td>\n",
              "      <td>SE-48189-1-HH Servicio de Emergencia equ</td>\n",
              "      <td>falla en plc control logix</td>\n",
              "      <td>desprogramado</td>\n",
              "      <td>se modifica programacion plc</td>\n",
              "      <td>PLC</td>\n",
              "      <td>FALLA DE CONTROL</td>\n",
              "      <td>falla en plc control logix</td>\n",
              "      <td>FALLA DE COMUNICACI</td>\n",
              "      <td>26108316.0</td>\n",
              "      <td>PLC'S TENSONIVELADO</td>\n",
              "      <td>HM-LFR-TNIV-SELE-EECO</td>\n",
              "      <td>EQUIPO ELECTRICO DE CONTROL</td>\n",
              "      <td>NaN</td>\n",
              "      <td>0.0</td>\n",
              "      <td>7/26/2021</td>\n",
              "    </tr>\n",
              "  </tbody>\n",
              "</table>\n",
              "</div>\n",
              "      <button class=\"colab-df-convert\" onclick=\"convertToInteractive('df-b109248d-867a-4d8b-a440-10f2bd0c38a5')\"\n",
              "              title=\"Convert this dataframe to an interactive table.\"\n",
              "              style=\"display:none;\">\n",
              "        \n",
              "  <svg xmlns=\"http://www.w3.org/2000/svg\" height=\"24px\"viewBox=\"0 0 24 24\"\n",
              "       width=\"24px\">\n",
              "    <path d=\"M0 0h24v24H0V0z\" fill=\"none\"/>\n",
              "    <path d=\"M18.56 5.44l.94 2.06.94-2.06 2.06-.94-2.06-.94-.94-2.06-.94 2.06-2.06.94zm-11 1L8.5 8.5l.94-2.06 2.06-.94-2.06-.94L8.5 2.5l-.94 2.06-2.06.94zm10 10l.94 2.06.94-2.06 2.06-.94-2.06-.94-.94-2.06-.94 2.06-2.06.94z\"/><path d=\"M17.41 7.96l-1.37-1.37c-.4-.4-.92-.59-1.43-.59-.52 0-1.04.2-1.43.59L10.3 9.45l-7.72 7.72c-.78.78-.78 2.05 0 2.83L4 21.41c.39.39.9.59 1.41.59.51 0 1.02-.2 1.41-.59l7.78-7.78 2.81-2.81c.8-.78.8-2.07 0-2.86zM5.41 20L4 18.59l7.72-7.72 1.47 1.35L5.41 20z\"/>\n",
              "  </svg>\n",
              "      </button>\n",
              "      \n",
              "  <style>\n",
              "    .colab-df-container {\n",
              "      display:flex;\n",
              "      flex-wrap:wrap;\n",
              "      gap: 12px;\n",
              "    }\n",
              "\n",
              "    .colab-df-convert {\n",
              "      background-color: #E8F0FE;\n",
              "      border: none;\n",
              "      border-radius: 50%;\n",
              "      cursor: pointer;\n",
              "      display: none;\n",
              "      fill: #1967D2;\n",
              "      height: 32px;\n",
              "      padding: 0 0 0 0;\n",
              "      width: 32px;\n",
              "    }\n",
              "\n",
              "    .colab-df-convert:hover {\n",
              "      background-color: #E2EBFA;\n",
              "      box-shadow: 0px 1px 2px rgba(60, 64, 67, 0.3), 0px 1px 3px 1px rgba(60, 64, 67, 0.15);\n",
              "      fill: #174EA6;\n",
              "    }\n",
              "\n",
              "    [theme=dark] .colab-df-convert {\n",
              "      background-color: #3B4455;\n",
              "      fill: #D2E3FC;\n",
              "    }\n",
              "\n",
              "    [theme=dark] .colab-df-convert:hover {\n",
              "      background-color: #434B5C;\n",
              "      box-shadow: 0px 1px 3px 1px rgba(0, 0, 0, 0.15);\n",
              "      filter: drop-shadow(0px 1px 2px rgba(0, 0, 0, 0.3));\n",
              "      fill: #FFFFFF;\n",
              "    }\n",
              "  </style>\n",
              "\n",
              "      <script>\n",
              "        const buttonEl =\n",
              "          document.querySelector('#df-b109248d-867a-4d8b-a440-10f2bd0c38a5 button.colab-df-convert');\n",
              "        buttonEl.style.display =\n",
              "          google.colab.kernel.accessAllowed ? 'block' : 'none';\n",
              "\n",
              "        async function convertToInteractive(key) {\n",
              "          const element = document.querySelector('#df-b109248d-867a-4d8b-a440-10f2bd0c38a5');\n",
              "          const dataTable =\n",
              "            await google.colab.kernel.invokeFunction('convertToInteractive',\n",
              "                                                     [key], {});\n",
              "          if (!dataTable) return;\n",
              "\n",
              "          const docLinkHtml = 'Like what you see? Visit the ' +\n",
              "            '<a target=\"_blank\" href=https://colab.research.google.com/notebooks/data_table.ipynb>data table notebook</a>'\n",
              "            + ' to learn more about interactive tables.';\n",
              "          element.innerHTML = '';\n",
              "          dataTable['output_type'] = 'display_data';\n",
              "          await google.colab.output.renderOutput(dataTable, element);\n",
              "          const docLink = document.createElement('div');\n",
              "          docLink.innerHTML = docLinkHtml;\n",
              "          element.appendChild(docLink);\n",
              "        }\n",
              "      </script>\n",
              "    </div>\n",
              "  </div>\n",
              "  "
            ]
          },
          "metadata": {},
          "execution_count": 5
        }
      ],
      "source": [
        "df.head()"
      ]
    },
    {
      "cell_type": "markdown",
      "metadata": {
        "id": "LZ0IsTKb9pKT"
      },
      "source": [
        "Utilizamos .info() para obtener un resumen del dataframe y poder identificar el tipo de variables."
      ]
    },
    {
      "cell_type": "code",
      "execution_count": 6,
      "metadata": {
        "colab": {
          "base_uri": "https://localhost:8080/",
          "height": 0
        },
        "id": "VFoha8tKhNV0",
        "outputId": "ae372b42-3979-4a4e-958f-dbcd623a2b9f"
      },
      "outputs": [
        {
          "output_type": "stream",
          "name": "stdout",
          "text": [
            "<class 'pandas.core.frame.DataFrame'>\n",
            "RangeIndex: 64719 entries, 0 to 64718\n",
            "Data columns (total 16 columns):\n",
            " #   Column           Non-Null Count  Dtype  \n",
            "---  ------           --------------  -----  \n",
            " 0   Aviso            64719 non-null  int64  \n",
            " 1   Descripción      64718 non-null  object \n",
            " 2   Qué pasó?        64716 non-null  object \n",
            " 3   Por qué pasó?    64716 non-null  object \n",
            " 4   Qué se hizo?     64716 non-null  object \n",
            " 5   Parte Objeto     64717 non-null  object \n",
            " 6   Síntoma          64719 non-null  object \n",
            " 7   Texto Síntoma    24595 non-null  object \n",
            " 8   Causa            64719 non-null  object \n",
            " 9   Equipo           60402 non-null  float64\n",
            " 10  Denominación     60402 non-null  object \n",
            " 11  Ubicac.técnica   64719 non-null  object \n",
            " 12  Denominación.1   64719 non-null  object \n",
            " 13  Parada           38486 non-null  object \n",
            " 14  Duración parada  64719 non-null  float64\n",
            " 15  Inicio avería    64719 non-null  object \n",
            "dtypes: float64(2), int64(1), object(13)\n",
            "memory usage: 7.9+ MB\n"
          ]
        }
      ],
      "source": [
        "df.info()"
      ]
    },
    {
      "cell_type": "markdown",
      "metadata": {
        "id": "bdejNzru__HY"
      },
      "source": [
        "Utilizamos la función .isnull() junto con .sum() para contar cuántos datos nulos tiene cada variable\n",
        "\n",
        "\n",
        "\n",
        "\n",
        "\n"
      ]
    },
    {
      "cell_type": "code",
      "execution_count": 7,
      "metadata": {
        "colab": {
          "base_uri": "https://localhost:8080/",
          "height": 0
        },
        "id": "qbotupSsocHI",
        "outputId": "256c1ec5-a228-4576-813d-09f5d0cc448c"
      },
      "outputs": [
        {
          "output_type": "execute_result",
          "data": {
            "text/plain": [
              "Aviso                  0\n",
              "Descripción            1\n",
              "Qué pasó?              3\n",
              "Por qué pasó?          3\n",
              "Qué se hizo?           3\n",
              "Parte Objeto           2\n",
              "Síntoma                0\n",
              "Texto Síntoma      40124\n",
              "Causa                  0\n",
              "Equipo              4317\n",
              "Denominación        4317\n",
              "Ubicac.técnica         0\n",
              "Denominación.1         0\n",
              "Parada             26233\n",
              "Duración parada        0\n",
              "Inicio avería          0\n",
              "dtype: int64"
            ]
          },
          "metadata": {},
          "execution_count": 7
        }
      ],
      "source": [
        "df.isnull().sum()"
      ]
    },
    {
      "cell_type": "markdown",
      "metadata": {
        "id": "xunt_62Ft3rz"
      },
      "source": [
        "Utilizamos la función .unique() que nos muestra todos los posibles datos por cada variable con la función .size para contar los posibles valores que puede tomar todas las variables. (toma en cuenta el valor nulo)"
      ]
    },
    {
      "cell_type": "code",
      "execution_count": 8,
      "metadata": {
        "colab": {
          "base_uri": "https://localhost:8080/",
          "height": 0
        },
        "id": "ltPL1HPos6DY",
        "outputId": "9b86ed31-e85e-45b6-d6d5-30e64ba19e5d"
      },
      "outputs": [
        {
          "output_type": "execute_result",
          "data": {
            "text/plain": [
              "64719"
            ]
          },
          "metadata": {},
          "execution_count": 8
        }
      ],
      "source": [
        "df[\"Aviso\"].unique().size"
      ]
    },
    {
      "cell_type": "code",
      "execution_count": 9,
      "metadata": {
        "colab": {
          "base_uri": "https://localhost:8080/",
          "height": 0
        },
        "id": "b-EsyPND2zMR",
        "outputId": "38d828fa-b5e6-45c9-a2e4-94011f8ec48e"
      },
      "outputs": [
        {
          "output_type": "execute_result",
          "data": {
            "text/plain": [
              "39717"
            ]
          },
          "metadata": {},
          "execution_count": 9
        }
      ],
      "source": [
        "df[\"Descripción\"].unique().size"
      ]
    },
    {
      "cell_type": "code",
      "execution_count": 10,
      "metadata": {
        "colab": {
          "base_uri": "https://localhost:8080/",
          "height": 0
        },
        "id": "9Ifk9Mk3m3BV",
        "outputId": "bb3a16a6-0057-49ea-b0d7-e6004850360e"
      },
      "outputs": [
        {
          "output_type": "execute_result",
          "data": {
            "text/plain": [
              "39402"
            ]
          },
          "metadata": {},
          "execution_count": 10
        }
      ],
      "source": [
        "df[\"Qué pasó?\"].unique().size"
      ]
    },
    {
      "cell_type": "code",
      "execution_count": 11,
      "metadata": {
        "colab": {
          "base_uri": "https://localhost:8080/",
          "height": 0
        },
        "id": "D9fC1VCWnmuQ",
        "outputId": "5c8af8d5-ab78-4f43-cd93-c734db163ba7"
      },
      "outputs": [
        {
          "output_type": "execute_result",
          "data": {
            "text/plain": [
              "41345"
            ]
          },
          "metadata": {},
          "execution_count": 11
        }
      ],
      "source": [
        "df[\"Por qué pasó?\"].unique().size"
      ]
    },
    {
      "cell_type": "code",
      "execution_count": 12,
      "metadata": {
        "colab": {
          "base_uri": "https://localhost:8080/",
          "height": 0
        },
        "id": "9qW65uE3nveI",
        "outputId": "a43d9c81-8cd8-4a6c-fd03-f6d9528b4986"
      },
      "outputs": [
        {
          "output_type": "execute_result",
          "data": {
            "text/plain": [
              "43735"
            ]
          },
          "metadata": {},
          "execution_count": 12
        }
      ],
      "source": [
        "df[\"Qué se hizo?\"].unique().size"
      ]
    },
    {
      "cell_type": "code",
      "execution_count": 13,
      "metadata": {
        "colab": {
          "base_uri": "https://localhost:8080/",
          "height": 0
        },
        "id": "aGJOWTTIoHJT",
        "outputId": "662f795d-097f-49dc-9352-9607ca712f9e"
      },
      "outputs": [
        {
          "output_type": "execute_result",
          "data": {
            "text/plain": [
              "632"
            ]
          },
          "metadata": {},
          "execution_count": 13
        }
      ],
      "source": [
        "df[\"Parte Objeto\"].unique().size"
      ]
    },
    {
      "cell_type": "code",
      "execution_count": 14,
      "metadata": {
        "colab": {
          "base_uri": "https://localhost:8080/",
          "height": 0
        },
        "id": "mA7joomRo3Bm",
        "outputId": "7bad9721-f6df-42dc-c1cc-9d9d8ef6e63a"
      },
      "outputs": [
        {
          "output_type": "execute_result",
          "data": {
            "text/plain": [
              "51"
            ]
          },
          "metadata": {},
          "execution_count": 14
        }
      ],
      "source": [
        "df[\"Síntoma\"].unique().size"
      ]
    },
    {
      "cell_type": "code",
      "execution_count": 15,
      "metadata": {
        "colab": {
          "base_uri": "https://localhost:8080/",
          "height": 0
        },
        "id": "3XaHnUTVpNTS",
        "outputId": "d5948c0c-12a0-4a8d-a7b0-0d59128fb2d3"
      },
      "outputs": [
        {
          "output_type": "execute_result",
          "data": {
            "text/plain": [
              "15520"
            ]
          },
          "metadata": {},
          "execution_count": 15
        }
      ],
      "source": [
        "df[\"Texto Síntoma\"].unique().size"
      ]
    },
    {
      "cell_type": "code",
      "execution_count": 16,
      "metadata": {
        "colab": {
          "base_uri": "https://localhost:8080/",
          "height": 0
        },
        "id": "7QxX-manpgqL",
        "outputId": "03156f82-df09-4b79-8b1c-f7778567b7d4"
      },
      "outputs": [
        {
          "output_type": "execute_result",
          "data": {
            "text/plain": [
              "60"
            ]
          },
          "metadata": {},
          "execution_count": 16
        }
      ],
      "source": [
        "df[\"Causa\"].unique().size"
      ]
    },
    {
      "cell_type": "code",
      "execution_count": 17,
      "metadata": {
        "colab": {
          "base_uri": "https://localhost:8080/",
          "height": 0
        },
        "id": "BCez8HVzp86n",
        "outputId": "0b392c4f-dd08-44c2-a618-9b574d90246d"
      },
      "outputs": [
        {
          "output_type": "execute_result",
          "data": {
            "text/plain": [
              "7967"
            ]
          },
          "metadata": {},
          "execution_count": 17
        }
      ],
      "source": [
        "df[\"Equipo\"].unique().size"
      ]
    },
    {
      "cell_type": "code",
      "execution_count": 18,
      "metadata": {
        "colab": {
          "base_uri": "https://localhost:8080/",
          "height": 0
        },
        "id": "5q5qiXlqqLie",
        "outputId": "6ae3ccea-da4e-4761-ad0c-54e94b724e4b"
      },
      "outputs": [
        {
          "output_type": "execute_result",
          "data": {
            "text/plain": [
              "6764"
            ]
          },
          "metadata": {},
          "execution_count": 18
        }
      ],
      "source": [
        "df[\"Denominación\"].unique().size"
      ]
    },
    {
      "cell_type": "code",
      "execution_count": 19,
      "metadata": {
        "colab": {
          "base_uri": "https://localhost:8080/",
          "height": 0
        },
        "id": "Beeyw_-_rDig",
        "outputId": "09184c24-e230-4738-97b2-6fc64d42de59"
      },
      "outputs": [
        {
          "output_type": "execute_result",
          "data": {
            "text/plain": [
              "2545"
            ]
          },
          "metadata": {},
          "execution_count": 19
        }
      ],
      "source": [
        "df[\"Ubicac.técnica\"].unique().size"
      ]
    },
    {
      "cell_type": "code",
      "execution_count": 20,
      "metadata": {
        "colab": {
          "base_uri": "https://localhost:8080/",
          "height": 0
        },
        "id": "e_dLoihsrNU8",
        "outputId": "ce175957-7e66-4cc7-bf2e-48ce7394a5a7"
      },
      "outputs": [
        {
          "output_type": "execute_result",
          "data": {
            "text/plain": [
              "2007"
            ]
          },
          "metadata": {},
          "execution_count": 20
        }
      ],
      "source": [
        "df[\"Denominación.1\"].unique().size"
      ]
    },
    {
      "cell_type": "code",
      "execution_count": 21,
      "metadata": {
        "colab": {
          "base_uri": "https://localhost:8080/",
          "height": 0
        },
        "id": "54BpwfBvsC0J",
        "outputId": "8d21ded4-361e-4e1b-c142-d1fd5c4b65fc"
      },
      "outputs": [
        {
          "output_type": "execute_result",
          "data": {
            "text/plain": [
              "2"
            ]
          },
          "metadata": {},
          "execution_count": 21
        }
      ],
      "source": [
        "df[\"Parada\"].unique().size"
      ]
    },
    {
      "cell_type": "code",
      "execution_count": 22,
      "metadata": {
        "colab": {
          "base_uri": "https://localhost:8080/",
          "height": 0
        },
        "id": "MvuKOHM7sMdZ",
        "outputId": "b16dc6fc-f864-4fa1-c013-6fa371fe0a9b"
      },
      "outputs": [
        {
          "output_type": "execute_result",
          "data": {
            "text/plain": [
              "565"
            ]
          },
          "metadata": {},
          "execution_count": 22
        }
      ],
      "source": [
        "df[\"Duración parada\"].unique().size"
      ]
    },
    {
      "cell_type": "code",
      "execution_count": 23,
      "metadata": {
        "colab": {
          "base_uri": "https://localhost:8080/",
          "height": 0
        },
        "id": "4fu_smuFsbtL",
        "outputId": "47ea59d9-2686-4b1b-efcd-02cf4589a7fe"
      },
      "outputs": [
        {
          "output_type": "execute_result",
          "data": {
            "text/plain": [
              "750"
            ]
          },
          "metadata": {},
          "execution_count": 23
        }
      ],
      "source": [
        "df[\"Inicio avería\"].unique().size"
      ]
    },
    {
      "cell_type": "markdown",
      "metadata": {
        "id": "YWM5A3PKJBTO"
      },
      "source": [
        "Para poder tener mayor entendimiento de las variables con las que estamos tratando, comenzaremos describiendo cada una de ellas.\n",
        "\n",
        "\n",
        "*   **Aviso:** Es una variable categórica que corresponde al número de identificación del aviso, toma valores enteros entre 56103947 y 57143776, además, no cuenta con valores nulos.\n",
        "\n",
        "*   **Descripción:** Es una variable categórica que contiene la descripción del problema presentado en la fábrica, el input de esta variable es ingresado por los trabajadores. Tiene un valor nulo, y al ser un string puede contener cualquier valor del mismo tipo.\n",
        "\n",
        "*  **Qué pasó?:** Variable categórica que describe lo sucedido (lo que pasó) con la problemática, tiene 30402 posibles valores y tiene 3 valores nulos.\n",
        "\n",
        "*   **Por qué pasó?:** Variable categórica que explica la razón de lo sucedido con la problemática, cuenta con 41345 posibles valores, tiene 3 valores nulos.\n",
        "\n",
        "*   **Qué se hizo?:** Variable categórica que responde a lo que se hizo para responder el problema, y cuenta con 43735 posibles valores, tiene 3 valores nulos.\n",
        "\n",
        "*   **Parte Objeto:** Variable categórica que menciona la parte del objeto que falló. Esta variable tiene 632 posibles valores, no cuenta con valores nulos.\n",
        "\n",
        "*   **Síntoma:** Variable categórica que explica la manera en que se dieron cuenta que la máquina estaba fallando, no tiene valores nulos y tiene 51 valores posibles.\n",
        "\n",
        "*   **Texto Síntoma:** Variable categórica con la descripción detallada del síntoma, tiene 40124 valores nulos y tiene 15520 posibles valores.\n",
        "\n",
        "*  **Causa:** Variable categórica que explica la razón que provocó el problema, tiene 0 valores nulos y 60 valores posibles.\n",
        " \n",
        "*   **Equipo:** Variable categórica que muestra el número de identificación del equipo que tuvo problema, tiene 4317 valores nulos y 7967 posibles valores.\n",
        "\n",
        "*   **Denominación:** Se refiere a la variable categórica que define el nombre del equipo, tiene 4317 valores nulos y 6764 posibles valores.\n",
        "\n",
        "*   **Parada:** Variable categórica booleana (Dummy) que identifica si el equipo se paró (X) o no. Tiene 26233 valores nulos que se refiere a que el equipo no se paró y dos valores posibles.\n",
        "\n",
        "*   **Duración parada:** Variable numérica que indica el tiempo en que el equipo se paró, no tiene valores nulos y tiene 565 posibles valores.\n",
        "\n",
        "*   **Inicio avería:** Variable categórica que contiene la fecha del inicio de la avería. No tiene valores nulos y cuenta con 750 posibles valores.\n",
        "\n",
        "\n",
        "\n",
        "\n"
      ]
    },
    {
      "cell_type": "markdown",
      "metadata": {
        "id": "B6PfmSEZ-C6F"
      },
      "source": [
        "### **2. Exploración de los datos**"
      ]
    },
    {
      "cell_type": "markdown",
      "metadata": {
        "id": "x_ImyE6IJkv6"
      },
      "source": [
        "#### **Variables Cuantitativas**"
      ]
    },
    {
      "cell_type": "markdown",
      "metadata": {
        "id": "rS3ODrVX-A67"
      },
      "source": [
        "El dataframe solamente cuenta con una variable cuantitativa \"Duración parada\". Utilizamos la función describe para observar un poco de qué se trata la variable. No obstante, no se obtuvo más estadística descriptiva de dicha variable cuantitativa, gracias a que de acuerdo con el objetivo de Proyecto de Ciencia de Datos de Ternium, no es necesaria dicha variable, no es una variable de interés."
      ]
    },
    {
      "cell_type": "code",
      "execution_count": 24,
      "metadata": {
        "colab": {
          "base_uri": "https://localhost:8080/",
          "height": 0
        },
        "id": "uQ-0mg40Jptf",
        "outputId": "96f88923-3c91-4867-9cf0-9858c3138f6a"
      },
      "outputs": [
        {
          "output_type": "execute_result",
          "data": {
            "text/plain": [
              "count    64719.000000\n",
              "mean         3.169491\n",
              "std        142.704152\n",
              "min          0.000000\n",
              "25%          0.000000\n",
              "50%          0.060000\n",
              "75%          0.150000\n",
              "max       6991.500000\n",
              "Name: Duración parada, dtype: float64"
            ]
          },
          "metadata": {},
          "execution_count": 24
        }
      ],
      "source": [
        "df['Duración parada'].describe()"
      ]
    },
    {
      "cell_type": "markdown",
      "metadata": {
        "id": "ZkR3NmaaJzHj"
      },
      "source": [
        "#### **Variables Cualitativas**"
      ]
    },
    {
      "cell_type": "markdown",
      "metadata": {
        "id": "qLKybf1-oXm2"
      },
      "source": [
        "Gracias a que la base de datos se trata de una base en mayor medida de variables categóricas, se realizarán las tablas de frecuencias de cada una de dichas variables, asi como encontrar las modas, de manera que podamos detectar información valiosa del comportamiento de dichas variables."
      ]
    },
    {
      "cell_type": "markdown",
      "metadata": {
        "id": "2swb8-sc11AZ"
      },
      "source": [
        "##### Tablas de frecuencias"
      ]
    },
    {
      "cell_type": "code",
      "execution_count": 25,
      "metadata": {
        "colab": {
          "base_uri": "https://localhost:8080/",
          "height": 455
        },
        "id": "k4sjCgwF3CI3",
        "outputId": "80238ed9-44db-4265-d265-8cf978564e1d"
      },
      "outputs": [
        {
          "output_type": "execute_result",
          "data": {
            "text/plain": [
              "col_0                                     count\n",
              "Descripción                                    \n",
              "# DE REPORTE 47892,INHIBIRSE PANTALLAS D      2\n",
              "(falla bomba rectificadres)                   1\n",
              "(se apaga pantalla de i2 y de coronas)        8\n",
              "*(NO PODER CERRAR GUIAS PARA CENTRAR LAM      1\n",
              "*PONER PERMISIVO PARA NO SACAR GUIAS X A      2\n",
              "...                                         ...\n",
              "zonar alarma hid.de baja                      1\n",
              "zonar alarma hid.de media                     1\n",
              "zonar larma del oil mist                      1\n",
              "||||||||||||||||||||||||||||||||||||||||      1\n",
              "´pruebas RTM                                  1\n",
              "\n",
              "[39716 rows x 1 columns]"
            ],
            "text/html": [
              "\n",
              "  <div id=\"df-a6f75314-44ff-4b8a-b9cb-d15466b79f66\">\n",
              "    <div class=\"colab-df-container\">\n",
              "      <div>\n",
              "<style scoped>\n",
              "    .dataframe tbody tr th:only-of-type {\n",
              "        vertical-align: middle;\n",
              "    }\n",
              "\n",
              "    .dataframe tbody tr th {\n",
              "        vertical-align: top;\n",
              "    }\n",
              "\n",
              "    .dataframe thead th {\n",
              "        text-align: right;\n",
              "    }\n",
              "</style>\n",
              "<table border=\"1\" class=\"dataframe\">\n",
              "  <thead>\n",
              "    <tr style=\"text-align: right;\">\n",
              "      <th>col_0</th>\n",
              "      <th>count</th>\n",
              "    </tr>\n",
              "    <tr>\n",
              "      <th>Descripción</th>\n",
              "      <th></th>\n",
              "    </tr>\n",
              "  </thead>\n",
              "  <tbody>\n",
              "    <tr>\n",
              "      <th># DE REPORTE 47892,INHIBIRSE PANTALLAS D</th>\n",
              "      <td>2</td>\n",
              "    </tr>\n",
              "    <tr>\n",
              "      <th>(falla bomba rectificadres)</th>\n",
              "      <td>1</td>\n",
              "    </tr>\n",
              "    <tr>\n",
              "      <th>(se apaga pantalla de i2 y de coronas)</th>\n",
              "      <td>8</td>\n",
              "    </tr>\n",
              "    <tr>\n",
              "      <th>*(NO PODER CERRAR GUIAS PARA CENTRAR LAM</th>\n",
              "      <td>1</td>\n",
              "    </tr>\n",
              "    <tr>\n",
              "      <th>*PONER PERMISIVO PARA NO SACAR GUIAS X A</th>\n",
              "      <td>2</td>\n",
              "    </tr>\n",
              "    <tr>\n",
              "      <th>...</th>\n",
              "      <td>...</td>\n",
              "    </tr>\n",
              "    <tr>\n",
              "      <th>zonar alarma hid.de baja</th>\n",
              "      <td>1</td>\n",
              "    </tr>\n",
              "    <tr>\n",
              "      <th>zonar alarma hid.de media</th>\n",
              "      <td>1</td>\n",
              "    </tr>\n",
              "    <tr>\n",
              "      <th>zonar larma del oil mist</th>\n",
              "      <td>1</td>\n",
              "    </tr>\n",
              "    <tr>\n",
              "      <th>||||||||||||||||||||||||||||||||||||||||</th>\n",
              "      <td>1</td>\n",
              "    </tr>\n",
              "    <tr>\n",
              "      <th>´pruebas RTM</th>\n",
              "      <td>1</td>\n",
              "    </tr>\n",
              "  </tbody>\n",
              "</table>\n",
              "<p>39716 rows × 1 columns</p>\n",
              "</div>\n",
              "      <button class=\"colab-df-convert\" onclick=\"convertToInteractive('df-a6f75314-44ff-4b8a-b9cb-d15466b79f66')\"\n",
              "              title=\"Convert this dataframe to an interactive table.\"\n",
              "              style=\"display:none;\">\n",
              "        \n",
              "  <svg xmlns=\"http://www.w3.org/2000/svg\" height=\"24px\"viewBox=\"0 0 24 24\"\n",
              "       width=\"24px\">\n",
              "    <path d=\"M0 0h24v24H0V0z\" fill=\"none\"/>\n",
              "    <path d=\"M18.56 5.44l.94 2.06.94-2.06 2.06-.94-2.06-.94-.94-2.06-.94 2.06-2.06.94zm-11 1L8.5 8.5l.94-2.06 2.06-.94-2.06-.94L8.5 2.5l-.94 2.06-2.06.94zm10 10l.94 2.06.94-2.06 2.06-.94-2.06-.94-.94-2.06-.94 2.06-2.06.94z\"/><path d=\"M17.41 7.96l-1.37-1.37c-.4-.4-.92-.59-1.43-.59-.52 0-1.04.2-1.43.59L10.3 9.45l-7.72 7.72c-.78.78-.78 2.05 0 2.83L4 21.41c.39.39.9.59 1.41.59.51 0 1.02-.2 1.41-.59l7.78-7.78 2.81-2.81c.8-.78.8-2.07 0-2.86zM5.41 20L4 18.59l7.72-7.72 1.47 1.35L5.41 20z\"/>\n",
              "  </svg>\n",
              "      </button>\n",
              "      \n",
              "  <style>\n",
              "    .colab-df-container {\n",
              "      display:flex;\n",
              "      flex-wrap:wrap;\n",
              "      gap: 12px;\n",
              "    }\n",
              "\n",
              "    .colab-df-convert {\n",
              "      background-color: #E8F0FE;\n",
              "      border: none;\n",
              "      border-radius: 50%;\n",
              "      cursor: pointer;\n",
              "      display: none;\n",
              "      fill: #1967D2;\n",
              "      height: 32px;\n",
              "      padding: 0 0 0 0;\n",
              "      width: 32px;\n",
              "    }\n",
              "\n",
              "    .colab-df-convert:hover {\n",
              "      background-color: #E2EBFA;\n",
              "      box-shadow: 0px 1px 2px rgba(60, 64, 67, 0.3), 0px 1px 3px 1px rgba(60, 64, 67, 0.15);\n",
              "      fill: #174EA6;\n",
              "    }\n",
              "\n",
              "    [theme=dark] .colab-df-convert {\n",
              "      background-color: #3B4455;\n",
              "      fill: #D2E3FC;\n",
              "    }\n",
              "\n",
              "    [theme=dark] .colab-df-convert:hover {\n",
              "      background-color: #434B5C;\n",
              "      box-shadow: 0px 1px 3px 1px rgba(0, 0, 0, 0.15);\n",
              "      filter: drop-shadow(0px 1px 2px rgba(0, 0, 0, 0.3));\n",
              "      fill: #FFFFFF;\n",
              "    }\n",
              "  </style>\n",
              "\n",
              "      <script>\n",
              "        const buttonEl =\n",
              "          document.querySelector('#df-a6f75314-44ff-4b8a-b9cb-d15466b79f66 button.colab-df-convert');\n",
              "        buttonEl.style.display =\n",
              "          google.colab.kernel.accessAllowed ? 'block' : 'none';\n",
              "\n",
              "        async function convertToInteractive(key) {\n",
              "          const element = document.querySelector('#df-a6f75314-44ff-4b8a-b9cb-d15466b79f66');\n",
              "          const dataTable =\n",
              "            await google.colab.kernel.invokeFunction('convertToInteractive',\n",
              "                                                     [key], {});\n",
              "          if (!dataTable) return;\n",
              "\n",
              "          const docLinkHtml = 'Like what you see? Visit the ' +\n",
              "            '<a target=\"_blank\" href=https://colab.research.google.com/notebooks/data_table.ipynb>data table notebook</a>'\n",
              "            + ' to learn more about interactive tables.';\n",
              "          element.innerHTML = '';\n",
              "          dataTable['output_type'] = 'display_data';\n",
              "          await google.colab.output.renderOutput(dataTable, element);\n",
              "          const docLink = document.createElement('div');\n",
              "          docLink.innerHTML = docLinkHtml;\n",
              "          element.appendChild(docLink);\n",
              "        }\n",
              "      </script>\n",
              "    </div>\n",
              "  </div>\n",
              "  "
            ]
          },
          "metadata": {},
          "execution_count": 25
        }
      ],
      "source": [
        "# Descripción\n",
        "pd.crosstab(index=df[\"Descripción\"], columns='count') #la función crosstab nos realiza una tabla de frecuencia de la variable que le asignemos"
      ]
    },
    {
      "cell_type": "code",
      "execution_count": 26,
      "metadata": {
        "colab": {
          "base_uri": "https://localhost:8080/",
          "height": 455
        },
        "id": "29pFBf7kpGMb",
        "outputId": "7a975a90-3d9c-40c8-99a0-6bea88a1fbf5"
      },
      "outputs": [
        {
          "output_type": "execute_result",
          "data": {
            "text/plain": [
              "col_0                                        count\n",
              "Qué pasó?                                         \n",
              "-\\tNO ENTRAR TENSIÓN PROCESO                     1\n",
              "-SE CONTINUA CON EL SEPARADOR MAGNETICO.         1\n",
              ".                                                1\n",
              ".REPORTAN  CAMA DE SALIDA  BOTADO                1\n",
              ".SE DAÑO BASE DE MOTRO DE GIRO DE CHAROLA        1\n",
              "...                                            ...\n",
              "´PARO LINEA SECCION SALIDA                       1\n",
              "´PIDEN CAMBIO DE VIAS.                           1\n",
              "´REPORTAN NO SALIR TERCER APOYO                  1\n",
              "¿DESENROLLADOR NO ALIMENTA MATERIAL A LINEA      1\n",
              "ÁRA MLOINO.                                      1\n",
              "\n",
              "[39401 rows x 1 columns]"
            ],
            "text/html": [
              "\n",
              "  <div id=\"df-6f51be9a-8182-435d-a0f0-c7418aa577da\">\n",
              "    <div class=\"colab-df-container\">\n",
              "      <div>\n",
              "<style scoped>\n",
              "    .dataframe tbody tr th:only-of-type {\n",
              "        vertical-align: middle;\n",
              "    }\n",
              "\n",
              "    .dataframe tbody tr th {\n",
              "        vertical-align: top;\n",
              "    }\n",
              "\n",
              "    .dataframe thead th {\n",
              "        text-align: right;\n",
              "    }\n",
              "</style>\n",
              "<table border=\"1\" class=\"dataframe\">\n",
              "  <thead>\n",
              "    <tr style=\"text-align: right;\">\n",
              "      <th>col_0</th>\n",
              "      <th>count</th>\n",
              "    </tr>\n",
              "    <tr>\n",
              "      <th>Qué pasó?</th>\n",
              "      <th></th>\n",
              "    </tr>\n",
              "  </thead>\n",
              "  <tbody>\n",
              "    <tr>\n",
              "      <th>-\\tNO ENTRAR TENSIÓN PROCESO</th>\n",
              "      <td>1</td>\n",
              "    </tr>\n",
              "    <tr>\n",
              "      <th>-SE CONTINUA CON EL SEPARADOR MAGNETICO.</th>\n",
              "      <td>1</td>\n",
              "    </tr>\n",
              "    <tr>\n",
              "      <th>.</th>\n",
              "      <td>1</td>\n",
              "    </tr>\n",
              "    <tr>\n",
              "      <th>.REPORTAN  CAMA DE SALIDA  BOTADO</th>\n",
              "      <td>1</td>\n",
              "    </tr>\n",
              "    <tr>\n",
              "      <th>.SE DAÑO BASE DE MOTRO DE GIRO DE CHAROLA</th>\n",
              "      <td>1</td>\n",
              "    </tr>\n",
              "    <tr>\n",
              "      <th>...</th>\n",
              "      <td>...</td>\n",
              "    </tr>\n",
              "    <tr>\n",
              "      <th>´PARO LINEA SECCION SALIDA</th>\n",
              "      <td>1</td>\n",
              "    </tr>\n",
              "    <tr>\n",
              "      <th>´PIDEN CAMBIO DE VIAS.</th>\n",
              "      <td>1</td>\n",
              "    </tr>\n",
              "    <tr>\n",
              "      <th>´REPORTAN NO SALIR TERCER APOYO</th>\n",
              "      <td>1</td>\n",
              "    </tr>\n",
              "    <tr>\n",
              "      <th>¿DESENROLLADOR NO ALIMENTA MATERIAL A LINEA</th>\n",
              "      <td>1</td>\n",
              "    </tr>\n",
              "    <tr>\n",
              "      <th>ÁRA MLOINO.</th>\n",
              "      <td>1</td>\n",
              "    </tr>\n",
              "  </tbody>\n",
              "</table>\n",
              "<p>39401 rows × 1 columns</p>\n",
              "</div>\n",
              "      <button class=\"colab-df-convert\" onclick=\"convertToInteractive('df-6f51be9a-8182-435d-a0f0-c7418aa577da')\"\n",
              "              title=\"Convert this dataframe to an interactive table.\"\n",
              "              style=\"display:none;\">\n",
              "        \n",
              "  <svg xmlns=\"http://www.w3.org/2000/svg\" height=\"24px\"viewBox=\"0 0 24 24\"\n",
              "       width=\"24px\">\n",
              "    <path d=\"M0 0h24v24H0V0z\" fill=\"none\"/>\n",
              "    <path d=\"M18.56 5.44l.94 2.06.94-2.06 2.06-.94-2.06-.94-.94-2.06-.94 2.06-2.06.94zm-11 1L8.5 8.5l.94-2.06 2.06-.94-2.06-.94L8.5 2.5l-.94 2.06-2.06.94zm10 10l.94 2.06.94-2.06 2.06-.94-2.06-.94-.94-2.06-.94 2.06-2.06.94z\"/><path d=\"M17.41 7.96l-1.37-1.37c-.4-.4-.92-.59-1.43-.59-.52 0-1.04.2-1.43.59L10.3 9.45l-7.72 7.72c-.78.78-.78 2.05 0 2.83L4 21.41c.39.39.9.59 1.41.59.51 0 1.02-.2 1.41-.59l7.78-7.78 2.81-2.81c.8-.78.8-2.07 0-2.86zM5.41 20L4 18.59l7.72-7.72 1.47 1.35L5.41 20z\"/>\n",
              "  </svg>\n",
              "      </button>\n",
              "      \n",
              "  <style>\n",
              "    .colab-df-container {\n",
              "      display:flex;\n",
              "      flex-wrap:wrap;\n",
              "      gap: 12px;\n",
              "    }\n",
              "\n",
              "    .colab-df-convert {\n",
              "      background-color: #E8F0FE;\n",
              "      border: none;\n",
              "      border-radius: 50%;\n",
              "      cursor: pointer;\n",
              "      display: none;\n",
              "      fill: #1967D2;\n",
              "      height: 32px;\n",
              "      padding: 0 0 0 0;\n",
              "      width: 32px;\n",
              "    }\n",
              "\n",
              "    .colab-df-convert:hover {\n",
              "      background-color: #E2EBFA;\n",
              "      box-shadow: 0px 1px 2px rgba(60, 64, 67, 0.3), 0px 1px 3px 1px rgba(60, 64, 67, 0.15);\n",
              "      fill: #174EA6;\n",
              "    }\n",
              "\n",
              "    [theme=dark] .colab-df-convert {\n",
              "      background-color: #3B4455;\n",
              "      fill: #D2E3FC;\n",
              "    }\n",
              "\n",
              "    [theme=dark] .colab-df-convert:hover {\n",
              "      background-color: #434B5C;\n",
              "      box-shadow: 0px 1px 3px 1px rgba(0, 0, 0, 0.15);\n",
              "      filter: drop-shadow(0px 1px 2px rgba(0, 0, 0, 0.3));\n",
              "      fill: #FFFFFF;\n",
              "    }\n",
              "  </style>\n",
              "\n",
              "      <script>\n",
              "        const buttonEl =\n",
              "          document.querySelector('#df-6f51be9a-8182-435d-a0f0-c7418aa577da button.colab-df-convert');\n",
              "        buttonEl.style.display =\n",
              "          google.colab.kernel.accessAllowed ? 'block' : 'none';\n",
              "\n",
              "        async function convertToInteractive(key) {\n",
              "          const element = document.querySelector('#df-6f51be9a-8182-435d-a0f0-c7418aa577da');\n",
              "          const dataTable =\n",
              "            await google.colab.kernel.invokeFunction('convertToInteractive',\n",
              "                                                     [key], {});\n",
              "          if (!dataTable) return;\n",
              "\n",
              "          const docLinkHtml = 'Like what you see? Visit the ' +\n",
              "            '<a target=\"_blank\" href=https://colab.research.google.com/notebooks/data_table.ipynb>data table notebook</a>'\n",
              "            + ' to learn more about interactive tables.';\n",
              "          element.innerHTML = '';\n",
              "          dataTable['output_type'] = 'display_data';\n",
              "          await google.colab.output.renderOutput(dataTable, element);\n",
              "          const docLink = document.createElement('div');\n",
              "          docLink.innerHTML = docLinkHtml;\n",
              "          element.appendChild(docLink);\n",
              "        }\n",
              "      </script>\n",
              "    </div>\n",
              "  </div>\n",
              "  "
            ]
          },
          "metadata": {},
          "execution_count": 26
        }
      ],
      "source": [
        "#Qué pasó?\n",
        "pd.crosstab(index=df[\"Qué pasó?\"], columns='count')"
      ]
    },
    {
      "cell_type": "code",
      "execution_count": 27,
      "metadata": {
        "colab": {
          "base_uri": "https://localhost:8080/",
          "height": 455
        },
        "id": "L4Nbz-L8p6wP",
        "outputId": "92a809a7-dcbb-4656-985c-963a658c801e"
      },
      "outputs": [
        {
          "output_type": "execute_result",
          "data": {
            "text/plain": [
              "col_0                                               count\n",
              "Por qué pasó?                                            \n",
              "\" DESAJUSTE EN V DE PRIMER BRAZO \"                      1\n",
              "\"O\" RING DAÑADO                                         1\n",
              "\"O\"RING DAÑADO                                          1\n",
              "\"O\"RING DAÑADO DEL REGULADOR DE PRESION, TAPA D...      1\n",
              "\"V\" DESALINEADA                                         1\n",
              "...                                                   ...\n",
              "´POR TENER BAJO NIVEL EN DEPOSITO DE ACEITE             1\n",
              "´por rechuparse rollo en rel ote                        1\n",
              "ÁREA CONTAMINADA,FUGA DE GRASA EN BOMBAS                1\n",
              "ÁREA SE DETECTA QUE MOTOR DIÉSEL ESTÁ APAGADO Y...      1\n",
              "ÉSTO SE DEBE A QUE OPTO DE SALIDA DIGITAL DEL E...      1\n",
              "\n",
              "[41344 rows x 1 columns]"
            ],
            "text/html": [
              "\n",
              "  <div id=\"df-d1698b53-e0ba-4726-881b-f8a8bdb4d248\">\n",
              "    <div class=\"colab-df-container\">\n",
              "      <div>\n",
              "<style scoped>\n",
              "    .dataframe tbody tr th:only-of-type {\n",
              "        vertical-align: middle;\n",
              "    }\n",
              "\n",
              "    .dataframe tbody tr th {\n",
              "        vertical-align: top;\n",
              "    }\n",
              "\n",
              "    .dataframe thead th {\n",
              "        text-align: right;\n",
              "    }\n",
              "</style>\n",
              "<table border=\"1\" class=\"dataframe\">\n",
              "  <thead>\n",
              "    <tr style=\"text-align: right;\">\n",
              "      <th>col_0</th>\n",
              "      <th>count</th>\n",
              "    </tr>\n",
              "    <tr>\n",
              "      <th>Por qué pasó?</th>\n",
              "      <th></th>\n",
              "    </tr>\n",
              "  </thead>\n",
              "  <tbody>\n",
              "    <tr>\n",
              "      <th>\" DESAJUSTE EN V DE PRIMER BRAZO \"</th>\n",
              "      <td>1</td>\n",
              "    </tr>\n",
              "    <tr>\n",
              "      <th>\"O\" RING DAÑADO</th>\n",
              "      <td>1</td>\n",
              "    </tr>\n",
              "    <tr>\n",
              "      <th>\"O\"RING DAÑADO</th>\n",
              "      <td>1</td>\n",
              "    </tr>\n",
              "    <tr>\n",
              "      <th>\"O\"RING DAÑADO DEL REGULADOR DE PRESION, TAPA DE VALVULA HUNT</th>\n",
              "      <td>1</td>\n",
              "    </tr>\n",
              "    <tr>\n",
              "      <th>\"V\" DESALINEADA</th>\n",
              "      <td>1</td>\n",
              "    </tr>\n",
              "    <tr>\n",
              "      <th>...</th>\n",
              "      <td>...</td>\n",
              "    </tr>\n",
              "    <tr>\n",
              "      <th>´POR TENER BAJO NIVEL EN DEPOSITO DE ACEITE</th>\n",
              "      <td>1</td>\n",
              "    </tr>\n",
              "    <tr>\n",
              "      <th>´por rechuparse rollo en rel ote</th>\n",
              "      <td>1</td>\n",
              "    </tr>\n",
              "    <tr>\n",
              "      <th>ÁREA CONTAMINADA,FUGA DE GRASA EN BOMBAS</th>\n",
              "      <td>1</td>\n",
              "    </tr>\n",
              "    <tr>\n",
              "      <th>ÁREA SE DETECTA QUE MOTOR DIÉSEL ESTÁ APAGADO Y ESTA BOTADO</th>\n",
              "      <td>1</td>\n",
              "    </tr>\n",
              "    <tr>\n",
              "      <th>ÉSTO SE DEBE A QUE OPTO DE SALIDA DIGITAL DEL EQUIPO ESTA CRU</th>\n",
              "      <td>1</td>\n",
              "    </tr>\n",
              "  </tbody>\n",
              "</table>\n",
              "<p>41344 rows × 1 columns</p>\n",
              "</div>\n",
              "      <button class=\"colab-df-convert\" onclick=\"convertToInteractive('df-d1698b53-e0ba-4726-881b-f8a8bdb4d248')\"\n",
              "              title=\"Convert this dataframe to an interactive table.\"\n",
              "              style=\"display:none;\">\n",
              "        \n",
              "  <svg xmlns=\"http://www.w3.org/2000/svg\" height=\"24px\"viewBox=\"0 0 24 24\"\n",
              "       width=\"24px\">\n",
              "    <path d=\"M0 0h24v24H0V0z\" fill=\"none\"/>\n",
              "    <path d=\"M18.56 5.44l.94 2.06.94-2.06 2.06-.94-2.06-.94-.94-2.06-.94 2.06-2.06.94zm-11 1L8.5 8.5l.94-2.06 2.06-.94-2.06-.94L8.5 2.5l-.94 2.06-2.06.94zm10 10l.94 2.06.94-2.06 2.06-.94-2.06-.94-.94-2.06-.94 2.06-2.06.94z\"/><path d=\"M17.41 7.96l-1.37-1.37c-.4-.4-.92-.59-1.43-.59-.52 0-1.04.2-1.43.59L10.3 9.45l-7.72 7.72c-.78.78-.78 2.05 0 2.83L4 21.41c.39.39.9.59 1.41.59.51 0 1.02-.2 1.41-.59l7.78-7.78 2.81-2.81c.8-.78.8-2.07 0-2.86zM5.41 20L4 18.59l7.72-7.72 1.47 1.35L5.41 20z\"/>\n",
              "  </svg>\n",
              "      </button>\n",
              "      \n",
              "  <style>\n",
              "    .colab-df-container {\n",
              "      display:flex;\n",
              "      flex-wrap:wrap;\n",
              "      gap: 12px;\n",
              "    }\n",
              "\n",
              "    .colab-df-convert {\n",
              "      background-color: #E8F0FE;\n",
              "      border: none;\n",
              "      border-radius: 50%;\n",
              "      cursor: pointer;\n",
              "      display: none;\n",
              "      fill: #1967D2;\n",
              "      height: 32px;\n",
              "      padding: 0 0 0 0;\n",
              "      width: 32px;\n",
              "    }\n",
              "\n",
              "    .colab-df-convert:hover {\n",
              "      background-color: #E2EBFA;\n",
              "      box-shadow: 0px 1px 2px rgba(60, 64, 67, 0.3), 0px 1px 3px 1px rgba(60, 64, 67, 0.15);\n",
              "      fill: #174EA6;\n",
              "    }\n",
              "\n",
              "    [theme=dark] .colab-df-convert {\n",
              "      background-color: #3B4455;\n",
              "      fill: #D2E3FC;\n",
              "    }\n",
              "\n",
              "    [theme=dark] .colab-df-convert:hover {\n",
              "      background-color: #434B5C;\n",
              "      box-shadow: 0px 1px 3px 1px rgba(0, 0, 0, 0.15);\n",
              "      filter: drop-shadow(0px 1px 2px rgba(0, 0, 0, 0.3));\n",
              "      fill: #FFFFFF;\n",
              "    }\n",
              "  </style>\n",
              "\n",
              "      <script>\n",
              "        const buttonEl =\n",
              "          document.querySelector('#df-d1698b53-e0ba-4726-881b-f8a8bdb4d248 button.colab-df-convert');\n",
              "        buttonEl.style.display =\n",
              "          google.colab.kernel.accessAllowed ? 'block' : 'none';\n",
              "\n",
              "        async function convertToInteractive(key) {\n",
              "          const element = document.querySelector('#df-d1698b53-e0ba-4726-881b-f8a8bdb4d248');\n",
              "          const dataTable =\n",
              "            await google.colab.kernel.invokeFunction('convertToInteractive',\n",
              "                                                     [key], {});\n",
              "          if (!dataTable) return;\n",
              "\n",
              "          const docLinkHtml = 'Like what you see? Visit the ' +\n",
              "            '<a target=\"_blank\" href=https://colab.research.google.com/notebooks/data_table.ipynb>data table notebook</a>'\n",
              "            + ' to learn more about interactive tables.';\n",
              "          element.innerHTML = '';\n",
              "          dataTable['output_type'] = 'display_data';\n",
              "          await google.colab.output.renderOutput(dataTable, element);\n",
              "          const docLink = document.createElement('div');\n",
              "          docLink.innerHTML = docLinkHtml;\n",
              "          element.appendChild(docLink);\n",
              "        }\n",
              "      </script>\n",
              "    </div>\n",
              "  </div>\n",
              "  "
            ]
          },
          "metadata": {},
          "execution_count": 27
        }
      ],
      "source": [
        "#Por qué pasó?\n",
        "pd.crosstab(index=df[\"Por qué pasó?\"], columns='count')"
      ]
    },
    {
      "cell_type": "code",
      "execution_count": 28,
      "metadata": {
        "colab": {
          "base_uri": "https://localhost:8080/",
          "height": 455
        },
        "id": "2Zm06PE4p7Vw",
        "outputId": "71b0849b-9199-4cae-935c-37d1a026c329"
      },
      "outputs": [
        {
          "output_type": "execute_result",
          "data": {
            "text/plain": [
              "col_0                                               count\n",
              "Qué se hizo?                                             \n",
              "\" SE RESTABLECE\" NO ME HABLARON                         1\n",
              "\"REPARTA OPERADOR DEL DANIELI TENER ABIERTOS LO...      2\n",
              "#1--SE LE HIZO ORIFICIOS MAS HOLGUEADOS A TENED...      1\n",
              "* SE AJSUTAN CUENTAS DEL HIDRAULICO SALIDA.             1\n",
              "* SE APOYO EN BLOQUEOS PARA LA CALIBRACION DE L...      1\n",
              "...                                                   ...\n",
              "ya libre el reel se expande y se aplica grasa e...      2\n",
              "\\tOPERADOR REPORTA QUE NO TIENE PERMISO DE CON...      1\n",
              "\\tREPORTA OPERADOR ALARMA DE BAJO CAUDAL EN RE...      1\n",
              "\\tREPORTE DE FALLA ALARMA BAJO FLUJO EN PANEL ...      1\n",
              "´SE MOVIO MANUALMENTE                                   1\n",
              "\n",
              "[43734 rows x 1 columns]"
            ],
            "text/html": [
              "\n",
              "  <div id=\"df-53389ce9-a24a-4988-80be-5d6a7d7442ac\">\n",
              "    <div class=\"colab-df-container\">\n",
              "      <div>\n",
              "<style scoped>\n",
              "    .dataframe tbody tr th:only-of-type {\n",
              "        vertical-align: middle;\n",
              "    }\n",
              "\n",
              "    .dataframe tbody tr th {\n",
              "        vertical-align: top;\n",
              "    }\n",
              "\n",
              "    .dataframe thead th {\n",
              "        text-align: right;\n",
              "    }\n",
              "</style>\n",
              "<table border=\"1\" class=\"dataframe\">\n",
              "  <thead>\n",
              "    <tr style=\"text-align: right;\">\n",
              "      <th>col_0</th>\n",
              "      <th>count</th>\n",
              "    </tr>\n",
              "    <tr>\n",
              "      <th>Qué se hizo?</th>\n",
              "      <th></th>\n",
              "    </tr>\n",
              "  </thead>\n",
              "  <tbody>\n",
              "    <tr>\n",
              "      <th>\" SE RESTABLECE\" NO ME HABLARON</th>\n",
              "      <td>1</td>\n",
              "    </tr>\n",
              "    <tr>\n",
              "      <th>\"REPARTA OPERADOR DEL DANIELI TENER ABIERTOS LOS INTERRUPTORE</th>\n",
              "      <td>2</td>\n",
              "    </tr>\n",
              "    <tr>\n",
              "      <th>#1--SE LE HIZO ORIFICIOS MAS HOLGUEADOS A TENEDOR GUIA DE TU-</th>\n",
              "      <td>1</td>\n",
              "    </tr>\n",
              "    <tr>\n",
              "      <th>* SE AJSUTAN CUENTAS DEL HIDRAULICO SALIDA.</th>\n",
              "      <td>1</td>\n",
              "    </tr>\n",
              "    <tr>\n",
              "      <th>* SE APOYO EN BLOQUEOS PARA LA CALIBRACION DE LA TIJERA.</th>\n",
              "      <td>1</td>\n",
              "    </tr>\n",
              "    <tr>\n",
              "      <th>...</th>\n",
              "      <td>...</td>\n",
              "    </tr>\n",
              "    <tr>\n",
              "      <th>ya libre el reel se expande y se aplica grasa entre mordazas para que</th>\n",
              "      <td>2</td>\n",
              "    </tr>\n",
              "    <tr>\n",
              "      <th>\\tOPERADOR REPORTA QUE NO TIENE PERMISO DE CONEXIÓN , SE COME</th>\n",
              "      <td>1</td>\n",
              "    </tr>\n",
              "    <tr>\n",
              "      <th>\\tREPORTA OPERADOR ALARMA DE BAJO CAUDAL EN RETORNO DE CENTRO</th>\n",
              "      <td>1</td>\n",
              "    </tr>\n",
              "    <tr>\n",
              "      <th>\\tREPORTE DE FALLA ALARMA BAJO FLUJO EN PANEL S3 , SE REVISA</th>\n",
              "      <td>1</td>\n",
              "    </tr>\n",
              "    <tr>\n",
              "      <th>´SE MOVIO MANUALMENTE</th>\n",
              "      <td>1</td>\n",
              "    </tr>\n",
              "  </tbody>\n",
              "</table>\n",
              "<p>43734 rows × 1 columns</p>\n",
              "</div>\n",
              "      <button class=\"colab-df-convert\" onclick=\"convertToInteractive('df-53389ce9-a24a-4988-80be-5d6a7d7442ac')\"\n",
              "              title=\"Convert this dataframe to an interactive table.\"\n",
              "              style=\"display:none;\">\n",
              "        \n",
              "  <svg xmlns=\"http://www.w3.org/2000/svg\" height=\"24px\"viewBox=\"0 0 24 24\"\n",
              "       width=\"24px\">\n",
              "    <path d=\"M0 0h24v24H0V0z\" fill=\"none\"/>\n",
              "    <path d=\"M18.56 5.44l.94 2.06.94-2.06 2.06-.94-2.06-.94-.94-2.06-.94 2.06-2.06.94zm-11 1L8.5 8.5l.94-2.06 2.06-.94-2.06-.94L8.5 2.5l-.94 2.06-2.06.94zm10 10l.94 2.06.94-2.06 2.06-.94-2.06-.94-.94-2.06-.94 2.06-2.06.94z\"/><path d=\"M17.41 7.96l-1.37-1.37c-.4-.4-.92-.59-1.43-.59-.52 0-1.04.2-1.43.59L10.3 9.45l-7.72 7.72c-.78.78-.78 2.05 0 2.83L4 21.41c.39.39.9.59 1.41.59.51 0 1.02-.2 1.41-.59l7.78-7.78 2.81-2.81c.8-.78.8-2.07 0-2.86zM5.41 20L4 18.59l7.72-7.72 1.47 1.35L5.41 20z\"/>\n",
              "  </svg>\n",
              "      </button>\n",
              "      \n",
              "  <style>\n",
              "    .colab-df-container {\n",
              "      display:flex;\n",
              "      flex-wrap:wrap;\n",
              "      gap: 12px;\n",
              "    }\n",
              "\n",
              "    .colab-df-convert {\n",
              "      background-color: #E8F0FE;\n",
              "      border: none;\n",
              "      border-radius: 50%;\n",
              "      cursor: pointer;\n",
              "      display: none;\n",
              "      fill: #1967D2;\n",
              "      height: 32px;\n",
              "      padding: 0 0 0 0;\n",
              "      width: 32px;\n",
              "    }\n",
              "\n",
              "    .colab-df-convert:hover {\n",
              "      background-color: #E2EBFA;\n",
              "      box-shadow: 0px 1px 2px rgba(60, 64, 67, 0.3), 0px 1px 3px 1px rgba(60, 64, 67, 0.15);\n",
              "      fill: #174EA6;\n",
              "    }\n",
              "\n",
              "    [theme=dark] .colab-df-convert {\n",
              "      background-color: #3B4455;\n",
              "      fill: #D2E3FC;\n",
              "    }\n",
              "\n",
              "    [theme=dark] .colab-df-convert:hover {\n",
              "      background-color: #434B5C;\n",
              "      box-shadow: 0px 1px 3px 1px rgba(0, 0, 0, 0.15);\n",
              "      filter: drop-shadow(0px 1px 2px rgba(0, 0, 0, 0.3));\n",
              "      fill: #FFFFFF;\n",
              "    }\n",
              "  </style>\n",
              "\n",
              "      <script>\n",
              "        const buttonEl =\n",
              "          document.querySelector('#df-53389ce9-a24a-4988-80be-5d6a7d7442ac button.colab-df-convert');\n",
              "        buttonEl.style.display =\n",
              "          google.colab.kernel.accessAllowed ? 'block' : 'none';\n",
              "\n",
              "        async function convertToInteractive(key) {\n",
              "          const element = document.querySelector('#df-53389ce9-a24a-4988-80be-5d6a7d7442ac');\n",
              "          const dataTable =\n",
              "            await google.colab.kernel.invokeFunction('convertToInteractive',\n",
              "                                                     [key], {});\n",
              "          if (!dataTable) return;\n",
              "\n",
              "          const docLinkHtml = 'Like what you see? Visit the ' +\n",
              "            '<a target=\"_blank\" href=https://colab.research.google.com/notebooks/data_table.ipynb>data table notebook</a>'\n",
              "            + ' to learn more about interactive tables.';\n",
              "          element.innerHTML = '';\n",
              "          dataTable['output_type'] = 'display_data';\n",
              "          await google.colab.output.renderOutput(dataTable, element);\n",
              "          const docLink = document.createElement('div');\n",
              "          docLink.innerHTML = docLinkHtml;\n",
              "          element.appendChild(docLink);\n",
              "        }\n",
              "      </script>\n",
              "    </div>\n",
              "  </div>\n",
              "  "
            ]
          },
          "metadata": {},
          "execution_count": 28
        }
      ],
      "source": [
        "#Qué se hizo?\n",
        "pd.crosstab(index=df[\"Qué se hizo?\"], columns='count')"
      ]
    },
    {
      "cell_type": "markdown",
      "metadata": {
        "id": "UK8SszmfpcPR"
      },
      "source": [
        "Observando un poco la tabla de frecuencias obtenida en las variables Descripción, Qué pasó?, Por qué pasó? y Qué se hizo?, se puede observar que se tratan de tablas de frecuencias en las cuales sí existen casos en la que la entrada en dichas variables es la misma, lo cual se puede observar al existir un menor número de renglones en las tablas de frecuencia que en el data frame original, así como se pueden observar casos con frecuencias distintas a 1. Gracias a que se trata de variables con una entrada libre de texto o que casi no se repiten los mismos textos, se verificará si no se tratan de registros duplicados dentro de la base de datos, lo cual representaría una inconsistencia gracias a que concuerda la cantidad de valores únicos de la variables Avisos (que es una ID única para cada caso), con la cantidad de registros existentes en el Data Frame."
      ]
    },
    {
      "cell_type": "code",
      "execution_count": 29,
      "metadata": {
        "colab": {
          "base_uri": "https://localhost:8080/",
          "height": 455
        },
        "id": "UEBAckZap7u8",
        "outputId": "10fece6c-02b9-40d2-b63a-6db1d5d0c8c2"
      },
      "outputs": [
        {
          "output_type": "execute_result",
          "data": {
            "text/plain": [
              "col_0                             count\n",
              "Parte Objeto                           \n",
              "ABANICO                             174\n",
              "ABRAZADERA                          872\n",
              "ACEITE                             1129\n",
              "ACOPLADOR                            11\n",
              "ACOPLAMIENTO                       1727\n",
              "...                                 ...\n",
              "Valvula Reguladora (pres/caudal)     26\n",
              "Valvula Retención/Alivio             12\n",
              "Valvula de amortiguación/caudal      21\n",
              "Valvula de cierre/Shut off           27\n",
              "Ventiladores de Drives                2\n",
              "\n",
              "[631 rows x 1 columns]"
            ],
            "text/html": [
              "\n",
              "  <div id=\"df-63c2f684-993a-4d49-a577-eb7aa8a054cd\">\n",
              "    <div class=\"colab-df-container\">\n",
              "      <div>\n",
              "<style scoped>\n",
              "    .dataframe tbody tr th:only-of-type {\n",
              "        vertical-align: middle;\n",
              "    }\n",
              "\n",
              "    .dataframe tbody tr th {\n",
              "        vertical-align: top;\n",
              "    }\n",
              "\n",
              "    .dataframe thead th {\n",
              "        text-align: right;\n",
              "    }\n",
              "</style>\n",
              "<table border=\"1\" class=\"dataframe\">\n",
              "  <thead>\n",
              "    <tr style=\"text-align: right;\">\n",
              "      <th>col_0</th>\n",
              "      <th>count</th>\n",
              "    </tr>\n",
              "    <tr>\n",
              "      <th>Parte Objeto</th>\n",
              "      <th></th>\n",
              "    </tr>\n",
              "  </thead>\n",
              "  <tbody>\n",
              "    <tr>\n",
              "      <th>ABANICO</th>\n",
              "      <td>174</td>\n",
              "    </tr>\n",
              "    <tr>\n",
              "      <th>ABRAZADERA</th>\n",
              "      <td>872</td>\n",
              "    </tr>\n",
              "    <tr>\n",
              "      <th>ACEITE</th>\n",
              "      <td>1129</td>\n",
              "    </tr>\n",
              "    <tr>\n",
              "      <th>ACOPLADOR</th>\n",
              "      <td>11</td>\n",
              "    </tr>\n",
              "    <tr>\n",
              "      <th>ACOPLAMIENTO</th>\n",
              "      <td>1727</td>\n",
              "    </tr>\n",
              "    <tr>\n",
              "      <th>...</th>\n",
              "      <td>...</td>\n",
              "    </tr>\n",
              "    <tr>\n",
              "      <th>Valvula Reguladora (pres/caudal)</th>\n",
              "      <td>26</td>\n",
              "    </tr>\n",
              "    <tr>\n",
              "      <th>Valvula Retención/Alivio</th>\n",
              "      <td>12</td>\n",
              "    </tr>\n",
              "    <tr>\n",
              "      <th>Valvula de amortiguación/caudal</th>\n",
              "      <td>21</td>\n",
              "    </tr>\n",
              "    <tr>\n",
              "      <th>Valvula de cierre/Shut off</th>\n",
              "      <td>27</td>\n",
              "    </tr>\n",
              "    <tr>\n",
              "      <th>Ventiladores de Drives</th>\n",
              "      <td>2</td>\n",
              "    </tr>\n",
              "  </tbody>\n",
              "</table>\n",
              "<p>631 rows × 1 columns</p>\n",
              "</div>\n",
              "      <button class=\"colab-df-convert\" onclick=\"convertToInteractive('df-63c2f684-993a-4d49-a577-eb7aa8a054cd')\"\n",
              "              title=\"Convert this dataframe to an interactive table.\"\n",
              "              style=\"display:none;\">\n",
              "        \n",
              "  <svg xmlns=\"http://www.w3.org/2000/svg\" height=\"24px\"viewBox=\"0 0 24 24\"\n",
              "       width=\"24px\">\n",
              "    <path d=\"M0 0h24v24H0V0z\" fill=\"none\"/>\n",
              "    <path d=\"M18.56 5.44l.94 2.06.94-2.06 2.06-.94-2.06-.94-.94-2.06-.94 2.06-2.06.94zm-11 1L8.5 8.5l.94-2.06 2.06-.94-2.06-.94L8.5 2.5l-.94 2.06-2.06.94zm10 10l.94 2.06.94-2.06 2.06-.94-2.06-.94-.94-2.06-.94 2.06-2.06.94z\"/><path d=\"M17.41 7.96l-1.37-1.37c-.4-.4-.92-.59-1.43-.59-.52 0-1.04.2-1.43.59L10.3 9.45l-7.72 7.72c-.78.78-.78 2.05 0 2.83L4 21.41c.39.39.9.59 1.41.59.51 0 1.02-.2 1.41-.59l7.78-7.78 2.81-2.81c.8-.78.8-2.07 0-2.86zM5.41 20L4 18.59l7.72-7.72 1.47 1.35L5.41 20z\"/>\n",
              "  </svg>\n",
              "      </button>\n",
              "      \n",
              "  <style>\n",
              "    .colab-df-container {\n",
              "      display:flex;\n",
              "      flex-wrap:wrap;\n",
              "      gap: 12px;\n",
              "    }\n",
              "\n",
              "    .colab-df-convert {\n",
              "      background-color: #E8F0FE;\n",
              "      border: none;\n",
              "      border-radius: 50%;\n",
              "      cursor: pointer;\n",
              "      display: none;\n",
              "      fill: #1967D2;\n",
              "      height: 32px;\n",
              "      padding: 0 0 0 0;\n",
              "      width: 32px;\n",
              "    }\n",
              "\n",
              "    .colab-df-convert:hover {\n",
              "      background-color: #E2EBFA;\n",
              "      box-shadow: 0px 1px 2px rgba(60, 64, 67, 0.3), 0px 1px 3px 1px rgba(60, 64, 67, 0.15);\n",
              "      fill: #174EA6;\n",
              "    }\n",
              "\n",
              "    [theme=dark] .colab-df-convert {\n",
              "      background-color: #3B4455;\n",
              "      fill: #D2E3FC;\n",
              "    }\n",
              "\n",
              "    [theme=dark] .colab-df-convert:hover {\n",
              "      background-color: #434B5C;\n",
              "      box-shadow: 0px 1px 3px 1px rgba(0, 0, 0, 0.15);\n",
              "      filter: drop-shadow(0px 1px 2px rgba(0, 0, 0, 0.3));\n",
              "      fill: #FFFFFF;\n",
              "    }\n",
              "  </style>\n",
              "\n",
              "      <script>\n",
              "        const buttonEl =\n",
              "          document.querySelector('#df-63c2f684-993a-4d49-a577-eb7aa8a054cd button.colab-df-convert');\n",
              "        buttonEl.style.display =\n",
              "          google.colab.kernel.accessAllowed ? 'block' : 'none';\n",
              "\n",
              "        async function convertToInteractive(key) {\n",
              "          const element = document.querySelector('#df-63c2f684-993a-4d49-a577-eb7aa8a054cd');\n",
              "          const dataTable =\n",
              "            await google.colab.kernel.invokeFunction('convertToInteractive',\n",
              "                                                     [key], {});\n",
              "          if (!dataTable) return;\n",
              "\n",
              "          const docLinkHtml = 'Like what you see? Visit the ' +\n",
              "            '<a target=\"_blank\" href=https://colab.research.google.com/notebooks/data_table.ipynb>data table notebook</a>'\n",
              "            + ' to learn more about interactive tables.';\n",
              "          element.innerHTML = '';\n",
              "          dataTable['output_type'] = 'display_data';\n",
              "          await google.colab.output.renderOutput(dataTable, element);\n",
              "          const docLink = document.createElement('div');\n",
              "          docLink.innerHTML = docLinkHtml;\n",
              "          element.appendChild(docLink);\n",
              "        }\n",
              "      </script>\n",
              "    </div>\n",
              "  </div>\n",
              "  "
            ]
          },
          "metadata": {},
          "execution_count": 29
        }
      ],
      "source": [
        "#Parte Objeto\n",
        "pd.crosstab(index=df[\"Parte Objeto\"], columns='count')"
      ]
    },
    {
      "cell_type": "markdown",
      "metadata": {
        "id": "vHk2ZHbcxGH2"
      },
      "source": [
        "Observando la tabla de frecuencias de la variable Parte Objeto se puede ver que se disminuyó la dimensión de un poco mas de 60k registros a menos de mil partes, lo cual nos permitirá observar aquellas en las cuales se presentan mayores problemas, así como de igual manera revisar la existencia de fallas a la hora del registro de los datos."
      ]
    },
    {
      "cell_type": "code",
      "execution_count": 30,
      "metadata": {
        "colab": {
          "base_uri": "https://localhost:8080/",
          "height": 1679
        },
        "id": "xAGL0044qE1T",
        "outputId": "f541e237-5613-45b3-d353-0ca779ae1e57"
      },
      "outputs": [
        {
          "output_type": "execute_result",
          "data": {
            "text/plain": [
              "col_0                                count\n",
              "Síntoma                                   \n",
              "A TIERRA                               311\n",
              "ABIERTO                               8008\n",
              "AFLOJAMIENTO                          6443\n",
              "ALTA TEMPERATURA                       281\n",
              "ALTA VIBRACION                         132\n",
              "AMARRADO                               104\n",
              "ANTIVIRUS                                1\n",
              "ATORADO                               4594\n",
              "Automático por defecto                5536\n",
              "BAJA RESISTENCIA                       215\n",
              "BLOQUEADO                              104\n",
              "BLOQUEO DE PUESRTOS                      2\n",
              "BY-PASS                                311\n",
              "CALENTAMIENTO                          479\n",
              "CAVITACION                             792\n",
              "CHISPORROTEO                           196\n",
              "CIRCUITO ABIERTO                      1343\n",
              "CORROSION                              421\n",
              "CORTO CIRCUITO                         511\n",
              "DEFORMACION                           1130\n",
              "DESCALIBRADO                           313\n",
              "DESGASTE                              4764\n",
              "DESPRENDIMIENTO                       1874\n",
              "DESPROGRAMADO                           54\n",
              "FALLA DE CONTROL                        99\n",
              "FALLA DE SOFTWARE                      226\n",
              "FALTA DE POTENCIA/VOLTAJE              446\n",
              "FIREWALL                                 1\n",
              "FRACTURA                              2960\n",
              "FUGA                                  2359\n",
              "FUGAS                                 1666\n",
              "FUNDIDA                                 25\n",
              "FUNDIDO                                 13\n",
              "GRIETA                                 124\n",
              "INTERFERENCIA/ALINEACION/NIVELACION    338\n",
              "MALEWARE                                70\n",
              "MODO DE FALLA COMÚN                     29\n",
              "OTROS                                 5951\n",
              "Operativo Colombia                      22\n",
              "PERMISOS                                 2\n",
              "POTENCIA/VOLTAJE DEFECTUOSO            466\n",
              "PROTECCION                            9232\n",
              "QUEMADO                                202\n",
              "RAYADA                                  21\n",
              "RUPTURA                                 99\n",
              "SEÑAL/INDICACIÓN/ALARMA ERRÓNEA        563\n",
              "SIN SEÑAL/INDICACIÓN/ALARMA            244\n",
              "TAPADO                                 252\n",
              "Texto explicativo operación             13\n",
              "Texto explicativo p.causa             1061\n",
              "VIBRACION                              316"
            ],
            "text/html": [
              "\n",
              "  <div id=\"df-bbdc7588-7a59-43c2-bec8-5f0f55e1474c\">\n",
              "    <div class=\"colab-df-container\">\n",
              "      <div>\n",
              "<style scoped>\n",
              "    .dataframe tbody tr th:only-of-type {\n",
              "        vertical-align: middle;\n",
              "    }\n",
              "\n",
              "    .dataframe tbody tr th {\n",
              "        vertical-align: top;\n",
              "    }\n",
              "\n",
              "    .dataframe thead th {\n",
              "        text-align: right;\n",
              "    }\n",
              "</style>\n",
              "<table border=\"1\" class=\"dataframe\">\n",
              "  <thead>\n",
              "    <tr style=\"text-align: right;\">\n",
              "      <th>col_0</th>\n",
              "      <th>count</th>\n",
              "    </tr>\n",
              "    <tr>\n",
              "      <th>Síntoma</th>\n",
              "      <th></th>\n",
              "    </tr>\n",
              "  </thead>\n",
              "  <tbody>\n",
              "    <tr>\n",
              "      <th>A TIERRA</th>\n",
              "      <td>311</td>\n",
              "    </tr>\n",
              "    <tr>\n",
              "      <th>ABIERTO</th>\n",
              "      <td>8008</td>\n",
              "    </tr>\n",
              "    <tr>\n",
              "      <th>AFLOJAMIENTO</th>\n",
              "      <td>6443</td>\n",
              "    </tr>\n",
              "    <tr>\n",
              "      <th>ALTA TEMPERATURA</th>\n",
              "      <td>281</td>\n",
              "    </tr>\n",
              "    <tr>\n",
              "      <th>ALTA VIBRACION</th>\n",
              "      <td>132</td>\n",
              "    </tr>\n",
              "    <tr>\n",
              "      <th>AMARRADO</th>\n",
              "      <td>104</td>\n",
              "    </tr>\n",
              "    <tr>\n",
              "      <th>ANTIVIRUS</th>\n",
              "      <td>1</td>\n",
              "    </tr>\n",
              "    <tr>\n",
              "      <th>ATORADO</th>\n",
              "      <td>4594</td>\n",
              "    </tr>\n",
              "    <tr>\n",
              "      <th>Automático por defecto</th>\n",
              "      <td>5536</td>\n",
              "    </tr>\n",
              "    <tr>\n",
              "      <th>BAJA RESISTENCIA</th>\n",
              "      <td>215</td>\n",
              "    </tr>\n",
              "    <tr>\n",
              "      <th>BLOQUEADO</th>\n",
              "      <td>104</td>\n",
              "    </tr>\n",
              "    <tr>\n",
              "      <th>BLOQUEO DE PUESRTOS</th>\n",
              "      <td>2</td>\n",
              "    </tr>\n",
              "    <tr>\n",
              "      <th>BY-PASS</th>\n",
              "      <td>311</td>\n",
              "    </tr>\n",
              "    <tr>\n",
              "      <th>CALENTAMIENTO</th>\n",
              "      <td>479</td>\n",
              "    </tr>\n",
              "    <tr>\n",
              "      <th>CAVITACION</th>\n",
              "      <td>792</td>\n",
              "    </tr>\n",
              "    <tr>\n",
              "      <th>CHISPORROTEO</th>\n",
              "      <td>196</td>\n",
              "    </tr>\n",
              "    <tr>\n",
              "      <th>CIRCUITO ABIERTO</th>\n",
              "      <td>1343</td>\n",
              "    </tr>\n",
              "    <tr>\n",
              "      <th>CORROSION</th>\n",
              "      <td>421</td>\n",
              "    </tr>\n",
              "    <tr>\n",
              "      <th>CORTO CIRCUITO</th>\n",
              "      <td>511</td>\n",
              "    </tr>\n",
              "    <tr>\n",
              "      <th>DEFORMACION</th>\n",
              "      <td>1130</td>\n",
              "    </tr>\n",
              "    <tr>\n",
              "      <th>DESCALIBRADO</th>\n",
              "      <td>313</td>\n",
              "    </tr>\n",
              "    <tr>\n",
              "      <th>DESGASTE</th>\n",
              "      <td>4764</td>\n",
              "    </tr>\n",
              "    <tr>\n",
              "      <th>DESPRENDIMIENTO</th>\n",
              "      <td>1874</td>\n",
              "    </tr>\n",
              "    <tr>\n",
              "      <th>DESPROGRAMADO</th>\n",
              "      <td>54</td>\n",
              "    </tr>\n",
              "    <tr>\n",
              "      <th>FALLA DE CONTROL</th>\n",
              "      <td>99</td>\n",
              "    </tr>\n",
              "    <tr>\n",
              "      <th>FALLA DE SOFTWARE</th>\n",
              "      <td>226</td>\n",
              "    </tr>\n",
              "    <tr>\n",
              "      <th>FALTA DE POTENCIA/VOLTAJE</th>\n",
              "      <td>446</td>\n",
              "    </tr>\n",
              "    <tr>\n",
              "      <th>FIREWALL</th>\n",
              "      <td>1</td>\n",
              "    </tr>\n",
              "    <tr>\n",
              "      <th>FRACTURA</th>\n",
              "      <td>2960</td>\n",
              "    </tr>\n",
              "    <tr>\n",
              "      <th>FUGA</th>\n",
              "      <td>2359</td>\n",
              "    </tr>\n",
              "    <tr>\n",
              "      <th>FUGAS</th>\n",
              "      <td>1666</td>\n",
              "    </tr>\n",
              "    <tr>\n",
              "      <th>FUNDIDA</th>\n",
              "      <td>25</td>\n",
              "    </tr>\n",
              "    <tr>\n",
              "      <th>FUNDIDO</th>\n",
              "      <td>13</td>\n",
              "    </tr>\n",
              "    <tr>\n",
              "      <th>GRIETA</th>\n",
              "      <td>124</td>\n",
              "    </tr>\n",
              "    <tr>\n",
              "      <th>INTERFERENCIA/ALINEACION/NIVELACION</th>\n",
              "      <td>338</td>\n",
              "    </tr>\n",
              "    <tr>\n",
              "      <th>MALEWARE</th>\n",
              "      <td>70</td>\n",
              "    </tr>\n",
              "    <tr>\n",
              "      <th>MODO DE FALLA COMÚN</th>\n",
              "      <td>29</td>\n",
              "    </tr>\n",
              "    <tr>\n",
              "      <th>OTROS</th>\n",
              "      <td>5951</td>\n",
              "    </tr>\n",
              "    <tr>\n",
              "      <th>Operativo Colombia</th>\n",
              "      <td>22</td>\n",
              "    </tr>\n",
              "    <tr>\n",
              "      <th>PERMISOS</th>\n",
              "      <td>2</td>\n",
              "    </tr>\n",
              "    <tr>\n",
              "      <th>POTENCIA/VOLTAJE DEFECTUOSO</th>\n",
              "      <td>466</td>\n",
              "    </tr>\n",
              "    <tr>\n",
              "      <th>PROTECCION</th>\n",
              "      <td>9232</td>\n",
              "    </tr>\n",
              "    <tr>\n",
              "      <th>QUEMADO</th>\n",
              "      <td>202</td>\n",
              "    </tr>\n",
              "    <tr>\n",
              "      <th>RAYADA</th>\n",
              "      <td>21</td>\n",
              "    </tr>\n",
              "    <tr>\n",
              "      <th>RUPTURA</th>\n",
              "      <td>99</td>\n",
              "    </tr>\n",
              "    <tr>\n",
              "      <th>SEÑAL/INDICACIÓN/ALARMA ERRÓNEA</th>\n",
              "      <td>563</td>\n",
              "    </tr>\n",
              "    <tr>\n",
              "      <th>SIN SEÑAL/INDICACIÓN/ALARMA</th>\n",
              "      <td>244</td>\n",
              "    </tr>\n",
              "    <tr>\n",
              "      <th>TAPADO</th>\n",
              "      <td>252</td>\n",
              "    </tr>\n",
              "    <tr>\n",
              "      <th>Texto explicativo operación</th>\n",
              "      <td>13</td>\n",
              "    </tr>\n",
              "    <tr>\n",
              "      <th>Texto explicativo p.causa</th>\n",
              "      <td>1061</td>\n",
              "    </tr>\n",
              "    <tr>\n",
              "      <th>VIBRACION</th>\n",
              "      <td>316</td>\n",
              "    </tr>\n",
              "  </tbody>\n",
              "</table>\n",
              "</div>\n",
              "      <button class=\"colab-df-convert\" onclick=\"convertToInteractive('df-bbdc7588-7a59-43c2-bec8-5f0f55e1474c')\"\n",
              "              title=\"Convert this dataframe to an interactive table.\"\n",
              "              style=\"display:none;\">\n",
              "        \n",
              "  <svg xmlns=\"http://www.w3.org/2000/svg\" height=\"24px\"viewBox=\"0 0 24 24\"\n",
              "       width=\"24px\">\n",
              "    <path d=\"M0 0h24v24H0V0z\" fill=\"none\"/>\n",
              "    <path d=\"M18.56 5.44l.94 2.06.94-2.06 2.06-.94-2.06-.94-.94-2.06-.94 2.06-2.06.94zm-11 1L8.5 8.5l.94-2.06 2.06-.94-2.06-.94L8.5 2.5l-.94 2.06-2.06.94zm10 10l.94 2.06.94-2.06 2.06-.94-2.06-.94-.94-2.06-.94 2.06-2.06.94z\"/><path d=\"M17.41 7.96l-1.37-1.37c-.4-.4-.92-.59-1.43-.59-.52 0-1.04.2-1.43.59L10.3 9.45l-7.72 7.72c-.78.78-.78 2.05 0 2.83L4 21.41c.39.39.9.59 1.41.59.51 0 1.02-.2 1.41-.59l7.78-7.78 2.81-2.81c.8-.78.8-2.07 0-2.86zM5.41 20L4 18.59l7.72-7.72 1.47 1.35L5.41 20z\"/>\n",
              "  </svg>\n",
              "      </button>\n",
              "      \n",
              "  <style>\n",
              "    .colab-df-container {\n",
              "      display:flex;\n",
              "      flex-wrap:wrap;\n",
              "      gap: 12px;\n",
              "    }\n",
              "\n",
              "    .colab-df-convert {\n",
              "      background-color: #E8F0FE;\n",
              "      border: none;\n",
              "      border-radius: 50%;\n",
              "      cursor: pointer;\n",
              "      display: none;\n",
              "      fill: #1967D2;\n",
              "      height: 32px;\n",
              "      padding: 0 0 0 0;\n",
              "      width: 32px;\n",
              "    }\n",
              "\n",
              "    .colab-df-convert:hover {\n",
              "      background-color: #E2EBFA;\n",
              "      box-shadow: 0px 1px 2px rgba(60, 64, 67, 0.3), 0px 1px 3px 1px rgba(60, 64, 67, 0.15);\n",
              "      fill: #174EA6;\n",
              "    }\n",
              "\n",
              "    [theme=dark] .colab-df-convert {\n",
              "      background-color: #3B4455;\n",
              "      fill: #D2E3FC;\n",
              "    }\n",
              "\n",
              "    [theme=dark] .colab-df-convert:hover {\n",
              "      background-color: #434B5C;\n",
              "      box-shadow: 0px 1px 3px 1px rgba(0, 0, 0, 0.15);\n",
              "      filter: drop-shadow(0px 1px 2px rgba(0, 0, 0, 0.3));\n",
              "      fill: #FFFFFF;\n",
              "    }\n",
              "  </style>\n",
              "\n",
              "      <script>\n",
              "        const buttonEl =\n",
              "          document.querySelector('#df-bbdc7588-7a59-43c2-bec8-5f0f55e1474c button.colab-df-convert');\n",
              "        buttonEl.style.display =\n",
              "          google.colab.kernel.accessAllowed ? 'block' : 'none';\n",
              "\n",
              "        async function convertToInteractive(key) {\n",
              "          const element = document.querySelector('#df-bbdc7588-7a59-43c2-bec8-5f0f55e1474c');\n",
              "          const dataTable =\n",
              "            await google.colab.kernel.invokeFunction('convertToInteractive',\n",
              "                                                     [key], {});\n",
              "          if (!dataTable) return;\n",
              "\n",
              "          const docLinkHtml = 'Like what you see? Visit the ' +\n",
              "            '<a target=\"_blank\" href=https://colab.research.google.com/notebooks/data_table.ipynb>data table notebook</a>'\n",
              "            + ' to learn more about interactive tables.';\n",
              "          element.innerHTML = '';\n",
              "          dataTable['output_type'] = 'display_data';\n",
              "          await google.colab.output.renderOutput(dataTable, element);\n",
              "          const docLink = document.createElement('div');\n",
              "          docLink.innerHTML = docLinkHtml;\n",
              "          element.appendChild(docLink);\n",
              "        }\n",
              "      </script>\n",
              "    </div>\n",
              "  </div>\n",
              "  "
            ]
          },
          "metadata": {},
          "execution_count": 30
        }
      ],
      "source": [
        "#Síntoma\n",
        "pd.crosstab(index=df[\"Síntoma\"], columns='count')"
      ]
    },
    {
      "cell_type": "markdown",
      "metadata": {
        "id": "1QsHh6mVxwSw"
      },
      "source": [
        "De igual forma se puede observar que se disminuyó la dimensión del DataFrame original a una cantidad mucho menor, lo cual a su vez nos permitirá detectar los principales síntomas existentes, así como de igual forma revisar la existencia de fallas a la hora del registro de los datos."
      ]
    },
    {
      "cell_type": "code",
      "execution_count": 31,
      "metadata": {
        "colab": {
          "base_uri": "https://localhost:8080/",
          "height": 455
        },
        "id": "IjMdVjE6qFGn",
        "outputId": "74b8a11a-287c-410b-afd5-82a8df2b089d"
      },
      "outputs": [
        {
          "output_type": "execute_result",
          "data": {
            "text/plain": [
              "col_0                                  count\n",
              "Texto Síntoma                               \n",
              "(OL) ABIERTO                               1\n",
              ".                                          1\n",
              ". se ajusta sensor reset coche 2           1\n",
              ". se ajusta sensor rodillo tijera          1\n",
              "..P.T.A. molino w200 volteador             1\n",
              "...                                      ...\n",
              "´Reportan no salir tercer apoyo            1\n",
              "´paro linea seccion salida                 1\n",
              "´piden apoyo para hacer cambio de via      1\n",
              "ÑO EN BOTONERA  CARRO SUR CENTRADO         1\n",
              "óperadorpide sacar muestra                 1\n",
              "\n",
              "[15519 rows x 1 columns]"
            ],
            "text/html": [
              "\n",
              "  <div id=\"df-8c560f2a-f4cc-4c24-ad2c-85dc8b897581\">\n",
              "    <div class=\"colab-df-container\">\n",
              "      <div>\n",
              "<style scoped>\n",
              "    .dataframe tbody tr th:only-of-type {\n",
              "        vertical-align: middle;\n",
              "    }\n",
              "\n",
              "    .dataframe tbody tr th {\n",
              "        vertical-align: top;\n",
              "    }\n",
              "\n",
              "    .dataframe thead th {\n",
              "        text-align: right;\n",
              "    }\n",
              "</style>\n",
              "<table border=\"1\" class=\"dataframe\">\n",
              "  <thead>\n",
              "    <tr style=\"text-align: right;\">\n",
              "      <th>col_0</th>\n",
              "      <th>count</th>\n",
              "    </tr>\n",
              "    <tr>\n",
              "      <th>Texto Síntoma</th>\n",
              "      <th></th>\n",
              "    </tr>\n",
              "  </thead>\n",
              "  <tbody>\n",
              "    <tr>\n",
              "      <th>(OL) ABIERTO</th>\n",
              "      <td>1</td>\n",
              "    </tr>\n",
              "    <tr>\n",
              "      <th>.</th>\n",
              "      <td>1</td>\n",
              "    </tr>\n",
              "    <tr>\n",
              "      <th>. se ajusta sensor reset coche 2</th>\n",
              "      <td>1</td>\n",
              "    </tr>\n",
              "    <tr>\n",
              "      <th>. se ajusta sensor rodillo tijera</th>\n",
              "      <td>1</td>\n",
              "    </tr>\n",
              "    <tr>\n",
              "      <th>..P.T.A. molino w200 volteador</th>\n",
              "      <td>1</td>\n",
              "    </tr>\n",
              "    <tr>\n",
              "      <th>...</th>\n",
              "      <td>...</td>\n",
              "    </tr>\n",
              "    <tr>\n",
              "      <th>´Reportan no salir tercer apoyo</th>\n",
              "      <td>1</td>\n",
              "    </tr>\n",
              "    <tr>\n",
              "      <th>´paro linea seccion salida</th>\n",
              "      <td>1</td>\n",
              "    </tr>\n",
              "    <tr>\n",
              "      <th>´piden apoyo para hacer cambio de via</th>\n",
              "      <td>1</td>\n",
              "    </tr>\n",
              "    <tr>\n",
              "      <th>ÑO EN BOTONERA  CARRO SUR CENTRADO</th>\n",
              "      <td>1</td>\n",
              "    </tr>\n",
              "    <tr>\n",
              "      <th>óperadorpide sacar muestra</th>\n",
              "      <td>1</td>\n",
              "    </tr>\n",
              "  </tbody>\n",
              "</table>\n",
              "<p>15519 rows × 1 columns</p>\n",
              "</div>\n",
              "      <button class=\"colab-df-convert\" onclick=\"convertToInteractive('df-8c560f2a-f4cc-4c24-ad2c-85dc8b897581')\"\n",
              "              title=\"Convert this dataframe to an interactive table.\"\n",
              "              style=\"display:none;\">\n",
              "        \n",
              "  <svg xmlns=\"http://www.w3.org/2000/svg\" height=\"24px\"viewBox=\"0 0 24 24\"\n",
              "       width=\"24px\">\n",
              "    <path d=\"M0 0h24v24H0V0z\" fill=\"none\"/>\n",
              "    <path d=\"M18.56 5.44l.94 2.06.94-2.06 2.06-.94-2.06-.94-.94-2.06-.94 2.06-2.06.94zm-11 1L8.5 8.5l.94-2.06 2.06-.94-2.06-.94L8.5 2.5l-.94 2.06-2.06.94zm10 10l.94 2.06.94-2.06 2.06-.94-2.06-.94-.94-2.06-.94 2.06-2.06.94z\"/><path d=\"M17.41 7.96l-1.37-1.37c-.4-.4-.92-.59-1.43-.59-.52 0-1.04.2-1.43.59L10.3 9.45l-7.72 7.72c-.78.78-.78 2.05 0 2.83L4 21.41c.39.39.9.59 1.41.59.51 0 1.02-.2 1.41-.59l7.78-7.78 2.81-2.81c.8-.78.8-2.07 0-2.86zM5.41 20L4 18.59l7.72-7.72 1.47 1.35L5.41 20z\"/>\n",
              "  </svg>\n",
              "      </button>\n",
              "      \n",
              "  <style>\n",
              "    .colab-df-container {\n",
              "      display:flex;\n",
              "      flex-wrap:wrap;\n",
              "      gap: 12px;\n",
              "    }\n",
              "\n",
              "    .colab-df-convert {\n",
              "      background-color: #E8F0FE;\n",
              "      border: none;\n",
              "      border-radius: 50%;\n",
              "      cursor: pointer;\n",
              "      display: none;\n",
              "      fill: #1967D2;\n",
              "      height: 32px;\n",
              "      padding: 0 0 0 0;\n",
              "      width: 32px;\n",
              "    }\n",
              "\n",
              "    .colab-df-convert:hover {\n",
              "      background-color: #E2EBFA;\n",
              "      box-shadow: 0px 1px 2px rgba(60, 64, 67, 0.3), 0px 1px 3px 1px rgba(60, 64, 67, 0.15);\n",
              "      fill: #174EA6;\n",
              "    }\n",
              "\n",
              "    [theme=dark] .colab-df-convert {\n",
              "      background-color: #3B4455;\n",
              "      fill: #D2E3FC;\n",
              "    }\n",
              "\n",
              "    [theme=dark] .colab-df-convert:hover {\n",
              "      background-color: #434B5C;\n",
              "      box-shadow: 0px 1px 3px 1px rgba(0, 0, 0, 0.15);\n",
              "      filter: drop-shadow(0px 1px 2px rgba(0, 0, 0, 0.3));\n",
              "      fill: #FFFFFF;\n",
              "    }\n",
              "  </style>\n",
              "\n",
              "      <script>\n",
              "        const buttonEl =\n",
              "          document.querySelector('#df-8c560f2a-f4cc-4c24-ad2c-85dc8b897581 button.colab-df-convert');\n",
              "        buttonEl.style.display =\n",
              "          google.colab.kernel.accessAllowed ? 'block' : 'none';\n",
              "\n",
              "        async function convertToInteractive(key) {\n",
              "          const element = document.querySelector('#df-8c560f2a-f4cc-4c24-ad2c-85dc8b897581');\n",
              "          const dataTable =\n",
              "            await google.colab.kernel.invokeFunction('convertToInteractive',\n",
              "                                                     [key], {});\n",
              "          if (!dataTable) return;\n",
              "\n",
              "          const docLinkHtml = 'Like what you see? Visit the ' +\n",
              "            '<a target=\"_blank\" href=https://colab.research.google.com/notebooks/data_table.ipynb>data table notebook</a>'\n",
              "            + ' to learn more about interactive tables.';\n",
              "          element.innerHTML = '';\n",
              "          dataTable['output_type'] = 'display_data';\n",
              "          await google.colab.output.renderOutput(dataTable, element);\n",
              "          const docLink = document.createElement('div');\n",
              "          docLink.innerHTML = docLinkHtml;\n",
              "          element.appendChild(docLink);\n",
              "        }\n",
              "      </script>\n",
              "    </div>\n",
              "  </div>\n",
              "  "
            ]
          },
          "metadata": {},
          "execution_count": 31
        }
      ],
      "source": [
        "#Texto Síntoma\n",
        "pd.crosstab(index=df[\"Texto Síntoma\"], columns='count')"
      ]
    },
    {
      "cell_type": "markdown",
      "metadata": {
        "id": "y5Td2gq7yNeV"
      },
      "source": [
        "De igual manera se puede observar que existe una menor cantidad de registros en la tabla de frecuencias, al analizar la variable Texto Síntoma, pero esto se puede presentar de igual forma gracias a que cuenta con una gran cantidad de datos nulos, lo cual no se podría indicar que se trata de un espacio opcional de rellenar a la hora de registrar un aviso, por lo cual no se considera demasiado relevante esta variable."
      ]
    },
    {
      "cell_type": "code",
      "execution_count": 32,
      "metadata": {
        "colab": {
          "base_uri": "https://localhost:8080/",
          "height": 1962
        },
        "id": "BO_O_jfLqFZf",
        "outputId": "00c1ee3e-098d-4612-8018-8c74697baf00"
      },
      "outputs": [
        {
          "output_type": "execute_result",
          "data": {
            "text/plain": [
              "col_0                          count\n",
              "Causa                               \n",
              "ACIDEZ                            42\n",
              "AFLOJAMIENTO                    2202\n",
              "ALTA TEMPERATURA                 610\n",
              "ATERRIZADO                         7\n",
              "Ajeno al proveedor                 3\n",
              "Automático por defecto          5569\n",
              "BAJO NIVEL ACEITE               1365\n",
              "BLOQUEO DE PUESRTOS                3\n",
              "Beschaffung                        1\n",
              "CAVITACION                        89\n",
              "CONTAMINACION                   4552\n",
              "CORTE DE ENERGIA                 296\n",
              "CRUZADO                           10\n",
              "DESAJUSTE                       6719\n",
              "DESALINEADO                     1461\n",
              "DESBALANCE                       394\n",
              "DESCALIBRADO                    1818\n",
              "DESCONOCIDA                      928\n",
              "DESGASTE                         118\n",
              "DOS FASES                        116\n",
              "Distribution                       1\n",
              "ERROR DE PROGRAMACI              439\n",
              "ESCORIA ADHERIDA                  39\n",
              "EXCESO DE LUBRICACI               40\n",
              "Entwurf                           16\n",
              "FALLA DE COMUNICACI             2066\n",
              "FALLA DE SOFTWARE                557\n",
              "FALSO CONTACTO                  1233\n",
              "FALTA DE ENFRIAMIEN              157\n",
              "FALTA DE LUBRICACIO              913\n",
              "FALTA DE TIERRA EFE               12\n",
              "FATIGA                         10436\n",
              "FIREWALL                           3\n",
              "GOLPE                           1668\n",
              "HUMEDAD                          454\n",
              "Instandsetzung                     1\n",
              "Konstruktion                       5\n",
              "LINEA ABIERTA                    428\n",
              "Lagerung                           3\n",
              "MAL ARMADO                         8\n",
              "MAL MONTAJE                     1022\n",
              "MALA CIMENTACION                  51\n",
              "MALA MANIOBRA                   1092\n",
              "MALEWARE                          71\n",
              "Material                         126\n",
              "No detectado por no poseer CC      2\n",
              "OTROS                           5156\n",
              "PERMISOS                           5\n",
              "PROTECCION                      6617\n",
              "Produktion                        67\n",
              "Produktion / Maschine             38\n",
              "Produktion / Personal            176\n",
              "Produktionsplanung                 1\n",
              "Produktionssteuerung               1\n",
              "Qualitätsprüfung                   4\n",
              "SOBRECARGA                      4271\n",
              "Service                           21\n",
              "Ursache                          762\n",
              "VIBRACION                        205\n",
              "Wartung                          249"
            ],
            "text/html": [
              "\n",
              "  <div id=\"df-6843c898-3514-44d8-8777-cd32a1abca07\">\n",
              "    <div class=\"colab-df-container\">\n",
              "      <div>\n",
              "<style scoped>\n",
              "    .dataframe tbody tr th:only-of-type {\n",
              "        vertical-align: middle;\n",
              "    }\n",
              "\n",
              "    .dataframe tbody tr th {\n",
              "        vertical-align: top;\n",
              "    }\n",
              "\n",
              "    .dataframe thead th {\n",
              "        text-align: right;\n",
              "    }\n",
              "</style>\n",
              "<table border=\"1\" class=\"dataframe\">\n",
              "  <thead>\n",
              "    <tr style=\"text-align: right;\">\n",
              "      <th>col_0</th>\n",
              "      <th>count</th>\n",
              "    </tr>\n",
              "    <tr>\n",
              "      <th>Causa</th>\n",
              "      <th></th>\n",
              "    </tr>\n",
              "  </thead>\n",
              "  <tbody>\n",
              "    <tr>\n",
              "      <th>ACIDEZ</th>\n",
              "      <td>42</td>\n",
              "    </tr>\n",
              "    <tr>\n",
              "      <th>AFLOJAMIENTO</th>\n",
              "      <td>2202</td>\n",
              "    </tr>\n",
              "    <tr>\n",
              "      <th>ALTA TEMPERATURA</th>\n",
              "      <td>610</td>\n",
              "    </tr>\n",
              "    <tr>\n",
              "      <th>ATERRIZADO</th>\n",
              "      <td>7</td>\n",
              "    </tr>\n",
              "    <tr>\n",
              "      <th>Ajeno al proveedor</th>\n",
              "      <td>3</td>\n",
              "    </tr>\n",
              "    <tr>\n",
              "      <th>Automático por defecto</th>\n",
              "      <td>5569</td>\n",
              "    </tr>\n",
              "    <tr>\n",
              "      <th>BAJO NIVEL ACEITE</th>\n",
              "      <td>1365</td>\n",
              "    </tr>\n",
              "    <tr>\n",
              "      <th>BLOQUEO DE PUESRTOS</th>\n",
              "      <td>3</td>\n",
              "    </tr>\n",
              "    <tr>\n",
              "      <th>Beschaffung</th>\n",
              "      <td>1</td>\n",
              "    </tr>\n",
              "    <tr>\n",
              "      <th>CAVITACION</th>\n",
              "      <td>89</td>\n",
              "    </tr>\n",
              "    <tr>\n",
              "      <th>CONTAMINACION</th>\n",
              "      <td>4552</td>\n",
              "    </tr>\n",
              "    <tr>\n",
              "      <th>CORTE DE ENERGIA</th>\n",
              "      <td>296</td>\n",
              "    </tr>\n",
              "    <tr>\n",
              "      <th>CRUZADO</th>\n",
              "      <td>10</td>\n",
              "    </tr>\n",
              "    <tr>\n",
              "      <th>DESAJUSTE</th>\n",
              "      <td>6719</td>\n",
              "    </tr>\n",
              "    <tr>\n",
              "      <th>DESALINEADO</th>\n",
              "      <td>1461</td>\n",
              "    </tr>\n",
              "    <tr>\n",
              "      <th>DESBALANCE</th>\n",
              "      <td>394</td>\n",
              "    </tr>\n",
              "    <tr>\n",
              "      <th>DESCALIBRADO</th>\n",
              "      <td>1818</td>\n",
              "    </tr>\n",
              "    <tr>\n",
              "      <th>DESCONOCIDA</th>\n",
              "      <td>928</td>\n",
              "    </tr>\n",
              "    <tr>\n",
              "      <th>DESGASTE</th>\n",
              "      <td>118</td>\n",
              "    </tr>\n",
              "    <tr>\n",
              "      <th>DOS FASES</th>\n",
              "      <td>116</td>\n",
              "    </tr>\n",
              "    <tr>\n",
              "      <th>Distribution</th>\n",
              "      <td>1</td>\n",
              "    </tr>\n",
              "    <tr>\n",
              "      <th>ERROR DE PROGRAMACI</th>\n",
              "      <td>439</td>\n",
              "    </tr>\n",
              "    <tr>\n",
              "      <th>ESCORIA ADHERIDA</th>\n",
              "      <td>39</td>\n",
              "    </tr>\n",
              "    <tr>\n",
              "      <th>EXCESO DE LUBRICACI</th>\n",
              "      <td>40</td>\n",
              "    </tr>\n",
              "    <tr>\n",
              "      <th>Entwurf</th>\n",
              "      <td>16</td>\n",
              "    </tr>\n",
              "    <tr>\n",
              "      <th>FALLA DE COMUNICACI</th>\n",
              "      <td>2066</td>\n",
              "    </tr>\n",
              "    <tr>\n",
              "      <th>FALLA DE SOFTWARE</th>\n",
              "      <td>557</td>\n",
              "    </tr>\n",
              "    <tr>\n",
              "      <th>FALSO CONTACTO</th>\n",
              "      <td>1233</td>\n",
              "    </tr>\n",
              "    <tr>\n",
              "      <th>FALTA DE ENFRIAMIEN</th>\n",
              "      <td>157</td>\n",
              "    </tr>\n",
              "    <tr>\n",
              "      <th>FALTA DE LUBRICACIO</th>\n",
              "      <td>913</td>\n",
              "    </tr>\n",
              "    <tr>\n",
              "      <th>FALTA DE TIERRA EFE</th>\n",
              "      <td>12</td>\n",
              "    </tr>\n",
              "    <tr>\n",
              "      <th>FATIGA</th>\n",
              "      <td>10436</td>\n",
              "    </tr>\n",
              "    <tr>\n",
              "      <th>FIREWALL</th>\n",
              "      <td>3</td>\n",
              "    </tr>\n",
              "    <tr>\n",
              "      <th>GOLPE</th>\n",
              "      <td>1668</td>\n",
              "    </tr>\n",
              "    <tr>\n",
              "      <th>HUMEDAD</th>\n",
              "      <td>454</td>\n",
              "    </tr>\n",
              "    <tr>\n",
              "      <th>Instandsetzung</th>\n",
              "      <td>1</td>\n",
              "    </tr>\n",
              "    <tr>\n",
              "      <th>Konstruktion</th>\n",
              "      <td>5</td>\n",
              "    </tr>\n",
              "    <tr>\n",
              "      <th>LINEA ABIERTA</th>\n",
              "      <td>428</td>\n",
              "    </tr>\n",
              "    <tr>\n",
              "      <th>Lagerung</th>\n",
              "      <td>3</td>\n",
              "    </tr>\n",
              "    <tr>\n",
              "      <th>MAL ARMADO</th>\n",
              "      <td>8</td>\n",
              "    </tr>\n",
              "    <tr>\n",
              "      <th>MAL MONTAJE</th>\n",
              "      <td>1022</td>\n",
              "    </tr>\n",
              "    <tr>\n",
              "      <th>MALA CIMENTACION</th>\n",
              "      <td>51</td>\n",
              "    </tr>\n",
              "    <tr>\n",
              "      <th>MALA MANIOBRA</th>\n",
              "      <td>1092</td>\n",
              "    </tr>\n",
              "    <tr>\n",
              "      <th>MALEWARE</th>\n",
              "      <td>71</td>\n",
              "    </tr>\n",
              "    <tr>\n",
              "      <th>Material</th>\n",
              "      <td>126</td>\n",
              "    </tr>\n",
              "    <tr>\n",
              "      <th>No detectado por no poseer CC</th>\n",
              "      <td>2</td>\n",
              "    </tr>\n",
              "    <tr>\n",
              "      <th>OTROS</th>\n",
              "      <td>5156</td>\n",
              "    </tr>\n",
              "    <tr>\n",
              "      <th>PERMISOS</th>\n",
              "      <td>5</td>\n",
              "    </tr>\n",
              "    <tr>\n",
              "      <th>PROTECCION</th>\n",
              "      <td>6617</td>\n",
              "    </tr>\n",
              "    <tr>\n",
              "      <th>Produktion</th>\n",
              "      <td>67</td>\n",
              "    </tr>\n",
              "    <tr>\n",
              "      <th>Produktion / Maschine</th>\n",
              "      <td>38</td>\n",
              "    </tr>\n",
              "    <tr>\n",
              "      <th>Produktion / Personal</th>\n",
              "      <td>176</td>\n",
              "    </tr>\n",
              "    <tr>\n",
              "      <th>Produktionsplanung</th>\n",
              "      <td>1</td>\n",
              "    </tr>\n",
              "    <tr>\n",
              "      <th>Produktionssteuerung</th>\n",
              "      <td>1</td>\n",
              "    </tr>\n",
              "    <tr>\n",
              "      <th>Qualitätsprüfung</th>\n",
              "      <td>4</td>\n",
              "    </tr>\n",
              "    <tr>\n",
              "      <th>SOBRECARGA</th>\n",
              "      <td>4271</td>\n",
              "    </tr>\n",
              "    <tr>\n",
              "      <th>Service</th>\n",
              "      <td>21</td>\n",
              "    </tr>\n",
              "    <tr>\n",
              "      <th>Ursache</th>\n",
              "      <td>762</td>\n",
              "    </tr>\n",
              "    <tr>\n",
              "      <th>VIBRACION</th>\n",
              "      <td>205</td>\n",
              "    </tr>\n",
              "    <tr>\n",
              "      <th>Wartung</th>\n",
              "      <td>249</td>\n",
              "    </tr>\n",
              "  </tbody>\n",
              "</table>\n",
              "</div>\n",
              "      <button class=\"colab-df-convert\" onclick=\"convertToInteractive('df-6843c898-3514-44d8-8777-cd32a1abca07')\"\n",
              "              title=\"Convert this dataframe to an interactive table.\"\n",
              "              style=\"display:none;\">\n",
              "        \n",
              "  <svg xmlns=\"http://www.w3.org/2000/svg\" height=\"24px\"viewBox=\"0 0 24 24\"\n",
              "       width=\"24px\">\n",
              "    <path d=\"M0 0h24v24H0V0z\" fill=\"none\"/>\n",
              "    <path d=\"M18.56 5.44l.94 2.06.94-2.06 2.06-.94-2.06-.94-.94-2.06-.94 2.06-2.06.94zm-11 1L8.5 8.5l.94-2.06 2.06-.94-2.06-.94L8.5 2.5l-.94 2.06-2.06.94zm10 10l.94 2.06.94-2.06 2.06-.94-2.06-.94-.94-2.06-.94 2.06-2.06.94z\"/><path d=\"M17.41 7.96l-1.37-1.37c-.4-.4-.92-.59-1.43-.59-.52 0-1.04.2-1.43.59L10.3 9.45l-7.72 7.72c-.78.78-.78 2.05 0 2.83L4 21.41c.39.39.9.59 1.41.59.51 0 1.02-.2 1.41-.59l7.78-7.78 2.81-2.81c.8-.78.8-2.07 0-2.86zM5.41 20L4 18.59l7.72-7.72 1.47 1.35L5.41 20z\"/>\n",
              "  </svg>\n",
              "      </button>\n",
              "      \n",
              "  <style>\n",
              "    .colab-df-container {\n",
              "      display:flex;\n",
              "      flex-wrap:wrap;\n",
              "      gap: 12px;\n",
              "    }\n",
              "\n",
              "    .colab-df-convert {\n",
              "      background-color: #E8F0FE;\n",
              "      border: none;\n",
              "      border-radius: 50%;\n",
              "      cursor: pointer;\n",
              "      display: none;\n",
              "      fill: #1967D2;\n",
              "      height: 32px;\n",
              "      padding: 0 0 0 0;\n",
              "      width: 32px;\n",
              "    }\n",
              "\n",
              "    .colab-df-convert:hover {\n",
              "      background-color: #E2EBFA;\n",
              "      box-shadow: 0px 1px 2px rgba(60, 64, 67, 0.3), 0px 1px 3px 1px rgba(60, 64, 67, 0.15);\n",
              "      fill: #174EA6;\n",
              "    }\n",
              "\n",
              "    [theme=dark] .colab-df-convert {\n",
              "      background-color: #3B4455;\n",
              "      fill: #D2E3FC;\n",
              "    }\n",
              "\n",
              "    [theme=dark] .colab-df-convert:hover {\n",
              "      background-color: #434B5C;\n",
              "      box-shadow: 0px 1px 3px 1px rgba(0, 0, 0, 0.15);\n",
              "      filter: drop-shadow(0px 1px 2px rgba(0, 0, 0, 0.3));\n",
              "      fill: #FFFFFF;\n",
              "    }\n",
              "  </style>\n",
              "\n",
              "      <script>\n",
              "        const buttonEl =\n",
              "          document.querySelector('#df-6843c898-3514-44d8-8777-cd32a1abca07 button.colab-df-convert');\n",
              "        buttonEl.style.display =\n",
              "          google.colab.kernel.accessAllowed ? 'block' : 'none';\n",
              "\n",
              "        async function convertToInteractive(key) {\n",
              "          const element = document.querySelector('#df-6843c898-3514-44d8-8777-cd32a1abca07');\n",
              "          const dataTable =\n",
              "            await google.colab.kernel.invokeFunction('convertToInteractive',\n",
              "                                                     [key], {});\n",
              "          if (!dataTable) return;\n",
              "\n",
              "          const docLinkHtml = 'Like what you see? Visit the ' +\n",
              "            '<a target=\"_blank\" href=https://colab.research.google.com/notebooks/data_table.ipynb>data table notebook</a>'\n",
              "            + ' to learn more about interactive tables.';\n",
              "          element.innerHTML = '';\n",
              "          dataTable['output_type'] = 'display_data';\n",
              "          await google.colab.output.renderOutput(dataTable, element);\n",
              "          const docLink = document.createElement('div');\n",
              "          docLink.innerHTML = docLinkHtml;\n",
              "          element.appendChild(docLink);\n",
              "        }\n",
              "      </script>\n",
              "    </div>\n",
              "  </div>\n",
              "  "
            ]
          },
          "metadata": {},
          "execution_count": 32
        }
      ],
      "source": [
        "#Causa\n",
        "pd.crosstab(index=df[\"Causa\"], columns='count')"
      ]
    },
    {
      "cell_type": "markdown",
      "metadata": {
        "id": "ryl3UNRxypfo"
      },
      "source": [
        "Por otro lado, observando el comportamiento de la variable causa, se puede observar una disminución en la cantidad de renglones en la tabla de frecuencias y se trata de una variable que no cuenta con datos nulos. Lo cual nos indica que es necesario el llenado de este campo para dar de alta un registro. Observar la tabla de frecuencias será de mucha utilidad a la hora de revisar patrones de comportamientos."
      ]
    },
    {
      "cell_type": "code",
      "execution_count": 33,
      "metadata": {
        "colab": {
          "base_uri": "https://localhost:8080/",
          "height": 455
        },
        "id": "BA_zC6jOqFpv",
        "outputId": "52562840-b036-46cc-ff31-c55f3c78715e"
      },
      "outputs": [
        {
          "output_type": "execute_result",
          "data": {
            "text/plain": [
              "col_0       count\n",
              "Equipo           \n",
              "21000000.0      2\n",
              "21000001.0      2\n",
              "21000010.0      3\n",
              "21000012.0      3\n",
              "21000013.0      5\n",
              "...           ...\n",
              "46000886.0      1\n",
              "46001011.0      2\n",
              "46001070.0      8\n",
              "46001071.0      3\n",
              "46001072.0      9\n",
              "\n",
              "[7966 rows x 1 columns]"
            ],
            "text/html": [
              "\n",
              "  <div id=\"df-3065d74a-bd52-4cba-a2de-16f45638d9f0\">\n",
              "    <div class=\"colab-df-container\">\n",
              "      <div>\n",
              "<style scoped>\n",
              "    .dataframe tbody tr th:only-of-type {\n",
              "        vertical-align: middle;\n",
              "    }\n",
              "\n",
              "    .dataframe tbody tr th {\n",
              "        vertical-align: top;\n",
              "    }\n",
              "\n",
              "    .dataframe thead th {\n",
              "        text-align: right;\n",
              "    }\n",
              "</style>\n",
              "<table border=\"1\" class=\"dataframe\">\n",
              "  <thead>\n",
              "    <tr style=\"text-align: right;\">\n",
              "      <th>col_0</th>\n",
              "      <th>count</th>\n",
              "    </tr>\n",
              "    <tr>\n",
              "      <th>Equipo</th>\n",
              "      <th></th>\n",
              "    </tr>\n",
              "  </thead>\n",
              "  <tbody>\n",
              "    <tr>\n",
              "      <th>21000000.0</th>\n",
              "      <td>2</td>\n",
              "    </tr>\n",
              "    <tr>\n",
              "      <th>21000001.0</th>\n",
              "      <td>2</td>\n",
              "    </tr>\n",
              "    <tr>\n",
              "      <th>21000010.0</th>\n",
              "      <td>3</td>\n",
              "    </tr>\n",
              "    <tr>\n",
              "      <th>21000012.0</th>\n",
              "      <td>3</td>\n",
              "    </tr>\n",
              "    <tr>\n",
              "      <th>21000013.0</th>\n",
              "      <td>5</td>\n",
              "    </tr>\n",
              "    <tr>\n",
              "      <th>...</th>\n",
              "      <td>...</td>\n",
              "    </tr>\n",
              "    <tr>\n",
              "      <th>46000886.0</th>\n",
              "      <td>1</td>\n",
              "    </tr>\n",
              "    <tr>\n",
              "      <th>46001011.0</th>\n",
              "      <td>2</td>\n",
              "    </tr>\n",
              "    <tr>\n",
              "      <th>46001070.0</th>\n",
              "      <td>8</td>\n",
              "    </tr>\n",
              "    <tr>\n",
              "      <th>46001071.0</th>\n",
              "      <td>3</td>\n",
              "    </tr>\n",
              "    <tr>\n",
              "      <th>46001072.0</th>\n",
              "      <td>9</td>\n",
              "    </tr>\n",
              "  </tbody>\n",
              "</table>\n",
              "<p>7966 rows × 1 columns</p>\n",
              "</div>\n",
              "      <button class=\"colab-df-convert\" onclick=\"convertToInteractive('df-3065d74a-bd52-4cba-a2de-16f45638d9f0')\"\n",
              "              title=\"Convert this dataframe to an interactive table.\"\n",
              "              style=\"display:none;\">\n",
              "        \n",
              "  <svg xmlns=\"http://www.w3.org/2000/svg\" height=\"24px\"viewBox=\"0 0 24 24\"\n",
              "       width=\"24px\">\n",
              "    <path d=\"M0 0h24v24H0V0z\" fill=\"none\"/>\n",
              "    <path d=\"M18.56 5.44l.94 2.06.94-2.06 2.06-.94-2.06-.94-.94-2.06-.94 2.06-2.06.94zm-11 1L8.5 8.5l.94-2.06 2.06-.94-2.06-.94L8.5 2.5l-.94 2.06-2.06.94zm10 10l.94 2.06.94-2.06 2.06-.94-2.06-.94-.94-2.06-.94 2.06-2.06.94z\"/><path d=\"M17.41 7.96l-1.37-1.37c-.4-.4-.92-.59-1.43-.59-.52 0-1.04.2-1.43.59L10.3 9.45l-7.72 7.72c-.78.78-.78 2.05 0 2.83L4 21.41c.39.39.9.59 1.41.59.51 0 1.02-.2 1.41-.59l7.78-7.78 2.81-2.81c.8-.78.8-2.07 0-2.86zM5.41 20L4 18.59l7.72-7.72 1.47 1.35L5.41 20z\"/>\n",
              "  </svg>\n",
              "      </button>\n",
              "      \n",
              "  <style>\n",
              "    .colab-df-container {\n",
              "      display:flex;\n",
              "      flex-wrap:wrap;\n",
              "      gap: 12px;\n",
              "    }\n",
              "\n",
              "    .colab-df-convert {\n",
              "      background-color: #E8F0FE;\n",
              "      border: none;\n",
              "      border-radius: 50%;\n",
              "      cursor: pointer;\n",
              "      display: none;\n",
              "      fill: #1967D2;\n",
              "      height: 32px;\n",
              "      padding: 0 0 0 0;\n",
              "      width: 32px;\n",
              "    }\n",
              "\n",
              "    .colab-df-convert:hover {\n",
              "      background-color: #E2EBFA;\n",
              "      box-shadow: 0px 1px 2px rgba(60, 64, 67, 0.3), 0px 1px 3px 1px rgba(60, 64, 67, 0.15);\n",
              "      fill: #174EA6;\n",
              "    }\n",
              "\n",
              "    [theme=dark] .colab-df-convert {\n",
              "      background-color: #3B4455;\n",
              "      fill: #D2E3FC;\n",
              "    }\n",
              "\n",
              "    [theme=dark] .colab-df-convert:hover {\n",
              "      background-color: #434B5C;\n",
              "      box-shadow: 0px 1px 3px 1px rgba(0, 0, 0, 0.15);\n",
              "      filter: drop-shadow(0px 1px 2px rgba(0, 0, 0, 0.3));\n",
              "      fill: #FFFFFF;\n",
              "    }\n",
              "  </style>\n",
              "\n",
              "      <script>\n",
              "        const buttonEl =\n",
              "          document.querySelector('#df-3065d74a-bd52-4cba-a2de-16f45638d9f0 button.colab-df-convert');\n",
              "        buttonEl.style.display =\n",
              "          google.colab.kernel.accessAllowed ? 'block' : 'none';\n",
              "\n",
              "        async function convertToInteractive(key) {\n",
              "          const element = document.querySelector('#df-3065d74a-bd52-4cba-a2de-16f45638d9f0');\n",
              "          const dataTable =\n",
              "            await google.colab.kernel.invokeFunction('convertToInteractive',\n",
              "                                                     [key], {});\n",
              "          if (!dataTable) return;\n",
              "\n",
              "          const docLinkHtml = 'Like what you see? Visit the ' +\n",
              "            '<a target=\"_blank\" href=https://colab.research.google.com/notebooks/data_table.ipynb>data table notebook</a>'\n",
              "            + ' to learn more about interactive tables.';\n",
              "          element.innerHTML = '';\n",
              "          dataTable['output_type'] = 'display_data';\n",
              "          await google.colab.output.renderOutput(dataTable, element);\n",
              "          const docLink = document.createElement('div');\n",
              "          docLink.innerHTML = docLinkHtml;\n",
              "          element.appendChild(docLink);\n",
              "        }\n",
              "      </script>\n",
              "    </div>\n",
              "  </div>\n",
              "  "
            ]
          },
          "metadata": {},
          "execution_count": 33
        }
      ],
      "source": [
        "# Equipo\n",
        "pd.crosstab(index=df[\"Equipo\"], columns='count')"
      ]
    },
    {
      "cell_type": "code",
      "execution_count": 34,
      "metadata": {
        "colab": {
          "base_uri": "https://localhost:8080/",
          "height": 455
        },
        "id": "PWQqsk6HqGNP",
        "outputId": "8a760e41-cc2d-4e69-960d-6883623d1e13"
      },
      "outputs": [
        {
          "output_type": "execute_result",
          "data": {
            "text/plain": [
              "col_0                                    count\n",
              "Denominación                                  \n",
              "013-F TOLVA ALMACEN MINERAL                  5\n",
              "014-F1 ALMEJA DUCTO DE CARGA                10\n",
              "014-F2 ALMEJA DUCTO DE CARGA                14\n",
              "085-V BANDA DE TRANSPORTADOR                36\n",
              "085-V M MOTOR OTE                            8\n",
              "...                                        ...\n",
              "ZSHL63711 - POSICION RE-637-L1               1\n",
              "ZSHL67421 - POSICION RE-674-L2               1\n",
              "ZSHL67521 - POSICION RE-675-L2               1\n",
              "ZYH61531 - SOLENOIDE APERTURA RE-615-L3      1\n",
              "tLOCKS DE VALVULAS BENDING MOLINO 5          1\n",
              "\n",
              "[6763 rows x 1 columns]"
            ],
            "text/html": [
              "\n",
              "  <div id=\"df-ef7bc1ac-a755-4895-92bc-89c7bbaa8c5d\">\n",
              "    <div class=\"colab-df-container\">\n",
              "      <div>\n",
              "<style scoped>\n",
              "    .dataframe tbody tr th:only-of-type {\n",
              "        vertical-align: middle;\n",
              "    }\n",
              "\n",
              "    .dataframe tbody tr th {\n",
              "        vertical-align: top;\n",
              "    }\n",
              "\n",
              "    .dataframe thead th {\n",
              "        text-align: right;\n",
              "    }\n",
              "</style>\n",
              "<table border=\"1\" class=\"dataframe\">\n",
              "  <thead>\n",
              "    <tr style=\"text-align: right;\">\n",
              "      <th>col_0</th>\n",
              "      <th>count</th>\n",
              "    </tr>\n",
              "    <tr>\n",
              "      <th>Denominación</th>\n",
              "      <th></th>\n",
              "    </tr>\n",
              "  </thead>\n",
              "  <tbody>\n",
              "    <tr>\n",
              "      <th>013-F TOLVA ALMACEN MINERAL</th>\n",
              "      <td>5</td>\n",
              "    </tr>\n",
              "    <tr>\n",
              "      <th>014-F1 ALMEJA DUCTO DE CARGA</th>\n",
              "      <td>10</td>\n",
              "    </tr>\n",
              "    <tr>\n",
              "      <th>014-F2 ALMEJA DUCTO DE CARGA</th>\n",
              "      <td>14</td>\n",
              "    </tr>\n",
              "    <tr>\n",
              "      <th>085-V BANDA DE TRANSPORTADOR</th>\n",
              "      <td>36</td>\n",
              "    </tr>\n",
              "    <tr>\n",
              "      <th>085-V M MOTOR OTE</th>\n",
              "      <td>8</td>\n",
              "    </tr>\n",
              "    <tr>\n",
              "      <th>...</th>\n",
              "      <td>...</td>\n",
              "    </tr>\n",
              "    <tr>\n",
              "      <th>ZSHL63711 - POSICION RE-637-L1</th>\n",
              "      <td>1</td>\n",
              "    </tr>\n",
              "    <tr>\n",
              "      <th>ZSHL67421 - POSICION RE-674-L2</th>\n",
              "      <td>1</td>\n",
              "    </tr>\n",
              "    <tr>\n",
              "      <th>ZSHL67521 - POSICION RE-675-L2</th>\n",
              "      <td>1</td>\n",
              "    </tr>\n",
              "    <tr>\n",
              "      <th>ZYH61531 - SOLENOIDE APERTURA RE-615-L3</th>\n",
              "      <td>1</td>\n",
              "    </tr>\n",
              "    <tr>\n",
              "      <th>tLOCKS DE VALVULAS BENDING MOLINO 5</th>\n",
              "      <td>1</td>\n",
              "    </tr>\n",
              "  </tbody>\n",
              "</table>\n",
              "<p>6763 rows × 1 columns</p>\n",
              "</div>\n",
              "      <button class=\"colab-df-convert\" onclick=\"convertToInteractive('df-ef7bc1ac-a755-4895-92bc-89c7bbaa8c5d')\"\n",
              "              title=\"Convert this dataframe to an interactive table.\"\n",
              "              style=\"display:none;\">\n",
              "        \n",
              "  <svg xmlns=\"http://www.w3.org/2000/svg\" height=\"24px\"viewBox=\"0 0 24 24\"\n",
              "       width=\"24px\">\n",
              "    <path d=\"M0 0h24v24H0V0z\" fill=\"none\"/>\n",
              "    <path d=\"M18.56 5.44l.94 2.06.94-2.06 2.06-.94-2.06-.94-.94-2.06-.94 2.06-2.06.94zm-11 1L8.5 8.5l.94-2.06 2.06-.94-2.06-.94L8.5 2.5l-.94 2.06-2.06.94zm10 10l.94 2.06.94-2.06 2.06-.94-2.06-.94-.94-2.06-.94 2.06-2.06.94z\"/><path d=\"M17.41 7.96l-1.37-1.37c-.4-.4-.92-.59-1.43-.59-.52 0-1.04.2-1.43.59L10.3 9.45l-7.72 7.72c-.78.78-.78 2.05 0 2.83L4 21.41c.39.39.9.59 1.41.59.51 0 1.02-.2 1.41-.59l7.78-7.78 2.81-2.81c.8-.78.8-2.07 0-2.86zM5.41 20L4 18.59l7.72-7.72 1.47 1.35L5.41 20z\"/>\n",
              "  </svg>\n",
              "      </button>\n",
              "      \n",
              "  <style>\n",
              "    .colab-df-container {\n",
              "      display:flex;\n",
              "      flex-wrap:wrap;\n",
              "      gap: 12px;\n",
              "    }\n",
              "\n",
              "    .colab-df-convert {\n",
              "      background-color: #E8F0FE;\n",
              "      border: none;\n",
              "      border-radius: 50%;\n",
              "      cursor: pointer;\n",
              "      display: none;\n",
              "      fill: #1967D2;\n",
              "      height: 32px;\n",
              "      padding: 0 0 0 0;\n",
              "      width: 32px;\n",
              "    }\n",
              "\n",
              "    .colab-df-convert:hover {\n",
              "      background-color: #E2EBFA;\n",
              "      box-shadow: 0px 1px 2px rgba(60, 64, 67, 0.3), 0px 1px 3px 1px rgba(60, 64, 67, 0.15);\n",
              "      fill: #174EA6;\n",
              "    }\n",
              "\n",
              "    [theme=dark] .colab-df-convert {\n",
              "      background-color: #3B4455;\n",
              "      fill: #D2E3FC;\n",
              "    }\n",
              "\n",
              "    [theme=dark] .colab-df-convert:hover {\n",
              "      background-color: #434B5C;\n",
              "      box-shadow: 0px 1px 3px 1px rgba(0, 0, 0, 0.15);\n",
              "      filter: drop-shadow(0px 1px 2px rgba(0, 0, 0, 0.3));\n",
              "      fill: #FFFFFF;\n",
              "    }\n",
              "  </style>\n",
              "\n",
              "      <script>\n",
              "        const buttonEl =\n",
              "          document.querySelector('#df-ef7bc1ac-a755-4895-92bc-89c7bbaa8c5d button.colab-df-convert');\n",
              "        buttonEl.style.display =\n",
              "          google.colab.kernel.accessAllowed ? 'block' : 'none';\n",
              "\n",
              "        async function convertToInteractive(key) {\n",
              "          const element = document.querySelector('#df-ef7bc1ac-a755-4895-92bc-89c7bbaa8c5d');\n",
              "          const dataTable =\n",
              "            await google.colab.kernel.invokeFunction('convertToInteractive',\n",
              "                                                     [key], {});\n",
              "          if (!dataTable) return;\n",
              "\n",
              "          const docLinkHtml = 'Like what you see? Visit the ' +\n",
              "            '<a target=\"_blank\" href=https://colab.research.google.com/notebooks/data_table.ipynb>data table notebook</a>'\n",
              "            + ' to learn more about interactive tables.';\n",
              "          element.innerHTML = '';\n",
              "          dataTable['output_type'] = 'display_data';\n",
              "          await google.colab.output.renderOutput(dataTable, element);\n",
              "          const docLink = document.createElement('div');\n",
              "          docLink.innerHTML = docLinkHtml;\n",
              "          element.appendChild(docLink);\n",
              "        }\n",
              "      </script>\n",
              "    </div>\n",
              "  </div>\n",
              "  "
            ]
          },
          "metadata": {},
          "execution_count": 34
        }
      ],
      "source": [
        "# Denominación\n",
        "pd.crosstab(index=df[\"Denominación\"], columns='count')"
      ]
    },
    {
      "cell_type": "code",
      "execution_count": 35,
      "metadata": {
        "colab": {
          "base_uri": "https://localhost:8080/",
          "height": 455
        },
        "id": "DWTdui38qGpw",
        "outputId": "5ebcb294-81aa-465d-9a34-2fd0783f296c"
      },
      "outputs": [
        {
          "output_type": "execute_result",
          "data": {
            "text/plain": [
              "col_0                          count\n",
              "Ubicac.técnica                      \n",
              "HM-ACE-ACHF                        2\n",
              "HM-ACE-ACHF-GRUA-GNC2              4\n",
              "HM-ACE-ACHF-GRUA-GNC2-CAR-EST      1\n",
              "HM-ACE-ACHF-GRUA-GNC2-CAR-TRL      2\n",
              "HM-ACE-ACHF-GRUA-GNC2-CAR-TTC     39\n",
              "...                              ...\n",
              "HM-TUB-SERP-ALUM-AIPT              1\n",
              "HM-TUB-SERP-ALUM-ALEX              1\n",
              "HM-TUB-SERP-TORR-T200              2\n",
              "HM-TUB-SERP-TORR-T3Y6              1\n",
              "HM-TUB-SERP-TORR-TW35              3\n",
              "\n",
              "[2545 rows x 1 columns]"
            ],
            "text/html": [
              "\n",
              "  <div id=\"df-2788d820-540e-4488-91bb-3f121803c0d6\">\n",
              "    <div class=\"colab-df-container\">\n",
              "      <div>\n",
              "<style scoped>\n",
              "    .dataframe tbody tr th:only-of-type {\n",
              "        vertical-align: middle;\n",
              "    }\n",
              "\n",
              "    .dataframe tbody tr th {\n",
              "        vertical-align: top;\n",
              "    }\n",
              "\n",
              "    .dataframe thead th {\n",
              "        text-align: right;\n",
              "    }\n",
              "</style>\n",
              "<table border=\"1\" class=\"dataframe\">\n",
              "  <thead>\n",
              "    <tr style=\"text-align: right;\">\n",
              "      <th>col_0</th>\n",
              "      <th>count</th>\n",
              "    </tr>\n",
              "    <tr>\n",
              "      <th>Ubicac.técnica</th>\n",
              "      <th></th>\n",
              "    </tr>\n",
              "  </thead>\n",
              "  <tbody>\n",
              "    <tr>\n",
              "      <th>HM-ACE-ACHF</th>\n",
              "      <td>2</td>\n",
              "    </tr>\n",
              "    <tr>\n",
              "      <th>HM-ACE-ACHF-GRUA-GNC2</th>\n",
              "      <td>4</td>\n",
              "    </tr>\n",
              "    <tr>\n",
              "      <th>HM-ACE-ACHF-GRUA-GNC2-CAR-EST</th>\n",
              "      <td>1</td>\n",
              "    </tr>\n",
              "    <tr>\n",
              "      <th>HM-ACE-ACHF-GRUA-GNC2-CAR-TRL</th>\n",
              "      <td>2</td>\n",
              "    </tr>\n",
              "    <tr>\n",
              "      <th>HM-ACE-ACHF-GRUA-GNC2-CAR-TTC</th>\n",
              "      <td>39</td>\n",
              "    </tr>\n",
              "    <tr>\n",
              "      <th>...</th>\n",
              "      <td>...</td>\n",
              "    </tr>\n",
              "    <tr>\n",
              "      <th>HM-TUB-SERP-ALUM-AIPT</th>\n",
              "      <td>1</td>\n",
              "    </tr>\n",
              "    <tr>\n",
              "      <th>HM-TUB-SERP-ALUM-ALEX</th>\n",
              "      <td>1</td>\n",
              "    </tr>\n",
              "    <tr>\n",
              "      <th>HM-TUB-SERP-TORR-T200</th>\n",
              "      <td>2</td>\n",
              "    </tr>\n",
              "    <tr>\n",
              "      <th>HM-TUB-SERP-TORR-T3Y6</th>\n",
              "      <td>1</td>\n",
              "    </tr>\n",
              "    <tr>\n",
              "      <th>HM-TUB-SERP-TORR-TW35</th>\n",
              "      <td>3</td>\n",
              "    </tr>\n",
              "  </tbody>\n",
              "</table>\n",
              "<p>2545 rows × 1 columns</p>\n",
              "</div>\n",
              "      <button class=\"colab-df-convert\" onclick=\"convertToInteractive('df-2788d820-540e-4488-91bb-3f121803c0d6')\"\n",
              "              title=\"Convert this dataframe to an interactive table.\"\n",
              "              style=\"display:none;\">\n",
              "        \n",
              "  <svg xmlns=\"http://www.w3.org/2000/svg\" height=\"24px\"viewBox=\"0 0 24 24\"\n",
              "       width=\"24px\">\n",
              "    <path d=\"M0 0h24v24H0V0z\" fill=\"none\"/>\n",
              "    <path d=\"M18.56 5.44l.94 2.06.94-2.06 2.06-.94-2.06-.94-.94-2.06-.94 2.06-2.06.94zm-11 1L8.5 8.5l.94-2.06 2.06-.94-2.06-.94L8.5 2.5l-.94 2.06-2.06.94zm10 10l.94 2.06.94-2.06 2.06-.94-2.06-.94-.94-2.06-.94 2.06-2.06.94z\"/><path d=\"M17.41 7.96l-1.37-1.37c-.4-.4-.92-.59-1.43-.59-.52 0-1.04.2-1.43.59L10.3 9.45l-7.72 7.72c-.78.78-.78 2.05 0 2.83L4 21.41c.39.39.9.59 1.41.59.51 0 1.02-.2 1.41-.59l7.78-7.78 2.81-2.81c.8-.78.8-2.07 0-2.86zM5.41 20L4 18.59l7.72-7.72 1.47 1.35L5.41 20z\"/>\n",
              "  </svg>\n",
              "      </button>\n",
              "      \n",
              "  <style>\n",
              "    .colab-df-container {\n",
              "      display:flex;\n",
              "      flex-wrap:wrap;\n",
              "      gap: 12px;\n",
              "    }\n",
              "\n",
              "    .colab-df-convert {\n",
              "      background-color: #E8F0FE;\n",
              "      border: none;\n",
              "      border-radius: 50%;\n",
              "      cursor: pointer;\n",
              "      display: none;\n",
              "      fill: #1967D2;\n",
              "      height: 32px;\n",
              "      padding: 0 0 0 0;\n",
              "      width: 32px;\n",
              "    }\n",
              "\n",
              "    .colab-df-convert:hover {\n",
              "      background-color: #E2EBFA;\n",
              "      box-shadow: 0px 1px 2px rgba(60, 64, 67, 0.3), 0px 1px 3px 1px rgba(60, 64, 67, 0.15);\n",
              "      fill: #174EA6;\n",
              "    }\n",
              "\n",
              "    [theme=dark] .colab-df-convert {\n",
              "      background-color: #3B4455;\n",
              "      fill: #D2E3FC;\n",
              "    }\n",
              "\n",
              "    [theme=dark] .colab-df-convert:hover {\n",
              "      background-color: #434B5C;\n",
              "      box-shadow: 0px 1px 3px 1px rgba(0, 0, 0, 0.15);\n",
              "      filter: drop-shadow(0px 1px 2px rgba(0, 0, 0, 0.3));\n",
              "      fill: #FFFFFF;\n",
              "    }\n",
              "  </style>\n",
              "\n",
              "      <script>\n",
              "        const buttonEl =\n",
              "          document.querySelector('#df-2788d820-540e-4488-91bb-3f121803c0d6 button.colab-df-convert');\n",
              "        buttonEl.style.display =\n",
              "          google.colab.kernel.accessAllowed ? 'block' : 'none';\n",
              "\n",
              "        async function convertToInteractive(key) {\n",
              "          const element = document.querySelector('#df-2788d820-540e-4488-91bb-3f121803c0d6');\n",
              "          const dataTable =\n",
              "            await google.colab.kernel.invokeFunction('convertToInteractive',\n",
              "                                                     [key], {});\n",
              "          if (!dataTable) return;\n",
              "\n",
              "          const docLinkHtml = 'Like what you see? Visit the ' +\n",
              "            '<a target=\"_blank\" href=https://colab.research.google.com/notebooks/data_table.ipynb>data table notebook</a>'\n",
              "            + ' to learn more about interactive tables.';\n",
              "          element.innerHTML = '';\n",
              "          dataTable['output_type'] = 'display_data';\n",
              "          await google.colab.output.renderOutput(dataTable, element);\n",
              "          const docLink = document.createElement('div');\n",
              "          docLink.innerHTML = docLinkHtml;\n",
              "          element.appendChild(docLink);\n",
              "        }\n",
              "      </script>\n",
              "    </div>\n",
              "  </div>\n",
              "  "
            ]
          },
          "metadata": {},
          "execution_count": 35
        }
      ],
      "source": [
        "# Ubicac.técnica\n",
        "pd.crosstab(index=df[\"Ubicac.técnica\"], columns='count')"
      ]
    },
    {
      "cell_type": "code",
      "execution_count": 36,
      "metadata": {
        "colab": {
          "base_uri": "https://localhost:8080/",
          "height": 455
        },
        "id": "ZeRO-O8KqHB5",
        "outputId": "67887ef6-55c3-4f93-83f9-363b4bf30fca"
      },
      "outputs": [
        {
          "output_type": "execute_result",
          "data": {
            "text/plain": [
              "col_0                                     count\n",
              "Denominación.1                                 \n",
              "601-V1 TUB DE 601-V A 735-L1 (TN-40102)       2\n",
              "601-V2 TUB DE 601-V A 735-L2 (TN-40105)       2\n",
              "633-J - COMPRESOR ENFFRIAMIENTO EXTERNO       1\n",
              "701-V1 TUB DE 735-L1 A 736-L1 (TN-40103)      1\n",
              "702-V1 TUB DE 736-L1 A 754-F (TN-40104)       1\n",
              "...                                         ...\n",
              "WALKING BEAM                                 14\n",
              "ZONA DE ENFRIAMIENTO                          3\n",
              "ZONA DE ENTRADA                               1\n",
              "ZONA ENFRIAMIENTO                             3\n",
              "ZONA MUERTA                                   3\n",
              "\n",
              "[2007 rows x 1 columns]"
            ],
            "text/html": [
              "\n",
              "  <div id=\"df-dc562c0a-f3ed-4796-a2be-4ab3028950b3\">\n",
              "    <div class=\"colab-df-container\">\n",
              "      <div>\n",
              "<style scoped>\n",
              "    .dataframe tbody tr th:only-of-type {\n",
              "        vertical-align: middle;\n",
              "    }\n",
              "\n",
              "    .dataframe tbody tr th {\n",
              "        vertical-align: top;\n",
              "    }\n",
              "\n",
              "    .dataframe thead th {\n",
              "        text-align: right;\n",
              "    }\n",
              "</style>\n",
              "<table border=\"1\" class=\"dataframe\">\n",
              "  <thead>\n",
              "    <tr style=\"text-align: right;\">\n",
              "      <th>col_0</th>\n",
              "      <th>count</th>\n",
              "    </tr>\n",
              "    <tr>\n",
              "      <th>Denominación.1</th>\n",
              "      <th></th>\n",
              "    </tr>\n",
              "  </thead>\n",
              "  <tbody>\n",
              "    <tr>\n",
              "      <th>601-V1 TUB DE 601-V A 735-L1 (TN-40102)</th>\n",
              "      <td>2</td>\n",
              "    </tr>\n",
              "    <tr>\n",
              "      <th>601-V2 TUB DE 601-V A 735-L2 (TN-40105)</th>\n",
              "      <td>2</td>\n",
              "    </tr>\n",
              "    <tr>\n",
              "      <th>633-J - COMPRESOR ENFFRIAMIENTO EXTERNO</th>\n",
              "      <td>1</td>\n",
              "    </tr>\n",
              "    <tr>\n",
              "      <th>701-V1 TUB DE 735-L1 A 736-L1 (TN-40103)</th>\n",
              "      <td>1</td>\n",
              "    </tr>\n",
              "    <tr>\n",
              "      <th>702-V1 TUB DE 736-L1 A 754-F (TN-40104)</th>\n",
              "      <td>1</td>\n",
              "    </tr>\n",
              "    <tr>\n",
              "      <th>...</th>\n",
              "      <td>...</td>\n",
              "    </tr>\n",
              "    <tr>\n",
              "      <th>WALKING BEAM</th>\n",
              "      <td>14</td>\n",
              "    </tr>\n",
              "    <tr>\n",
              "      <th>ZONA DE ENFRIAMIENTO</th>\n",
              "      <td>3</td>\n",
              "    </tr>\n",
              "    <tr>\n",
              "      <th>ZONA DE ENTRADA</th>\n",
              "      <td>1</td>\n",
              "    </tr>\n",
              "    <tr>\n",
              "      <th>ZONA ENFRIAMIENTO</th>\n",
              "      <td>3</td>\n",
              "    </tr>\n",
              "    <tr>\n",
              "      <th>ZONA MUERTA</th>\n",
              "      <td>3</td>\n",
              "    </tr>\n",
              "  </tbody>\n",
              "</table>\n",
              "<p>2007 rows × 1 columns</p>\n",
              "</div>\n",
              "      <button class=\"colab-df-convert\" onclick=\"convertToInteractive('df-dc562c0a-f3ed-4796-a2be-4ab3028950b3')\"\n",
              "              title=\"Convert this dataframe to an interactive table.\"\n",
              "              style=\"display:none;\">\n",
              "        \n",
              "  <svg xmlns=\"http://www.w3.org/2000/svg\" height=\"24px\"viewBox=\"0 0 24 24\"\n",
              "       width=\"24px\">\n",
              "    <path d=\"M0 0h24v24H0V0z\" fill=\"none\"/>\n",
              "    <path d=\"M18.56 5.44l.94 2.06.94-2.06 2.06-.94-2.06-.94-.94-2.06-.94 2.06-2.06.94zm-11 1L8.5 8.5l.94-2.06 2.06-.94-2.06-.94L8.5 2.5l-.94 2.06-2.06.94zm10 10l.94 2.06.94-2.06 2.06-.94-2.06-.94-.94-2.06-.94 2.06-2.06.94z\"/><path d=\"M17.41 7.96l-1.37-1.37c-.4-.4-.92-.59-1.43-.59-.52 0-1.04.2-1.43.59L10.3 9.45l-7.72 7.72c-.78.78-.78 2.05 0 2.83L4 21.41c.39.39.9.59 1.41.59.51 0 1.02-.2 1.41-.59l7.78-7.78 2.81-2.81c.8-.78.8-2.07 0-2.86zM5.41 20L4 18.59l7.72-7.72 1.47 1.35L5.41 20z\"/>\n",
              "  </svg>\n",
              "      </button>\n",
              "      \n",
              "  <style>\n",
              "    .colab-df-container {\n",
              "      display:flex;\n",
              "      flex-wrap:wrap;\n",
              "      gap: 12px;\n",
              "    }\n",
              "\n",
              "    .colab-df-convert {\n",
              "      background-color: #E8F0FE;\n",
              "      border: none;\n",
              "      border-radius: 50%;\n",
              "      cursor: pointer;\n",
              "      display: none;\n",
              "      fill: #1967D2;\n",
              "      height: 32px;\n",
              "      padding: 0 0 0 0;\n",
              "      width: 32px;\n",
              "    }\n",
              "\n",
              "    .colab-df-convert:hover {\n",
              "      background-color: #E2EBFA;\n",
              "      box-shadow: 0px 1px 2px rgba(60, 64, 67, 0.3), 0px 1px 3px 1px rgba(60, 64, 67, 0.15);\n",
              "      fill: #174EA6;\n",
              "    }\n",
              "\n",
              "    [theme=dark] .colab-df-convert {\n",
              "      background-color: #3B4455;\n",
              "      fill: #D2E3FC;\n",
              "    }\n",
              "\n",
              "    [theme=dark] .colab-df-convert:hover {\n",
              "      background-color: #434B5C;\n",
              "      box-shadow: 0px 1px 3px 1px rgba(0, 0, 0, 0.15);\n",
              "      filter: drop-shadow(0px 1px 2px rgba(0, 0, 0, 0.3));\n",
              "      fill: #FFFFFF;\n",
              "    }\n",
              "  </style>\n",
              "\n",
              "      <script>\n",
              "        const buttonEl =\n",
              "          document.querySelector('#df-dc562c0a-f3ed-4796-a2be-4ab3028950b3 button.colab-df-convert');\n",
              "        buttonEl.style.display =\n",
              "          google.colab.kernel.accessAllowed ? 'block' : 'none';\n",
              "\n",
              "        async function convertToInteractive(key) {\n",
              "          const element = document.querySelector('#df-dc562c0a-f3ed-4796-a2be-4ab3028950b3');\n",
              "          const dataTable =\n",
              "            await google.colab.kernel.invokeFunction('convertToInteractive',\n",
              "                                                     [key], {});\n",
              "          if (!dataTable) return;\n",
              "\n",
              "          const docLinkHtml = 'Like what you see? Visit the ' +\n",
              "            '<a target=\"_blank\" href=https://colab.research.google.com/notebooks/data_table.ipynb>data table notebook</a>'\n",
              "            + ' to learn more about interactive tables.';\n",
              "          element.innerHTML = '';\n",
              "          dataTable['output_type'] = 'display_data';\n",
              "          await google.colab.output.renderOutput(dataTable, element);\n",
              "          const docLink = document.createElement('div');\n",
              "          docLink.innerHTML = docLinkHtml;\n",
              "          element.appendChild(docLink);\n",
              "        }\n",
              "      </script>\n",
              "    </div>\n",
              "  </div>\n",
              "  "
            ]
          },
          "metadata": {},
          "execution_count": 36
        }
      ],
      "source": [
        "# Denominación.1\n",
        "pd.crosstab(index=df[\"Denominación.1\"], columns='count')"
      ]
    },
    {
      "cell_type": "code",
      "execution_count": 37,
      "metadata": {
        "colab": {
          "base_uri": "https://localhost:8080/",
          "height": 112
        },
        "id": "PDN0mKYJqHdt",
        "outputId": "e4e61f50-753f-498a-ad40-7695af762870"
      },
      "outputs": [
        {
          "output_type": "execute_result",
          "data": {
            "text/plain": [
              "col_0   count\n",
              "Parada       \n",
              "X       38486"
            ],
            "text/html": [
              "\n",
              "  <div id=\"df-caa3312d-7fcf-47a4-b59b-c5279e415e0a\">\n",
              "    <div class=\"colab-df-container\">\n",
              "      <div>\n",
              "<style scoped>\n",
              "    .dataframe tbody tr th:only-of-type {\n",
              "        vertical-align: middle;\n",
              "    }\n",
              "\n",
              "    .dataframe tbody tr th {\n",
              "        vertical-align: top;\n",
              "    }\n",
              "\n",
              "    .dataframe thead th {\n",
              "        text-align: right;\n",
              "    }\n",
              "</style>\n",
              "<table border=\"1\" class=\"dataframe\">\n",
              "  <thead>\n",
              "    <tr style=\"text-align: right;\">\n",
              "      <th>col_0</th>\n",
              "      <th>count</th>\n",
              "    </tr>\n",
              "    <tr>\n",
              "      <th>Parada</th>\n",
              "      <th></th>\n",
              "    </tr>\n",
              "  </thead>\n",
              "  <tbody>\n",
              "    <tr>\n",
              "      <th>X</th>\n",
              "      <td>38486</td>\n",
              "    </tr>\n",
              "  </tbody>\n",
              "</table>\n",
              "</div>\n",
              "      <button class=\"colab-df-convert\" onclick=\"convertToInteractive('df-caa3312d-7fcf-47a4-b59b-c5279e415e0a')\"\n",
              "              title=\"Convert this dataframe to an interactive table.\"\n",
              "              style=\"display:none;\">\n",
              "        \n",
              "  <svg xmlns=\"http://www.w3.org/2000/svg\" height=\"24px\"viewBox=\"0 0 24 24\"\n",
              "       width=\"24px\">\n",
              "    <path d=\"M0 0h24v24H0V0z\" fill=\"none\"/>\n",
              "    <path d=\"M18.56 5.44l.94 2.06.94-2.06 2.06-.94-2.06-.94-.94-2.06-.94 2.06-2.06.94zm-11 1L8.5 8.5l.94-2.06 2.06-.94-2.06-.94L8.5 2.5l-.94 2.06-2.06.94zm10 10l.94 2.06.94-2.06 2.06-.94-2.06-.94-.94-2.06-.94 2.06-2.06.94z\"/><path d=\"M17.41 7.96l-1.37-1.37c-.4-.4-.92-.59-1.43-.59-.52 0-1.04.2-1.43.59L10.3 9.45l-7.72 7.72c-.78.78-.78 2.05 0 2.83L4 21.41c.39.39.9.59 1.41.59.51 0 1.02-.2 1.41-.59l7.78-7.78 2.81-2.81c.8-.78.8-2.07 0-2.86zM5.41 20L4 18.59l7.72-7.72 1.47 1.35L5.41 20z\"/>\n",
              "  </svg>\n",
              "      </button>\n",
              "      \n",
              "  <style>\n",
              "    .colab-df-container {\n",
              "      display:flex;\n",
              "      flex-wrap:wrap;\n",
              "      gap: 12px;\n",
              "    }\n",
              "\n",
              "    .colab-df-convert {\n",
              "      background-color: #E8F0FE;\n",
              "      border: none;\n",
              "      border-radius: 50%;\n",
              "      cursor: pointer;\n",
              "      display: none;\n",
              "      fill: #1967D2;\n",
              "      height: 32px;\n",
              "      padding: 0 0 0 0;\n",
              "      width: 32px;\n",
              "    }\n",
              "\n",
              "    .colab-df-convert:hover {\n",
              "      background-color: #E2EBFA;\n",
              "      box-shadow: 0px 1px 2px rgba(60, 64, 67, 0.3), 0px 1px 3px 1px rgba(60, 64, 67, 0.15);\n",
              "      fill: #174EA6;\n",
              "    }\n",
              "\n",
              "    [theme=dark] .colab-df-convert {\n",
              "      background-color: #3B4455;\n",
              "      fill: #D2E3FC;\n",
              "    }\n",
              "\n",
              "    [theme=dark] .colab-df-convert:hover {\n",
              "      background-color: #434B5C;\n",
              "      box-shadow: 0px 1px 3px 1px rgba(0, 0, 0, 0.15);\n",
              "      filter: drop-shadow(0px 1px 2px rgba(0, 0, 0, 0.3));\n",
              "      fill: #FFFFFF;\n",
              "    }\n",
              "  </style>\n",
              "\n",
              "      <script>\n",
              "        const buttonEl =\n",
              "          document.querySelector('#df-caa3312d-7fcf-47a4-b59b-c5279e415e0a button.colab-df-convert');\n",
              "        buttonEl.style.display =\n",
              "          google.colab.kernel.accessAllowed ? 'block' : 'none';\n",
              "\n",
              "        async function convertToInteractive(key) {\n",
              "          const element = document.querySelector('#df-caa3312d-7fcf-47a4-b59b-c5279e415e0a');\n",
              "          const dataTable =\n",
              "            await google.colab.kernel.invokeFunction('convertToInteractive',\n",
              "                                                     [key], {});\n",
              "          if (!dataTable) return;\n",
              "\n",
              "          const docLinkHtml = 'Like what you see? Visit the ' +\n",
              "            '<a target=\"_blank\" href=https://colab.research.google.com/notebooks/data_table.ipynb>data table notebook</a>'\n",
              "            + ' to learn more about interactive tables.';\n",
              "          element.innerHTML = '';\n",
              "          dataTable['output_type'] = 'display_data';\n",
              "          await google.colab.output.renderOutput(dataTable, element);\n",
              "          const docLink = document.createElement('div');\n",
              "          docLink.innerHTML = docLinkHtml;\n",
              "          element.appendChild(docLink);\n",
              "        }\n",
              "      </script>\n",
              "    </div>\n",
              "  </div>\n",
              "  "
            ]
          },
          "metadata": {},
          "execution_count": 37
        }
      ],
      "source": [
        "# Parada\n",
        "pd.crosstab(index=df[\"Parada\"], columns='count')"
      ]
    },
    {
      "cell_type": "code",
      "execution_count": 38,
      "metadata": {
        "colab": {
          "base_uri": "https://localhost:8080/",
          "height": 455
        },
        "id": "mKpxB__qqIVS",
        "outputId": "fa061eb4-0b85-481d-a903-2705fb49f6fc"
      },
      "outputs": [
        {
          "output_type": "execute_result",
          "data": {
            "text/plain": [
              "col_0            count\n",
              "Duración parada       \n",
              "0.00             26277\n",
              "0.01                32\n",
              "0.02                45\n",
              "0.03               671\n",
              "0.04              2444\n",
              "...                ...\n",
              "6944.50              1\n",
              "6967.50              1\n",
              "6968.00              1\n",
              "6968.50              1\n",
              "6991.50              1\n",
              "\n",
              "[565 rows x 1 columns]"
            ],
            "text/html": [
              "\n",
              "  <div id=\"df-9c1a5935-8651-4706-99ae-674b0cdf4d85\">\n",
              "    <div class=\"colab-df-container\">\n",
              "      <div>\n",
              "<style scoped>\n",
              "    .dataframe tbody tr th:only-of-type {\n",
              "        vertical-align: middle;\n",
              "    }\n",
              "\n",
              "    .dataframe tbody tr th {\n",
              "        vertical-align: top;\n",
              "    }\n",
              "\n",
              "    .dataframe thead th {\n",
              "        text-align: right;\n",
              "    }\n",
              "</style>\n",
              "<table border=\"1\" class=\"dataframe\">\n",
              "  <thead>\n",
              "    <tr style=\"text-align: right;\">\n",
              "      <th>col_0</th>\n",
              "      <th>count</th>\n",
              "    </tr>\n",
              "    <tr>\n",
              "      <th>Duración parada</th>\n",
              "      <th></th>\n",
              "    </tr>\n",
              "  </thead>\n",
              "  <tbody>\n",
              "    <tr>\n",
              "      <th>0.00</th>\n",
              "      <td>26277</td>\n",
              "    </tr>\n",
              "    <tr>\n",
              "      <th>0.01</th>\n",
              "      <td>32</td>\n",
              "    </tr>\n",
              "    <tr>\n",
              "      <th>0.02</th>\n",
              "      <td>45</td>\n",
              "    </tr>\n",
              "    <tr>\n",
              "      <th>0.03</th>\n",
              "      <td>671</td>\n",
              "    </tr>\n",
              "    <tr>\n",
              "      <th>0.04</th>\n",
              "      <td>2444</td>\n",
              "    </tr>\n",
              "    <tr>\n",
              "      <th>...</th>\n",
              "      <td>...</td>\n",
              "    </tr>\n",
              "    <tr>\n",
              "      <th>6944.50</th>\n",
              "      <td>1</td>\n",
              "    </tr>\n",
              "    <tr>\n",
              "      <th>6967.50</th>\n",
              "      <td>1</td>\n",
              "    </tr>\n",
              "    <tr>\n",
              "      <th>6968.00</th>\n",
              "      <td>1</td>\n",
              "    </tr>\n",
              "    <tr>\n",
              "      <th>6968.50</th>\n",
              "      <td>1</td>\n",
              "    </tr>\n",
              "    <tr>\n",
              "      <th>6991.50</th>\n",
              "      <td>1</td>\n",
              "    </tr>\n",
              "  </tbody>\n",
              "</table>\n",
              "<p>565 rows × 1 columns</p>\n",
              "</div>\n",
              "      <button class=\"colab-df-convert\" onclick=\"convertToInteractive('df-9c1a5935-8651-4706-99ae-674b0cdf4d85')\"\n",
              "              title=\"Convert this dataframe to an interactive table.\"\n",
              "              style=\"display:none;\">\n",
              "        \n",
              "  <svg xmlns=\"http://www.w3.org/2000/svg\" height=\"24px\"viewBox=\"0 0 24 24\"\n",
              "       width=\"24px\">\n",
              "    <path d=\"M0 0h24v24H0V0z\" fill=\"none\"/>\n",
              "    <path d=\"M18.56 5.44l.94 2.06.94-2.06 2.06-.94-2.06-.94-.94-2.06-.94 2.06-2.06.94zm-11 1L8.5 8.5l.94-2.06 2.06-.94-2.06-.94L8.5 2.5l-.94 2.06-2.06.94zm10 10l.94 2.06.94-2.06 2.06-.94-2.06-.94-.94-2.06-.94 2.06-2.06.94z\"/><path d=\"M17.41 7.96l-1.37-1.37c-.4-.4-.92-.59-1.43-.59-.52 0-1.04.2-1.43.59L10.3 9.45l-7.72 7.72c-.78.78-.78 2.05 0 2.83L4 21.41c.39.39.9.59 1.41.59.51 0 1.02-.2 1.41-.59l7.78-7.78 2.81-2.81c.8-.78.8-2.07 0-2.86zM5.41 20L4 18.59l7.72-7.72 1.47 1.35L5.41 20z\"/>\n",
              "  </svg>\n",
              "      </button>\n",
              "      \n",
              "  <style>\n",
              "    .colab-df-container {\n",
              "      display:flex;\n",
              "      flex-wrap:wrap;\n",
              "      gap: 12px;\n",
              "    }\n",
              "\n",
              "    .colab-df-convert {\n",
              "      background-color: #E8F0FE;\n",
              "      border: none;\n",
              "      border-radius: 50%;\n",
              "      cursor: pointer;\n",
              "      display: none;\n",
              "      fill: #1967D2;\n",
              "      height: 32px;\n",
              "      padding: 0 0 0 0;\n",
              "      width: 32px;\n",
              "    }\n",
              "\n",
              "    .colab-df-convert:hover {\n",
              "      background-color: #E2EBFA;\n",
              "      box-shadow: 0px 1px 2px rgba(60, 64, 67, 0.3), 0px 1px 3px 1px rgba(60, 64, 67, 0.15);\n",
              "      fill: #174EA6;\n",
              "    }\n",
              "\n",
              "    [theme=dark] .colab-df-convert {\n",
              "      background-color: #3B4455;\n",
              "      fill: #D2E3FC;\n",
              "    }\n",
              "\n",
              "    [theme=dark] .colab-df-convert:hover {\n",
              "      background-color: #434B5C;\n",
              "      box-shadow: 0px 1px 3px 1px rgba(0, 0, 0, 0.15);\n",
              "      filter: drop-shadow(0px 1px 2px rgba(0, 0, 0, 0.3));\n",
              "      fill: #FFFFFF;\n",
              "    }\n",
              "  </style>\n",
              "\n",
              "      <script>\n",
              "        const buttonEl =\n",
              "          document.querySelector('#df-9c1a5935-8651-4706-99ae-674b0cdf4d85 button.colab-df-convert');\n",
              "        buttonEl.style.display =\n",
              "          google.colab.kernel.accessAllowed ? 'block' : 'none';\n",
              "\n",
              "        async function convertToInteractive(key) {\n",
              "          const element = document.querySelector('#df-9c1a5935-8651-4706-99ae-674b0cdf4d85');\n",
              "          const dataTable =\n",
              "            await google.colab.kernel.invokeFunction('convertToInteractive',\n",
              "                                                     [key], {});\n",
              "          if (!dataTable) return;\n",
              "\n",
              "          const docLinkHtml = 'Like what you see? Visit the ' +\n",
              "            '<a target=\"_blank\" href=https://colab.research.google.com/notebooks/data_table.ipynb>data table notebook</a>'\n",
              "            + ' to learn more about interactive tables.';\n",
              "          element.innerHTML = '';\n",
              "          dataTable['output_type'] = 'display_data';\n",
              "          await google.colab.output.renderOutput(dataTable, element);\n",
              "          const docLink = document.createElement('div');\n",
              "          docLink.innerHTML = docLinkHtml;\n",
              "          element.appendChild(docLink);\n",
              "        }\n",
              "      </script>\n",
              "    </div>\n",
              "  </div>\n",
              "  "
            ]
          },
          "metadata": {},
          "execution_count": 38
        }
      ],
      "source": [
        "# Duración parada\n",
        "pd.crosstab(index=df[\"Duración parada\"], columns='count')"
      ]
    },
    {
      "cell_type": "markdown",
      "metadata": {
        "id": "G4YEqkPHzXVV"
      },
      "source": [
        "Las anteriores variables a las cuales se sacó la frecuencia de los valores permite obtener información extra a la hora de revisar un aviso en específico de la empresa Ternium, pero de acuerdo con las misma palabras de la empresa Ternium no son relevantes en el proyecto de Ciencia de Datos que se esta realizando actualmente."
      ]
    },
    {
      "cell_type": "code",
      "execution_count": 39,
      "metadata": {
        "colab": {
          "base_uri": "https://localhost:8080/",
          "height": 455
        },
        "id": "XW3DQYFvq_xP",
        "outputId": "dac7c8c1-b419-4ffa-9615-6571cd214851"
      },
      "outputs": [
        {
          "output_type": "execute_result",
          "data": {
            "text/plain": [
              "col_0          count\n",
              "Inicio avería       \n",
              "1/1/2021          44\n",
              "1/1/2022          35\n",
              "1/1/2023          55\n",
              "1/10/2021         46\n",
              "1/10/2022         70\n",
              "...              ...\n",
              "9/7/2022          85\n",
              "9/8/2021          76\n",
              "9/8/2022         106\n",
              "9/9/2021          82\n",
              "9/9/2022         113\n",
              "\n",
              "[750 rows x 1 columns]"
            ],
            "text/html": [
              "\n",
              "  <div id=\"df-afe059dd-86a3-4357-ae74-b63373554819\">\n",
              "    <div class=\"colab-df-container\">\n",
              "      <div>\n",
              "<style scoped>\n",
              "    .dataframe tbody tr th:only-of-type {\n",
              "        vertical-align: middle;\n",
              "    }\n",
              "\n",
              "    .dataframe tbody tr th {\n",
              "        vertical-align: top;\n",
              "    }\n",
              "\n",
              "    .dataframe thead th {\n",
              "        text-align: right;\n",
              "    }\n",
              "</style>\n",
              "<table border=\"1\" class=\"dataframe\">\n",
              "  <thead>\n",
              "    <tr style=\"text-align: right;\">\n",
              "      <th>col_0</th>\n",
              "      <th>count</th>\n",
              "    </tr>\n",
              "    <tr>\n",
              "      <th>Inicio avería</th>\n",
              "      <th></th>\n",
              "    </tr>\n",
              "  </thead>\n",
              "  <tbody>\n",
              "    <tr>\n",
              "      <th>1/1/2021</th>\n",
              "      <td>44</td>\n",
              "    </tr>\n",
              "    <tr>\n",
              "      <th>1/1/2022</th>\n",
              "      <td>35</td>\n",
              "    </tr>\n",
              "    <tr>\n",
              "      <th>1/1/2023</th>\n",
              "      <td>55</td>\n",
              "    </tr>\n",
              "    <tr>\n",
              "      <th>1/10/2021</th>\n",
              "      <td>46</td>\n",
              "    </tr>\n",
              "    <tr>\n",
              "      <th>1/10/2022</th>\n",
              "      <td>70</td>\n",
              "    </tr>\n",
              "    <tr>\n",
              "      <th>...</th>\n",
              "      <td>...</td>\n",
              "    </tr>\n",
              "    <tr>\n",
              "      <th>9/7/2022</th>\n",
              "      <td>85</td>\n",
              "    </tr>\n",
              "    <tr>\n",
              "      <th>9/8/2021</th>\n",
              "      <td>76</td>\n",
              "    </tr>\n",
              "    <tr>\n",
              "      <th>9/8/2022</th>\n",
              "      <td>106</td>\n",
              "    </tr>\n",
              "    <tr>\n",
              "      <th>9/9/2021</th>\n",
              "      <td>82</td>\n",
              "    </tr>\n",
              "    <tr>\n",
              "      <th>9/9/2022</th>\n",
              "      <td>113</td>\n",
              "    </tr>\n",
              "  </tbody>\n",
              "</table>\n",
              "<p>750 rows × 1 columns</p>\n",
              "</div>\n",
              "      <button class=\"colab-df-convert\" onclick=\"convertToInteractive('df-afe059dd-86a3-4357-ae74-b63373554819')\"\n",
              "              title=\"Convert this dataframe to an interactive table.\"\n",
              "              style=\"display:none;\">\n",
              "        \n",
              "  <svg xmlns=\"http://www.w3.org/2000/svg\" height=\"24px\"viewBox=\"0 0 24 24\"\n",
              "       width=\"24px\">\n",
              "    <path d=\"M0 0h24v24H0V0z\" fill=\"none\"/>\n",
              "    <path d=\"M18.56 5.44l.94 2.06.94-2.06 2.06-.94-2.06-.94-.94-2.06-.94 2.06-2.06.94zm-11 1L8.5 8.5l.94-2.06 2.06-.94-2.06-.94L8.5 2.5l-.94 2.06-2.06.94zm10 10l.94 2.06.94-2.06 2.06-.94-2.06-.94-.94-2.06-.94 2.06-2.06.94z\"/><path d=\"M17.41 7.96l-1.37-1.37c-.4-.4-.92-.59-1.43-.59-.52 0-1.04.2-1.43.59L10.3 9.45l-7.72 7.72c-.78.78-.78 2.05 0 2.83L4 21.41c.39.39.9.59 1.41.59.51 0 1.02-.2 1.41-.59l7.78-7.78 2.81-2.81c.8-.78.8-2.07 0-2.86zM5.41 20L4 18.59l7.72-7.72 1.47 1.35L5.41 20z\"/>\n",
              "  </svg>\n",
              "      </button>\n",
              "      \n",
              "  <style>\n",
              "    .colab-df-container {\n",
              "      display:flex;\n",
              "      flex-wrap:wrap;\n",
              "      gap: 12px;\n",
              "    }\n",
              "\n",
              "    .colab-df-convert {\n",
              "      background-color: #E8F0FE;\n",
              "      border: none;\n",
              "      border-radius: 50%;\n",
              "      cursor: pointer;\n",
              "      display: none;\n",
              "      fill: #1967D2;\n",
              "      height: 32px;\n",
              "      padding: 0 0 0 0;\n",
              "      width: 32px;\n",
              "    }\n",
              "\n",
              "    .colab-df-convert:hover {\n",
              "      background-color: #E2EBFA;\n",
              "      box-shadow: 0px 1px 2px rgba(60, 64, 67, 0.3), 0px 1px 3px 1px rgba(60, 64, 67, 0.15);\n",
              "      fill: #174EA6;\n",
              "    }\n",
              "\n",
              "    [theme=dark] .colab-df-convert {\n",
              "      background-color: #3B4455;\n",
              "      fill: #D2E3FC;\n",
              "    }\n",
              "\n",
              "    [theme=dark] .colab-df-convert:hover {\n",
              "      background-color: #434B5C;\n",
              "      box-shadow: 0px 1px 3px 1px rgba(0, 0, 0, 0.15);\n",
              "      filter: drop-shadow(0px 1px 2px rgba(0, 0, 0, 0.3));\n",
              "      fill: #FFFFFF;\n",
              "    }\n",
              "  </style>\n",
              "\n",
              "      <script>\n",
              "        const buttonEl =\n",
              "          document.querySelector('#df-afe059dd-86a3-4357-ae74-b63373554819 button.colab-df-convert');\n",
              "        buttonEl.style.display =\n",
              "          google.colab.kernel.accessAllowed ? 'block' : 'none';\n",
              "\n",
              "        async function convertToInteractive(key) {\n",
              "          const element = document.querySelector('#df-afe059dd-86a3-4357-ae74-b63373554819');\n",
              "          const dataTable =\n",
              "            await google.colab.kernel.invokeFunction('convertToInteractive',\n",
              "                                                     [key], {});\n",
              "          if (!dataTable) return;\n",
              "\n",
              "          const docLinkHtml = 'Like what you see? Visit the ' +\n",
              "            '<a target=\"_blank\" href=https://colab.research.google.com/notebooks/data_table.ipynb>data table notebook</a>'\n",
              "            + ' to learn more about interactive tables.';\n",
              "          element.innerHTML = '';\n",
              "          dataTable['output_type'] = 'display_data';\n",
              "          await google.colab.output.renderOutput(dataTable, element);\n",
              "          const docLink = document.createElement('div');\n",
              "          docLink.innerHTML = docLinkHtml;\n",
              "          element.appendChild(docLink);\n",
              "        }\n",
              "      </script>\n",
              "    </div>\n",
              "  </div>\n",
              "  "
            ]
          },
          "metadata": {},
          "execution_count": 39
        }
      ],
      "source": [
        "# Inicio avería\n",
        "pd.crosstab(index=df[\"Inicio avería\"], columns='count')"
      ]
    },
    {
      "cell_type": "markdown",
      "metadata": {
        "id": "v1GehUnszvMp"
      },
      "source": [
        "A pesar que no se nos mencionó relevancia alguna sobre la variable Inicio avería se trabajará con el de forma que se le pueda proporcionar información adicional a la empresa Ternium sobre el incremento o decremento de la cantidad de avisos en el transcurso del tiempo."
      ]
    },
    {
      "cell_type": "markdown",
      "metadata": {
        "id": "ask_ROZG14-z"
      },
      "source": [
        "##### Moda"
      ]
    },
    {
      "cell_type": "markdown",
      "metadata": {
        "id": "RaHw9hwS17Bv"
      },
      "source": [
        "A continuación se obtendrá la moda de cada una de las variables de data frame, es decir, qué variable es la que más se repite, de forma que nos ayude a detectar cierto comportamiento en nuestra base de datos."
      ]
    },
    {
      "cell_type": "code",
      "execution_count": 40,
      "metadata": {
        "colab": {
          "base_uri": "https://localhost:8080/",
          "height": 0
        },
        "id": "3YkBeEFl2INO",
        "outputId": "6cb366df-799c-4b3a-8cff-f421f524f142"
      },
      "outputs": [
        {
          "output_type": "stream",
          "name": "stdout",
          "text": [
            "0    ATORON OPERATIVO\n",
            "Name: Descripción, dtype: object\n"
          ]
        }
      ],
      "source": [
        "# Descripción\n",
        "print(df[\"Descripción\"].mode()) # la función mode nos saca la moda de la variable asignada"
      ]
    },
    {
      "cell_type": "code",
      "execution_count": 41,
      "metadata": {
        "colab": {
          "base_uri": "https://localhost:8080/",
          "height": 0
        },
        "id": "yUV76laE4PaK",
        "outputId": "eadefa21-50fc-4363-af35-f66d1717dcd1"
      },
      "outputs": [
        {
          "output_type": "stream",
          "name": "stdout",
          "text": [
            "0    VINCULOS\n",
            "Name: Qué pasó?, dtype: object\n"
          ]
        }
      ],
      "source": [
        "#Qué pasó?\n",
        "print(df[\"Qué pasó?\"].mode())   "
      ]
    },
    {
      "cell_type": "code",
      "execution_count": 42,
      "metadata": {
        "colab": {
          "base_uri": "https://localhost:8080/",
          "height": 0
        },
        "id": "Vm3WHgFv5DcQ",
        "outputId": "6b00e850-74a2-4aa3-ca39-5184e15de718"
      },
      "outputs": [
        {
          "output_type": "stream",
          "name": "stdout",
          "text": [
            "0    VINCULOS\n",
            "Name: Por qué pasó?, dtype: object\n"
          ]
        }
      ],
      "source": [
        "#Por qué pasó?\n",
        "print(df[\"Por qué pasó?\"].mode())   "
      ]
    },
    {
      "cell_type": "code",
      "execution_count": 43,
      "metadata": {
        "colab": {
          "base_uri": "https://localhost:8080/",
          "height": 0
        },
        "id": "gcPiqVB75DTT",
        "outputId": "f25f4779-d184-425c-cd1c-58365fea2c81"
      },
      "outputs": [
        {
          "output_type": "stream",
          "name": "stdout",
          "text": [
            "0    VINCULOS\n",
            "Name: Qué se hizo?, dtype: object\n"
          ]
        }
      ],
      "source": [
        "#Qué se hizo?\n",
        "print(df[\"Qué se hizo?\"].mode())   "
      ]
    },
    {
      "cell_type": "code",
      "execution_count": 44,
      "metadata": {
        "colab": {
          "base_uri": "https://localhost:8080/",
          "height": 0
        },
        "id": "W7bRqBtU5DJ7",
        "outputId": "b1e5e055-1510-48c4-feb3-01fd8e5f2e95"
      },
      "outputs": [
        {
          "output_type": "stream",
          "name": "stdout",
          "text": [
            "0    Automático por defecto\n",
            "Name: Parte Objeto, dtype: object\n"
          ]
        }
      ],
      "source": [
        "#Parte Objeto\n",
        "print(df[\"Parte Objeto\"].mode())   "
      ]
    },
    {
      "cell_type": "code",
      "execution_count": 45,
      "metadata": {
        "colab": {
          "base_uri": "https://localhost:8080/",
          "height": 0
        },
        "id": "xI2Ft0zq5DAq",
        "outputId": "dfdfa031-e59e-4f8c-82e7-f27d71d54258"
      },
      "outputs": [
        {
          "output_type": "stream",
          "name": "stdout",
          "text": [
            "0    PROTECCION\n",
            "Name: Síntoma, dtype: object\n"
          ]
        }
      ],
      "source": [
        "#Síntoma\n",
        "print(df[\"Síntoma\"].mode())   "
      ]
    },
    {
      "cell_type": "code",
      "execution_count": 46,
      "metadata": {
        "colab": {
          "base_uri": "https://localhost:8080/",
          "height": 0
        },
        "id": "x6_oHYMu5C4J",
        "outputId": "a45e1af9-df87-42c7-81d2-a56529087943"
      },
      "outputs": [
        {
          "output_type": "stream",
          "name": "stdout",
          "text": [
            "0    HORNO DEMORADO\n",
            "Name: Texto Síntoma, dtype: object\n"
          ]
        }
      ],
      "source": [
        "#Texto Síntoma\n",
        "print(df[\"Texto Síntoma\"].mode())   "
      ]
    },
    {
      "cell_type": "code",
      "execution_count": 47,
      "metadata": {
        "colab": {
          "base_uri": "https://localhost:8080/",
          "height": 0
        },
        "id": "RLpHOGkg5CvE",
        "outputId": "9c08d96f-9f1f-4a89-c0a7-36ee97309f6e"
      },
      "outputs": [
        {
          "output_type": "stream",
          "name": "stdout",
          "text": [
            "0    FATIGA\n",
            "Name: Causa, dtype: object\n"
          ]
        }
      ],
      "source": [
        "#Causa\n",
        "print(df[\"Causa\"].mode())   "
      ]
    },
    {
      "cell_type": "code",
      "execution_count": 48,
      "metadata": {
        "colab": {
          "base_uri": "https://localhost:8080/",
          "height": 0
        },
        "id": "1zTmVxwL5Clt",
        "outputId": "7a5c635f-4a87-4114-d83e-d69e56644917"
      },
      "outputs": [
        {
          "output_type": "stream",
          "name": "stdout",
          "text": [
            "0    26009610.0\n",
            "Name: Equipo, dtype: float64\n"
          ]
        }
      ],
      "source": [
        "#Equipo\n",
        "print(df[\"Equipo\"].mode())   "
      ]
    },
    {
      "cell_type": "code",
      "execution_count": 49,
      "metadata": {
        "colab": {
          "base_uri": "https://localhost:8080/",
          "height": 0
        },
        "id": "O4MUkdWB5CcG",
        "outputId": "5835d463-cc7a-4419-ff81-4007e78dfc0c"
      },
      "outputs": [
        {
          "output_type": "stream",
          "name": "stdout",
          "text": [
            "0    MENTOR # 2 TRANSP ROLLOS - 15HP CA\n",
            "Name: Denominación, dtype: object\n"
          ]
        }
      ],
      "source": [
        "#Denominación\n",
        "print(df[\"Denominación\"].mode())   "
      ]
    },
    {
      "cell_type": "code",
      "execution_count": 50,
      "metadata": {
        "colab": {
          "base_uri": "https://localhost:8080/",
          "height": 0
        },
        "id": "pt7PGY_x5CR5",
        "outputId": "c8948f9e-5b0b-46ba-8f7f-0b3e560e531c"
      },
      "outputs": [
        {
          "output_type": "stream",
          "name": "stdout",
          "text": [
            "0    HM-SER-TACE-EMOV-LCOM\n",
            "Name: Ubicac.técnica, dtype: object\n"
          ]
        }
      ],
      "source": [
        "#Ubicac.técnica\n",
        "print(df[\"Ubicac.técnica\"].mode())   "
      ]
    },
    {
      "cell_type": "code",
      "execution_count": 51,
      "metadata": {
        "colab": {
          "base_uri": "https://localhost:8080/",
          "height": 0
        },
        "id": "zcnUjkNI5CH2",
        "outputId": "9e145468-936c-4b9f-ec53-c97c13cda005"
      },
      "outputs": [
        {
          "output_type": "stream",
          "name": "stdout",
          "text": [
            "0    LOCOMOTORAS\n",
            "Name: Denominación.1, dtype: object\n"
          ]
        }
      ],
      "source": [
        "#Denominación.1\n",
        "print(df[\"Denominación.1\"].mode())   "
      ]
    },
    {
      "cell_type": "code",
      "execution_count": 52,
      "metadata": {
        "colab": {
          "base_uri": "https://localhost:8080/",
          "height": 0
        },
        "id": "EjVEWGbD5B5_",
        "outputId": "b652733d-5e38-441f-8d22-24bde6ed1b8f"
      },
      "outputs": [
        {
          "output_type": "stream",
          "name": "stdout",
          "text": [
            "0    X\n",
            "Name: Parada, dtype: object\n"
          ]
        }
      ],
      "source": [
        "#Parada\n",
        "print(df[\"Parada\"].mode())   "
      ]
    },
    {
      "cell_type": "code",
      "execution_count": 53,
      "metadata": {
        "colab": {
          "base_uri": "https://localhost:8080/",
          "height": 0
        },
        "id": "l3f0loDI5Bj0",
        "outputId": "725d0978-c2d0-47c9-d002-590bf76188e5"
      },
      "outputs": [
        {
          "output_type": "stream",
          "name": "stdout",
          "text": [
            "0    0.0\n",
            "Name: Duración parada, dtype: float64\n"
          ]
        }
      ],
      "source": [
        "#Duración parada\n",
        "print(df[\"Duración parada\"].mode())   "
      ]
    },
    {
      "cell_type": "code",
      "execution_count": 54,
      "metadata": {
        "colab": {
          "base_uri": "https://localhost:8080/",
          "height": 0
        },
        "id": "2fyGuGq256z-",
        "outputId": "c577d8bf-dfe8-4d27-a013-8f925ac9c4b0"
      },
      "outputs": [
        {
          "output_type": "stream",
          "name": "stdout",
          "text": [
            "0    2/7/2021\n",
            "Name: Inicio avería, dtype: object\n"
          ]
        }
      ],
      "source": [
        "#Inicio avería\n",
        "print(df[\"Inicio avería\"].mode())   "
      ]
    },
    {
      "cell_type": "markdown",
      "metadata": {
        "id": "ov1pqhQ56BVZ"
      },
      "source": [
        "Gracias al obtener la moda de cada una de las variables se pudo observar que existe una mayor cantidad de avisos debido a \"Atorones operativos\", y al observar el data frame, una relación con el valor de vínculos dentro de las variables de entrada libre de texto como lo son las variables Qué pasó?, Por qué pasó? y Qué se hizo?. De igual manera se pudo detectar que la mayor cantidad de avisos se dio dentro de la fecha: \"2/7/2021\"."
      ]
    },
    {
      "cell_type": "markdown",
      "metadata": {
        "id": "uJzIabPV7SzV"
      },
      "source": [
        "#### Herramientas de visualización"
      ]
    },
    {
      "cell_type": "markdown",
      "metadata": {
        "id": "AXnokh1X7YPj"
      },
      "source": [
        "Gracias a que dentro de nuestra base de datos una cantidad significante de las variables cuenta con una gran cantidad de valores posibles que puedan adquirir, al ser una entrada libre de texto, o ya sea debido a la complejidad del proceso de la empresa de Ternium. Se tomó la decisión de realizar herramientas de visualización solamente para las siguientes variables:\n",
        "*   Síntoma\n",
        "*   Causa\n",
        "\n",
        "\n",
        "Esto debido a que cuentan con una menor cantidad de valores posibles que puedan adquirir, lo cual nos permitirá sustraer información de las herramientas de visualización. De igual manera, se mencionó dentro de la plática con la OSF que las variables Síntoma y Causa son una parte fundamental con el objetivo que se tiene en este Proyecto de Ciencia de Datos."
      ]
    },
    {
      "cell_type": "markdown",
      "metadata": {
        "id": "8cO8DcTf9heX"
      },
      "source": [
        "##### Gráficas de pastel"
      ]
    },
    {
      "cell_type": "markdown",
      "metadata": {
        "id": "28s_C4tII6zs"
      },
      "source": [
        "Se realizará una gráfica de pastel para obtener las causas y síntomas más repetidos. De igual forma, para obtener la duración de parada más común, así como para obtener los días en que más se presentaron avisos."
      ]
    },
    {
      "cell_type": "code",
      "execution_count": 55,
      "metadata": {
        "id": "6UHLldHpJgoo"
      },
      "outputs": [],
      "source": [
        "from matplotlib import pyplot as plt"
      ]
    },
    {
      "cell_type": "code",
      "execution_count": 56,
      "metadata": {
        "colab": {
          "base_uri": "https://localhost:8080/",
          "height": 0
        },
        "id": "UCE_ZheD_FNQ",
        "outputId": "c0e958f9-abb0-49a5-f52e-425b61e467c4"
      },
      "outputs": [
        {
          "output_type": "execute_result",
          "data": {
            "text/plain": [
              "FATIGA                           10436\n",
              "DESAJUSTE                         6719\n",
              "PROTECCION                        6617\n",
              "Automático por defecto            5569\n",
              "OTROS                             5156\n",
              "CONTAMINACION                     4552\n",
              "SOBRECARGA                        4271\n",
              "AFLOJAMIENTO                      2202\n",
              "FALLA DE COMUNICACI               2066\n",
              "DESCALIBRADO                      1818\n",
              "GOLPE                             1668\n",
              "DESALINEADO                       1461\n",
              "BAJO NIVEL ACEITE                 1365\n",
              "FALSO CONTACTO                    1233\n",
              "MALA MANIOBRA                     1092\n",
              "MAL MONTAJE                       1022\n",
              "DESCONOCIDA                        928\n",
              "FALTA DE LUBRICACIO                913\n",
              "Ursache                            762\n",
              "ALTA TEMPERATURA                   610\n",
              "FALLA DE SOFTWARE                  557\n",
              "HUMEDAD                            454\n",
              "ERROR DE PROGRAMACI                439\n",
              "LINEA ABIERTA                      428\n",
              "DESBALANCE                         394\n",
              "CORTE DE ENERGIA                   296\n",
              "Wartung                            249\n",
              "VIBRACION                          205\n",
              "Produktion / Personal              176\n",
              "FALTA DE ENFRIAMIEN                157\n",
              "Material                           126\n",
              "DESGASTE                           118\n",
              "DOS FASES                          116\n",
              "CAVITACION                          89\n",
              "MALEWARE                            71\n",
              "Produktion                          67\n",
              "MALA CIMENTACION                    51\n",
              "ACIDEZ                              42\n",
              "EXCESO DE LUBRICACI                 40\n",
              "ESCORIA ADHERIDA                    39\n",
              "Produktion / Maschine               38\n",
              "Service                             21\n",
              "Entwurf                             16\n",
              "FALTA DE TIERRA EFE                 12\n",
              "CRUZADO                             10\n",
              "MAL ARMADO                           8\n",
              "ATERRIZADO                           7\n",
              "Konstruktion                         5\n",
              "PERMISOS                             5\n",
              "Qualitätsprüfung                     4\n",
              "Lagerung                             3\n",
              "Ajeno al proveedor                   3\n",
              "BLOQUEO DE PUESRTOS                  3\n",
              "FIREWALL                             3\n",
              "No detectado por no poseer CC        2\n",
              "Produktionssteuerung                 1\n",
              "Produktionsplanung                   1\n",
              "Distribution                         1\n",
              "Beschaffung                          1\n",
              "Instandsetzung                       1\n",
              "Name: Causa, dtype: int64"
            ]
          },
          "metadata": {},
          "execution_count": 56
        }
      ],
      "source": [
        "#Se utiliza value counts para obtener una tabla de frecuencia, se tomara las primeras 4 causas y se \n",
        "#catalogarán como otros todo lo demás, a través de una suma de las demás opciones\n",
        "df['Causa'].value_counts()"
      ]
    },
    {
      "cell_type": "code",
      "execution_count": 57,
      "metadata": {
        "colab": {
          "base_uri": "https://localhost:8080/",
          "height": 281
        },
        "id": "3uVdgIRzK5wb",
        "outputId": "98a7f531-5340-4126-dda1-95c69ae221a5"
      },
      "outputs": [
        {
          "output_type": "execute_result",
          "data": {
            "text/plain": [
              "Text(0.5, 1.0, 'Causa')"
            ]
          },
          "metadata": {},
          "execution_count": 57
        },
        {
          "output_type": "display_data",
          "data": {
            "text/plain": [
              "<Figure size 432x288 with 1 Axes>"
            ],
            "image/png": "[encoded data removed]"
          },
          "metadata": {}
        }
      ],
      "source": [
        "labels = 'FATIGA', 'DESAJUSTE', 'PROTECCION','Auto defecto', 'OTROS' #Le ponemos etiqueta a la gráfica de pastel\n",
        "sizes = [10436, 6719, 6617, 5569,35378] #los tamaños\n",
        "plt.pie(sizes,labels=labels) #creamos la gráfica\n",
        "plt.title(\"Causa\")"
      ]
    },
    {
      "cell_type": "code",
      "execution_count": 58,
      "metadata": {
        "id": "7fDCwJXwVQBz"
      },
      "outputs": [],
      "source": [
        "des=df[\"Descripción\"].value_counts()"
      ]
    },
    {
      "cell_type": "code",
      "execution_count": 59,
      "metadata": {
        "colab": {
          "base_uri": "https://localhost:8080/",
          "height": 298
        },
        "id": "dqSDLKHEOt_p",
        "outputId": "2d9bf58b-5138-45ac-d89c-8e792c1cc33c"
      },
      "outputs": [
        {
          "output_type": "execute_result",
          "data": {
            "text/plain": [
              "Text(0.5, 1.0, 'Causa')"
            ]
          },
          "metadata": {},
          "execution_count": 59
        },
        {
          "output_type": "display_data",
          "data": {
            "text/plain": [
              "<Figure size 432x288 with 1 Axes>"
            ],
            "image/png": "[encoded data removed]"
          },
          "metadata": {
            "needs_background": "light"
          }
        }
      ],
      "source": [
        "plt.bar(labels,sizes) #creamos la gráfica de barras\n",
        "plt.title(\"Causa\")"
      ]
    },
    {
      "cell_type": "code",
      "execution_count": 60,
      "metadata": {
        "colab": {
          "base_uri": "https://localhost:8080/",
          "height": 0
        },
        "id": "eD-TCsxiNL7j",
        "outputId": "98fff7ce-fb4f-439d-a39d-513c60e3d93b"
      },
      "outputs": [
        {
          "output_type": "execute_result",
          "data": {
            "text/plain": [
              "PROTECCION                             9232\n",
              "ABIERTO                                8008\n",
              "AFLOJAMIENTO                           6443\n",
              "OTROS                                  5951\n",
              "Automático por defecto                 5536\n",
              "DESGASTE                               4764\n",
              "ATORADO                                4594\n",
              "FRACTURA                               2960\n",
              "FUGA                                   2359\n",
              "DESPRENDIMIENTO                        1874\n",
              "FUGAS                                  1666\n",
              "CIRCUITO ABIERTO                       1343\n",
              "DEFORMACION                            1130\n",
              "Texto explicativo p.causa              1061\n",
              "CAVITACION                              792\n",
              "SEÑAL/INDICACIÓN/ALARMA ERRÓNEA         563\n",
              "CORTO CIRCUITO                          511\n",
              "CALENTAMIENTO                           479\n",
              "POTENCIA/VOLTAJE DEFECTUOSO             466\n",
              "FALTA DE POTENCIA/VOLTAJE               446\n",
              "CORROSION                               421\n",
              "INTERFERENCIA/ALINEACION/NIVELACION     338\n",
              "VIBRACION                               316\n",
              "DESCALIBRADO                            313\n",
              "A TIERRA                                311\n",
              "BY-PASS                                 311\n",
              "ALTA TEMPERATURA                        281\n",
              "TAPADO                                  252\n",
              "SIN SEÑAL/INDICACIÓN/ALARMA             244\n",
              "FALLA DE SOFTWARE                       226\n",
              "BAJA RESISTENCIA                        215\n",
              "QUEMADO                                 202\n",
              "CHISPORROTEO                            196\n",
              "ALTA VIBRACION                          132\n",
              "GRIETA                                  124\n",
              "AMARRADO                                104\n",
              "BLOQUEADO                               104\n",
              "RUPTURA                                  99\n",
              "FALLA DE CONTROL                         99\n",
              "MALEWARE                                 70\n",
              "DESPROGRAMADO                            54\n",
              "MODO DE FALLA COMÚN                      29\n",
              "FUNDIDA                                  25\n",
              "Operativo Colombia                       22\n",
              "RAYADA                                   21\n",
              "Texto explicativo operación              13\n",
              "FUNDIDO                                  13\n",
              "PERMISOS                                  2\n",
              "BLOQUEO DE PUESRTOS                       2\n",
              "FIREWALL                                  1\n",
              "ANTIVIRUS                                 1\n",
              "Name: Síntoma, dtype: int64"
            ]
          },
          "metadata": {},
          "execution_count": 60
        }
      ],
      "source": [
        "#Se utiliza value counts para obtener una tabla de frecuencia, se tomarán los primeros 4 síntomas y se \n",
        "#catalogarán como otros todo lo demás, a través de una suma de las demás opciones\n",
        "df['Síntoma'].value_counts()"
      ]
    },
    {
      "cell_type": "code",
      "execution_count": 61,
      "metadata": {
        "colab": {
          "base_uri": "https://localhost:8080/",
          "height": 281
        },
        "id": "t1icg3cXNYy6",
        "outputId": "d313ab31-94e2-4a7c-8f8f-ce9bcb3203fb"
      },
      "outputs": [
        {
          "output_type": "execute_result",
          "data": {
            "text/plain": [
              "Text(0.5, 1.0, 'Síntoma')"
            ]
          },
          "metadata": {},
          "execution_count": 61
        },
        {
          "output_type": "display_data",
          "data": {
            "text/plain": [
              "<Figure size 432x288 with 1 Axes>"
            ],
            "image/png": "[encoded data removed]"
          },
          "metadata": {}
        }
      ],
      "source": [
        "labels = 'PROTECCION', 'ABIERTO', 'AFLOJAMIENTO','Auto defecto', 'OTROS'\n",
        "sizes = [9232, 8008, 6443, 5536, 35500]\n",
        "plt.pie(sizes,labels=labels)\n",
        "plt.title(\"Síntoma\")"
      ]
    },
    {
      "cell_type": "markdown",
      "metadata": {
        "id": "smWgRg0QPLpA"
      },
      "source": [
        "#### Calidad de los datos "
      ]
    },
    {
      "cell_type": "markdown",
      "metadata": {
        "id": "uacibi9kPWTp"
      },
      "source": [
        "La calidad de los datos es buena en cierta medida, gracias a que las variables que se tendrán en consideración para el proyecto de Ciencia de Datos cuentan como máximo con 3 valores faltantes. En cuestión de la veracidad de los valores de los datos, como bien se nos mencionó en la plática con la OSF, existen casos en que los valores que se implementan a la hora del registro de los avisos es erróneo gracias a la pereza de registrarlos correctamente. Como el propósito del proyecto de Ciencia de Datos, se enfonca en el uso de algoritmo de NLP, se utilizarán estas variables para que exista una congruencia entre las variables de Síntoma y Causa, junto con las variables libres de entrada de texto, por lo cual se considera como correctos los valores indicados en las variables libres de entrada de texto. "
      ]
    },
    {
      "cell_type": "markdown",
      "metadata": {
        "id": "TqLFEneERKVn"
      },
      "source": [
        "### **3. Preparación de los datos**"
      ]
    },
    {
      "cell_type": "markdown",
      "metadata": {
        "id": "icZtwrXIRQJo"
      },
      "source": [
        "#### Conjunto de datos a utilizar\n"
      ]
    },
    {
      "cell_type": "markdown",
      "metadata": {
        "id": "HWwVcxQIRYu6"
      },
      "source": [
        "Una vez dada la comprensión de los datos, así como el despliegue de estadística descriptiva (tablas de frecuencia, modas), así como herramientas de visualización. \\\n",
        "Se dio a la tarea de la selección de datos a utilizar en nuestro Proyecto de Ciencia de Datos. Si bien en esta fase de un proyecto de Ciencia de Datos, se pueden utilizar métodos de filtro o de wrapeo, para la selección de variables. Se nos mencionó en la plática con la OSF que de acuerdo con una investigación interna de la empresa, el conjunto de datos necesario para el proyecto son:\n",
        "\n",
        "*   Descripción\n",
        "*   Qué pasó?\n",
        "*   Por qué pasó?\n",
        "*   Qué se hizo?\n",
        "*   Sntoma\n",
        "*   Causa\n",
        "\n",
        "Por lo cual no son necesarios dichos metodos de seleccion de variables, anteriormente vistas.\n",
        "\n"
      ]
    },
    {
      "cell_type": "markdown",
      "metadata": {
        "id": "zzokKJmJS6nl"
      },
      "source": [
        "Las columnas objetivo se enfocan en:\n",
        "*   Descripción\n",
        "\n",
        "Gracias a que en base a ellas se quiere llegar a una óptima clasificación de los avisos existentes en la base de datos."
      ]
    },
    {
      "cell_type": "markdown",
      "metadata": {
        "id": "Xltk-rjI_tsp"
      },
      "source": [
        "#### **Limpieza de datos**"
      ]
    },
    {
      "cell_type": "markdown",
      "metadata": {
        "id": "OC0Ierj5B1gl"
      },
      "source": [
        "Durante esta etapa se harán modificaciones a las columnas con las que se estará trabajando en este proyecto de Ciencia de Datos. En un principio, se dará la tarea de reducir nuestro Data Frame a solamente las columnas objetivo, mencionadas por la OSF, esto para eficientizar en un futuro el sistema de Machine Learning a crear. De igual forma, se cambiarán los valores de variables a sus valores originales en minúscula, de forma que se pueda dar la aplicación de algoritmos de Machine Learning de manera mas amena."
      ]
    },
    {
      "cell_type": "code",
      "execution_count": 62,
      "metadata": {
        "colab": {
          "base_uri": "https://localhost:8080/",
          "height": 0
        },
        "id": "cecdRTCAAQ8L",
        "outputId": "3e6c05fa-a655-49be-f656-5d8b17f7cb01"
      },
      "outputs": [
        {
          "output_type": "execute_result",
          "data": {
            "text/plain": [
              "(64719, 6)"
            ]
          },
          "metadata": {},
          "execution_count": 62
        }
      ],
      "source": [
        "df2 = df[[\"Descripción\", \"Qué pasó?\",\"Por qué pasó?\", \"Qué se hizo?\", \"Síntoma\", \"Causa\"]] # se crea una nueva base de datos con los variables seleccionados\n",
        "df2.shape # vemos cuántos registros tiene, será de utilidad después"
      ]
    },
    {
      "cell_type": "code",
      "execution_count": 63,
      "metadata": {
        "colab": {
          "base_uri": "https://localhost:8080/",
          "height": 961
        },
        "id": "LLNgsm3Y_O-K",
        "outputId": "bc449b9c-d554-4be9-f974-8cefbafc3e9b"
      },
      "outputs": [
        {
          "output_type": "stream",
          "name": "stderr",
          "text": [
            "<ipython-input-63-8e3fcb10b267>:3: SettingWithCopyWarning: \n",
            "A value is trying to be set on a copy of a slice from a DataFrame.\n",
            "Try using .loc[row_indexer,col_indexer] = value instead\n",
            "\n",
            "See the caveats in the documentation: https://pandas.pydata.org/pandas-docs/stable/user_guide/indexing.html#returning-a-view-versus-a-copy\n",
            "  df2['Descripción'] = df2['Descripción'].str.lower()\n",
            "<ipython-input-63-8e3fcb10b267>:4: SettingWithCopyWarning: \n",
            "A value is trying to be set on a copy of a slice from a DataFrame.\n",
            "Try using .loc[row_indexer,col_indexer] = value instead\n",
            "\n",
            "See the caveats in the documentation: https://pandas.pydata.org/pandas-docs/stable/user_guide/indexing.html#returning-a-view-versus-a-copy\n",
            "  df2['Qué pasó?'] = df2['Qué pasó?'].str.lower()\n",
            "<ipython-input-63-8e3fcb10b267>:5: SettingWithCopyWarning: \n",
            "A value is trying to be set on a copy of a slice from a DataFrame.\n",
            "Try using .loc[row_indexer,col_indexer] = value instead\n",
            "\n",
            "See the caveats in the documentation: https://pandas.pydata.org/pandas-docs/stable/user_guide/indexing.html#returning-a-view-versus-a-copy\n",
            "  df2['Por qué pasó?'] = df2['Por qué pasó?'].str.lower()\n",
            "<ipython-input-63-8e3fcb10b267>:6: SettingWithCopyWarning: \n",
            "A value is trying to be set on a copy of a slice from a DataFrame.\n",
            "Try using .loc[row_indexer,col_indexer] = value instead\n",
            "\n",
            "See the caveats in the documentation: https://pandas.pydata.org/pandas-docs/stable/user_guide/indexing.html#returning-a-view-versus-a-copy\n",
            "  df2['Qué se hizo?'] = df2['Qué se hizo?'].str.lower()\n",
            "<ipython-input-63-8e3fcb10b267>:7: SettingWithCopyWarning: \n",
            "A value is trying to be set on a copy of a slice from a DataFrame.\n",
            "Try using .loc[row_indexer,col_indexer] = value instead\n",
            "\n",
            "See the caveats in the documentation: https://pandas.pydata.org/pandas-docs/stable/user_guide/indexing.html#returning-a-view-versus-a-copy\n",
            "  df2['Síntoma'] = df2['Síntoma'].str.lower()\n",
            "<ipython-input-63-8e3fcb10b267>:8: SettingWithCopyWarning: \n",
            "A value is trying to be set on a copy of a slice from a DataFrame.\n",
            "Try using .loc[row_indexer,col_indexer] = value instead\n",
            "\n",
            "See the caveats in the documentation: https://pandas.pydata.org/pandas-docs/stable/user_guide/indexing.html#returning-a-view-versus-a-copy\n",
            "  df2['Causa'] = df2['Causa'].str.lower()\n"
          ]
        },
        {
          "output_type": "execute_result",
          "data": {
            "text/plain": [
              "                                Descripción  \\\n",
              "0                 fuga en cilindro rotativo   \n",
              "1  se-44927-1-hh servicio de emergencia equ   \n",
              "2            cabledo de comunicacion de plc   \n",
              "3  se-48312-1-hh servicio de emergencia equ   \n",
              "4  se-48189-1-hh servicio de emergencia equ   \n",
              "\n",
              "                                           Qué pasó?  \\\n",
              "0  reporta operador fuga en cilindro rotativo de ...   \n",
              "1                                          falla plc   \n",
              "2  se pide poner cable de comunicacion a tablero ...   \n",
              "3                       fallas en plc control logics   \n",
              "4                         falla en plc control logix   \n",
              "\n",
              "                                       Por qué pasó?  \\\n",
              "0  por dañarse valvula rotativa de enrrollador ot...   \n",
              "1                                       programacion   \n",
              "2             por falta de comunicacion de plc a plc   \n",
              "3                                       programacion   \n",
              "4                                      desprogramado   \n",
              "\n",
              "                                        Qué se hizo?  \\\n",
              "0  se cambia cilindro dañado por refaccion trabaj...   \n",
              "1  se efectua servicio de cia control tech en ten...   \n",
              "2  se adaptaron gabinetes y conectores por donde ...   \n",
              "3                               se configuara logica   \n",
              "4                       se modifica programacion plc   \n",
              "\n",
              "                           Síntoma                Causa  \n",
              "0                            fugas    bajo nivel aceite  \n",
              "1  señal/indicación/alarma errónea  error de programaci  \n",
              "2                            otros                otros  \n",
              "3                    desprogramado  error de programaci  \n",
              "4                 falla de control  falla de comunicaci  "
            ],
            "text/html": [
              "\n",
              "  <div id=\"df-fb62fed6-7555-4471-9727-2557d512c8b5\">\n",
              "    <div class=\"colab-df-container\">\n",
              "      <div>\n",
              "<style scoped>\n",
              "    .dataframe tbody tr th:only-of-type {\n",
              "        vertical-align: middle;\n",
              "    }\n",
              "\n",
              "    .dataframe tbody tr th {\n",
              "        vertical-align: top;\n",
              "    }\n",
              "\n",
              "    .dataframe thead th {\n",
              "        text-align: right;\n",
              "    }\n",
              "</style>\n",
              "<table border=\"1\" class=\"dataframe\">\n",
              "  <thead>\n",
              "    <tr style=\"text-align: right;\">\n",
              "      <th></th>\n",
              "      <th>Descripción</th>\n",
              "      <th>Qué pasó?</th>\n",
              "      <th>Por qué pasó?</th>\n",
              "      <th>Qué se hizo?</th>\n",
              "      <th>Síntoma</th>\n",
              "      <th>Causa</th>\n",
              "    </tr>\n",
              "  </thead>\n",
              "  <tbody>\n",
              "    <tr>\n",
              "      <th>0</th>\n",
              "      <td>fuga en cilindro rotativo</td>\n",
              "      <td>reporta operador fuga en cilindro rotativo de ...</td>\n",
              "      <td>por dañarse valvula rotativa de enrrollador ot...</td>\n",
              "      <td>se cambia cilindro dañado por refaccion trabaj...</td>\n",
              "      <td>fugas</td>\n",
              "      <td>bajo nivel aceite</td>\n",
              "    </tr>\n",
              "    <tr>\n",
              "      <th>1</th>\n",
              "      <td>se-44927-1-hh servicio de emergencia equ</td>\n",
              "      <td>falla plc</td>\n",
              "      <td>programacion</td>\n",
              "      <td>se efectua servicio de cia control tech en ten...</td>\n",
              "      <td>señal/indicación/alarma errónea</td>\n",
              "      <td>error de programaci</td>\n",
              "    </tr>\n",
              "    <tr>\n",
              "      <th>2</th>\n",
              "      <td>cabledo de comunicacion de plc</td>\n",
              "      <td>se pide poner cable de comunicacion a tablero ...</td>\n",
              "      <td>por falta de comunicacion de plc a plc</td>\n",
              "      <td>se adaptaron gabinetes y conectores por donde ...</td>\n",
              "      <td>otros</td>\n",
              "      <td>otros</td>\n",
              "    </tr>\n",
              "    <tr>\n",
              "      <th>3</th>\n",
              "      <td>se-48312-1-hh servicio de emergencia equ</td>\n",
              "      <td>fallas en plc control logics</td>\n",
              "      <td>programacion</td>\n",
              "      <td>se configuara logica</td>\n",
              "      <td>desprogramado</td>\n",
              "      <td>error de programaci</td>\n",
              "    </tr>\n",
              "    <tr>\n",
              "      <th>4</th>\n",
              "      <td>se-48189-1-hh servicio de emergencia equ</td>\n",
              "      <td>falla en plc control logix</td>\n",
              "      <td>desprogramado</td>\n",
              "      <td>se modifica programacion plc</td>\n",
              "      <td>falla de control</td>\n",
              "      <td>falla de comunicaci</td>\n",
              "    </tr>\n",
              "  </tbody>\n",
              "</table>\n",
              "</div>\n",
              "      <button class=\"colab-df-convert\" onclick=\"convertToInteractive('df-fb62fed6-7555-4471-9727-2557d512c8b5')\"\n",
              "              title=\"Convert this dataframe to an interactive table.\"\n",
              "              style=\"display:none;\">\n",
              "        \n",
              "  <svg xmlns=\"http://www.w3.org/2000/svg\" height=\"24px\"viewBox=\"0 0 24 24\"\n",
              "       width=\"24px\">\n",
              "    <path d=\"M0 0h24v24H0V0z\" fill=\"none\"/>\n",
              "    <path d=\"M18.56 5.44l.94 2.06.94-2.06 2.06-.94-2.06-.94-.94-2.06-.94 2.06-2.06.94zm-11 1L8.5 8.5l.94-2.06 2.06-.94-2.06-.94L8.5 2.5l-.94 2.06-2.06.94zm10 10l.94 2.06.94-2.06 2.06-.94-2.06-.94-.94-2.06-.94 2.06-2.06.94z\"/><path d=\"M17.41 7.96l-1.37-1.37c-.4-.4-.92-.59-1.43-.59-.52 0-1.04.2-1.43.59L10.3 9.45l-7.72 7.72c-.78.78-.78 2.05 0 2.83L4 21.41c.39.39.9.59 1.41.59.51 0 1.02-.2 1.41-.59l7.78-7.78 2.81-2.81c.8-.78.8-2.07 0-2.86zM5.41 20L4 18.59l7.72-7.72 1.47 1.35L5.41 20z\"/>\n",
              "  </svg>\n",
              "      </button>\n",
              "      \n",
              "  <style>\n",
              "    .colab-df-container {\n",
              "      display:flex;\n",
              "      flex-wrap:wrap;\n",
              "      gap: 12px;\n",
              "    }\n",
              "\n",
              "    .colab-df-convert {\n",
              "      background-color: #E8F0FE;\n",
              "      border: none;\n",
              "      border-radius: 50%;\n",
              "      cursor: pointer;\n",
              "      display: none;\n",
              "      fill: #1967D2;\n",
              "      height: 32px;\n",
              "      padding: 0 0 0 0;\n",
              "      width: 32px;\n",
              "    }\n",
              "\n",
              "    .colab-df-convert:hover {\n",
              "      background-color: #E2EBFA;\n",
              "      box-shadow: 0px 1px 2px rgba(60, 64, 67, 0.3), 0px 1px 3px 1px rgba(60, 64, 67, 0.15);\n",
              "      fill: #174EA6;\n",
              "    }\n",
              "\n",
              "    [theme=dark] .colab-df-convert {\n",
              "      background-color: #3B4455;\n",
              "      fill: #D2E3FC;\n",
              "    }\n",
              "\n",
              "    [theme=dark] .colab-df-convert:hover {\n",
              "      background-color: #434B5C;\n",
              "      box-shadow: 0px 1px 3px 1px rgba(0, 0, 0, 0.15);\n",
              "      filter: drop-shadow(0px 1px 2px rgba(0, 0, 0, 0.3));\n",
              "      fill: #FFFFFF;\n",
              "    }\n",
              "  </style>\n",
              "\n",
              "      <script>\n",
              "        const buttonEl =\n",
              "          document.querySelector('#df-fb62fed6-7555-4471-9727-2557d512c8b5 button.colab-df-convert');\n",
              "        buttonEl.style.display =\n",
              "          google.colab.kernel.accessAllowed ? 'block' : 'none';\n",
              "\n",
              "        async function convertToInteractive(key) {\n",
              "          const element = document.querySelector('#df-fb62fed6-7555-4471-9727-2557d512c8b5');\n",
              "          const dataTable =\n",
              "            await google.colab.kernel.invokeFunction('convertToInteractive',\n",
              "                                                     [key], {});\n",
              "          if (!dataTable) return;\n",
              "\n",
              "          const docLinkHtml = 'Like what you see? Visit the ' +\n",
              "            '<a target=\"_blank\" href=https://colab.research.google.com/notebooks/data_table.ipynb>data table notebook</a>'\n",
              "            + ' to learn more about interactive tables.';\n",
              "          element.innerHTML = '';\n",
              "          dataTable['output_type'] = 'display_data';\n",
              "          await google.colab.output.renderOutput(dataTable, element);\n",
              "          const docLink = document.createElement('div');\n",
              "          docLink.innerHTML = docLinkHtml;\n",
              "          element.appendChild(docLink);\n",
              "        }\n",
              "      </script>\n",
              "    </div>\n",
              "  </div>\n",
              "  "
            ]
          },
          "metadata": {},
          "execution_count": 63
        }
      ],
      "source": [
        "#Convertir a minúscula todos los datos\n",
        "\n",
        "df2['Descripción'] = df2['Descripción'].str.lower()\n",
        "df2['Qué pasó?'] = df2['Qué pasó?'].str.lower()\n",
        "df2['Por qué pasó?'] = df2['Por qué pasó?'].str.lower()\n",
        "df2['Qué se hizo?'] = df2['Qué se hizo?'].str.lower()\n",
        "df2['Síntoma'] = df2['Síntoma'].str.lower()\n",
        "df2['Causa'] = df2['Causa'].str.lower()\n",
        "df2.head()"
      ]
    },
    {
      "cell_type": "markdown",
      "metadata": {
        "id": "4IP2iOKYEVX7"
      },
      "source": [
        "##### Valores Nulos\n"
      ]
    },
    {
      "cell_type": "markdown",
      "metadata": {
        "id": "SM8iTYGNJc8f"
      },
      "source": [
        "Primeramente, checamos si la nueva base de datos tiene valores nulos para decidir qué se va a hacer con los valores nulos, si se van a sustituir con otro dato o eliminarlos."
      ]
    },
    {
      "cell_type": "code",
      "execution_count": 64,
      "metadata": {
        "colab": {
          "base_uri": "https://localhost:8080/",
          "height": 0
        },
        "id": "C9W82-MEEaQc",
        "outputId": "baa5feae-bee3-47f7-c5ae-580018e5323e"
      },
      "outputs": [
        {
          "output_type": "execute_result",
          "data": {
            "text/plain": [
              "Descripción      1\n",
              "Qué pasó?        3\n",
              "Por qué pasó?    3\n",
              "Qué se hizo?     3\n",
              "Síntoma          0\n",
              "Causa            0\n",
              "dtype: int64"
            ]
          },
          "metadata": {},
          "execution_count": 64
        }
      ],
      "source": [
        "df2.isnull().sum() # contamos cuántos valores nulos tenemos por cada variable de la nueva base de datos"
      ]
    },
    {
      "cell_type": "markdown",
      "metadata": {
        "id": "4YfBu_7LEgsF"
      },
      "source": [
        "Observamos que los valores nulos son mínimos en las variables que seleccionamos, con un total de 10 valores nulos. En nuestro caso decidimos eliminar los registros con valores nulos, ya que como los datos se tratan de valores categóricas no se pueden sustituir por otro valor como la media. Bien es cierto que eliminar registros puede afectar negativamente nuestra base de datos, no obstante, al ser máximo 10 registros a eliminar de 64,719, es decir un porcentaje muy bajo, no afecta casi nada la base de datos."
      ]
    },
    {
      "cell_type": "code",
      "execution_count": 65,
      "metadata": {
        "colab": {
          "base_uri": "https://localhost:8080/",
          "height": 0
        },
        "id": "RFRUTqjaIerA",
        "outputId": "8c000a24-a009-4613-82fa-df25bdc0d040"
      },
      "outputs": [
        {
          "output_type": "execute_result",
          "data": {
            "text/plain": [
              "(64716, 6)"
            ]
          },
          "metadata": {},
          "execution_count": 65
        }
      ],
      "source": [
        "df2=df2.dropna() #eliminamos los registros que tengan valores nulos\n",
        "df2.shape"
      ]
    },
    {
      "cell_type": "markdown",
      "metadata": {
        "id": "LkD3ulCAJKpp"
      },
      "source": [
        "Observamos que el nuevo DataFrame sin los valores nulos es de 64,716 registros, es decir, solamente se eliminaron 3 registros por lo que es una cantidad mínima que no afectará al resultado de nuestro proyecto."
      ]
    },
    {
      "cell_type": "markdown",
      "metadata": {
        "id": "XMkB0tOp0_0o"
      },
      "source": [
        "##### Eliminando signos de puntuación y carácteres no alfanuméricos"
      ]
    },
    {
      "cell_type": "code",
      "execution_count": 66,
      "metadata": {
        "id": "TNY-x3GM2XM_"
      },
      "outputs": [],
      "source": [
        "import re\n",
        "import string"
      ]
    },
    {
      "cell_type": "markdown",
      "metadata": {
        "id": "yS7QLHBSqf1y"
      },
      "source": [
        "Quitamos los signos de puntuación y los carácteres no alfanuméricos para facilitar el entrenamiento del modelo en la siguiente etapa"
      ]
    },
    {
      "cell_type": "code",
      "execution_count": 67,
      "metadata": {
        "id": "gP7jIZCX1QvF"
      },
      "outputs": [],
      "source": [
        "def clean(palabra): #definimos la función clean para quitar puntuación y quitar characteres no alfanuméricos\n",
        "    # Poner en minúscula\n",
        "    palabra = palabra.lower()\n",
        "    \n",
        "    # Remover puntuación\n",
        "    palabra = palabra.translate(str.maketrans('', '', string.punctuation))\n",
        "    \n",
        "    # Remover characteres no alfanuméricos\n",
        "    palabra = ' '.join([''.join(filter(str.isalnum, word )) for word in palabra.split()])\n",
        "    \n",
        "    return palabra\n",
        "\n",
        "#Quitamos puntuación y characteres de cada una de las variables que tenemos\n",
        "df2[\"Descripción\"] = df2[\"Descripción\"].apply(clean)\n",
        "df2[\"Qué pasó?\"] = df2[\"Qué pasó?\"].apply(clean)\n",
        "df2[\"Por qué pasó?\"] = df2[\"Por qué pasó?\"].apply(clean)\n",
        "df2[\"Qué se hizo?\"] = df2[\"Qué se hizo?\"].apply(clean)\n",
        "df2[\"Síntoma\"] = df2[\"Síntoma\"].apply(clean)\n",
        "df2[\"Causa\"] = df2[\"Causa\"].apply(clean)"
      ]
    },
    {
      "cell_type": "markdown",
      "metadata": {
        "id": "zZRxWc2txHra"
      },
      "source": [
        "##### Eliminamos espacios principio y fin"
      ]
    },
    {
      "cell_type": "markdown",
      "metadata": {
        "id": "0aNjzfDrrJu4"
      },
      "source": [
        "Quitamos los espacios que se encuentran al principio y al final de los registros, igualmente para facilitar el entrenamiento del modelo"
      ]
    },
    {
      "cell_type": "code",
      "execution_count": 68,
      "metadata": {
        "id": "wlxC0hDYpxd0"
      },
      "outputs": [],
      "source": [
        "# Remover espacios al principio y final de registros\n",
        "def remove_spaces(string):\n",
        "    return \"\".join(string.rstrip().lstrip())\n",
        "\n",
        "df2[\"Descripción\"] = df2[\"Descripción\"].apply(remove_spaces)\n",
        "df2[\"Qué pasó?\"] = df2[\"Qué pasó?\"].apply(remove_spaces)\n",
        "df2[\"Por qué pasó?\"] = df2[\"Por qué pasó?\"].apply(remove_spaces)\n",
        "df2[\"Qué se hizo?\"] = df2[\"Qué se hizo?\"].apply(remove_spaces)\n",
        "df2[\"Síntoma\"] = df2[\"Síntoma\"].apply(remove_spaces)\n",
        "df2[\"Causa\"] = df2[\"Causa\"].apply(remove_spaces)"
      ]
    },
    {
      "cell_type": "markdown",
      "metadata": {
        "id": "V-Bhv6MOxbWz"
      },
      "source": [
        "##### Normalización"
      ]
    },
    {
      "cell_type": "markdown",
      "metadata": {
        "id": "HSFEk0mIrpd8"
      },
      "source": [
        "Quitamos los acentos para facilitar el entrenamiento del modelo"
      ]
    },
    {
      "cell_type": "code",
      "execution_count": 69,
      "metadata": {
        "colab": {
          "base_uri": "https://localhost:8080/",
          "height": 641
        },
        "id": "5zsyaBbnr4tW",
        "outputId": "b6123466-1c4c-4368-95b9-b4c9879a991d"
      },
      "outputs": [
        {
          "output_type": "execute_result",
          "data": {
            "text/plain": [
              "                                 Descripción  \\\n",
              "0                  fuga en cilindro rotativo   \n",
              "1      se449271hh servicio de emergencia equ   \n",
              "2             cabledo de comunicacion de plc   \n",
              "3      se483121hh servicio de emergencia equ   \n",
              "4      se481891hh servicio de emergencia equ   \n",
              "...                                      ...   \n",
              "64714  dañarse engrane en transimion entrada   \n",
              "64715                        fv2164 amarrada   \n",
              "64716   255f2 cambio de solenoide de barrido   \n",
              "64717     671j revisar control de arrancador   \n",
              "64718                  instalar tapa de 223g   \n",
              "\n",
              "                                               Qué pasó?  \\\n",
              "0      reporta operador fuga en cilindro rotativo de ...   \n",
              "1                                              falla plc   \n",
              "2      se pide poner cable de comunicacion a tablero ...   \n",
              "3                           fallas en plc control logics   \n",
              "4                             falla en plc control logix   \n",
              "...                                                  ...   \n",
              "64714    reportan fuerte ruido en transmision de entrada   \n",
              "64715                               reportan atoramiento   \n",
              "64716                        reportan falla en solenoide   \n",
              "64717                          el arrancador tiene falla   \n",
              "64718           se daña empaque de tapa inferior en 223g   \n",
              "\n",
              "                                           Por qué pasó?  \\\n",
              "0      por dañarse valvula rotativa de enrrollador ot...   \n",
              "1                                           programacion   \n",
              "2                 por falta de comunicacion de plc a plc   \n",
              "3                                           programacion   \n",
              "4                                          desprogramado   \n",
              "...                                                  ...   \n",
              "64714   se acude a destapar y se encontro engrane dañado   \n",
              "64715                           por falta de lubricacion   \n",
              "64716                           atoramiento en solenoide   \n",
              "64717                        falla control de arrancador   \n",
              "64718                               por fin de vida util   \n",
              "\n",
              "                                            Qué se hizo?  \\\n",
              "0      se cambia cilindro dañado por refaccion trabaj...   \n",
              "1      se efectua servicio de cia control tech en ten...   \n",
              "2      se adaptaron gabinetes y conectores por donde ...   \n",
              "3                                   se configuara logica   \n",
              "4                           se modifica programacion plc   \n",
              "...                                                  ...   \n",
              "64714   se comienzan preparativos para cambio de engrane   \n",
              "64715                la lavan con petroleo y la lubrican   \n",
              "64716                       se pide solenoide para cambi   \n",
              "64717              se movieron tiempos de temporizadores   \n",
              "64718                                  se cambia empaque   \n",
              "\n",
              "                             Síntoma                Causa  \n",
              "0                              fugas    bajo nivel aceite  \n",
              "1      señalindicacionalarma erronea  error de programaci  \n",
              "2                              otros                otros  \n",
              "3                      desprogramado  error de programaci  \n",
              "4                   falla de control  falla de comunicaci  \n",
              "...                              ...                  ...  \n",
              "64714                       fractura               fatiga  \n",
              "64715                         rayada        contaminacion  \n",
              "64716                      corrosion               fatiga  \n",
              "64717                     proteccion           proteccion  \n",
              "64718                       desgaste               fatiga  \n",
              "\n",
              "[64716 rows x 6 columns]"
            ],
            "text/html": [
              "\n",
              "  <div id=\"df-6d640e18-a016-49f3-a4c4-9de322143378\">\n",
              "    <div class=\"colab-df-container\">\n",
              "      <div>\n",
              "<style scoped>\n",
              "    .dataframe tbody tr th:only-of-type {\n",
              "        vertical-align: middle;\n",
              "    }\n",
              "\n",
              "    .dataframe tbody tr th {\n",
              "        vertical-align: top;\n",
              "    }\n",
              "\n",
              "    .dataframe thead th {\n",
              "        text-align: right;\n",
              "    }\n",
              "</style>\n",
              "<table border=\"1\" class=\"dataframe\">\n",
              "  <thead>\n",
              "    <tr style=\"text-align: right;\">\n",
              "      <th></th>\n",
              "      <th>Descripción</th>\n",
              "      <th>Qué pasó?</th>\n",
              "      <th>Por qué pasó?</th>\n",
              "      <th>Qué se hizo?</th>\n",
              "      <th>Síntoma</th>\n",
              "      <th>Causa</th>\n",
              "    </tr>\n",
              "  </thead>\n",
              "  <tbody>\n",
              "    <tr>\n",
              "      <th>0</th>\n",
              "      <td>fuga en cilindro rotativo</td>\n",
              "      <td>reporta operador fuga en cilindro rotativo de ...</td>\n",
              "      <td>por dañarse valvula rotativa de enrrollador ot...</td>\n",
              "      <td>se cambia cilindro dañado por refaccion trabaj...</td>\n",
              "      <td>fugas</td>\n",
              "      <td>bajo nivel aceite</td>\n",
              "    </tr>\n",
              "    <tr>\n",
              "      <th>1</th>\n",
              "      <td>se449271hh servicio de emergencia equ</td>\n",
              "      <td>falla plc</td>\n",
              "      <td>programacion</td>\n",
              "      <td>se efectua servicio de cia control tech en ten...</td>\n",
              "      <td>señalindicacionalarma erronea</td>\n",
              "      <td>error de programaci</td>\n",
              "    </tr>\n",
              "    <tr>\n",
              "      <th>2</th>\n",
              "      <td>cabledo de comunicacion de plc</td>\n",
              "      <td>se pide poner cable de comunicacion a tablero ...</td>\n",
              "      <td>por falta de comunicacion de plc a plc</td>\n",
              "      <td>se adaptaron gabinetes y conectores por donde ...</td>\n",
              "      <td>otros</td>\n",
              "      <td>otros</td>\n",
              "    </tr>\n",
              "    <tr>\n",
              "      <th>3</th>\n",
              "      <td>se483121hh servicio de emergencia equ</td>\n",
              "      <td>fallas en plc control logics</td>\n",
              "      <td>programacion</td>\n",
              "      <td>se configuara logica</td>\n",
              "      <td>desprogramado</td>\n",
              "      <td>error de programaci</td>\n",
              "    </tr>\n",
              "    <tr>\n",
              "      <th>4</th>\n",
              "      <td>se481891hh servicio de emergencia equ</td>\n",
              "      <td>falla en plc control logix</td>\n",
              "      <td>desprogramado</td>\n",
              "      <td>se modifica programacion plc</td>\n",
              "      <td>falla de control</td>\n",
              "      <td>falla de comunicaci</td>\n",
              "    </tr>\n",
              "    <tr>\n",
              "      <th>...</th>\n",
              "      <td>...</td>\n",
              "      <td>...</td>\n",
              "      <td>...</td>\n",
              "      <td>...</td>\n",
              "      <td>...</td>\n",
              "      <td>...</td>\n",
              "    </tr>\n",
              "    <tr>\n",
              "      <th>64714</th>\n",
              "      <td>dañarse engrane en transimion entrada</td>\n",
              "      <td>reportan fuerte ruido en transmision de entrada</td>\n",
              "      <td>se acude a destapar y se encontro engrane dañado</td>\n",
              "      <td>se comienzan preparativos para cambio de engrane</td>\n",
              "      <td>fractura</td>\n",
              "      <td>fatiga</td>\n",
              "    </tr>\n",
              "    <tr>\n",
              "      <th>64715</th>\n",
              "      <td>fv2164 amarrada</td>\n",
              "      <td>reportan atoramiento</td>\n",
              "      <td>por falta de lubricacion</td>\n",
              "      <td>la lavan con petroleo y la lubrican</td>\n",
              "      <td>rayada</td>\n",
              "      <td>contaminacion</td>\n",
              "    </tr>\n",
              "    <tr>\n",
              "      <th>64716</th>\n",
              "      <td>255f2 cambio de solenoide de barrido</td>\n",
              "      <td>reportan falla en solenoide</td>\n",
              "      <td>atoramiento en solenoide</td>\n",
              "      <td>se pide solenoide para cambi</td>\n",
              "      <td>corrosion</td>\n",
              "      <td>fatiga</td>\n",
              "    </tr>\n",
              "    <tr>\n",
              "      <th>64717</th>\n",
              "      <td>671j revisar control de arrancador</td>\n",
              "      <td>el arrancador tiene falla</td>\n",
              "      <td>falla control de arrancador</td>\n",
              "      <td>se movieron tiempos de temporizadores</td>\n",
              "      <td>proteccion</td>\n",
              "      <td>proteccion</td>\n",
              "    </tr>\n",
              "    <tr>\n",
              "      <th>64718</th>\n",
              "      <td>instalar tapa de 223g</td>\n",
              "      <td>se daña empaque de tapa inferior en 223g</td>\n",
              "      <td>por fin de vida util</td>\n",
              "      <td>se cambia empaque</td>\n",
              "      <td>desgaste</td>\n",
              "      <td>fatiga</td>\n",
              "    </tr>\n",
              "  </tbody>\n",
              "</table>\n",
              "<p>64716 rows × 6 columns</p>\n",
              "</div>\n",
              "      <button class=\"colab-df-convert\" onclick=\"convertToInteractive('df-6d640e18-a016-49f3-a4c4-9de322143378')\"\n",
              "              title=\"Convert this dataframe to an interactive table.\"\n",
              "              style=\"display:none;\">\n",
              "        \n",
              "  <svg xmlns=\"http://www.w3.org/2000/svg\" height=\"24px\"viewBox=\"0 0 24 24\"\n",
              "       width=\"24px\">\n",
              "    <path d=\"M0 0h24v24H0V0z\" fill=\"none\"/>\n",
              "    <path d=\"M18.56 5.44l.94 2.06.94-2.06 2.06-.94-2.06-.94-.94-2.06-.94 2.06-2.06.94zm-11 1L8.5 8.5l.94-2.06 2.06-.94-2.06-.94L8.5 2.5l-.94 2.06-2.06.94zm10 10l.94 2.06.94-2.06 2.06-.94-2.06-.94-.94-2.06-.94 2.06-2.06.94z\"/><path d=\"M17.41 7.96l-1.37-1.37c-.4-.4-.92-.59-1.43-.59-.52 0-1.04.2-1.43.59L10.3 9.45l-7.72 7.72c-.78.78-.78 2.05 0 2.83L4 21.41c.39.39.9.59 1.41.59.51 0 1.02-.2 1.41-.59l7.78-7.78 2.81-2.81c.8-.78.8-2.07 0-2.86zM5.41 20L4 18.59l7.72-7.72 1.47 1.35L5.41 20z\"/>\n",
              "  </svg>\n",
              "      </button>\n",
              "      \n",
              "  <style>\n",
              "    .colab-df-container {\n",
              "      display:flex;\n",
              "      flex-wrap:wrap;\n",
              "      gap: 12px;\n",
              "    }\n",
              "\n",
              "    .colab-df-convert {\n",
              "      background-color: #E8F0FE;\n",
              "      border: none;\n",
              "      border-radius: 50%;\n",
              "      cursor: pointer;\n",
              "      display: none;\n",
              "      fill: #1967D2;\n",
              "      height: 32px;\n",
              "      padding: 0 0 0 0;\n",
              "      width: 32px;\n",
              "    }\n",
              "\n",
              "    .colab-df-convert:hover {\n",
              "      background-color: #E2EBFA;\n",
              "      box-shadow: 0px 1px 2px rgba(60, 64, 67, 0.3), 0px 1px 3px 1px rgba(60, 64, 67, 0.15);\n",
              "      fill: #174EA6;\n",
              "    }\n",
              "\n",
              "    [theme=dark] .colab-df-convert {\n",
              "      background-color: #3B4455;\n",
              "      fill: #D2E3FC;\n",
              "    }\n",
              "\n",
              "    [theme=dark] .colab-df-convert:hover {\n",
              "      background-color: #434B5C;\n",
              "      box-shadow: 0px 1px 3px 1px rgba(0, 0, 0, 0.15);\n",
              "      filter: drop-shadow(0px 1px 2px rgba(0, 0, 0, 0.3));\n",
              "      fill: #FFFFFF;\n",
              "    }\n",
              "  </style>\n",
              "\n",
              "      <script>\n",
              "        const buttonEl =\n",
              "          document.querySelector('#df-6d640e18-a016-49f3-a4c4-9de322143378 button.colab-df-convert');\n",
              "        buttonEl.style.display =\n",
              "          google.colab.kernel.accessAllowed ? 'block' : 'none';\n",
              "\n",
              "        async function convertToInteractive(key) {\n",
              "          const element = document.querySelector('#df-6d640e18-a016-49f3-a4c4-9de322143378');\n",
              "          const dataTable =\n",
              "            await google.colab.kernel.invokeFunction('convertToInteractive',\n",
              "                                                     [key], {});\n",
              "          if (!dataTable) return;\n",
              "\n",
              "          const docLinkHtml = 'Like what you see? Visit the ' +\n",
              "            '<a target=\"_blank\" href=https://colab.research.google.com/notebooks/data_table.ipynb>data table notebook</a>'\n",
              "            + ' to learn more about interactive tables.';\n",
              "          element.innerHTML = '';\n",
              "          dataTable['output_type'] = 'display_data';\n",
              "          await google.colab.output.renderOutput(dataTable, element);\n",
              "          const docLink = document.createElement('div');\n",
              "          docLink.innerHTML = docLinkHtml;\n",
              "          element.appendChild(docLink);\n",
              "        }\n",
              "      </script>\n",
              "    </div>\n",
              "  </div>\n",
              "  "
            ]
          },
          "metadata": {},
          "execution_count": 69
        }
      ],
      "source": [
        "# Reemplazamos los acentos de la columna Descripción\n",
        "df2[\"Descripción\"] = df2[\"Descripción\"].str.replace(\"á\", \"a\")\n",
        "df2[\"Descripción\"] = df2[\"Descripción\"].str.replace(\"é\", \"e\")\n",
        "df2[\"Descripción\"] = df2[\"Descripción\"].str.replace(\"í\", \"i\")\n",
        "df2[\"Descripción\"] = df2[\"Descripción\"].str.replace(\"ó\", \"o\")\n",
        "df2[\"Descripción\"] = df2[\"Descripción\"].str.replace(\"ú\", \"u\")\n",
        "\n",
        "# Reemplazamos los acentos de la columna Qué pasó?\n",
        "df2[\"Qué pasó?\"] = df2[\"Qué pasó?\"].str.replace(\"á\", \"a\")\n",
        "df2[\"Qué pasó?\"] = df2[\"Qué pasó?\"].str.replace(\"é\", \"e\")\n",
        "df2[\"Qué pasó?\"] = df2[\"Qué pasó?\"].str.replace(\"í\", \"i\")\n",
        "df2[\"Qué pasó?\"] = df2[\"Qué pasó?\"].str.replace(\"ó\", \"o\")\n",
        "df2[\"Qué pasó?\"] = df2[\"Qué pasó?\"].str.replace(\"ú\", \"u\")\n",
        "\n",
        "# Reemplazamos los acentos de la columna Por qué pasó?\n",
        "df2[\"Por qué pasó?\"] = df2[\"Por qué pasó?\"].str.replace(\"á\", \"a\")\n",
        "df2[\"Por qué pasó?\"] = df2[\"Por qué pasó?\"].str.replace(\"é\", \"e\")\n",
        "df2[\"Por qué pasó?\"] = df2[\"Por qué pasó?\"].str.replace(\"í\", \"i\")\n",
        "df2[\"Por qué pasó?\"] = df2[\"Por qué pasó?\"].str.replace(\"ó\", \"o\")\n",
        "df2[\"Por qué pasó?\"] = df2[\"Por qué pasó?\"].str.replace(\"ú\", \"u\")\n",
        "\n",
        "# Reemplazamos los acentos de la columna Qué se hizo?\n",
        "df2[\"Qué se hizo?\"] = df2[\"Qué se hizo?\"].str.replace(\"á\", \"a\")\n",
        "df2[\"Qué se hizo?\"] = df2[\"Qué se hizo?\"].str.replace(\"é\", \"e\")\n",
        "df2[\"Qué se hizo?\"] = df2[\"Qué se hizo?\"].str.replace(\"í\", \"i\")\n",
        "df2[\"Qué se hizo?\"] = df2[\"Qué se hizo?\"].str.replace(\"ó\", \"o\")\n",
        "df2[\"Qué se hizo?\"] = df2[\"Qué se hizo?\"].str.replace(\"ú\", \"u\")\n",
        "\n",
        "# Reemplazamos los acentos de la columna Síntoma\n",
        "df2[\"Síntoma\"] = df2[\"Síntoma\"].str.replace(\"á\", \"a\")\n",
        "df2[\"Síntoma\"] = df2[\"Síntoma\"].str.replace(\"é\", \"e\")\n",
        "df2[\"Síntoma\"] = df2[\"Síntoma\"].str.replace(\"í\", \"i\")\n",
        "df2[\"Síntoma\"] = df2[\"Síntoma\"].str.replace(\"ó\", \"o\")\n",
        "df2[\"Síntoma\"] = df2[\"Síntoma\"].str.replace(\"ú\", \"u\")\n",
        "\n",
        "# Reemplazamos los acentos de la columna Causa\n",
        "df2[\"Causa\"] = df2[\"Causa\"].str.replace(\"á\", \"a\")\n",
        "df2[\"Causa\"] = df2[\"Causa\"].str.replace(\"é\", \"e\")\n",
        "df2[\"Causa\"] = df2[\"Causa\"].str.replace(\"í\", \"i\")\n",
        "df2[\"Causa\"] = df2[\"Causa\"].str.replace(\"ó\", \"o\")\n",
        "df2[\"Causa\"] = df2[\"Causa\"].str.replace(\"ú\", \"u\")\n",
        "df2"
      ]
    },
    {
      "cell_type": "markdown",
      "metadata": {
        "id": "yHKq1RrPgx0i"
      },
      "source": [
        "Observamos que ya no tienen palabras vacías, quedando con palabras que nos serán de utilidad para el entrenamiento. No se aplica el stopword a las variables Síntoma y Causa ya que estos tienen valores como \"otros\" que son considerados como stepwords pero a nosotros sí nos interesa esa palabra."
      ]
    },
    {
      "cell_type": "markdown",
      "metadata": {
        "id": "heEY4TZUhLA1"
      },
      "source": [
        "##### Correción de ortografía"
      ]
    },
    {
      "cell_type": "markdown",
      "metadata": {
        "id": "qG0SpN-hi9PM"
      },
      "source": [
        "Para corregir la ortografía del DataFrame utilizamos la librería pyspellchecker que se encarga de comparar las palabras de un texto con un diccionario de palabras, regresando la palabra corregida. El objetivo de esto es para poder entrenar el modelo de la mejor manera y no crear más \"clusters\" debido a la falta de ortografía."
      ]
    },
    {
      "cell_type": "code",
      "execution_count": 70,
      "metadata": {
        "colab": {
          "base_uri": "https://localhost:8080/",
          "height": 0
        },
        "id": "OlMcVXlD1ByT",
        "outputId": "b5b94300-687b-41c9-bdba-8bc379c145eb"
      },
      "outputs": [
        {
          "output_type": "stream",
          "name": "stdout",
          "text": [
            "Looking in indexes: https://pypi.org/simple, https://us-python.pkg.dev/colab-wheels/public/simple/\n",
            "Collecting pyspellchecker\n",
            "  Downloading pyspellchecker-0.7.1-py3-none-any.whl (2.5 MB)\n",
            "\u001b[2K     \u001b[90m━━━━━━━━━━━━━━━━━━━━━━━━━━━━━━━━━━━━━━━━\u001b[0m \u001b[32m2.5/2.5 MB\u001b[0m \u001b[31m36.9 MB/s\u001b[0m eta \u001b[36m0:00:00\u001b[0m\n",
            "\u001b[?25hInstalling collected packages: pyspellchecker\n",
            "Successfully installed pyspellchecker-0.7.1\n"
          ]
        }
      ],
      "source": [
        "pip install pyspellchecker #instalamos la librería\n"
      ]
    },
    {
      "cell_type": "code",
      "execution_count": 71,
      "metadata": {
        "id": "DJmSm74I2qI8"
      },
      "outputs": [],
      "source": [
        "from spellchecker import SpellChecker\n",
        "\n",
        "def correc(palabra): #creamos una función para corregir la ortografía y aplicarlo a las columnas\n",
        "  lista=[]\n",
        "  spell = SpellChecker(language='es') #checar en español\n",
        "  misspelled = spell.unknown(palabra)\n",
        "  for word in palabra:\n",
        "      lista.append(spell.correction(word)) #corregir palabra\n",
        "\n",
        "  return(lista)\n",
        "\n",
        "#Checamos si funciona\n",
        "#lista=[\"pablo\",\"feliz\",\"selular\",\"zalchicha\",\"shile\"]\n",
        "#correc(lista)"
      ]
    },
    {
      "cell_type": "markdown",
      "metadata": {
        "id": "Up0aZw-ij87F"
      },
      "source": [
        "**ATENCIÓN:** \n",
        "\n",
        "Los siguientes chunks de código puede tardar varios minutos (incluso horas en correr una sola línea), esto debido a que compara cada palabra con millones de palabras del diccionario y además son varias palabras en casi 54 mil registros."
      ]
    },
    {
      "cell_type": "code",
      "execution_count": null,
      "metadata": {
        "id": "N7-j8Am2Ii7T"
      },
      "outputs": [],
      "source": [
        "#df2[\"Descripción\"] = df2[\"Descripción\"].apply(correc)"
      ]
    },
    {
      "cell_type": "code",
      "execution_count": null,
      "metadata": {
        "id": "_PEthLVuORaV"
      },
      "outputs": [],
      "source": [
        "#df2[\"Descripción\"]"
      ]
    },
    {
      "cell_type": "markdown",
      "metadata": {
        "id": "ebMmC7_fkd95"
      },
      "source": [
        "Sólo se realizó la corrección de ortografía para Descripción debido a que es el único con texto libre y porque el tiempo de ejecución es bastante tardado. Lo más conveniente es prestar más atención al hacer los registros y procurar no cometer errores o incluso se pod\n",
        "\n",
        "Al observar los resultados de la autocorrección de ortografía, decidimos en que podría ser que no utilicemos esta función para la siguiente etapa. Esto debido a que existen algunos registros que contienen códigos con números y letras para identificar una máquina y al utilizar esta función nos manda un None lo cual nos perjudica. Además, la duración del ejecutamiento de código es demasiado tardado lo cual no nos beneficia. Así mismo, el no corregir la ortografía del texto del DataFrame no nos afecta mucho, ya que al estar haciendo el entrenamiento podremos comparar las palabras con porcentaje de similitud y así categorizar o agrupar los registros.\n",
        "\n",
        "Con esto terminamos la Comprensión y la Preparación de Datos para poder continuar con la siguiente etapa que será el modelado del sistema a partir de Machine Learning con la metodología NLP."
      ]
    },
    {
      "cell_type": "markdown",
      "metadata": {
        "id": "dnXmFToG7RfE"
      },
      "source": [
        "### **4. Transformacion de datos**\n",
        "Con el fin de poder obtener la mejor transformación de los datos, para de esta manera lograr cumplir con el objetivo planteado, se investigaron y seleccionaron diversas técnicas de transformación, la primera fue la de binning. Consideramos que no es necesario realizar esta técnica de discretización, dado que las variables necesarias para realizar este tipo de agrupamiento de datos se requieren conjuntos numéricos o continuos en un número más pequeño de intervalos o categorías discretos. Además, es importante mencionar que esta técnica también se usa en el análisis de datos para reducir la complejidad de los datos continuos y así, simplificar el proceso de análisis por medio de la agrupación de data en contenedores, con lo cual es posible identificar tendencias, patrones y distribuciones en los datos, que de otro modo, no habrían sido evidentes. Por último, una de las ventajas es que se puede realizar manualmente o mediante herramientas de software automatizadas.\n",
        "\n",
        "\n",
        "Por último, en relación a la construcción de atributos derivados, se sabe que estos son usados normalmente para generar variables nuevas que se crean a partir de variables existentes en un Dataframe, por lo cual no se considera conveniente, dado que lo que se busca es la limpieza y clasificación de los datos en las clases previamente establecidas, además normalmente se llega a utilizar para dar información adicional a partir de los datos originales, lo cual no se requiere en este caso.\n",
        "\n",
        "La unica transformacion que se llevará a cabo será sustituir los valores posibles de las variables Causa y Síntoma de tipo de datos str a valores numéricos discretos, con el fin de facilitar en su momento la elaboración del modelo de categorización o agrupación."
      ]
    },
    {
      "cell_type": "markdown",
      "metadata": {
        "id": "rXMQQjvm_c2N"
      },
      "source": [
        "#### Transformacion de variable causa y sintoma\n",
        "Se pasa de un valor str a un valor int gracias a la funcion replace de la libreria pandas"
      ]
    },
    {
      "cell_type": "markdown",
      "metadata": {
        "id": "3YhhefyamYMD"
      },
      "source": [
        "En la siguiente transformacion se hara uso de la funcion replace de la libreria pandas, lo cual permitira sustituir los valores unicos de las variables sintoma y causa a un valor numerico discreto. Se dan como valores a ser sustituidos el array que despliega la funcion unique(), que seran cambiados a un valor entero desde 1 hasta el numero de valores posibles que se pueda seleccionar en dicha variables, esto se realiza gracias a la funcion arange() de la biblioteca numpy que permite crear un array de numeros dicretos. La forma en la que aparezcan los valores posibles en la funcion unique() se relacionaran sucesivamente con el numero desplegado por la funcion arange."
      ]
    },
    {
      "cell_type": "code",
      "execution_count": 72,
      "metadata": {
        "id": "odjWmDGf-B_f"
      },
      "outputs": [],
      "source": [
        "df4 = df2[[\"Descripción\", \"Qué pasó?\", \"Por qué pasó?\", \"Qué se hizo?\", \"Síntoma\", \"Causa\"]]\n",
        "df4[\"Causa\"]=df4[\"Causa\"].replace(df4[\"Causa\"].unique(),np.arange(1,61)) #son 61 posibles valores para Causa"
      ]
    },
    {
      "cell_type": "code",
      "execution_count": 73,
      "metadata": {
        "id": "jZJnD7Z-_qsR"
      },
      "outputs": [],
      "source": [
        "df4[\"Síntoma\"]=df4[\"Síntoma\"].replace(df4[\"Síntoma\"].unique(),np.arange(1,52)) #son 52 posibles valores para Síntoma"
      ]
    },
    {
      "cell_type": "code",
      "execution_count": 75,
      "metadata": {
        "colab": {
          "base_uri": "https://localhost:8080/",
          "height": 337
        },
        "id": "AIkzaOEn_4MW",
        "outputId": "5e090dc6-d10c-40e2-cd56-5652324eac75"
      },
      "outputs": [
        {
          "output_type": "execute_result",
          "data": {
            "text/plain": [
              "                             Descripción  \\\n",
              "0              fuga en cilindro rotativo   \n",
              "1  se449271hh servicio de emergencia equ   \n",
              "2         cabledo de comunicacion de plc   \n",
              "3  se483121hh servicio de emergencia equ   \n",
              "4  se481891hh servicio de emergencia equ   \n",
              "\n",
              "                                           Qué pasó?  \\\n",
              "0  reporta operador fuga en cilindro rotativo de ...   \n",
              "1                                          falla plc   \n",
              "2  se pide poner cable de comunicacion a tablero ...   \n",
              "3                       fallas en plc control logics   \n",
              "4                         falla en plc control logix   \n",
              "\n",
              "                                       Por qué pasó?  \\\n",
              "0  por dañarse valvula rotativa de enrrollador ot...   \n",
              "1                                       programacion   \n",
              "2             por falta de comunicacion de plc a plc   \n",
              "3                                       programacion   \n",
              "4                                      desprogramado   \n",
              "\n",
              "                                        Qué se hizo?  Síntoma  Causa  \n",
              "0  se cambia cilindro dañado por refaccion trabaj...        1      1  \n",
              "1  se efectua servicio de cia control tech en ten...        2      2  \n",
              "2  se adaptaron gabinetes y conectores por donde ...        3      3  \n",
              "3                               se configuara logica        4      2  \n",
              "4                       se modifica programacion plc        5      4  "
            ],
            "text/html": [
              "\n",
              "  <div id=\"df-912f9efe-605e-46af-a4d4-a6930d85c919\">\n",
              "    <div class=\"colab-df-container\">\n",
              "      <div>\n",
              "<style scoped>\n",
              "    .dataframe tbody tr th:only-of-type {\n",
              "        vertical-align: middle;\n",
              "    }\n",
              "\n",
              "    .dataframe tbody tr th {\n",
              "        vertical-align: top;\n",
              "    }\n",
              "\n",
              "    .dataframe thead th {\n",
              "        text-align: right;\n",
              "    }\n",
              "</style>\n",
              "<table border=\"1\" class=\"dataframe\">\n",
              "  <thead>\n",
              "    <tr style=\"text-align: right;\">\n",
              "      <th></th>\n",
              "      <th>Descripción</th>\n",
              "      <th>Qué pasó?</th>\n",
              "      <th>Por qué pasó?</th>\n",
              "      <th>Qué se hizo?</th>\n",
              "      <th>Síntoma</th>\n",
              "      <th>Causa</th>\n",
              "    </tr>\n",
              "  </thead>\n",
              "  <tbody>\n",
              "    <tr>\n",
              "      <th>0</th>\n",
              "      <td>fuga en cilindro rotativo</td>\n",
              "      <td>reporta operador fuga en cilindro rotativo de ...</td>\n",
              "      <td>por dañarse valvula rotativa de enrrollador ot...</td>\n",
              "      <td>se cambia cilindro dañado por refaccion trabaj...</td>\n",
              "      <td>1</td>\n",
              "      <td>1</td>\n",
              "    </tr>\n",
              "    <tr>\n",
              "      <th>1</th>\n",
              "      <td>se449271hh servicio de emergencia equ</td>\n",
              "      <td>falla plc</td>\n",
              "      <td>programacion</td>\n",
              "      <td>se efectua servicio de cia control tech en ten...</td>\n",
              "      <td>2</td>\n",
              "      <td>2</td>\n",
              "    </tr>\n",
              "    <tr>\n",
              "      <th>2</th>\n",
              "      <td>cabledo de comunicacion de plc</td>\n",
              "      <td>se pide poner cable de comunicacion a tablero ...</td>\n",
              "      <td>por falta de comunicacion de plc a plc</td>\n",
              "      <td>se adaptaron gabinetes y conectores por donde ...</td>\n",
              "      <td>3</td>\n",
              "      <td>3</td>\n",
              "    </tr>\n",
              "    <tr>\n",
              "      <th>3</th>\n",
              "      <td>se483121hh servicio de emergencia equ</td>\n",
              "      <td>fallas en plc control logics</td>\n",
              "      <td>programacion</td>\n",
              "      <td>se configuara logica</td>\n",
              "      <td>4</td>\n",
              "      <td>2</td>\n",
              "    </tr>\n",
              "    <tr>\n",
              "      <th>4</th>\n",
              "      <td>se481891hh servicio de emergencia equ</td>\n",
              "      <td>falla en plc control logix</td>\n",
              "      <td>desprogramado</td>\n",
              "      <td>se modifica programacion plc</td>\n",
              "      <td>5</td>\n",
              "      <td>4</td>\n",
              "    </tr>\n",
              "  </tbody>\n",
              "</table>\n",
              "</div>\n",
              "      <button class=\"colab-df-convert\" onclick=\"convertToInteractive('df-912f9efe-605e-46af-a4d4-a6930d85c919')\"\n",
              "              title=\"Convert this dataframe to an interactive table.\"\n",
              "              style=\"display:none;\">\n",
              "        \n",
              "  <svg xmlns=\"http://www.w3.org/2000/svg\" height=\"24px\"viewBox=\"0 0 24 24\"\n",
              "       width=\"24px\">\n",
              "    <path d=\"M0 0h24v24H0V0z\" fill=\"none\"/>\n",
              "    <path d=\"M18.56 5.44l.94 2.06.94-2.06 2.06-.94-2.06-.94-.94-2.06-.94 2.06-2.06.94zm-11 1L8.5 8.5l.94-2.06 2.06-.94-2.06-.94L8.5 2.5l-.94 2.06-2.06.94zm10 10l.94 2.06.94-2.06 2.06-.94-2.06-.94-.94-2.06-.94 2.06-2.06.94z\"/><path d=\"M17.41 7.96l-1.37-1.37c-.4-.4-.92-.59-1.43-.59-.52 0-1.04.2-1.43.59L10.3 9.45l-7.72 7.72c-.78.78-.78 2.05 0 2.83L4 21.41c.39.39.9.59 1.41.59.51 0 1.02-.2 1.41-.59l7.78-7.78 2.81-2.81c.8-.78.8-2.07 0-2.86zM5.41 20L4 18.59l7.72-7.72 1.47 1.35L5.41 20z\"/>\n",
              "  </svg>\n",
              "      </button>\n",
              "      \n",
              "  <style>\n",
              "    .colab-df-container {\n",
              "      display:flex;\n",
              "      flex-wrap:wrap;\n",
              "      gap: 12px;\n",
              "    }\n",
              "\n",
              "    .colab-df-convert {\n",
              "      background-color: #E8F0FE;\n",
              "      border: none;\n",
              "      border-radius: 50%;\n",
              "      cursor: pointer;\n",
              "      display: none;\n",
              "      fill: #1967D2;\n",
              "      height: 32px;\n",
              "      padding: 0 0 0 0;\n",
              "      width: 32px;\n",
              "    }\n",
              "\n",
              "    .colab-df-convert:hover {\n",
              "      background-color: #E2EBFA;\n",
              "      box-shadow: 0px 1px 2px rgba(60, 64, 67, 0.3), 0px 1px 3px 1px rgba(60, 64, 67, 0.15);\n",
              "      fill: #174EA6;\n",
              "    }\n",
              "\n",
              "    [theme=dark] .colab-df-convert {\n",
              "      background-color: #3B4455;\n",
              "      fill: #D2E3FC;\n",
              "    }\n",
              "\n",
              "    [theme=dark] .colab-df-convert:hover {\n",
              "      background-color: #434B5C;\n",
              "      box-shadow: 0px 1px 3px 1px rgba(0, 0, 0, 0.15);\n",
              "      filter: drop-shadow(0px 1px 2px rgba(0, 0, 0, 0.3));\n",
              "      fill: #FFFFFF;\n",
              "    }\n",
              "  </style>\n",
              "\n",
              "      <script>\n",
              "        const buttonEl =\n",
              "          document.querySelector('#df-912f9efe-605e-46af-a4d4-a6930d85c919 button.colab-df-convert');\n",
              "        buttonEl.style.display =\n",
              "          google.colab.kernel.accessAllowed ? 'block' : 'none';\n",
              "\n",
              "        async function convertToInteractive(key) {\n",
              "          const element = document.querySelector('#df-912f9efe-605e-46af-a4d4-a6930d85c919');\n",
              "          const dataTable =\n",
              "            await google.colab.kernel.invokeFunction('convertToInteractive',\n",
              "                                                     [key], {});\n",
              "          if (!dataTable) return;\n",
              "\n",
              "          const docLinkHtml = 'Like what you see? Visit the ' +\n",
              "            '<a target=\"_blank\" href=https://colab.research.google.com/notebooks/data_table.ipynb>data table notebook</a>'\n",
              "            + ' to learn more about interactive tables.';\n",
              "          element.innerHTML = '';\n",
              "          dataTable['output_type'] = 'display_data';\n",
              "          await google.colab.output.renderOutput(dataTable, element);\n",
              "          const docLink = document.createElement('div');\n",
              "          docLink.innerHTML = docLinkHtml;\n",
              "          element.appendChild(docLink);\n",
              "        }\n",
              "      </script>\n",
              "    </div>\n",
              "  </div>\n",
              "  "
            ]
          },
          "metadata": {},
          "execution_count": 75
        }
      ],
      "source": [
        "df4.head() # ver como quedó"
      ]
    },
    {
      "cell_type": "markdown",
      "metadata": {
        "id": "ps0lvFEqCBjn"
      },
      "source": [
        "La realizacion de dicha transformacion se dio con el objetivo de facilitar la tarea de la creacion del modelo de clasificacion que se realizara en la siguiente etapa, que permitira verificar la calidad de clasificacion de modelos de machine learning que se haran posteriormente. Se le asignó un valor a cada posible valor."
      ]
    },
    {
      "cell_type": "markdown",
      "metadata": {
        "id": "1jKu9fVbofcf"
      },
      "source": [
        "#### Quitamos stopwords"
      ]
    },
    {
      "cell_type": "markdown",
      "metadata": {
        "id": "liVRcoGMRlCn"
      },
      "source": [
        "Eliminamos los stopwords o también conocidos como palabras vacías que son aquellas palabras que carecen de un significado por sí solas y no nos aporta gran información como lo son los artículos, preposiciones, conjunciones, pronombres, etc. para así analizar los datos de una manera más eficiente."
      ]
    },
    {
      "cell_type": "code",
      "execution_count": 76,
      "metadata": {
        "colab": {
          "base_uri": "https://localhost:8080/",
          "height": 676
        },
        "id": "ZFmYEWOtnu8c",
        "outputId": "c7146ad5-7cc2-43e4-8a69-a3db706b7d8e"
      },
      "outputs": [
        {
          "output_type": "stream",
          "name": "stderr",
          "text": [
            "[nltk_data] Downloading package punkt to /root/nltk_data...\n",
            "[nltk_data]   Unzipping tokenizers/punkt.zip.\n",
            "[nltk_data] Downloading package stopwords to /root/nltk_data...\n",
            "[nltk_data]   Unzipping corpora/stopwords.zip.\n"
          ]
        },
        {
          "output_type": "execute_result",
          "data": {
            "text/plain": [
              "                              Descripción  \\\n",
              "0                  fuga cilindro rotativo   \n",
              "1      se449271hh servicio emergencia equ   \n",
              "2                cabledo comunicacion plc   \n",
              "3      se483121hh servicio emergencia equ   \n",
              "4      se481891hh servicio emergencia equ   \n",
              "...                                   ...   \n",
              "64714  dañarse engrane transimion entrada   \n",
              "64715                     fv2164 amarrada   \n",
              "64716      255f2 cambio solenoide barrido   \n",
              "64717     671j revisar control arrancador   \n",
              "64718                  instalar tapa 223g   \n",
              "\n",
              "                                               Qué pasó?  \\\n",
              "0      reporta operador fuga cilindro rotativo enrrol...   \n",
              "1                                              falla plc   \n",
              "2              pide poner cable comunicacion tablero plc   \n",
              "3                              fallas plc control logics   \n",
              "4                                falla plc control logix   \n",
              "...                                                  ...   \n",
              "64714          reportan fuerte ruido transmision entrada   \n",
              "64715                               reportan atoramiento   \n",
              "64716                           reportan falla solenoide   \n",
              "64717                                   arrancador falla   \n",
              "64718                    daña empaque tapa inferior 223g   \n",
              "\n",
              "                                         Por qué pasó?  \\\n",
              "0      dañarse valvula rotativa enrrollador ote fatiga   \n",
              "1                                         programacion   \n",
              "2                           falta comunicacion plc plc   \n",
              "3                                         programacion   \n",
              "4                                        desprogramado   \n",
              "...                                                ...   \n",
              "64714           acude destapar encontro engrane dañado   \n",
              "64715                                falta lubricacion   \n",
              "64716                            atoramiento solenoide   \n",
              "64717                         falla control arrancador   \n",
              "64718                                    fin vida util   \n",
              "\n",
              "                                            Qué se hizo?  Síntoma  Causa  \n",
              "0      cambia cilindro dañado refaccion trabajando ok...        1      1  \n",
              "1        efectua servicio cia control tech tensonivelado        2      2  \n",
              "2              adaptaron gabinetes conectores pasa cable        3      3  \n",
              "3                                      configuara logica        4      2  \n",
              "4                              modifica programacion plc        5      4  \n",
              "...                                                  ...      ...    ...  \n",
              "64714              comienzan preparativos cambio engrane        8      6  \n",
              "64715                            lavan petroleo lubrican       40      9  \n",
              "64716                               pide solenoide cambi       24      6  \n",
              "64717                    movieron tiempos temporizadores       14      5  \n",
              "64718                                     cambia empaque        7      6  \n",
              "\n",
              "[64716 rows x 6 columns]"
            ],
            "text/html": [
              "\n",
              "  <div id=\"df-85dcf851-e51a-4967-b352-17d325a4885a\">\n",
              "    <div class=\"colab-df-container\">\n",
              "      <div>\n",
              "<style scoped>\n",
              "    .dataframe tbody tr th:only-of-type {\n",
              "        vertical-align: middle;\n",
              "    }\n",
              "\n",
              "    .dataframe tbody tr th {\n",
              "        vertical-align: top;\n",
              "    }\n",
              "\n",
              "    .dataframe thead th {\n",
              "        text-align: right;\n",
              "    }\n",
              "</style>\n",
              "<table border=\"1\" class=\"dataframe\">\n",
              "  <thead>\n",
              "    <tr style=\"text-align: right;\">\n",
              "      <th></th>\n",
              "      <th>Descripción</th>\n",
              "      <th>Qué pasó?</th>\n",
              "      <th>Por qué pasó?</th>\n",
              "      <th>Qué se hizo?</th>\n",
              "      <th>Síntoma</th>\n",
              "      <th>Causa</th>\n",
              "    </tr>\n",
              "  </thead>\n",
              "  <tbody>\n",
              "    <tr>\n",
              "      <th>0</th>\n",
              "      <td>fuga cilindro rotativo</td>\n",
              "      <td>reporta operador fuga cilindro rotativo enrrol...</td>\n",
              "      <td>dañarse valvula rotativa enrrollador ote fatiga</td>\n",
              "      <td>cambia cilindro dañado refaccion trabajando ok...</td>\n",
              "      <td>1</td>\n",
              "      <td>1</td>\n",
              "    </tr>\n",
              "    <tr>\n",
              "      <th>1</th>\n",
              "      <td>se449271hh servicio emergencia equ</td>\n",
              "      <td>falla plc</td>\n",
              "      <td>programacion</td>\n",
              "      <td>efectua servicio cia control tech tensonivelado</td>\n",
              "      <td>2</td>\n",
              "      <td>2</td>\n",
              "    </tr>\n",
              "    <tr>\n",
              "      <th>2</th>\n",
              "      <td>cabledo comunicacion plc</td>\n",
              "      <td>pide poner cable comunicacion tablero plc</td>\n",
              "      <td>falta comunicacion plc plc</td>\n",
              "      <td>adaptaron gabinetes conectores pasa cable</td>\n",
              "      <td>3</td>\n",
              "      <td>3</td>\n",
              "    </tr>\n",
              "    <tr>\n",
              "      <th>3</th>\n",
              "      <td>se483121hh servicio emergencia equ</td>\n",
              "      <td>fallas plc control logics</td>\n",
              "      <td>programacion</td>\n",
              "      <td>configuara logica</td>\n",
              "      <td>4</td>\n",
              "      <td>2</td>\n",
              "    </tr>\n",
              "    <tr>\n",
              "      <th>4</th>\n",
              "      <td>se481891hh servicio emergencia equ</td>\n",
              "      <td>falla plc control logix</td>\n",
              "      <td>desprogramado</td>\n",
              "      <td>modifica programacion plc</td>\n",
              "      <td>5</td>\n",
              "      <td>4</td>\n",
              "    </tr>\n",
              "    <tr>\n",
              "      <th>...</th>\n",
              "      <td>...</td>\n",
              "      <td>...</td>\n",
              "      <td>...</td>\n",
              "      <td>...</td>\n",
              "      <td>...</td>\n",
              "      <td>...</td>\n",
              "    </tr>\n",
              "    <tr>\n",
              "      <th>64714</th>\n",
              "      <td>dañarse engrane transimion entrada</td>\n",
              "      <td>reportan fuerte ruido transmision entrada</td>\n",
              "      <td>acude destapar encontro engrane dañado</td>\n",
              "      <td>comienzan preparativos cambio engrane</td>\n",
              "      <td>8</td>\n",
              "      <td>6</td>\n",
              "    </tr>\n",
              "    <tr>\n",
              "      <th>64715</th>\n",
              "      <td>fv2164 amarrada</td>\n",
              "      <td>reportan atoramiento</td>\n",
              "      <td>falta lubricacion</td>\n",
              "      <td>lavan petroleo lubrican</td>\n",
              "      <td>40</td>\n",
              "      <td>9</td>\n",
              "    </tr>\n",
              "    <tr>\n",
              "      <th>64716</th>\n",
              "      <td>255f2 cambio solenoide barrido</td>\n",
              "      <td>reportan falla solenoide</td>\n",
              "      <td>atoramiento solenoide</td>\n",
              "      <td>pide solenoide cambi</td>\n",
              "      <td>24</td>\n",
              "      <td>6</td>\n",
              "    </tr>\n",
              "    <tr>\n",
              "      <th>64717</th>\n",
              "      <td>671j revisar control arrancador</td>\n",
              "      <td>arrancador falla</td>\n",
              "      <td>falla control arrancador</td>\n",
              "      <td>movieron tiempos temporizadores</td>\n",
              "      <td>14</td>\n",
              "      <td>5</td>\n",
              "    </tr>\n",
              "    <tr>\n",
              "      <th>64718</th>\n",
              "      <td>instalar tapa 223g</td>\n",
              "      <td>daña empaque tapa inferior 223g</td>\n",
              "      <td>fin vida util</td>\n",
              "      <td>cambia empaque</td>\n",
              "      <td>7</td>\n",
              "      <td>6</td>\n",
              "    </tr>\n",
              "  </tbody>\n",
              "</table>\n",
              "<p>64716 rows × 6 columns</p>\n",
              "</div>\n",
              "      <button class=\"colab-df-convert\" onclick=\"convertToInteractive('df-85dcf851-e51a-4967-b352-17d325a4885a')\"\n",
              "              title=\"Convert this dataframe to an interactive table.\"\n",
              "              style=\"display:none;\">\n",
              "        \n",
              "  <svg xmlns=\"http://www.w3.org/2000/svg\" height=\"24px\"viewBox=\"0 0 24 24\"\n",
              "       width=\"24px\">\n",
              "    <path d=\"M0 0h24v24H0V0z\" fill=\"none\"/>\n",
              "    <path d=\"M18.56 5.44l.94 2.06.94-2.06 2.06-.94-2.06-.94-.94-2.06-.94 2.06-2.06.94zm-11 1L8.5 8.5l.94-2.06 2.06-.94-2.06-.94L8.5 2.5l-.94 2.06-2.06.94zm10 10l.94 2.06.94-2.06 2.06-.94-2.06-.94-.94-2.06-.94 2.06-2.06.94z\"/><path d=\"M17.41 7.96l-1.37-1.37c-.4-.4-.92-.59-1.43-.59-.52 0-1.04.2-1.43.59L10.3 9.45l-7.72 7.72c-.78.78-.78 2.05 0 2.83L4 21.41c.39.39.9.59 1.41.59.51 0 1.02-.2 1.41-.59l7.78-7.78 2.81-2.81c.8-.78.8-2.07 0-2.86zM5.41 20L4 18.59l7.72-7.72 1.47 1.35L5.41 20z\"/>\n",
              "  </svg>\n",
              "      </button>\n",
              "      \n",
              "  <style>\n",
              "    .colab-df-container {\n",
              "      display:flex;\n",
              "      flex-wrap:wrap;\n",
              "      gap: 12px;\n",
              "    }\n",
              "\n",
              "    .colab-df-convert {\n",
              "      background-color: #E8F0FE;\n",
              "      border: none;\n",
              "      border-radius: 50%;\n",
              "      cursor: pointer;\n",
              "      display: none;\n",
              "      fill: #1967D2;\n",
              "      height: 32px;\n",
              "      padding: 0 0 0 0;\n",
              "      width: 32px;\n",
              "    }\n",
              "\n",
              "    .colab-df-convert:hover {\n",
              "      background-color: #E2EBFA;\n",
              "      box-shadow: 0px 1px 2px rgba(60, 64, 67, 0.3), 0px 1px 3px 1px rgba(60, 64, 67, 0.15);\n",
              "      fill: #174EA6;\n",
              "    }\n",
              "\n",
              "    [theme=dark] .colab-df-convert {\n",
              "      background-color: #3B4455;\n",
              "      fill: #D2E3FC;\n",
              "    }\n",
              "\n",
              "    [theme=dark] .colab-df-convert:hover {\n",
              "      background-color: #434B5C;\n",
              "      box-shadow: 0px 1px 3px 1px rgba(0, 0, 0, 0.15);\n",
              "      filter: drop-shadow(0px 1px 2px rgba(0, 0, 0, 0.3));\n",
              "      fill: #FFFFFF;\n",
              "    }\n",
              "  </style>\n",
              "\n",
              "      <script>\n",
              "        const buttonEl =\n",
              "          document.querySelector('#df-85dcf851-e51a-4967-b352-17d325a4885a button.colab-df-convert');\n",
              "        buttonEl.style.display =\n",
              "          google.colab.kernel.accessAllowed ? 'block' : 'none';\n",
              "\n",
              "        async function convertToInteractive(key) {\n",
              "          const element = document.querySelector('#df-85dcf851-e51a-4967-b352-17d325a4885a');\n",
              "          const dataTable =\n",
              "            await google.colab.kernel.invokeFunction('convertToInteractive',\n",
              "                                                     [key], {});\n",
              "          if (!dataTable) return;\n",
              "\n",
              "          const docLinkHtml = 'Like what you see? Visit the ' +\n",
              "            '<a target=\"_blank\" href=https://colab.research.google.com/notebooks/data_table.ipynb>data table notebook</a>'\n",
              "            + ' to learn more about interactive tables.';\n",
              "          element.innerHTML = '';\n",
              "          dataTable['output_type'] = 'display_data';\n",
              "          await google.colab.output.renderOutput(dataTable, element);\n",
              "          const docLink = document.createElement('div');\n",
              "          docLink.innerHTML = docLinkHtml;\n",
              "          element.appendChild(docLink);\n",
              "        }\n",
              "      </script>\n",
              "    </div>\n",
              "  </div>\n",
              "  "
            ]
          },
          "metadata": {},
          "execution_count": 76
        }
      ],
      "source": [
        "import nltk\n",
        "nltk.download('punkt')\n",
        "nltk.download('stopwords')\n",
        "from nltk.tokenize import word_tokenize\n",
        "from nltk.corpus import stopwords\n",
        "\n",
        "def vacio(string): #creamos función de stepwords para poder aplicarlo en todo el dataframe\n",
        "    # Se crea un conjunto con las stopwords en español\n",
        "    stop_words = set(stopwords.words('spanish'))\n",
        "    return \" \".join([word for word in string.split() if word not in stop_words]) # Para remover stopwords de una frase\n",
        "\n",
        "df4 = df4[[\"Descripción\", \"Qué pasó?\", \"Por qué pasó?\", \"Qué se hizo?\", \"Síntoma\", \"Causa\"]]\n",
        "\n",
        "df4[\"Descripción\"] = df4[\"Descripción\"].apply(vacio)\n",
        "df4[\"Qué pasó?\"] = df4[\"Qué pasó?\"].apply(vacio)\n",
        "df4[\"Por qué pasó?\"] = df4[\"Por qué pasó?\"].apply(vacio)\n",
        "df4[\"Qué se hizo?\"] = df4[\"Qué se hizo?\"].apply(vacio)\n",
        "df4 # checamos cómo quedó"
      ]
    },
    {
      "cell_type": "markdown",
      "metadata": {
        "id": "NSvXNHSCLlqP"
      },
      "source": [
        "#### Sustituimos ñ por n"
      ]
    },
    {
      "cell_type": "code",
      "execution_count": 77,
      "metadata": {
        "colab": {
          "base_uri": "https://localhost:8080/",
          "height": 606
        },
        "id": "xGP2OL86Lo4e",
        "outputId": "8942a339-c849-4e0d-a567-c80f4320f21f"
      },
      "outputs": [
        {
          "output_type": "execute_result",
          "data": {
            "text/plain": [
              "                              Descripción  \\\n",
              "0                  fuga cilindro rotativo   \n",
              "1      se449271hh servicio emergencia equ   \n",
              "2                cabledo comunicacion plc   \n",
              "3      se483121hh servicio emergencia equ   \n",
              "4      se481891hh servicio emergencia equ   \n",
              "...                                   ...   \n",
              "64714  danarse engrane transimion entrada   \n",
              "64715                     fv2164 amarrada   \n",
              "64716      255f2 cambio solenoide barrido   \n",
              "64717     671j revisar control arrancador   \n",
              "64718                  instalar tapa 223g   \n",
              "\n",
              "                                               Qué pasó?  \\\n",
              "0      reporta operador fuga cilindro rotativo enrrol...   \n",
              "1                                              falla plc   \n",
              "2              pide poner cable comunicacion tablero plc   \n",
              "3                              fallas plc control logics   \n",
              "4                                falla plc control logix   \n",
              "...                                                  ...   \n",
              "64714          reportan fuerte ruido transmision entrada   \n",
              "64715                               reportan atoramiento   \n",
              "64716                           reportan falla solenoide   \n",
              "64717                                   arrancador falla   \n",
              "64718                    dana empaque tapa inferior 223g   \n",
              "\n",
              "                                         Por qué pasó?  \\\n",
              "0      danarse valvula rotativa enrrollador ote fatiga   \n",
              "1                                         programacion   \n",
              "2                           falta comunicacion plc plc   \n",
              "3                                         programacion   \n",
              "4                                        desprogramado   \n",
              "...                                                ...   \n",
              "64714           acude destapar encontro engrane danado   \n",
              "64715                                falta lubricacion   \n",
              "64716                            atoramiento solenoide   \n",
              "64717                         falla control arrancador   \n",
              "64718                                    fin vida util   \n",
              "\n",
              "                                            Qué se hizo?  Síntoma  Causa  \n",
              "0      cambia cilindro danado refaccion trabajando ok...        1      1  \n",
              "1        efectua servicio cia control tech tensonivelado        2      2  \n",
              "2              adaptaron gabinetes conectores pasa cable        3      3  \n",
              "3                                      configuara logica        4      2  \n",
              "4                              modifica programacion plc        5      4  \n",
              "...                                                  ...      ...    ...  \n",
              "64714              comienzan preparativos cambio engrane        8      6  \n",
              "64715                            lavan petroleo lubrican       40      9  \n",
              "64716                               pide solenoide cambi       24      6  \n",
              "64717                    movieron tiempos temporizadores       14      5  \n",
              "64718                                     cambia empaque        7      6  \n",
              "\n",
              "[64716 rows x 6 columns]"
            ],
            "text/html": [
              "\n",
              "  <div id=\"df-48e42b95-6435-4e02-bbe3-a2ad6e13723b\">\n",
              "    <div class=\"colab-df-container\">\n",
              "      <div>\n",
              "<style scoped>\n",
              "    .dataframe tbody tr th:only-of-type {\n",
              "        vertical-align: middle;\n",
              "    }\n",
              "\n",
              "    .dataframe tbody tr th {\n",
              "        vertical-align: top;\n",
              "    }\n",
              "\n",
              "    .dataframe thead th {\n",
              "        text-align: right;\n",
              "    }\n",
              "</style>\n",
              "<table border=\"1\" class=\"dataframe\">\n",
              "  <thead>\n",
              "    <tr style=\"text-align: right;\">\n",
              "      <th></th>\n",
              "      <th>Descripción</th>\n",
              "      <th>Qué pasó?</th>\n",
              "      <th>Por qué pasó?</th>\n",
              "      <th>Qué se hizo?</th>\n",
              "      <th>Síntoma</th>\n",
              "      <th>Causa</th>\n",
              "    </tr>\n",
              "  </thead>\n",
              "  <tbody>\n",
              "    <tr>\n",
              "      <th>0</th>\n",
              "      <td>fuga cilindro rotativo</td>\n",
              "      <td>reporta operador fuga cilindro rotativo enrrol...</td>\n",
              "      <td>danarse valvula rotativa enrrollador ote fatiga</td>\n",
              "      <td>cambia cilindro danado refaccion trabajando ok...</td>\n",
              "      <td>1</td>\n",
              "      <td>1</td>\n",
              "    </tr>\n",
              "    <tr>\n",
              "      <th>1</th>\n",
              "      <td>se449271hh servicio emergencia equ</td>\n",
              "      <td>falla plc</td>\n",
              "      <td>programacion</td>\n",
              "      <td>efectua servicio cia control tech tensonivelado</td>\n",
              "      <td>2</td>\n",
              "      <td>2</td>\n",
              "    </tr>\n",
              "    <tr>\n",
              "      <th>2</th>\n",
              "      <td>cabledo comunicacion plc</td>\n",
              "      <td>pide poner cable comunicacion tablero plc</td>\n",
              "      <td>falta comunicacion plc plc</td>\n",
              "      <td>adaptaron gabinetes conectores pasa cable</td>\n",
              "      <td>3</td>\n",
              "      <td>3</td>\n",
              "    </tr>\n",
              "    <tr>\n",
              "      <th>3</th>\n",
              "      <td>se483121hh servicio emergencia equ</td>\n",
              "      <td>fallas plc control logics</td>\n",
              "      <td>programacion</td>\n",
              "      <td>configuara logica</td>\n",
              "      <td>4</td>\n",
              "      <td>2</td>\n",
              "    </tr>\n",
              "    <tr>\n",
              "      <th>4</th>\n",
              "      <td>se481891hh servicio emergencia equ</td>\n",
              "      <td>falla plc control logix</td>\n",
              "      <td>desprogramado</td>\n",
              "      <td>modifica programacion plc</td>\n",
              "      <td>5</td>\n",
              "      <td>4</td>\n",
              "    </tr>\n",
              "    <tr>\n",
              "      <th>...</th>\n",
              "      <td>...</td>\n",
              "      <td>...</td>\n",
              "      <td>...</td>\n",
              "      <td>...</td>\n",
              "      <td>...</td>\n",
              "      <td>...</td>\n",
              "    </tr>\n",
              "    <tr>\n",
              "      <th>64714</th>\n",
              "      <td>danarse engrane transimion entrada</td>\n",
              "      <td>reportan fuerte ruido transmision entrada</td>\n",
              "      <td>acude destapar encontro engrane danado</td>\n",
              "      <td>comienzan preparativos cambio engrane</td>\n",
              "      <td>8</td>\n",
              "      <td>6</td>\n",
              "    </tr>\n",
              "    <tr>\n",
              "      <th>64715</th>\n",
              "      <td>fv2164 amarrada</td>\n",
              "      <td>reportan atoramiento</td>\n",
              "      <td>falta lubricacion</td>\n",
              "      <td>lavan petroleo lubrican</td>\n",
              "      <td>40</td>\n",
              "      <td>9</td>\n",
              "    </tr>\n",
              "    <tr>\n",
              "      <th>64716</th>\n",
              "      <td>255f2 cambio solenoide barrido</td>\n",
              "      <td>reportan falla solenoide</td>\n",
              "      <td>atoramiento solenoide</td>\n",
              "      <td>pide solenoide cambi</td>\n",
              "      <td>24</td>\n",
              "      <td>6</td>\n",
              "    </tr>\n",
              "    <tr>\n",
              "      <th>64717</th>\n",
              "      <td>671j revisar control arrancador</td>\n",
              "      <td>arrancador falla</td>\n",
              "      <td>falla control arrancador</td>\n",
              "      <td>movieron tiempos temporizadores</td>\n",
              "      <td>14</td>\n",
              "      <td>5</td>\n",
              "    </tr>\n",
              "    <tr>\n",
              "      <th>64718</th>\n",
              "      <td>instalar tapa 223g</td>\n",
              "      <td>dana empaque tapa inferior 223g</td>\n",
              "      <td>fin vida util</td>\n",
              "      <td>cambia empaque</td>\n",
              "      <td>7</td>\n",
              "      <td>6</td>\n",
              "    </tr>\n",
              "  </tbody>\n",
              "</table>\n",
              "<p>64716 rows × 6 columns</p>\n",
              "</div>\n",
              "      <button class=\"colab-df-convert\" onclick=\"convertToInteractive('df-48e42b95-6435-4e02-bbe3-a2ad6e13723b')\"\n",
              "              title=\"Convert this dataframe to an interactive table.\"\n",
              "              style=\"display:none;\">\n",
              "        \n",
              "  <svg xmlns=\"http://www.w3.org/2000/svg\" height=\"24px\"viewBox=\"0 0 24 24\"\n",
              "       width=\"24px\">\n",
              "    <path d=\"M0 0h24v24H0V0z\" fill=\"none\"/>\n",
              "    <path d=\"M18.56 5.44l.94 2.06.94-2.06 2.06-.94-2.06-.94-.94-2.06-.94 2.06-2.06.94zm-11 1L8.5 8.5l.94-2.06 2.06-.94-2.06-.94L8.5 2.5l-.94 2.06-2.06.94zm10 10l.94 2.06.94-2.06 2.06-.94-2.06-.94-.94-2.06-.94 2.06-2.06.94z\"/><path d=\"M17.41 7.96l-1.37-1.37c-.4-.4-.92-.59-1.43-.59-.52 0-1.04.2-1.43.59L10.3 9.45l-7.72 7.72c-.78.78-.78 2.05 0 2.83L4 21.41c.39.39.9.59 1.41.59.51 0 1.02-.2 1.41-.59l7.78-7.78 2.81-2.81c.8-.78.8-2.07 0-2.86zM5.41 20L4 18.59l7.72-7.72 1.47 1.35L5.41 20z\"/>\n",
              "  </svg>\n",
              "      </button>\n",
              "      \n",
              "  <style>\n",
              "    .colab-df-container {\n",
              "      display:flex;\n",
              "      flex-wrap:wrap;\n",
              "      gap: 12px;\n",
              "    }\n",
              "\n",
              "    .colab-df-convert {\n",
              "      background-color: #E8F0FE;\n",
              "      border: none;\n",
              "      border-radius: 50%;\n",
              "      cursor: pointer;\n",
              "      display: none;\n",
              "      fill: #1967D2;\n",
              "      height: 32px;\n",
              "      padding: 0 0 0 0;\n",
              "      width: 32px;\n",
              "    }\n",
              "\n",
              "    .colab-df-convert:hover {\n",
              "      background-color: #E2EBFA;\n",
              "      box-shadow: 0px 1px 2px rgba(60, 64, 67, 0.3), 0px 1px 3px 1px rgba(60, 64, 67, 0.15);\n",
              "      fill: #174EA6;\n",
              "    }\n",
              "\n",
              "    [theme=dark] .colab-df-convert {\n",
              "      background-color: #3B4455;\n",
              "      fill: #D2E3FC;\n",
              "    }\n",
              "\n",
              "    [theme=dark] .colab-df-convert:hover {\n",
              "      background-color: #434B5C;\n",
              "      box-shadow: 0px 1px 3px 1px rgba(0, 0, 0, 0.15);\n",
              "      filter: drop-shadow(0px 1px 2px rgba(0, 0, 0, 0.3));\n",
              "      fill: #FFFFFF;\n",
              "    }\n",
              "  </style>\n",
              "\n",
              "      <script>\n",
              "        const buttonEl =\n",
              "          document.querySelector('#df-48e42b95-6435-4e02-bbe3-a2ad6e13723b button.colab-df-convert');\n",
              "        buttonEl.style.display =\n",
              "          google.colab.kernel.accessAllowed ? 'block' : 'none';\n",
              "\n",
              "        async function convertToInteractive(key) {\n",
              "          const element = document.querySelector('#df-48e42b95-6435-4e02-bbe3-a2ad6e13723b');\n",
              "          const dataTable =\n",
              "            await google.colab.kernel.invokeFunction('convertToInteractive',\n",
              "                                                     [key], {});\n",
              "          if (!dataTable) return;\n",
              "\n",
              "          const docLinkHtml = 'Like what you see? Visit the ' +\n",
              "            '<a target=\"_blank\" href=https://colab.research.google.com/notebooks/data_table.ipynb>data table notebook</a>'\n",
              "            + ' to learn more about interactive tables.';\n",
              "          element.innerHTML = '';\n",
              "          dataTable['output_type'] = 'display_data';\n",
              "          await google.colab.output.renderOutput(dataTable, element);\n",
              "          const docLink = document.createElement('div');\n",
              "          docLink.innerHTML = docLinkHtml;\n",
              "          element.appendChild(docLink);\n",
              "        }\n",
              "      </script>\n",
              "    </div>\n",
              "  </div>\n",
              "  "
            ]
          },
          "metadata": {},
          "execution_count": 77
        }
      ],
      "source": [
        "df4[\"Descripción\"] = df4[\"Descripción\"].str.replace(\"ñ\", \"n\")\n",
        "df4[\"Qué pasó?\"] = df4[\"Qué pasó?\"].str.replace(\"ñ\", \"n\")\n",
        "df4[\"Por qué pasó?\"] = df4[\"Por qué pasó?\"].str.replace(\"ñ\", \"n\")\n",
        "df4[\"Qué se hizo?\"] = df4[\"Qué se hizo?\"].str.replace(\"ñ\", \"n\")\n",
        "df4"
      ]
    },
    {
      "cell_type": "markdown",
      "metadata": {
        "id": "OjJ7ncn1CrN7"
      },
      "source": [
        "#### Quitamos números de palabra \n",
        "\n",
        "(EJ: SE14462H)"
      ]
    },
    {
      "cell_type": "code",
      "execution_count": 78,
      "metadata": {
        "colab": {
          "base_uri": "https://localhost:8080/",
          "height": 571
        },
        "id": "NZXgUC7y-Xrq",
        "outputId": "5c8aeac3-9c9b-49be-f8ac-461ea8dc96d1"
      },
      "outputs": [
        {
          "output_type": "execute_result",
          "data": {
            "text/plain": [
              "                              Descripción  \\\n",
              "0                  fuga cilindro rotativo   \n",
              "1            sehh servicio emergencia equ   \n",
              "2                cabledo comunicacion plc   \n",
              "3            sehh servicio emergencia equ   \n",
              "4            sehh servicio emergencia equ   \n",
              "...                                   ...   \n",
              "64714  danarse engrane transimion entrada   \n",
              "64715                         fv amarrada   \n",
              "64716          f cambio solenoide barrido   \n",
              "64717        j revisar control arrancador   \n",
              "64718                     instalar tapa g   \n",
              "\n",
              "                                               Qué pasó?  \\\n",
              "0      reporta operador fuga cilindro rotativo enrrol...   \n",
              "1                                              falla plc   \n",
              "2              pide poner cable comunicacion tablero plc   \n",
              "3                              fallas plc control logics   \n",
              "4                                falla plc control logix   \n",
              "...                                                  ...   \n",
              "64714          reportan fuerte ruido transmision entrada   \n",
              "64715                               reportan atoramiento   \n",
              "64716                           reportan falla solenoide   \n",
              "64717                                   arrancador falla   \n",
              "64718                       dana empaque tapa inferior g   \n",
              "\n",
              "                                         Por qué pasó?  \\\n",
              "0      danarse valvula rotativa enrrollador ote fatiga   \n",
              "1                                         programacion   \n",
              "2                           falta comunicacion plc plc   \n",
              "3                                         programacion   \n",
              "4                                        desprogramado   \n",
              "...                                                ...   \n",
              "64714           acude destapar encontro engrane danado   \n",
              "64715                                falta lubricacion   \n",
              "64716                            atoramiento solenoide   \n",
              "64717                         falla control arrancador   \n",
              "64718                                    fin vida util   \n",
              "\n",
              "                                            Qué se hizo?  Síntoma  Causa  \n",
              "0      cambia cilindro danado refaccion trabajando ok...        1      1  \n",
              "1        efectua servicio cia control tech tensonivelado        2      2  \n",
              "2              adaptaron gabinetes conectores pasa cable        3      3  \n",
              "3                                      configuara logica        4      2  \n",
              "4                              modifica programacion plc        5      4  \n",
              "...                                                  ...      ...    ...  \n",
              "64714              comienzan preparativos cambio engrane        8      6  \n",
              "64715                            lavan petroleo lubrican       40      9  \n",
              "64716                               pide solenoide cambi       24      6  \n",
              "64717                    movieron tiempos temporizadores       14      5  \n",
              "64718                                     cambia empaque        7      6  \n",
              "\n",
              "[64716 rows x 6 columns]"
            ],
            "text/html": [
              "\n",
              "  <div id=\"df-08310912-9c83-4dd0-b4a8-658773ab0e43\">\n",
              "    <div class=\"colab-df-container\">\n",
              "      <div>\n",
              "<style scoped>\n",
              "    .dataframe tbody tr th:only-of-type {\n",
              "        vertical-align: middle;\n",
              "    }\n",
              "\n",
              "    .dataframe tbody tr th {\n",
              "        vertical-align: top;\n",
              "    }\n",
              "\n",
              "    .dataframe thead th {\n",
              "        text-align: right;\n",
              "    }\n",
              "</style>\n",
              "<table border=\"1\" class=\"dataframe\">\n",
              "  <thead>\n",
              "    <tr style=\"text-align: right;\">\n",
              "      <th></th>\n",
              "      <th>Descripción</th>\n",
              "      <th>Qué pasó?</th>\n",
              "      <th>Por qué pasó?</th>\n",
              "      <th>Qué se hizo?</th>\n",
              "      <th>Síntoma</th>\n",
              "      <th>Causa</th>\n",
              "    </tr>\n",
              "  </thead>\n",
              "  <tbody>\n",
              "    <tr>\n",
              "      <th>0</th>\n",
              "      <td>fuga cilindro rotativo</td>\n",
              "      <td>reporta operador fuga cilindro rotativo enrrol...</td>\n",
              "      <td>danarse valvula rotativa enrrollador ote fatiga</td>\n",
              "      <td>cambia cilindro danado refaccion trabajando ok...</td>\n",
              "      <td>1</td>\n",
              "      <td>1</td>\n",
              "    </tr>\n",
              "    <tr>\n",
              "      <th>1</th>\n",
              "      <td>sehh servicio emergencia equ</td>\n",
              "      <td>falla plc</td>\n",
              "      <td>programacion</td>\n",
              "      <td>efectua servicio cia control tech tensonivelado</td>\n",
              "      <td>2</td>\n",
              "      <td>2</td>\n",
              "    </tr>\n",
              "    <tr>\n",
              "      <th>2</th>\n",
              "      <td>cabledo comunicacion plc</td>\n",
              "      <td>pide poner cable comunicacion tablero plc</td>\n",
              "      <td>falta comunicacion plc plc</td>\n",
              "      <td>adaptaron gabinetes conectores pasa cable</td>\n",
              "      <td>3</td>\n",
              "      <td>3</td>\n",
              "    </tr>\n",
              "    <tr>\n",
              "      <th>3</th>\n",
              "      <td>sehh servicio emergencia equ</td>\n",
              "      <td>fallas plc control logics</td>\n",
              "      <td>programacion</td>\n",
              "      <td>configuara logica</td>\n",
              "      <td>4</td>\n",
              "      <td>2</td>\n",
              "    </tr>\n",
              "    <tr>\n",
              "      <th>4</th>\n",
              "      <td>sehh servicio emergencia equ</td>\n",
              "      <td>falla plc control logix</td>\n",
              "      <td>desprogramado</td>\n",
              "      <td>modifica programacion plc</td>\n",
              "      <td>5</td>\n",
              "      <td>4</td>\n",
              "    </tr>\n",
              "    <tr>\n",
              "      <th>...</th>\n",
              "      <td>...</td>\n",
              "      <td>...</td>\n",
              "      <td>...</td>\n",
              "      <td>...</td>\n",
              "      <td>...</td>\n",
              "      <td>...</td>\n",
              "    </tr>\n",
              "    <tr>\n",
              "      <th>64714</th>\n",
              "      <td>danarse engrane transimion entrada</td>\n",
              "      <td>reportan fuerte ruido transmision entrada</td>\n",
              "      <td>acude destapar encontro engrane danado</td>\n",
              "      <td>comienzan preparativos cambio engrane</td>\n",
              "      <td>8</td>\n",
              "      <td>6</td>\n",
              "    </tr>\n",
              "    <tr>\n",
              "      <th>64715</th>\n",
              "      <td>fv amarrada</td>\n",
              "      <td>reportan atoramiento</td>\n",
              "      <td>falta lubricacion</td>\n",
              "      <td>lavan petroleo lubrican</td>\n",
              "      <td>40</td>\n",
              "      <td>9</td>\n",
              "    </tr>\n",
              "    <tr>\n",
              "      <th>64716</th>\n",
              "      <td>f cambio solenoide barrido</td>\n",
              "      <td>reportan falla solenoide</td>\n",
              "      <td>atoramiento solenoide</td>\n",
              "      <td>pide solenoide cambi</td>\n",
              "      <td>24</td>\n",
              "      <td>6</td>\n",
              "    </tr>\n",
              "    <tr>\n",
              "      <th>64717</th>\n",
              "      <td>j revisar control arrancador</td>\n",
              "      <td>arrancador falla</td>\n",
              "      <td>falla control arrancador</td>\n",
              "      <td>movieron tiempos temporizadores</td>\n",
              "      <td>14</td>\n",
              "      <td>5</td>\n",
              "    </tr>\n",
              "    <tr>\n",
              "      <th>64718</th>\n",
              "      <td>instalar tapa g</td>\n",
              "      <td>dana empaque tapa inferior g</td>\n",
              "      <td>fin vida util</td>\n",
              "      <td>cambia empaque</td>\n",
              "      <td>7</td>\n",
              "      <td>6</td>\n",
              "    </tr>\n",
              "  </tbody>\n",
              "</table>\n",
              "<p>64716 rows × 6 columns</p>\n",
              "</div>\n",
              "      <button class=\"colab-df-convert\" onclick=\"convertToInteractive('df-08310912-9c83-4dd0-b4a8-658773ab0e43')\"\n",
              "              title=\"Convert this dataframe to an interactive table.\"\n",
              "              style=\"display:none;\">\n",
              "        \n",
              "  <svg xmlns=\"http://www.w3.org/2000/svg\" height=\"24px\"viewBox=\"0 0 24 24\"\n",
              "       width=\"24px\">\n",
              "    <path d=\"M0 0h24v24H0V0z\" fill=\"none\"/>\n",
              "    <path d=\"M18.56 5.44l.94 2.06.94-2.06 2.06-.94-2.06-.94-.94-2.06-.94 2.06-2.06.94zm-11 1L8.5 8.5l.94-2.06 2.06-.94-2.06-.94L8.5 2.5l-.94 2.06-2.06.94zm10 10l.94 2.06.94-2.06 2.06-.94-2.06-.94-.94-2.06-.94 2.06-2.06.94z\"/><path d=\"M17.41 7.96l-1.37-1.37c-.4-.4-.92-.59-1.43-.59-.52 0-1.04.2-1.43.59L10.3 9.45l-7.72 7.72c-.78.78-.78 2.05 0 2.83L4 21.41c.39.39.9.59 1.41.59.51 0 1.02-.2 1.41-.59l7.78-7.78 2.81-2.81c.8-.78.8-2.07 0-2.86zM5.41 20L4 18.59l7.72-7.72 1.47 1.35L5.41 20z\"/>\n",
              "  </svg>\n",
              "      </button>\n",
              "      \n",
              "  <style>\n",
              "    .colab-df-container {\n",
              "      display:flex;\n",
              "      flex-wrap:wrap;\n",
              "      gap: 12px;\n",
              "    }\n",
              "\n",
              "    .colab-df-convert {\n",
              "      background-color: #E8F0FE;\n",
              "      border: none;\n",
              "      border-radius: 50%;\n",
              "      cursor: pointer;\n",
              "      display: none;\n",
              "      fill: #1967D2;\n",
              "      height: 32px;\n",
              "      padding: 0 0 0 0;\n",
              "      width: 32px;\n",
              "    }\n",
              "\n",
              "    .colab-df-convert:hover {\n",
              "      background-color: #E2EBFA;\n",
              "      box-shadow: 0px 1px 2px rgba(60, 64, 67, 0.3), 0px 1px 3px 1px rgba(60, 64, 67, 0.15);\n",
              "      fill: #174EA6;\n",
              "    }\n",
              "\n",
              "    [theme=dark] .colab-df-convert {\n",
              "      background-color: #3B4455;\n",
              "      fill: #D2E3FC;\n",
              "    }\n",
              "\n",
              "    [theme=dark] .colab-df-convert:hover {\n",
              "      background-color: #434B5C;\n",
              "      box-shadow: 0px 1px 3px 1px rgba(0, 0, 0, 0.15);\n",
              "      filter: drop-shadow(0px 1px 2px rgba(0, 0, 0, 0.3));\n",
              "      fill: #FFFFFF;\n",
              "    }\n",
              "  </style>\n",
              "\n",
              "      <script>\n",
              "        const buttonEl =\n",
              "          document.querySelector('#df-08310912-9c83-4dd0-b4a8-658773ab0e43 button.colab-df-convert');\n",
              "        buttonEl.style.display =\n",
              "          google.colab.kernel.accessAllowed ? 'block' : 'none';\n",
              "\n",
              "        async function convertToInteractive(key) {\n",
              "          const element = document.querySelector('#df-08310912-9c83-4dd0-b4a8-658773ab0e43');\n",
              "          const dataTable =\n",
              "            await google.colab.kernel.invokeFunction('convertToInteractive',\n",
              "                                                     [key], {});\n",
              "          if (!dataTable) return;\n",
              "\n",
              "          const docLinkHtml = 'Like what you see? Visit the ' +\n",
              "            '<a target=\"_blank\" href=https://colab.research.google.com/notebooks/data_table.ipynb>data table notebook</a>'\n",
              "            + ' to learn more about interactive tables.';\n",
              "          element.innerHTML = '';\n",
              "          dataTable['output_type'] = 'display_data';\n",
              "          await google.colab.output.renderOutput(dataTable, element);\n",
              "          const docLink = document.createElement('div');\n",
              "          docLink.innerHTML = docLinkHtml;\n",
              "          element.appendChild(docLink);\n",
              "        }\n",
              "      </script>\n",
              "    </div>\n",
              "  </div>\n",
              "  "
            ]
          },
          "metadata": {},
          "execution_count": 78
        }
      ],
      "source": [
        "def quitarNumeros(palabra):\n",
        "  ini_string = palabra\n",
        "  return ''.join([i for i in ini_string if not i.isdigit()])\n",
        "\n",
        "df4[\"Descripción\"] = df4[\"Descripción\"].apply(quitarNumeros)\n",
        "df4[\"Qué pasó?\"] = df4[\"Qué pasó?\"].apply(quitarNumeros)\n",
        "df4[\"Por qué pasó?\"] = df4[\"Por qué pasó?\"].apply(quitarNumeros)\n",
        "df4[\"Qué se hizo?\"] = df4[\"Qué se hizo?\"].apply(quitarNumeros)\n",
        "df4"
      ]
    },
    {
      "cell_type": "markdown",
      "metadata": {
        "id": "XSrbhY1Zvgu3"
      },
      "source": [
        "# **Etapa 3: MODELACIÓN**"
      ]
    },
    {
      "cell_type": "markdown",
      "metadata": {
        "id": "A1W_8v_AAsch"
      },
      "source": [
        "## **TF-IDF Transform**\n",
        "Empezamos la modelación con este método para que nos haga la tokenización y la indexación y nos será de utilidad para realizar los otros modelos."
      ]
    },
    {
      "cell_type": "markdown",
      "metadata": {
        "id": "gEO9yZGYf4hI"
      },
      "source": [
        "##### Tokenización\n",
        "Se usa un método de tokenización en esta parte, el cual la transformación se encarga de hacerlo. Separamos los textos por palabra para poder analizar cada palabra, esto es indispensable para NLP."
      ]
    },
    {
      "cell_type": "code",
      "execution_count": 79,
      "metadata": {
        "id": "71IBgQwJ0j7a"
      },
      "outputs": [],
      "source": [
        "from sklearn.feature_extraction.text import TfidfVectorizer"
      ]
    },
    {
      "cell_type": "code",
      "execution_count": 80,
      "metadata": {
        "colab": {
          "base_uri": "https://localhost:8080/",
          "height": 0
        },
        "id": "e54W8_CzL-o7",
        "outputId": "f359c48d-25bc-4a53-be45-45180842661e"
      },
      "outputs": [
        {
          "output_type": "stream",
          "name": "stdout",
          "text": [
            "{'fuga': 4928, 'cilindro': 2148, 'rotativo': 9157, 'sehh': 9408, 'servicio': 9500, 'emergencia': 3949, 'equ': 4282, 'cabledo': 1555, 'comunicacion': 2376, 'plc': 7723, 'soporte': 9793, 'tecnic': 10125, 'ajustar': 388, 'switch': 9983, 'presion': 7946, 'lc': 5908, 'falla': 4588, 'mesa': 6560, 'empaquetado': 3973, 'automatico': 978, 'cambia': 1685, 'motor': 6786, 'briqueta': 1478, 'tornillo': 10411, 'desgastado': 3365, 'vielas': 11038, 'lado': 5832, 'motri': 6807, 'revision': 9003, 'reapriete': 8426, 'tornillos': 10412, 'regleta': 8649, 'camion': 1724, 'revisar': 8994, 'unidad': 10776, 'aditamento': 252, 'arranca': 816, 'diesel': 3612, 'quitar': 8322, 'carro': 1839, 'carga': 1813, 'limite': 6015, 'mastil': 6442, 'arriba': 850, 'atoron': 930, 'operativo': 7170, 'senal': 9435, 'retro': 8932, 'electroposicion': 3876, 'repone': 8764, 'aceite': 112, 'adepocito': 247, 'consola': 2471, 'restablecer': 8869, 'molino': 6675, 'skin': 9635, 'pass': 7427, 'reacomoda': 8394, 'flexible': 4766, 'corto': 2710, 'circuito': 2174, 'bomba': 1343, 'nortegenera': 7015, 'cai': 1593, 'cambio': 1700, 'quito': 8325, 'cabeza': 1535, 'instalo': 5587, 'esperar': 4375, 'operador': 7152, 'planta': 7704, 'osmosis': 7248, 'desatora': 3179, 'material': 6453, 'tolva': 10346, 'cal': 1609, 'sider': 9552, 'hicieron': 5309, 'inpecciones': 5555, 'sotanos': 9809, 'sistema': 9614, 'hidraulic': 5328, 'meter': 6585, 'referencia': 8613, 'calibre': 1649, 'reparar': 8733, 'hid': 5311, 'mentor': 6549, 'se': 9321, 'activa': 176, 'ultrasonido': 10761, 'atras': 937, 'mal': 6266, 'direccionado': 3639, 'plataforma': 7713, 'desalineada': 3137, 'dejar': 3019, 'brazo': 1441, 'cas': 1858, 'avanza': 994, 'lento': 5957, 'transito': 10536, 'coche': 2239, 'sur': 9960, 'lubricacio': 6190, 'da': 2866, 'permiso': 7546, 'arranque': 828, 'linea': 6050, 'hacer': 5259, 'enebrador': 4073, 'sale': 9243, 'completo': 2346, 'base': 1167, 'mete': 6582, 'hidrogeno': 5337, 'leda': 5944, 'ajuste': 392, 'alos': 511, 'tensores': 10207, 'mueve': 6887, 'desenrrollador': 3324, 'hacia': 5264, 'solo': 9745, 'restablese': 8875, 'jb': 5730, 'vv': 11152, 'banda': 1092, 'parada': 7342, 'coopera': 2565, 'transportador': 10557, 'temposonic': 10169, 'cvc': 2862, 'supsal': 9958, 'golpe': 5119, 'instalan': 5577, 'componentes': 2348, 'faltantes': 4622, 'botarse': 1404, 'bajo': 1058, 'nivel': 6972, 'tanque': 10046, 'poner': 7784, 'manual': 6372, 'viga': 11042, 'posicion': 7849, 'recibir': 8499, 'roll': 9103, 'adelante': 242, 'hace': 5255, 'vias': 11009, 'ntesur': 7034, 'armar': 798, 'rodillos': 9086, 'exprimidores': 4509, 'robot': 9058, 'toma': 10350, 'muestra': 6878, 'hcd': 5284, 'soldar': 9724, 'tuberia': 10695, 'oxigeno': 7295, 'horno': 5383, 'marca': 6412, 'temperatura': 10159, 'balanceo': 1067, 'extractor': 4549, 'vapores': 10887, 'solda': 9696, 'horeja': 5380, 'piston': 7662, 'oreja': 7196, 'almeja': 505, 'pantalla': 7329, 'datos': 2933, 'rollo': 9107, 'bombas': 1348, 'lubde': 6177, 'chuma': 2102, 'unidades': 10777, 'oil': 7109, 'mist': 6631, 'zonar': 11245, 'alarma': 407, 'reductores': 8587, 'atorarse': 923, 'guias': 5218, 'salida': 9252, 'centrado': 1966, 'quedarse': 8286, 'girando': 5089, 'carcamo': 1801, 'cerran': 2009, 'candados': 1758, 'gira': 5086, 'desatorar': 3181, 'atorada': 909, 'trasmisor': 10611, 'fic': 4686, 'agua': 316, 'cuen': 2828, 'funciona': 4948, 'hidraulica': 5329, 'crt': 2750, 'sensor': 9449, 'motriz': 6811, 'permite': 7550, 'ar': 764, 'sube': 9854, 'descarte': 3238, 'reviso': 9006, 'vigas': 11045, 'lavado': 5899, 'revisaron': 8997, 'sensores': 9451, 'ebner': 3801, 'tovera': 10445, 'motr': 6806, 'atora': 906, 'madera': 6237, 'tobera': 10333, 'falta': 4618, 'ma': 6229, 'inferior': 5509, 'cabezal': 1537, 'freno': 4872, 'rodillo': 9083, 'synchro': 9993, 'wind': 11186, 'asegura': 867, 'tornilleria': 10408, 'cuas': 2790, 'cuchi': 2815, 'aflojamiento': 268, 'ambas': 566, 'bronces': 1490, 'cuchllas': 2823, 'cae': 1573, 'bronce': 1489, 'feed': 4660, 'barra': 1138, 'guiado': 5216, 'desorille': 3445, 'control': 2538, 'abre': 46, 'demora': 3053, 'tapa': 10054, 'secuencia': 9356, 'bajar': 1048, 'trabajar': 10468, 'reel': 8592, 'zafarse': 11236, 'protecc': 8065, 'trab': 10457, 'reelpor': 8594, 'quebrarse': 8272, 'segmento': 9380, 'entra': 4238, 'tension': 10196, 'llego': 6087, 'exprimidor': 4507, 'inf': 5502, 'apagarse': 665, 'lubric': 6185, 'repartidore': 8741, 'sh': 9532, 'baja': 1042, 'mf': 6601, 'inhexistente': 5529, 'pte': 8147, 'sueltas': 9893, 'placas': 7678, 'deslizantes': 3400, 'contro': 2536, 'loi': 6131, 'cortar': 2699, 'tijera': 10278, 'calibres': 1651, 'delgados': 3037, 'manguera': 6321, 'pocision': 7748, 'termi': 10220, 'agregar': 308, 'norte': 7014, 'armado': 793, 'tener': 10184, 'flujo': 4785, 'cj': 2185, 'conexion': 2433, 'volteada': 11091, 'dar': 2924, 'descartar': 3236, 'punta': 8213, 'calibra': 1632, 'detector': 3554, 'agujeros': 329, 'reponer': 8767, 'dan': 2890, 'presiones': 7951, 'rayo': 8375, 'corriente': 2659, 'turno': 10720, 'anterior': 629, 'resta': 8857, 'generador': 5065, 'alta': 520, 'desenrollador': 3308, 'corrient': 2658, 'reiniciar': 8677, 'sundwig': 9931, 'recobre': 8518, 'ancho': 599, 'cuchilla': 2820, 'calibrar': 1645, 'rayos': 8376, 'gamma': 5017, 'moverse': 6820, 'carrito': 1838, 'trasnsportador': 10620, 'rod': 9065, 'destapa': 3518, 'cono': 2464, 'retorno': 8919, 'revisando': 8992, 'limites': 6016, 'transfer': 10524, 'gnc': 5111, 'gancho': 5025, 'principal': 7990, 'grua': 5180, 'apoya': 727, 'reparacion': 8727, 'frio': 4886, 'alimentacion': 446, 'maquinas': 6403, 'fallar': 4597, 'capo': 1785, 'perno': 7556, 'seccion': 9340, 'desenrrollad': 3322, 'fedd': 4657, 'fractura': 4851, 'cople': 2579, 'transmision': 10546, 'bar': 1103, 'ciclo': 2127, 'corte': 2704, 'cuch': 2808, 'preparar': 7930, 'coneccion': 2416, 'aceitad': 100, 'grasa': 5165, 'lubricacion': 6191, 'valvulas': 10867, 'empalmes': 3965, 'bobina': 1314, 'electroval': 3878, 'hgc': 5304, 'safarce': 9229, 'camara': 1679, 'rienda': 9038, 'mordaza': 6757, 'ote': 7254, 'cerra': 1999, 'bloque': 1285, 'centro': 1978, 'descole': 3251, 'nte': 7027, 'serviciosacar': 9503, 'queda': 8277, 'quita': 8320, 'instala': 5572, 'encendido': 4020, 'toyota': 10448, 'tazo': 10104, 'combustible': 2321, 'fria': 4883, 'ferroaleaciones': 4671, 'fin': 4708, 'colada': 2260, 'capados': 1773, 'nariz': 6911, 're': 8390, 'encoder': 4036, 'variacion': 10895, 'incendio': 5461, 'casa': 1859, 'desacoplar': 3106, 'cardan': 1808, 'sumerg': 9922, 'pruebas': 8112, 'desconectarel': 3267, 'motoreduc': 6793, 'motoreductor': 6794, 'desconectar': 3266, 'motoredu': 6792, 'desconexion': 3271, 'paso': 7424, 'arrastrar': 837, 'lamina': 5854, 'bay': 1203, 'pasearse': 7417, 'term': 10218, 'terminar': 10230, 'ci': 2124, 'fleje': 4764, 'atravesado': 942, 'traslado': 10601, 'decapadonorte': 2960, 'descarta': 3234, 'soldadura': 9719, 'doblar': 3702, 'cola': 2256, 'habilitar': 5242, 'poya': 7873, 'acero': 127, 'duro': 3792, 'tomar': 10354, 'mucha': 6861, 'desfazadaajustar': 3351, 'aflojarse': 275, 'atiende': 897, 'pantallas': 7331, 'hmi': 5359, 'inhibirse': 5535, 'gral': 5158, 'checar': 2054, 'limpieza': 6037, 'filtro': 4706, 'placa': 7676, 'deslizable': 3391, 'operar': 7160, 'funcionar': 4952, 'rollos': 9114, 'tramo': 10508, 'quemado': 8292, 'fall': 4587, 'compressor': 2355, 'orquilla': 7230, 'reaprete': 8420, 'tornilleri': 10407, 'orquila': 7229, 'reapretar': 8419, 'cambian': 1690, 'diametros': 3600, 'apoy': 726, 'amarrarse': 562, 'mandril': 6298, 'enrollador': 4196, 'nave': 6917, 'aceitadora': 104, 'aceita': 99, 'bota': 1377, 'abren': 47, 'demoras': 3055, 'segundo': 9397, 'marcan': 6418, 'tb': 10105, 'sealinea': 9325, 'alinea': 470, 'pra': 7882, 'cucharon': 2810, 'desperdicios': 3470, 'drive': 3753, 'desenrolador': 3302, 'electrico': 3851, 'tibia': 10261, 'caliente': 1656, 'alimentar': 458, 'entrada': 4242, 'fal': 4579, 'pinch': 7623, 'amarrado': 552, 'cortina': 2708, 'ctl': 2771, 'paquete': 7334, 'falso': 4614, 'caer': 1584, 'gatos': 5046, 'dosificadota': 3730, 'safarse': 9231, 'espesor': 4381, 'reset': 8809, 'bloqueos': 1298, 'maniobras': 6338, 'valvula': 10865, 'tapada': 10055, 'bc': 1215, 'grapado': 5161, 'parches': 7371, 'batallar': 1188, 'pasar': 7409, 'conectores': 2428, 'conmutad': 2459, 'abrir': 53, 'abrrir': 60, 'revisa': 8989, 'temp': 10148, 'medidor': 6528, 'contaminacion': 2493, 'man': 6284, 'motoredector': 6791, 'sumergud': 9927, 'cepillo': 1987, 'lubricarlo': 6200, 'lubricar': 6199, 'desconecto': 3270, 'lav': 5897, 'poder': 7754, 'sacar': 9214, 'caminante': 1718, 'sa': 9206, 'bloqueo': 1297, 'hidde': 5315, 'arreglar': 845, 'hico': 5310, 'dc': 2936, 'formador': 4807, 'danarse': 2906, 'rueda': 9187, 'otente': 7263, 'dec': 2951, 'cambiar': 1694, 'surpte': 9969, 'danada': 2893, 'revicion': 8980, 'cargador': 1816, 'enfriamiento': 4115, 'moco': 6648, 'oring': 7220, 'conector': 2427, 'quedar': 8282, 'medida': 6514, 'ponerla': 7785, 'var': 10890, 'balero': 1075, 'pas': 7402, 'nd': 6924, 'conecta': 2418, 'intrumentacion': 5655, 'xv': 11215, 'paro': 7379, 'pasarse': 7411, 'aire': 349, 'jala': 5713, 'medicion': 6510, 'lamparas': 5869, 'restablece': 8867, 'cambiador': 1687, 'mo': 6645, 'generar': 5071, 'hijo': 5348, 'automat': 972, 'desbloquea': 3193, 'lve': 6225, 'subir': 9868, 'alto': 524, 'receptora': 8476, 'acido': 132, 'dio': 3632, 'posicio': 7847, 'wvsb': 11207, 'corregir': 2638, 'cortador': 2679, 'operacion': 7148, 'clima': 2215, 'brincar': 1470, 'secuencias': 9357, 'borr': 1365, 'fralla': 4862, 'sk': 9630, 'tomoa': 10357, 'fuerza': 4922, 'camio': 1722, 'barras': 1141, 'niveladora': 6978, 'nive': 6970, 'desajuste': 3128, 'cuchillas': 2821, 'apretando': 739, 'gato': 5044, 'actuador': 195, 'capado': 1772, 'elimina': 3904, 'sonia': 9777, 'controla': 2539, 'medidano': 6519, 'qedar': 8250, 'primera': 7977, 'irse': 5689, 'atrasmaniobras': 938, 'extras': 4558, 'sal': 9235, 'acarreador': 73, 'acoplamiento': 162, 'tapas': 10063, 'laterales': 5895, 'candado': 1757, 'diferencia': 3616, 'pistone': 7664, 'general': 5068, 'precio': 7893, 'enhebrado': 4149, 'baypasearse': 1206, 'sali': 9248, 'salid': 9251, 'botarsebomba': 1405, 'enrr': 4205, 'lentobatallar': 5958, 'entry': 4269, 'vapor': 10886, 'medidarecobre': 6522, 'sesse': 9521, 'pone': 7782, 'delgada': 3033, 'parar': 7363, 'formarse': 4812, 'hon': 5372, 'calibro': 1652, 'ltn': 6171, 'detmaster': 3570, 'caerse': 1589, 'bastidor': 1176, 'compuertas': 2360, 'soldan': 9721, 'eliminar': 3909, 'checa': 2048, 'volcador': 11077, 'inivirse': 5553, 'recetiar': 8482, 'personal': 7563, 'media': 6502, 'planeza': 7702, 'resetiar': 8821, 'medicio': 6509, 'vertical': 10994, 'flojo': 4775, 'contactor': 2482, 'cuich': 2839, 'limpiar': 6030, 'lampara': 5866, 'botonera': 1419, 'hidltn': 5317, 'desbloqueo': 3197, 'farrel': 4631, 'convertainer': 2553, 'retirar': 8915, 'purga': 8223, 'seguridad': 9403, 'hidraulico': 5331, 'reparan': 8730, 'fugas': 4935, 'kia': 5796, 'cuna': 2846, 'viela': 11037, 'afloja': 266, 'ft': 4899, 'purgan': 8225, 'tomas': 10356, 'expandir': 4490, 'fallla': 4606, 'expancion': 4486, 'entrad': 4241, 'realizan': 8410, 'diversas': 3685, 'actividades': 190, 'conectar': 2423, 'limpios': 6040, 'rell': 8700, 'girar': 5090, 'coc': 2236, 'cadena': 1568, 'instalacion': 5575, 'grapas': 5162, 'abriendo': 50, 'siamesa': 9545, 'enebrar': 4075, 'activo': 191, 'ultrasonico': 10758, 'rayas': 8374, 'contol': 2515, 'orilla': 7212, 'electrodo': 3865, 'enfriamie': 4111, 'agrega': 303, 'acomodar': 147, 'desoldarse': 3428, 'realiza': 8409, 'limieza': 6009, 'fotoceldas': 4835, 'atoramiento': 915, 'cableado': 1553, 'interruptor': 5642, 'bajan': 1045, 'torniquetes': 10418, 'silleta': 9581, 'ajustan': 386, 'cuentas': 2835, 'elevacion': 3887, 'boton': 1417, 'rapido': 8357, 'pulpito': 8207, 'bloquea': 1286, 'gruas': 5185, 'modulo': 6659, 'sala': 9236, 'electrica': 3842, 'lenta': 5955, 'actuadores': 196, 'disparejos': 3658, 'curva': 2857, 'conveyor': 2560, 'caen': 1581, 'gi': 5080, 'analizador': 594, 'continua': 2508, 'agregado': 304, 'tra': 10455, 'montacargas': 6737, 'aceri': 125, 'salirse': 9276, 'henebrado': 5297, 'rds': 8388, 'verticales': 10995, 'amarrados': 554, 'meropa': 6558, 'blokear': 1280, 'acei': 95, 'hicas': 5307, 'ba': 1024, 'limpia': 6021, 'decapado': 2958, 'lompiando': 6132, 'hatch': 5279, 'cojets': 2254, 'tenaza': 10176, 'saca': 9208, 'descartes': 3241, 'maquina': 6402, 'porqu': 7814, 'segmentos': 9381, 'flaps': 4741, 'dana': 2891, 'diafragma': 3592, 'inyeccion': 5676, 'movia': 6822, 'transmisor': 10547, 'doblador': 3699, 'mom': 6706, 'arr': 810, 'suspende': 9973, 'orden': 7194, 'cizalla': 2183, 'ambos': 570, 'lados': 5835, 'desajustan': 3124, 'ja': 5712, 'libre': 5996, 'uca': 10740, 'lv': 6224, 'desenro': 3300, 'grapa': 5160, 'banana': 1086, 'quebrada': 8264, 'rtm': 9182, 'botarce': 1395, 'reductor': 8585, 'molde': 6668, 'cara': 1795, 'figa': 4691, 'ancha': 598, 'pulid': 8200, 'rutina': 9201, 'mp': 6835, 'ebne': 3800, 'via': 11004, 'skinpass': 9639, 'continuar': 2511, 'tem': 10142, 'tcuba': 10114, 'enfriamient': 4114, 'mineral': 6621, 'recargarse': 8469, 'pay': 7456, 'off': 7101, 'volver': 11112, 'ce': 1934, 'centrar': 1973, 'di': 3589, 'msit': 6843, 'balancear': 1066, 'abanico': 8, 'cfn': 2026, 'descalibre': 3216, 'lectura': 5941, 'rango': 8349, 'saturado': 9288, 'bus': 1513, 'anodo': 620, 'extremo': 4562, 'vastaco': 10913, 'ojo': 7113, 'rodil': 9078, 'estructura': 4440, 'area': 777, 'carpeta': 1827, 'amarrarce': 560, 'nudos': 7040, 'reten': 8902, 'proceso': 8025, 'corr': 2609, 'chumacera': 2107, 'ch': 2030, 'compresor': 2351, 'alumb': 533, 'tensio': 10194, 'bateria': 1199, 'aceria': 126, 'busco': 1517, 'encontro': 4046, 'rotatoria': 9159, 'distribuidora': 3679, 'display': 3662, 'gama': 5014, 'cerrada': 2003, 'apoyo': 731, 'rp': 9167, 'emg': 3953, 'contacto': 2480, 'cero': 1995, 'veloci': 10941, 'poniente': 7794, 'er': 4299, 'pase': 7413, 'permisibo': 7540, 'carta': 1849, 'primer': 7976, 'solicitud': 9741, 'herramienta': 5303, 'cuadrilla': 2783, 'salir': 9274, 'lubroclean': 6211, 'reseteo': 8818, 'inversor': 5665, 'riel': 9032, 'batarse': 1198, 'arra': 811, 'marcar': 6421, 'te': 10118, 'reviza': 9011, 'popr': 7798, 'encienden': 4027, 'quemadores': 8295, 'preparacion': 7926, 'equiposervicios': 4294, 'primetal': 7981, 'problemas': 8016, 'humedad': 5406, 'verific': 10985, 'camb': 1682, 'tappers': 10075, 'mecanismo': 6494, 'muela': 6865, 'atorado': 911, 'manchas': 6289, 'scrap': 9309, 'boller': 1332, 'calibracion': 1636, 'desajustars': 3126, 'aflojan': 269, 'cunnas': 2855, 'basculas': 1164, 'repacion': 8720, 'cambi': 1684, 'sello': 9427, 'instalar': 5579, 'pr': 7881, 'modifican': 6656, 'entrega': 4265, 'alternador': 523, 'deteccion': 3544, 'menor': 6541, 'fusible': 4977, 'rectificador': 8548, 'rods': 9094, 'trabajo': 10471, 'trabaj': 10461, 'raspadores': 8364, 'sep': 9461, 'magnetico': 6257, 'reinstalo': 8679, 'chumaceras': 2109, 'am': 539, 'antiguo': 638, 'motores': 6795, 'balbula': 1071, 'alumbrado': 534, 'soldadora': 9704, 'ajusta': 381, 'set': 9523, 'corrector': 2626, 'elongacion': 3920, 'tanques': 10048, 'activarse': 188, 'bandera': 1099, 'llenar': 6091, 'reserva': 8808, 'bit': 1263, 'censor': 1956, 'regular': 8672, 'precion': 7894, 'repartidor': 8740, 'remoto': 8709, 'polipasto': 7767, 'trabajando': 10467, 'comal': 2308, 'cytg': 2865, 'aline': 469, 'fuente': 4912, 'estira': 4414, 'colocar': 2296, 'pernos': 7557, 'postes': 7865, 'espectro': 4369, 'deposito': 3080, 'reporta': 8774, 'movimiento': 6830, 'eccesivo': 3804, 'agraga': 297, 'union': 10782, 'danado': 2895, 'equipo': 4286, 'enciende': 4025, 'diese': 3611, 'manga': 6309, 'capada': 1770, 'colapsar': 2269, 'recuperar': 8562, 'prender': 7916, 'foco': 4795, 'verde': 10984, 'bases': 1168, 'revizar': 9014, 'funcionamiento': 4949, 'coples': 2582, 'brid': 1460, 'enhebrar': 4155, 'apaga': 652, 'io': 5684, 'maroma': 6429, 'brinca': 1467, 'siguiente': 9572, 'seteo': 9524, 'mentorse': 6551, 'direccionados': 3640, 'apareadoras': 670, 'cierran': 2138, 'topan': 10371, 'fuera': 4914, 'desorillador': 3439, 'ses': 9512, 'tag': 10018, 'entrar': 4259, 'tope': 10375, 'escoria': 4327, 'pasearce': 7416, 'controlar': 2542, 'bypass': 1529, 'tor': 10379, 'coopero': 2567, 'ctrl': 2773, 'orill': 7211, 'oparar': 7140, 'cassetes': 1880, 'cassettes': 1883, 'salido': 9268, 'criba': 2739, 'suelto': 9894, 'criva': 2744, 'gilson': 5084, 'bandas': 1095, 'prende': 7914, 'camioneta': 1726, 'utilitaria': 10803, 'thermatool': 10254, 'wh': 11166, 'uso': 10798, 'bascula': 1162, 'enrrollador': 4212, 'sw': 9980, 'intermitente': 5628, 'guardias': 5210, 'venteo': 10964, 'star': 9832, 'querer': 8303, 'misma': 6629, 'nudo': 7039, 'rol': 9099, 'acum': 209, 'cortadores': 2686, 'recorrido': 8535, 'equipos': 4293, 'calibrando': 1644, 'ab': 2, 'fabrica': 4568, 'reductore': 8586, 'aparecen': 672, 'congelarse': 2449, 'superior': 9944, 'engrane': 4134, 'desarmado': 3171, 'transmicion': 10540, 'sigma': 9564, 'congelar': 2448, 'empaques': 3972, 'tv': 10724, 'detecta': 3547, 'cerrados': 2007, 'quiere': 8310, 'cerrar': 2011, 'canados': 1737, 'gnv': 5113, 'voltaje': 11087, 'pisada': 7649, 'oprdr': 7178, 'desolda': 3422, 'tuerca': 10707, 'cali': 1628, 'puede': 8180, 'moustro': 6815, 'flej': 4755, 'alineacion': 473, 'turbina': 10715, 'bj': 1265, 'prepara': 7925, 'ducto': 3780, 'convertidor': 2556, 'torreta': 10430, 'torretas': 10432, 'calentamiento': 1623, 'gamm': 5016, 'descarters': 3240, 'desamarrar': 3156, 'envio': 4270, 'manu': 6370, 'dispositivos': 3666, 'electricos': 3852, 'mm': 6641, 'tije': 10276, 'fosa': 4820, 'ondas': 7132, 'codo': 2244, 'epos': 4277, 'cremallera': 2734, 'lad': 5829, 'reviar': 8978, 'acople': 166, 'tensi': 10193, 'sobrecorriente': 9677, 'giratorio': 5094, 'despuntad': 3506, 'despuntadora': 3510, 'corta': 2675, 'despuntador': 3509, 'tijer': 10277, 'pulir': 8203, 'tene': 10183, 'aplasta': 712, 'rebabas': 8432, 'fibra': 4685, 'ceramica': 1991, 'inyectores': 5682, 'ten': 10175, 'desperdici': 3468, 'botaron': 1400, 'des': 3094, 'reparo': 8738, 'arrancador': 818, 'vent': 10955, 'desague': 3116, 'drenaje': 3745, 'exterior': 4534, 'suelta': 9891, 'deparalelismo': 3069, 'reactivar': 8399, 'ato': 901, 'mec': 6484, 'dentro': 3066, 'abierta': 26, 'cable': 1552, 'trozado': 10676, 'tras': 10581, 'medidarecobr': 6521, 'rtd': 9179, 'skp': 9640, 'lectrodo': 5939, 'estopero': 4424, 'enfriadora': 4103, 'displey': 3663, 'ammarrarse': 579, 'exp': 4480, 'avanzar': 996, 'vaipasearse': 10822, 'baipasearse': 1038, 'tanqu': 10045, 'surnte': 9966, 'detenerse': 3557, 'inicio': 5546, 'carrera': 1831, 'hac': 5254, 'ppal': 7875, 'fotocelda': 4830, 'auxiliar': 985, 'ton': 10358, 'revizan': 9012, 'trasmision': 10609, 'otarse': 7251, 'covertidor': 2723, 'reportan': 8776, 'termopar': 10237, 'ventury': 10980, 'paralelismo': 7352, 'cab': 1532, 'deslizador': 3394, 'torre': 10427, 'mol': 6667, 'encender': 4017, 'wmesa': 11191, 'empaquetadolengueta': 3974, 'doblada': 3697, 'prensa': 7922, 'retrege': 8930, 'empujador': 3998, 'bol': 1323, 'retraje': 8927, 'cor': 2587, 'apret': 736, 'cuchill': 2819, 'desacopla': 3101, 'copple': 2586, 'daado': 2869, 'carrucel': 1845, 'botado': 1384, 'trasfer': 10590, 'falsa': 4610, 'batalla': 1185, 'flejado': 4757, 'lsw': 6166, 'desarmar': 3172, 'caster': 1885, 'dummy': 3787, 'dunny': 3789, 'check': 2057, 'deslisadores': 3386, 'estan': 4405, 'junto': 5777, 'varios': 10905, 'enn': 4168, 'taim': 10020, 'rielesde': 9034, 'paletas': 7311, 'probador': 8009, 'balance': 1063, 'cargas': 1824, 'termatool': 10219, 'volsas': 11080, 'segundas': 9396, 'tarraja': 10094, 'kosfeld': 5807, 'corrientes': 2660, 'eddy': 3810, 'acarreadores': 76, 'probadora': 8010, 'barnihorno': 1120, 'salidacadena': 9254, 'transpo': 10552, 'camaras': 1680, 'yoder': 11221, 'acelerador': 120, 'tubos': 10703, 'escrap': 4329, 'conv': 2548, 'separador': 9466, 'mag': 6246, 'flecha': 4749, 'baleros': 1076, 'ventilador': 10970, 'distribuidor': 3678, 'perf': 7526, 'ent': 4227, 'mentorskp': 6552, 'opera': 7145, 'velocidad': 10945, 'guia': 5214, 'entfuera': 4234, 'aramado': 767, 'sup': 9938, 'delga': 3031, 'intercambiador': 5611, 'prueb': 8110, 'coch': 2238, 'mordazas': 6758, 'genera': 5062, 'cerrando': 2010, 'grafito': 5156, 'mone': 6714, 'enderezar': 4064, 'pieza': 7605, 'metalica': 6577, 'computadoras': 2362, 'trabaja': 10462, 'movil': 6828, 'pdl': 7466, 'acumulador': 221, 'sierra': 9557, 'calibrad': 1638, 'slitter': 9658, 'abatible': 14, 'antioxidante': 644, 'cunna': 2854, 'biela': 1245, 'repara': 8722, 'purtga': 8235, 'caparse': 1778, 'mand': 6290, 'autoalineador': 963, 'pc': 7460, 'mas': 6436, 'tiempo': 10266, 'forma': 4804, 'echa': 3805, 'andar': 605, 'altura': 531, 'desperdicio': 3469, 'bolsa': 1335, 'acumulamiento': 224, 'numero': 7049, 'sensar': 9445, 'avan': 989, 'ajustador': 384, 'llave': 6079, 'camra': 1733, 'suciedad': 9880, 'crmping': 2746, 'topa': 10370, 'apretar': 740, 'perdio': 7524, 'secuenci': 9355, 'enhebradora': 4151, 'ho': 5363, 'retira': 8911, 'cuerpo': 2838, 'marcas': 6423, 'derrame': 3091, 'boto': 1416, 'cadenas': 1570, 'giran': 5088, 'dos': 3727, 'veces': 10933, 'inspeccion': 5565, 'rampa': 8347, 'dado': 2875, 'trabajan': 10465, 'mensulas': 6544, 'galv': 5002, 'barniz': 1125, 'monobeam': 6728, 'abanza': 11, 'blok': 1277, 'desajustado': 3123, 'entran': 4257, 'patina': 7439, 'run': 9195, 'conexciones': 2431, 'detiene': 3566, 'lp': 6151, 'repetir': 8751, 'scruber': 9317, 'desperdiciosponien': 3471, 'plato': 7719, 'retirando': 8914, 'electrodos': 3867, 'enfriam': 4105, 'mang': 6308, 'escrepa': 4330, 'serrar': 9495, 'bartallar': 1156, 'motrz': 6814, 'cierra': 2137, 'aplicacion': 718, 'silco': 9576, 'rosa': 9136, 'arrancar': 822, 'fallan': 4593, 'mordasas': 6755, 'abr': 38, 'ciclon': 2129, 'carrete': 1832, 'rociadores': 9064, 'fabrican': 4572, 'toberas': 10334, 'reduccion': 8580, 'bis': 1252, 'barnizadora': 1129, 'vota': 11118, 'barnimesadesalidapistontope': 1122, 'soldadoflecha': 9702, 'amarrada': 549, 'permisivo': 7544, 'poste': 7864, 'capa': 1766, 'haciat': 5266, 'motorreductor': 6801, 'nro': 7024, 'hdrlco': 5292, 'colocando': 2295, 'nivelador': 6977, 'cunas': 2848, 'materia': 6452, 'levantada': 5971, 'bal': 1061, 'votarce': 11121, 'apagan': 658, 'trancito': 10511, 'acite': 137, 'atoronenrollador': 931, 'rebaba': 8431, 'retiro': 8916, 'solicitan': 9738, 'escuadre': 4340, 'recarga': 8461, 'pinas': 7618, 'accionar': 91, 'portaherramientas': 7827, 'cambiando': 1692, 'electrod': 3864, 'enjuague': 4161, 'puerta': 8187, 'muestreo': 6883, 'limpiador': 6023, 'suplado': 9950, 'pon': 7779, 'cuadrada': 2781, 'pasillo': 7422, 'soltarse': 9757, 'lineas': 6053, 'expuls': 4515, 'mantenimiento': 6363, 'junta': 5775, 'pfd': 7580, 'saturarse': 9290, 'lone': 6133, 'termina': 10225, 'fabricar': 4575, 'terminan': 10229, 'soluble': 9762, 'descolqapsa': 3253, 'safa': 9224, 'cad': 1562, 'cabina': 1548, 'lubritalia': 6206, 'cuajado': 2786, 'restblece': 8880, 'ntepte': 7032, 'desconecta': 3261, 'meguea': 6535, 'completamente': 2344, 'monitorea': 6718, 'acumular': 225, 'fee': 4659, 'tapado': 10057, 'habre': 5250, 'mordida': 6762, 'baipasear': 1036, 'apizonador': 706, 'manualmente': 6378, 'reducto': 8584, 'acciono': 93, 'speedmaster': 9812, 'simulacion': 9587, 'activ': 175, 'acti': 173, 'prueba': 8111, 'looper': 6138, 'tdcsymadin': 10116, 'lmot': 6113, 'qeda': 8249, 'secador': 9332, 'mantiene': 6365, 'bajarse': 1051, 'aser': 870, 'posicionador': 7853, 'vpsa': 11130, 'nylamid': 7055, 'traslape': 10605, 'pude': 8174, 'reventarse': 8963, 'soldado': 9700, 'soldad': 9697, 'cassette': 1882, 'mala': 6267, 'cedulas': 1945, 'entr': 4237, 'pendulo': 7514, 'programado': 8047, 'boba': 1310, 'dremaje': 3742, 'sotano': 9808, 'enderezadora': 4063, 'cintas': 2170, 'cloch': 2218, 'trasladar': 10600, 'repotan': 8784, 'metodo': 6594, 'sintmotor': 9603, 'caparon': 1777, 'fusibles': 4979, 'revent': 8954, 'do': 3693, 'prote': 8063, 'caida': 1595, 'energia': 4088, 'kva': 5822, 'energetico': 4086, 'abierto': 28, 'anillo': 613, 'servicios': 9502, 'ajenascaida': 364, 'agragado': 298, 'detergen': 3561, 'delgado': 3036, 'banco': 1090, 'shid': 9536, 'cortan': 2697, 'par': 7337, 'calor': 1665, 'discos': 3651, 'casset': 1878, 'bo': 1308, 'tensiones': 10199, 'flexion': 4767, 'drives': 3760, 'desviador': 3531, 'llegan': 6084, 'kg': 5794, 'mair': 6264, 'amarre': 564, 'caidas': 1597, 'amarra': 547, 'bolteador': 1337, 'revisio': 9001, 'inserto': 5560, 'hidr': 5320, 'sesfalla': 9515, 'dano': 2918, 'valanceo': 10828, 'extractora': 4550, 'desajustad': 3120, 'mskp': 6844, 'tea': 10119, 'elevador': 3888, 'preimetal': 7905, 'cambioi': 1702, 'serv': 9496, 'runb': 9196, 'pta': 8132, 'habilita': 5237, 'atomizador': 904, 'calibrado': 1640, 'galvanizado': 5007, 'otto': 7272, 'pendiente': 7512, 'rvision': 9204, 'eslabon': 4352, 'faulea': 4641, 'enrrol': 4206, 'ductos': 3782, 'fe': 4654, 'vidrador': 11031, 'vc': 10920, 'revisr': 9008, 'proteccion': 8068, 'patinarce': 7447, 'varia': 10893, 'metere': 6586, 'nuevamente': 7043, 'rerferencia': 8798, 'atorace': 907, 'dobl': 3695, 'empque': 3995, 'daarse': 2873, 'panel': 7323, 'cojet': 2253, 'poniendo': 7792, 'colcha': 2275, 'correctamente': 2620, 'establese': 4400, 'rack': 8330, 'oriila': 7208, 'enfriament': 4108, 'dis': 3648, 'pierde': 7601, 'medio': 6530, 'op': 7139, 'coriente': 2602, 'alimenta': 442, 'permi': 7535, 'drejane': 3741, 'sonta': 9779, 'sincronisan': 9595, 'cabezales': 1539, 'solto': 9758, 'disco': 3650, 'bolsas': 1336, 'corneta': 2604, 'desajusta': 3119, 'alineamiento': 478, 'hule': 5400, 'cajon': 1607, 'revienta': 8982, 'tarda': 10084, 'activada': 178, 'estarse': 4410, 'recargando': 8464, 'coloca': 2291, 'dsenrrollador': 3773, 'fracturo': 4859, 'partirse': 7401, 'segmen': 9378, 'rechuparse': 8491, 'traslapar': 10604, 'carcaza': 1804, 'sumergido': 9925, 'rodi': 9077, 'aut': 959, 'ayudar': 1019, 'levantar': 5976, 'elev': 3882, 'ajustes': 395, 'falt': 4617, 'agujero': 328, 'embudo': 3942, 'provoca': 8096, 'deso': 3419, 'computadora': 2361, 'recalentador': 8454, 'ventolador': 10977, 'guild': 5219, 'rotativa': 9155, 'ser': 9483, 'enrolladores': 4197, 'libr': 5995, 'pide': 7596, 'titan': 10315, 'revisan': 8991, 'senales': 9437, 'abiertocerrado': 30, 'rotacion': 9153, 'muesquear': 6874, 'caparce': 1776, 'mot': 6776, 'aumento': 953, 'ros': 9135, 'au': 946, 'onda': 7130, 'falsea': 4611, 'darle': 2927, 'habilitando': 5241, 'danieli': 2914, 'amortiguador': 580, 'aditamiento': 254, 'polea': 7761, 'resetearlo': 8816, 'picarle': 7590, 'draif': 3736, 'tr': 10454, 'levanta': 5970, 'inspector': 5568, 'pegado': 7495, 'tijeraa': 10279, 'atorrada': 932, 'despunte': 3514, 'sufi': 9901, 'rt': 9177, 'saturo': 9291, 'vs': 11133, 'ups': 10790, 'caldera': 1613, 'transferencia': 10526, 'fuer': 4913, 'tralacion': 10505, 'vacio': 10816, 'lubrica': 6186, 'damper': 2889, 'almacen': 501, 'biseladora': 1261, 'alimenty': 462, 'deslizadores': 3397, 'molion': 6696, 'formado': 4806, 'colector': 2280, 'desor': 3432, 'leer': 5946, 'pres': 7933, 'pv': 8239, 'scal': 9296, 'breacker': 1449, 'diametro': 3599, 'parche': 7370, 'canasta': 1743, 'reventada': 8957, 'separa': 9463, 'magnetic': 6254, 'tw': 10727, 'calentarse': 1625, 'motore': 6790, 'raya': 8371, 'falsear': 4612, 'proximidad': 8102, 'checando': 2052, 'reseptora': 8807, 'encuentra': 4050, 'vaciado': 10811, 'limpian': 6027, 'salas': 9237, 'electricas': 3846, 'fotocel': 4827, 'abrise': 59, 'pisto': 7659, 'casette': 1870, 'amarrars': 561, 'sacr': 9221, 'arastre': 773, 'tardar': 10085, 'sie': 9554, 'daper': 2923, 'trasmisores': 10613, 'tanq': 10041, 'phumed': 7587, 'fv': 4985, 'mechero': 6499, 'dia': 3590, 'polvos': 7773, 'positivo': 7861, 'desenrr': 3317, 'xsv': 11211, 'reestablece': 8601, 'deflector': 3001, 'hotmang': 5389, 'uh': 10745, 'traslacion': 10597, 'transita': 10535, 'tunel': 10714, 'vel': 10937, 'llenarse': 6094, 'aguj': 322, 'ac': 61, 'tiras': 10304, 'largas': 5884, 'flujos': 4788, 'centros': 1979, 'cen': 1954, 'reemplazar': 8598, 'probar': 8012, 'safarze': 9232, 'quemador': 8293, 'aviso': 1009, 'fro': 4889, 'centrador': 1967, 'molin': 6673, 'topes': 10376, 'falto': 4625, 'entraban': 4240, 'tencione': 10179, 'lecturas': 5942, 'ventearse': 10962, 'alco': 424, 'ajustando': 387, 'cruceta': 2755, 'ningun': 6962, 'kit': 5800, 'desgasificador': 3361, 'falal': 4581, 'reg': 8630, 'jiran': 5737, 'repono': 8768, 'lts': 6173, 'dep': 3067, 'deposit': 3078, 'boquilla': 1361, 'transformaor': 10531, 'trafer': 10492, 'apisonadores': 701, 'presi': 7942, 'niv': 6969, 'pasa': 7403, 'segiuridad': 9374, 'compu': 2358, 'corriminto': 2668, 'mangue': 6318, 'sujetador': 9913, 'matius': 6459, 'vigase': 11046, 'cu': 2777, 'valpasea': 10851, 'quedando': 8280, 'regulado': 8665, 'caudal': 1900, 'cuentametros': 2832, 'enfto': 4124, 'vacias': 10815, 'haber': 5235, 'ta': 9995, 'impresora': 5447, 'boletas': 1330, 'lin': 6045, 'arrastrador': 835, 'insp': 5561, 'rebicion': 8444, 'olanes': 7117, 'cincrow': 2165, 'matafilos': 6446, 'flojos': 4776, 'provocan': 8097, 'flojas': 4774, 'cua': 2778, 'golpes': 5120, 'rechuparce': 8490, 'desemvuelve': 3288, 'caja': 1605, 'platina': 7717, 'chumasera': 2115, 'tornillera': 10405, 'suleto': 9918, 'localizar': 6122, 'origen': 7206, 'cerro': 2016, 'cerr': 1998, 'servidor': 9504, 'ruido': 9190, 'extrano': 4555, 'tira': 10297, 'apl': 709, 'suber': 9859, 'pued': 8178, 'ajustadores': 385, 'llav': 6078, 'rellenar': 8704, 'oilmist': 7112, 'madrina': 6243, 'cuneta': 2850, 'ventilacion': 10967, 'formadores': 4809, 'agujerado': 326, 'continuacion': 2509, 'longitud': 6134, 'rodamientos': 9072, 'rolpin': 9118, 'quedandose': 8281, 'aba': 3, 'desoril': 3434, 'sedaso': 9363, 'aseite': 869, 'pt': 8131, 'recupera': 8557, 'desconectado': 3264, 'ruedas': 9188, 'oriente': 7201, 'desarmaado': 3170, 'alinear': 479, 'suena': 9896, 'chicharra': 2065, 'ferry': 4677, 'mojan': 6664, 'perdida': 7521, 'bendigse': 1227, 'sist': 9609, 'centra': 1962, 'destapar': 3522, 'ventiladoir': 10969, 'preventivo': 7967, 'comioneta': 2331, 'tace': 10013, 'alimentaciond': 448, 'lcpaletas': 5921, 'alim': 438, 'revolvercople': 9018, 'alimrevolvermal': 466, 'montaje': 6739, 'pa': 7297, 'desalinean': 3145, 'stacker': 9826, 'operad': 7150, 'cto': 2772, 'rellena': 8702, 'uhidaceite': 10747, 'temperat': 10155, 'guarda': 5205, 'marcha': 6424, 'trabajos': 10472, 'topograf': 10378, 'moto': 6781, 'tironear': 10313, 'orrin': 7235, 'aplica': 716, 'rpeoner': 9168, 'niveles': 6988, 'llena': 6089, 'recocid': 8521, 'prelava': 7909, 'hp': 5391, 'fallas': 4599, 'mes': 6559, 'febrero': 4655, 'finl': 4714, 'retenedor': 8906, 'rebabeador': 8435, 'scra': 9307, 'chopp': 2085, 'desacoplo': 3109, 'dracker': 3735, 'trasport': 10623, 'abajo': 5, 'corrugarse': 2673, 'desalinead': 3136, 'estr': 4427, 'flejadora': 4759, 'mangera': 6312, 'tran': 10510, 'ep': 4275, 'salidapor': 9262, 'verti': 10991, 'nivelacion': 6974, 'apagar': 660, 'restableser': 8877, 'desen': 3289, 'lampora': 5873, 'aceitado': 102, 'tracking': 10486, 'emparejar': 3982, 'pesar': 7572, 'pe': 7477, 'congela': 2443, 'restablecen': 8868, 'elec': 3832, 'climas': 2216, 'fb': 4646, 'cales': 1627, 'diario': 3602, 'identificaci': 5420, 'alnacen': 509, 'kvolteadorjuego': 5823, 'excesivo': 4464, 'nucleo': 7038, 'lcprobadorafalta': 5930, 'pego': 7503, 'moliuno': 6698, 'trabja': 10480, 'floja': 4772, 'nivelado': 6976, 'estiron': 4419, 'amarran': 556, 'tronillo': 10669, 'trosado': 10673, 'quiebra': 8306, 'volteador': 11094, 'eliminana': 3908, 'recubrimiento': 8554, 'tambor': 10033, 'enrollarse': 4202, 'bien': 1247, 'expansion': 4493, 'expanc': 4483, 'sincronia': 9593, 'pec': 7479, 'hidrualico': 5343, 'retablecer': 8899, 'line': 6049, 'preciones': 7896, 'elect': 3837, 'detergente': 3563, 'li': 5989, 'soldeo': 9730, 'catenaria': 1895, 'recargon': 8473, 'anteri': 627, 'fuchs': 4908, 'abiert': 25, 'detmater': 3573, 'pant': 7326, 'agreg': 302, 'det': 3537, 'payoff': 7458, 'derecho': 3087, 'lub': 6176, 'extension': 4532, 'bloqueadores': 1293, 'mt': 6846, 'resectora': 8806, 'whformadoreductor': 11173, 'whformadofosa': 11171, 'calibraciones': 1637, 'tirando': 10300, 'tardarse': 10086, 'solucion': 9765, 'rolado': 9101, 'seg': 9370, 'quijada': 8312, 'tonel': 10360, 'respuesta': 8854, 'accionado': 86, 'sura': 9961, 'viceversa': 11026, 'puntas': 8215, 'colas': 2272, 'pulputo': 8209, 'aux': 982, 'alarga': 405, 'servo': 9507, 'gpomotriz': 5138, 'izquierdo': 5710, 'trasero': 10589, 'resetear': 8815, 'comunicacio': 2375, 'solenoide': 9733, 'calibr': 1631, 'darpermiso': 2928, 'laminacion': 5855, 'recuperadores': 8561, 'planchon': 7691, 'posiciona': 7850, 'botandose': 1391, 'clevis': 2209, 'transportadora': 10558, 'mueven': 6888, 'liberar': 5993, 'ponie': 7790, 'driver': 3757, 'cepillos': 1988, 'fa': 4564, 'embreag': 3936, 'electricamente': 3844, 'valv': 10855, 'mangueras': 6325, 'bandav': 1096, 'sige': 9563, 'pegadas': 7494, 'fala': 4580, 'transformador': 10529, 'sen': 9434, 'cedula': 1943, 'bloquean': 1294, 'difiultad': 3625, 'arras': 832, 'arratra': 839, 'restableciendo': 8870, 'tiemp': 10265, 'enrollada': 4190, 'enrolla': 4188, 'rodills': 9088, 'rechu': 8485, 'sincro': 9592, 'desgastados': 3366, 'dificultad': 3623, 'bote': 1413, 'elecrica': 3833, 'carse': 1848, 'leva': 5963, 'giro': 5095, 'esp': 4358, 'sobrevoltaje': 9681, 'recti': 8541, 'canal': 1738, 'niple': 6964, 'arrancan': 820, 'gpgruapr': 5134, 'palaneza': 7309, 'problema': 8015, 'comunicaion': 2382, 'boma': 1340, 'copl': 2578, 'manda': 6291, 'responder': 8851, 'quemo': 8298, 'tarrajamaircabezalotebandadeavanze': 10096, 'pulmon': 8204, 'sosa': 9803, 'baller': 1077, 'fijar': 4695, 'barandal': 1108, 'aceites': 117, 'tap': 10053, 'ppm': 7877, 'limpio': 6039, 'sujecion': 9910, 'perder': 7518, 'graficador': 5152, 'brtequer': 1493, 'piden': 7597, 'enfriador': 4102, 'conductivida': 2409, 'antimanchas': 641, 'recocidso': 8524, 'llevarse': 6104, 'muestre': 6880, 'ra': 8329, 'menos': 6542, 'eneh': 4076, 'retrocede': 8934, 'transversal': 10574, 'stopcheck': 9843, 'inhibio': 5534, 'is': 5692, 'elevadoras': 3890, 'tarr': 10093, 'red': 8567, 'whpreformadoguia': 11177, 'lateral': 5893, 'fractuyra': 4861, 'extraordinaria': 4557, 'wrb': 11198, 'bending': 1228, 'colaquitar': 2271, 'ava': 988, 'frena': 4869, 'colaajustes': 2258, 'soldadoramaniobras': 9710, 'extr': 4539, 'contraer': 2519, 'descargar': 3226, 'recibidorse': 8498, 'colapsa': 2266, 'torilleria': 10387, 'proteccione': 8070, 'fabricacion': 4570, 'parrilas': 7386, 'viscosidad': 11054, 'despegarse': 3463, 'hene': 5295, 'band': 1091, 'colafalla': 2263, 'rodill': 9079, 'soldadoraajuste': 9706, 'fre': 4865, 'tironeo': 10314, 'desfazada': 3350, 'posicionado': 7852, 'genero': 5072, 'doble': 3705, 'desprendimiento': 3495, 'of': 7099, 'colectora': 2281, 'desajustar': 3125, 'apertura': 679, 'inspeccionar': 5566, 'parte': 7393, 'cortaba': 2676, 'apisonador': 700, 'moviendo': 6826, 'cinsa': 2166, 'suficiente': 9902, 'adq': 257, 'arrastre': 838, 'landis': 5877, 'pipas': 7644, 'imagen': 5431, 'mecheros': 6500, 'extraer': 4554, 'portapastil': 7830, 'cort': 2674, 'malacate': 6268, 'as': 864, 'sitema': 9629, 'operando': 7158, 'tuercas': 10709, 'vastago': 10914, 'hembra': 5293, 'voltear': 11100, 'gps': 5142, 'instalasion': 5584, 'antena': 625, 'cam': 1676, 'ment': 6545, 'faro': 4630, 'pinhc': 7634, 'despues': 3501, 'caeelectrico': 1578, 'ocupado': 7095, 'skpass': 9641, 'colaestarse': 2262, 'activando': 182, 'tranfer': 10512, 'sltter': 9665, 'cama': 1677, 'cabe': 1533, 'mampara': 6282, 'gpr': 5140, 'start': 9834, 'voltage': 11086, 'nuevo': 7045, 'ventea': 10960, 'tencion': 10178, 'filtros': 4707, 'vieja': 11033, 'alm': 497, 'wolking': 11195, 'dobladora': 3700, 'tablon': 10010, 'colcar': 2274, 'pertno': 7565, 'cin': 2157, 'servos': 9509, 'caminar': 1720, 'primetalsmolde': 7983, 'hi': 5305, 'decepillos': 2972, 'sobrecar': 9674, 'desga': 3355, 'calibradora': 1642, 'pu': 8173, 'stw': 9846, 'recargar': 8465, 'oplim': 7174, 'lamparacorrector': 5867, 'zona': 11242, 'tons': 10368, 'bom': 1339, 'enro': 4183, 'forza': 4815, 'catodo': 1899, 'bancada': 1089, 'pomini': 7778, 'oprime': 7183, 'arrancand': 821, 'registro': 8647, 'tallado': 10025, 'viene': 11039, 'desmontaje': 3408, 'desconeccion': 3259, 'desnimetro': 3411, 'hombre': 5370, 'reparando': 8731, 'arenador': 787, 'topando': 10372, 'dearranque': 2946, 'variasi': 10902, 'chope': 2083, 'arbol': 774, 'superi': 9942, 'enhebre': 4156, 'entradan': 4253, 'marcarse': 6422, 'transpor': 10554, 'revoluciones': 9016, 'techo': 10124, 'rien': 9035, 'esmeril': 4356, 'cat': 1889, 'redi': 8573, 'revientan': 8983, 'toreta': 10386, 'rumbando': 9194, 'limpi': 6020, 'senso': 9447, 'cerrarse': 2015, 'pedazo': 7485, 'aprochim': 754, 'ahulado': 342, 'pan': 7316, 'palanca': 7308, 'contactos': 2484, 'rex': 9022, 'scrubbe': 9314, 'loperador': 6143, 'raspador': 8363, 'selector': 9417, 'cajas': 1606, 'calentadoras': 1619, 'arma': 792, 'crgador': 2738, 'despegadora': 3461, 'foitocelda': 4797, 'botoneras': 1420, 'centradoras': 1969, 'est': 4399, 'enhebrador': 4150, 'segundos': 9398, 'apag': 651, 'seuridad': 9526, 'rosca': 9142, 'rep': 8718, 'alumbrados': 536, 'dparo': 3732, 'emse': 4003, 'parametros': 7359, 'blockeo': 1275, 'terraja': 10244, 'desblockear': 3190, 'pila': 7607, 'largo': 5886, 'ptr': 8165, 'ngran': 6952, 'pilas': 7608, 'sedimentacion': 9368, 'diodo': 3633, 'protisto': 8086, 'sucios': 9883, 'campana': 1729, 'cepi': 1984, 'birlos': 1251, 'reduct': 8583, 'nailamin': 6905, 'tone': 10359, 'repuso': 8794, 'grafica': 5151, 'calib': 1629, 'po': 7744, 'crimping': 2741, 'sucio': 9881, 'maracarse': 6408, 'xno': 11210, 'telescopicas': 10140, 'cambiaron': 1697, 'apisioandores': 688, 'restablec': 8866, 'desconec': 3258, 'rectificadores': 8549, 'cont': 2476, 'gca': 5051, 'punte': 8217, 'cato': 1898, 'reactor': 8400, 'paila': 7302, 'atorad': 908, 'caido': 1599, 'clevins': 2208, 'engranaje': 4133, 'interior': 5619, 'final': 4710, 'cayo': 1910, 'pp': 7874, 'pararse': 7367, 'mitad': 6633, 'ca': 1531, 'terminales': 10228, 'lnp': 6116, 'ocasiones': 7089, 'equiposistemas': 4296, 'aguasistema': 321, 'conta': 2477, 'alimentarrollo': 459, 'apagarces': 663, 'co': 2234, 'jets': 5735, 'termico': 10223, 'solicita': 9737, 'revise': 8999, 'reels': 8595, 'peso': 7576, 'enlongaci': 4165, 'calibrador': 1641, 'angulos': 612, 'programada': 8046, 'metiendo': 6592, 'exiros': 4472, 'barn': 1114, 'averiada': 1003, 'plogas': 7736, 'tornill': 10399, 'copera': 2576, 'aumentos': 954, 'fundido': 4961, 'poro': 7811, 'tornillereia': 10406, 'fugar': 4933, 'clavarse': 2199, 'central': 1970, 'ot': 7250, 'ht': 5393, 'poni': 7789, 'gap': 5029, 'amarrase': 563, 'esperando': 4374, 'firma': 4717, 'mtto': 6854, 'cortadordesper': 2683, 'bloqueador': 1291, 'resetas': 8811, 'desblockeo': 3191, 'cabez': 1534, 'calow': 1668, 'hug': 5398, 'permis': 7538, 'sincronizacion': 9597, 'barrotes': 1154, 'delrodillo': 3040, 'valbula': 10831, 'vigano': 11044, 'subi': 9863, 'colapasarse': 2264, 'so': 9667, 'sola': 9688, 'escuadr': 4338, 'abrirse': 58, 'dob': 3694, 'ocasionar': 7087, 'qu': 8255, 'termopares': 10238, 'conexiones': 2434, 'botando': 1390, 'responde': 8849, 'convertidores': 2557, 'finalizar': 4711, 'veni': 10951, 'termostato': 10241, 'mod': 6649, 'erroneas': 4308, 'regn': 8651, 'austar': 958, 'directa': 3644, 'ganchos': 5026, 'motorizada': 6797, 'em': 3922, 'luz': 6223, 'electronico': 3875, 'mecher': 6498, 'averia': 1002, 'elimino': 3911, 'juego': 5773, 'sinfin': 9599, 'estirado': 4416, 'roscas': 9149, 'danadas': 2894, 'transporv': 10565, 'acoplar': 165, 'desenrol': 3301, 'enrollado': 4192, 'electrolitico': 3871, 'revis': 8988, 'inicia': 5542, 'hermeticidad': 5302, 'manejo': 6303, 'mats': 6464, 'tercer': 10215, 'panal': 7317, 'tan': 10037, 'ksoldadoramotor': 5820, 'moli': 6672, 'empq': 3994, 'acarre': 71, 'whformadopaso': 11172, 'gmesa': 5108, 'salidaempujadores': 9255, 'buj': 1508, 'fos': 4819, 'aborta': 37, 'tilting': 10289, 'caterpilar': 1896, 'trajo': 10501, 'taller': 10028, 'cepil': 1985, 'partir': 7399, 'traer': 10490, 'doblece': 3709, 'mkcarro': 6637, 'cortadorbanda': 2682, 'resear': 8805, 'detmster': 3574, 'congel': 2442, 'omega': 7126, 'gauxi': 5047, 'ubidades': 10737, 'ocasione': 7088, 'altratar': 529, 'report': 8773, 'compuerta': 2359, 'atoran': 917, 'estrella': 4434, 'alimentadores': 453, 'tubo': 10702, 'turca': 10717, 'chop': 2082, 'desenrollado': 3307, 'clavis': 2202, 'capdo': 1783, 'bace': 1026, 'limpiadores': 6025, 'doblado': 3698, 'extracc': 4543, 'embriag': 3938, 'seguirdad': 9393, 'chimenea': 2069, 'reforzar': 8621, 'carpetas': 1828, 'cuchil': 2818, 'act': 172, 'psv': 8128, 'rosc': 9141, 'pore': 7808, 'expulsor': 4520, 'purgar': 8228, 'prot': 8062, 'escurridor': 4346, 'hidrau': 5324, 'lsh': 6159, 'fs': 4895, 'ori': 7198, 'temper': 10153, 'nobaja': 6993, 'sentar': 9454, 'todas': 10338, 'congelad': 2444, 'succion': 9873, 'lodo': 6127, 'limit': 6012, 'permisiv': 7542, 'istalar': 5697, 'intalarar': 5597, 'radeador': 8333, 'apretrar': 746, 'girarse': 5092, 'enfria': 4101, 'adentro': 246, 'ventil': 10966, 'expulsar': 4519, 'ex': 4460, 'extencion': 4529, 'desatoro': 3182, 'trasportador': 10625, 'oxido': 7292, 'hrd': 5392, 'pasado': 7405, 'anguera': 610, 'gas': 5034, 'cv': 2860, 'ubstruccio': 10738, 'barni': 1115, 'rectificar': 8551, 'fug': 4927, 'fun': 4942, 'micro': 6610, 'extiende': 4538, 'aranque': 771, 'ff': 4681, 'magnet': 6252, 'sujetadora': 9914, 'charola': 2039, 'fallo': 4607, 'infent': 5505, 'posfueraf': 7839, 'placasfuera': 7679, 'loper': 6141, 'maguil': 6261, 'desorill': 3436, 'quebrado': 8265, 'princi': 7987, 'ro': 9056, 'constante': 2472, 'acumu': 211, 'precalentador': 7891, 'lubricando': 6196, 'haciendo': 5269, 'piedra': 7599, 'cardal': 1807, 'aterrizarse': 895, 'explosividad': 4498, 'tse': 10685, 'niples': 6965, 'desalineado': 3138, 'congelada': 2445, 'tolvas': 10347, 'mantienen': 6366, 'pre': 7886, 'ticsa': 10262, 'parejo': 7375, 'cuates': 2791, 'valvdamper': 10857, 'fredi': 4867, 'efectivo': 3818, 'brazos': 1445, 'desalineados': 3139, 'monobens': 6734, 'presenta': 7936, 'fractur': 4850, 'evidencia': 4455, 'fuja': 4940, 'enr': 4176, 'acomodado': 143, 'vcheck': 10923, 'acumulacion': 216, 'mecanismos': 6495, 'angosta': 609, 'abrazaderas': 45, 'neum': 6939, 'boquillas': 1362, 'reacomodar': 8395, 'flap': 4740, 'atravesada': 941, 'acitadora': 136, 'toda': 10337, 'estruct': 4438, 'demoria': 3057, 'debajo': 2948, 'venirse': 10953, 'enrrolla': 4209, 'pocisiones': 7751, 'cerrad': 2002, 'desalojo': 3154, 'rg': 9025, 'volteadora': 11095, 'kosf': 5805, 'metalizadora': 6581, 'transportado': 10556, 'cuentame': 2830, 'broncesblocks': 1491, 'to': 10332, 'abriri': 55, 'levante': 5979, 'cil': 2140, 'regresa': 8654, 'cargado': 1815, 'revient': 8981, 'qedarse': 8251, 'largasatorarse': 5885, 'cucha': 2809, 'condesado': 2405, 'num': 7047, 'rasgarse': 8360, 'ptemotriz': 8158, 'operativa': 7168, 'emtraslado': 4004, 'botar': 1394, 'carriente': 1837, 'gemü': 5059, 'coraza': 2592, 'chopper': 2087, 'casqu': 1873, 'cleviz': 2210, 'desalojar': 3153, 'psvb': 8130, 'psva': 8129, 'nx': 7054, 'valor': 10847, 'desnivelacion': 3413, 'max': 6469, 'slant': 9648, 'colitas': 2289, 'pata': 7437, 'amarrar': 559, 'mecanico': 6491, 'lmina': 6112, 'hcia': 5285, 'acomulacion': 154, 'recalibrar': 8457, 'descalibrados': 3212, 'modulos': 6662, 'drop': 3764, 'obt': 7068, 'actuarse': 203, 'cincho': 2161, 'inhibida': 5531, 'fundente': 4957, 'desp': 3452, 'mantenimeinto': 6362, 'mordasa': 6754, 'arrastra': 834, 'diamet': 3597, 'sujetar': 9917, 'ad': 231, 'bba': 1212, 'temple': 10166, 'humedo': 5407, 'momento': 6709, 'produccion': 8036, 'block': 1273, 'gui': 5213, 'recocido': 8523, 'amarado': 544, 'fse': 4896, 'mangueraacomodador': 6322, 'intermedio': 5625, 'elecrico': 3834, 'ly': 6228, 'desacoplarse': 3108, 'tar': 10079, 'kossf': 5810, 'manometro': 6353, 'saldado': 9240, 'armon': 803, 'mk': 6636, 'inyecta': 5678, 'protistor': 8087, 'colocarla': 2297, 'col': 2255, 'deslizables': 3392, 'manipulador': 6344, 'lev': 5962, 'circunferencial': 2179, 'planchones': 7692, 'slide': 9652, 'gate': 5042, 'destapando': 3521, 'graffitos': 5149, 'psr': 8126, 'svc': 9979, 'nolisto': 6998, 'operarar': 7161, 'lanza': 5878, 'trasalacion': 10582, 'cohce': 2247, 'detectora': 3555, 'retenedo': 8905, 'decapfuga': 2963, 'bombpulmon': 1354, 'casquillo': 1874, 'trasporta': 10624, 'compresores': 2352, 'monitor': 6717, 'otese': 7266, 'pajar': 7304, 'arar': 772, 'cepollo': 1989, 'cep': 1982, 'aflojar': 271, 'correrse': 2645, 'or': 7191, 'avance': 990, 'automati': 973, 'buscar': 1516, 'tablero': 10004, 'barrida': 1148, 'enbudo': 4009, 'revisandoslide': 8993, 'slidegate': 9653, 'cerrado': 2005, 'loc': 6118, 'faldon': 4585, 'tk': 10317, 'aro': 806, 'sopleteo': 9786, 'fufa': 4926, 'antiox': 642, 'amarradas': 550, 'frontal': 4892, 'izquierd': 5708, 'adelane': 239, 'operarse': 7165, 'hard': 5278, 'wire': 11187, 'resirculacion': 8830, 'trinchera': 10649, 'hidrulico': 5345, 'guiada': 5215, 'malenro': 6270, 'depegadora': 3073, 'botaba': 1378, 'campo': 1731, 'intervenir': 5648, 'desmontar': 3409, 'densidad': 3060, 'vibraciones': 11017, 'error': 4310, 'regulador': 8666, 'luis': 6217, 'variar': 10900, 'temperaturas': 10160, 'sacan': 9212, 'protecci': 8066, 'ploga': 7735, 'boca': 1320, 'enebrado': 4072, 'tabl': 9998, 'soldando': 9722, 'llegar': 6086, 'cerradas': 2004, 'officinas': 7102, 'lengueta': 5952, 'torniquete': 10417, 'rie': 9031, 'caseet': 1862, 'enroll': 4187, 'tomarle': 10355, 'medidas': 6523, 'teodolito': 10209, 'segme': 9377, 'pararon': 7366, 'deja': 3015, 'troquel': 10670, 'altodesbastar': 525, 'soplete': 9784, 'etc': 4444, 'desjuste': 3380, 'portaherr': 7825, 'inhibe': 5530, 'reduc': 8578, 'wicho': 11182, 'lubro': 6207, 'clean': 2205, 'marcados': 6417, 'desgaste': 3367, 'planchuela': 7694, 'ganch': 5024, 'contadores': 2488, 'izquiero': 5711, 'domo': 3725, 'alimmentacion': 465, 'aliment': 441, 'antioxi': 643, 'jogeo': 5747, 'transp': 10551, 'quebrador': 8267, 'mesanini': 6564, 'mesanjnj': 6565, 'decole': 2973, 'completa': 2340, 'silko': 9579, 'debanados': 2949, 'enhebrad': 4147, 'blocks': 1276, 'pi': 7588, 'transmiscion': 10543, 'auxiliares': 986, 'cd': 1919, 'sobrecarga': 9675, 'regenerado': 8632, 'fallaen': 4592, 'ramon': 8346, 'onoff': 7138, 'seguirad': 9392, 'scrubber': 9315, 'rozamiento': 9165, 'cuatesrevisar': 2792, 'sergio': 9491, 'kosfled': 5809, 'sier': 9556, 'blanco': 1270, 'probado': 8008, 'paquetes': 7335, 'habren': 5251, 'mords': 6764, 'dobla': 3696, 'chper': 2093, 'ase': 866, 'trasera': 10586, 'desenr': 3299, 'inst': 5569, 'honeyweel': 5373, 'instal': 5571, 'hidrostatica': 5338, 'abb': 16, 'magnetica': 6255, 'comuiniocacionde': 2367, 'preson': 7958, 'ssitema': 9823, 'aca': 62, 'morgoil': 6771, 'desacoplado': 3103, 'desenrro': 3318, 'veniser': 10954, 'fisicamente': 4722, 'identificado': 5421, 'clibrado': 2212, 'oper': 7144, 'tempeartura': 10150, 'caefalta': 1579, 'ele': 3831, 'reeltornillos': 8596, 'tornil': 10397, 'lavar': 5901, 'enderezador': 4062, 'baterias': 1200, 'tambien': 10031, 'enrollados': 4200, 'recobres': 8519, 'enrolladodar': 4193, 'ajust': 380, 'empaque': 3969, 'brida': 1461, 'eli': 3902, 'graffito': 5148, 'enc': 4011, 'revento': 8965, 'rodilo': 9089, 'pocicion': 7747, 'planetario': 7699, 'tens': 10189, 'reitra': 8681, 'instrum': 5588, 'aparece': 671, 'temperatur': 10158, 'desoldado': 3424, 'empquetado': 3996, 'atravieza': 943, 'tanda': 10038, 'flejar': 4762, 'materi': 6451, 'flejes': 4765, 'direccion': 3637, 'lave': 5902, 'morg': 6767, 'mantine': 6367, 'perm': 7533, 'honeywell': 5374, 'frenos': 4878, 'automa': 970, 'enfriami': 4110, 'dde': 2939, 'bonba': 1358, 'botan': 1389, 'centrarce': 1974, 'tensonivelado': 10204, 'trasmicion': 10608, 'conectan': 2421, 'contrae': 2518, 'micros': 6612, 'variador': 10897, 'sr': 9820, 'varian': 10898, 'unica': 10773, 'disponible': 3664, 'aver': 1001, 'acceso': 82, 'subes': 9860, 'fitro': 4728, 'buje': 1509, 'ntetrabajar': 7035, 'autocalibrar': 967, 'graficar': 5153, 'beda': 1221, 'vampiro': 10879, 'osila': 7245, 'subitamente': 9871, 'atorados': 912, 'desperdi': 3466, 'tapon': 10070, 'vibraion': 11022, 'toneladas': 10362, 'magneitco': 6251, 'causa': 1903, 'inhibidas': 5532, 'permiti': 7551, 'velocid': 10943, 'hacen': 5257, 'mecanicos': 6492, 'rota': 9152, 'prela': 7908, 'prel': 7907, 'orejas': 7197, 'cesta': 2021, 'desper': 3464, 'tablilla': 10009, 'retroalimentacion': 8933, 'pref': 7901, 'reguladores': 8669, 'cargadores': 1817, 'botada': 1381, 'ejes': 3824, 'sufridera': 9903, 'chok': 2078, 'sliter': 9656, 'descalibra': 3207, 'chock': 2077, 'nitrogeno': 6967, 'aplicar': 719, 'quedaron': 8284, 'cer': 1990, 'filtradora': 4704, 'polipast': 7766, 'hidrostatico': 5339, 'permisos': 7547, 'dpto': 3733, 'escua': 4335, 'pun': 8210, 'secundario': 9360, 'eje': 3822, 'barrid': 1147, 'incremenformado': 5475, 'lcmonobeam': 5920, 'alimentador': 451, 'entradacuna': 4245, 'viala': 11008, 'extrae': 4553, 'hidraulicas': 5330, 'bot': 1376, 'borrarse': 1370, 'vueltas': 11145, 'llevo': 6106, 'encunar': 4053, 'lun': 6220, 'nivelde': 6985, 'ocaciones': 7080, 'magentico': 6247, 'altos': 527, 'finos': 4716, 'barrote': 1153, 'porta': 7819, 'vertic': 10992, 'cocche': 2237, 'brazoz': 1447, 'despuntar': 3513, 'mangu': 6317, 'ultima': 10753, 'vuelta': 11144, 'planetrio': 7700, 'diferencial': 3617, 'tenso': 10201, 'desalineamiento': 3142, 'cortos': 2712, 'thermtool': 10258, 'restablelce': 8873, 'opresores': 7181, 'solida': 9742, 'romp': 9119, 'niveladro': 6982, 'llanta': 6076, 'apisonad': 698, 'apis': 686, 'ladearse': 5831, 'desminer': 3406, 'instrumento': 5591, 'ebt': 3802, 'fuicionar': 4939, 'logica': 6129, 'rellanar': 8701, 'jona': 5755, 'desalinieamien': 3150, 'ftb': 4902, 'hidrahulico': 5322, 'reperacion': 8747, 'china': 2070, 'roles': 9102, 'movido': 6824, 'cercha': 1993, 'caidoin': 1600, 'in': 5456, 'contramordaza': 2525, 'instalacio': 5574, 'decarga': 2964, 'normalv': 7012, 'll': 6070, 'enrrolladores': 4214, 'tomamuestras': 10352, 'lainar': 5844, 'empujar': 4000, 'quebro': 8275, 'dii': 3628, 'sony': 9780, 'fondo': 4801, 'fierro': 4689, 'hules': 5401, 'separado': 9465, 'mecanica': 6488, 'convertidopres': 2555, 'joystick': 5761, 'flux': 4791, 'protectores': 8080, 'emisiones': 3955, 'molno': 6700, 'muestras': 6879, 'manivela': 6350, 'nt': 7025, 'romperse': 9125, 'atres': 944, 'cierre': 2139, 'correderas': 2632, 'aportacion': 725, 'maneobras': 6305, 'resets': 8823, 'masa': 6437, 'balancines': 1068, 'calentador': 1617, 'meas': 6483, 'emp': 3958, 'calzas': 1675, 'arran': 814, 'varias': 10901, 'suministro': 9929, 'vibraswitch': 11024, 'lcambio': 5909, 'manguer': 6320, 'votado': 11120, 'apago': 666, 'shock': 9538, 'afloj': 265, 'corrien': 2655, 'blqueo': 1303, 'ntente': 7030, 'otemas': 7262, 'tiristor': 10308, 'desenroscarse': 3316, 'piso': 7653, 'umo': 10767, 'temposonick': 10170, 'taper': 10066, 'agarra': 287, 'gra': 5144, 'auto': 961, 'hojas': 5368, 'hombro': 5371, 'votarse': 11123, 'draive': 3738, 'noda': 6994, 'cedazo': 1940, 'rollito': 9105, 'ruidos': 9192, 'extranos': 4556, 'transmite': 10549, 'carrga': 1835, 'ficsa': 4688, 'inter': 5606, 'pizador': 7672, 'erronea': 4307, 'desenmaranador': 3297, 'mandri': 6297, 'kbolsa': 5788, 'salidafracturada': 9256, 'presiona': 7947, 'bloquear': 1296, 'voltea': 11090, 'defl': 2996, 'soplador': 9783, 'honro': 5375, 'casettes': 1871, 'botares': 1398, 'trasportadora': 10626, 'valores': 10850, 'enrollad': 4189, 'botrase': 1423, 'inexistente': 5500, 'flejadoras': 4761, 'descalibrarse': 3214, 'entada': 4229, 'incrementadores': 5477, 'acomodo': 150, 'choper': 2084, 'semaforo': 9429, 'sistem': 9613, 'exitaci': 4477, 'tableteado': 10008, 'demoracon': 3054, 'regilla': 8636, 'habla': 5245, 'reabajar': 8393, 'desenroll': 3304, 'ag': 284, 'centrifuga': 1976, 'caers': 1587, 'deslizante': 3398, 'destrabar': 3526, 'gondola': 5124, 'cier': 2135, 'aj': 357, 'nivelad': 6975, 'transresivos': 10570, 'tec': 10121, 'remplaz': 8712, 'rempl': 8710, 'enf': 4095, 'silletas': 9582, 'aciete': 135, 'gruaspdte': 5186, 'registrarse': 8645, 'interna': 5630, 'desuso': 3528, 'chatarra': 2043, 'tacon': 10016, 'rollitos': 9106, 'valula': 10854, 'reestablecer': 8602, 'secadores': 9334, 'desbloqueos': 3198, 'aquete': 763, 'quimico': 8316, 'cedulade': 1944, 'neumatico': 6945, 'inferi': 5507, 'indicado': 5486, 'whsierra': 11180, 'ottomordazaspiston': 7276, 'gotarse': 5127, 'apagando': 659, 'condensado': 2399, 'almejas': 506, 'inatala': 5458, 'barr': 1137, 'pichancha': 7593, 'preparadora': 7928, 'daada': 2868, 'ruptura': 9199, 'apagaron': 664, 'desus': 3527, 'desarmarse': 3175, 'evit': 4456, 'cunetas': 2851, 'respond': 8848, 'encodre': 4040, 'infer': 5506, 'lodos': 6128, 'desfasadas': 3344, 'vacia': 10810, 'solub': 9760, 'paran': 7360, 'descarga': 3224, 'chum': 2101, 'vaciarse': 10814, 'quebradolado': 8266, 'refuerzo': 8627, 'quebr': 8261, 'almacenar': 503, 'gmb': 5107, 'db': 2935, 'yarret': 11217, 'reja': 8682, 'evitar': 4457, 'franjas': 4863, 'secas': 9339, 'obstruida': 7063, 'ocasi': 7081, 'registra': 8642, 'borra': 1366, 'programa': 8044, 'tmair': 10322, 'whcalibradoflecha': 11167, 'corredera': 2631, 'tarsmicion': 10097, 'feno': 4664, 'pedir': 7487, 'andamios': 604, 'ri': 9028, 'otepor': 7264, 'topar': 10373, 'atorarce': 922, 'baradero': 1106, 'rollolado': 9111, 'descarrilarse': 3232, 'intermedia': 5624, 'ajustaron': 389, 'acausa': 79, 'bamba': 1079, 'supervisor': 9948, 'sis': 9605, 'hidrauli': 5327, 'acomoda': 142, 'induccion': 5491, 'polvo': 7772, 'avanzo': 998, 'tela': 10130, 'manitas': 6348, 'inferiores': 5511, 'exprimdor': 4503, 'licor': 5999, 'ferroso': 4675, 'cortadoresreparar': 2690, 'elementos': 3881, 'empalmadora': 3963, 'tns': 10331, 'staker': 9827, 'cambiear': 1699, 'agregago': 306, 'agrgado': 312, 'portamordazas': 7829, 'esprea': 4389, 'soltar': 9755, 'repartidorre': 8743, 'cuchiila': 2816, 'desperdic': 3467, 'milino': 6618, 'mesnsulas': 6569, 'catarinas': 1894, 'apilador': 684, 'pastilla': 7434, 'sec': 9328, 'ottawa': 7271, 'hablar': 5246, 'cortad': 2677, 'temperatatura': 10156, 'guardia': 5209, 'arse': 862, 'falle': 4603, 'menguera': 6540, 'inversores': 5667, 'desorillado': 3438, 'de': 2941, 'bomberos': 1351, 'rotativas': 9156, 'jpredictivo': 5763, 'drve': 3766, 'vi': 11003, 'fracturada': 4852, 'eranque': 4301, 'niebla': 6955, 'reflector': 8617, 'deflec': 2998, 'cangilones': 1760, 'bridas': 1464, 'desconceta': 3254, 'filtrado': 4702, 'barnizador': 1128, 'plano': 7703, 'solodar': 9746, 'puente': 8183, 'surtir': 9971, 'meca': 6485, 'demisting': 3049, 'patinandose': 7445, 'toshiba': 10437, 'tqs': 10453, 'prelavado': 7910, 'reapreto': 8421, 'recetear': 8481, 'corona': 2606, 'carcher': 1805, 'acumulad': 217, 'buril': 1512, 'desalineacion': 3135, 'cabote': 1557, 'bacecilindro': 1027, 'scrao': 9308, 'sigue': 9568, 'acerex': 124, 'meten': 6584, 'resistencia': 8833, 'levantan': 5974, 'solos': 9748, 'pinchrool': 7629, 'verificar': 10988, 'elong': 3916, 'restablecieron': 8871, 'presones': 7959, 'def': 2990, 'alma': 498, 'llenas': 6095, 'pistones': 7665, 'tp': 10449, 'rompe': 9120, 'monobean': 6731, 'condulet': 2412, 'dificultade': 3624, 'sercha': 9487, 'sujeta': 9912, 'bombra': 1355, 'recirculacion': 8509, 'raiser': 8338, 'circulares': 2176, 'embrague': 3935, 'rda': 8384, 'desenrollarse': 3310, 'carr': 1829, 'secuenc': 9354, 'goteo': 5130, 'aceitar': 110, 'vibracion': 11016, 'gl': 5100, 'llenado': 6090, 'bomballenado': 1345, 'fracturado': 4854, 'isp': 5695, 'universal': 10783, 'principales': 7992, 'lop': 6140, 'motobomba': 6783, 'tarjetas': 10092, 'apisonadorno': 702, 'buena': 1506, 'quedan': 8279, 'jostik': 5757, 'dryve': 3767, 'antimancha': 640, 'clavia': 2200, 'ampaques': 583, 'vase': 10911, 'atoranguialado': 919, 'desacostillado': 3110, 'tenciones': 10180, 'manua': 6371, 'externo': 4537, 'termicos': 10224, 'tonilleria': 10364, 'laeva': 5838, 'tonelada': 10361, 'fu': 4905, 'transductor': 10521, 'desenrroscarse': 3329, 'bastago': 1172, 'emengencia': 3946, 'val': 10827, 'automatica': 975, 'enhebra': 4146, 'centran': 1972, 'repetidor': 8750, 'revisi': 9000, 'humacera': 5403, 'flechca': 4752, 'crua': 2752, 'dse': 3772, 'narizdaarse': 6912, 'pega': 7490, 'regrsarse': 8660, 'tallar': 10026, 'volt': 11081, 'chango': 2032, 'no': 6992, 'cargarse': 1823, 'dif': 3613, 'oscilador': 7244, 'flo': 4770, 'cabiar': 1547, 'encineden': 4028, 'bena': 1225, 'condensados': 2401, 'electrolitic': 3870, 'sustitucion': 9975, 'inclinometro': 5472, 'persmiso': 7560, 'amarro': 565, 'mono': 6723, 'beam': 1218, 'biselad': 1258, 'reles': 8693, 'reacomodo': 8396, 'decap': 2954, 'kremlin': 5814, 'decpdo': 2979, 'resivos': 8837, 'encoders': 4038, 'draiv': 3737, 'aum': 950, 'mateu': 6456, 'lipia': 6059, 'patinarse': 7448, 'generado': 5064, 'trasportar': 10627, 'aocmodar': 647, 'calowfalla': 1669, 'expander': 4489, 'expande': 4488, 'separad': 9464, 'veses': 10998, 'ubicado': 10735, 'tiempos': 10268, 'limpear': 6018, 'coches': 2241, 'sobretemperatura': 9678, 'riendas': 9040, 'errollador': 4306, 'rineda': 9048, 'editada': 3814, 'valvu': 10861, 'myz': 6901, 'aumenta': 951, 'enfr': 4098, 'hyp': 5416, 'deservicio': 3339, 'aumjento': 955, 'daniarse': 2913, 'bel': 1223, 'ingenieria': 5523, 'montajeelectricogeneral': 6741, 'relectrico': 8691, 'snubber': 9666, 'sistlubrcortadores': 9625, 'automarico': 971, 'manera': 6306, 'correcta': 2616, 'molote': 6702, 'alatas': 414, 'fuerzas': 4923, 'master': 6441, 'chaveta': 2045, 'galvzaniizdo': 5011, 'enderezad': 4061, 'habrir': 5252, 'monitoreo': 6721, 'canales': 1739, 'eliminjar': 3910, 'desenvuleve': 3338, 'desenroscado': 3314, 'desenvuelve': 3337, 'muchose': 6863, 'totalmente': 10439, 'soldaora': 9723, 'pias': 7589, 'estrobo': 4435, 'matizadora': 6462, 'istrumeto': 5700, 'fisa': 4719, 'abier': 23, 'funcionan': 4950, 'teraja': 10213, 'rojos': 9098, 'manometros': 6354, 'claridad': 2192, 'descopla': 3275, 'recibe': 8495, 'saldar': 9242, 'diam': 3593, 'tep': 10211, 'trabcon': 10476, 'centralizado': 1971, 'arranco': 825, 'sirena': 9604, 'detectar': 3550, 'agujer': 324, 'voltadeor': 11083, 'chanse': 2033, 'montacragas': 6738, 'canda': 1752, 'dinamico': 3631, 'flotador': 4777, 'thermopar': 10257, 'recuperador': 8560, 'inclinada': 5466, 'trensado': 10644, 'boster': 1375, 'cfalsa': 2024, 'suel': 9886, 'sopletear': 9785, 'bps': 1431, 'ram': 8342, 'aceie': 96, 'magiles': 6248, 'pueda': 8179, 'gk': 5099, 'saturados': 9289, 'sewcuencia': 9531, 'fision': 4725, 'princip': 7988, 'estoc': 4420, 'arranqu': 827, 'inertiza': 5498, 'sacando': 9213, 'motank': 6779, 'gajo': 4996, 'br': 1437, 'unid': 10774, 'unida': 10775, 'dnorte': 3692, 'ii': 5426, 'conecto': 2426, 'yugo': 11234, 'centrarse': 1975, 'circluares': 2173, 'jira': 5736, 'limp': 6017, 'flujom': 4786, 'conectando': 2422, 'replazo': 8754, 'montank': 6746, 'mandar': 6293, 'rosacdo': 9137, 'pist': 7656, 'materiar': 6455, 'car': 1794, 'lppm': 6154, 'apoll': 722, 'desfasados': 3346, 'mpunta': 6841, 'entrda': 4261, 'atoro': 929, 'inclinadas': 5467, 'acomulamiento': 156, 'pasillos': 7423, 'fault': 4643, 'relay': 8689, 'tij': 10274, 'taylor': 10099, 'sucia': 9877, 'dobleces': 3710, 'fotocela': 4828, 'aliniar': 488, 'detmastermarca': 3571, 'magne': 6250, 'telescopeado': 10135, 'botars': 1402, 'prin': 7984, 'qnx': 8253, 'colc': 2273, 'cabinas': 1549, 'sprocket': 9817, 'neutralizado': 6949, 'mordazs': 6760, 'fugasbajo': 4936, 'aju': 370, 'polytec': 7777, 'escobillas': 4322, 'coratdores': 2589, 'lava': 5898, 'rediador': 8574, 'selenoide': 9421, 'centar': 1959, 'recoleccion': 8527, 'valkvula': 10843, 'joggeo': 5748, 'descarg': 3223, 'flechas': 4751, 'recet': 8477, 'cerraba': 2000, 'int': 5593, 'magn': 6249, 'servovalvula': 9510, 'derecha': 3086, 'ista': 5696, 'checanco': 2051, 'pin': 7616, 'fases': 4634, 'lam': 5849, 'pita': 7669, 'deslizar': 3401, 'cargar': 1821, 'raspadires': 8362, 'maraca': 6406, 'reparaccion': 8724, 'fusion': 4981, 'flujometro': 4787, 'repriete': 8788, 'atra': 936, 'acercamiento': 123, 'micarta': 6607, 'paraleli': 7349, 'descalibrada': 3210, 'celda': 1948, 'apollo': 724, 'dallarse': 2887, 'espada': 4362, 'lenantar': 5950, 'inundado': 5657, 'cumple': 2843, 'espaciadora': 4359, 'casterfol': 1886, 'normal': 7007, 'caseta': 1865, 'vavlula': 10917, 'alienacion': 436, 'pal': 7307, 'ptamolino': 8141, 'nivelar': 6983, 'ermensula': 4302, 'enderez': 4059, 'bastido': 1175, 'extraccio': 4544, 'rete': 8901, 'corridos': 2653, 'solamente': 9694, 'detie': 3565, 'slt': 9664, 'atorar': 920, 'doblarse': 3703, 'orientesacar': 7203, 'torni': 10395, 'sit': 9627, 'perdiendose': 7522, 'platico': 7716, 'focos': 4796, 'arrojar': 855, 'marc': 6411, 'aterrizada': 892, 'gmsk': 5110, 'reesrablece': 8600, 'acomulador': 155, 'fl': 4731, 'cachagotas': 1560, 'tubin': 10700, 'colpe': 2302, 'salidas': 9264, 'boterse': 1414, 'traslada': 10598, 'quere': 8302, 'capasos': 1781, 'orien': 7199, 'morgoi': 6770, 'mover': 6817, 'barrita': 1152, 'transporte': 10564, 'tapar': 10061, 'vasculamiento': 10909, 'tirar': 10303, 'tapers': 10067, 'montajemecanicogeneralcam': 6743, 'puert': 8186, 'claro': 2196, 'filo': 4700, 'sumerguido': 9928, 'dirve': 3647, 'rel': 8688, 'resolv': 8838, 'restreg': 8892, 'enebradora': 4074, 'matenerse': 6448, 'mantenerse': 6360, 'mtshacerse': 6853, 'trans': 10520, 'partio': 7398, 'mts': 6852, 'entradahacer': 4250, 'desplazamientovolver': 3478, 'desenvolverse': 3335, 'fi': 4684, 'combustio': 2322, 'presta': 7961, 'exprimido': 4506, 'cerrarabrir': 2012, 'ok': 7114, 'rgl': 9026, 'overs': 7286, 'resolver': 8839, 'proyecto': 8105, 'apisiona': 689, 'chisporroteo': 2073, 'mismo': 6630, 'expulsora': 4521, 'cables': 1556, 'va': 10808, 'bise': 1256, 'solpete': 9749, 'salen': 9244, 'cayeron': 1909, 'nar': 6907, 'retiran': 8913, 'rayando': 8372, 'pierd': 7600, 'corrida': 2650, 'batllar': 1201, 'acciona': 85, 'untrasonido': 10786, 'pisa': 7648, 'chueco': 2100, 'recarg': 8460, 'cilindros': 2149, 'soldadoraa': 9705, 'antenas': 626, 'caerefer': 1586, 'redillo': 8575, 'sumergible': 9923, 'deflectora': 3002, 'descanset': 3221, 'sill': 9580, 'lami': 5851, 'roscado': 9143, 'walking': 11157, 'radianes': 8336, 'inclinado': 5469, 'madio': 6240, 'cabezxa': 1544, 'recibidor': 8497, 'drena': 3743, 'recargada': 8463, 'foto': 4824, 'superiores': 9945, 'provocar': 8100, 'voltiador': 11107, 'loopers': 6139, 'cili': 2143, 'hmis': 5362, 'gdec': 5054, 'suben': 9858, 'quedo': 8288, 'bloqueadas': 1289, 'puertas': 8189, 'fan': 4626, 'out': 7280, 'aflo': 264, 'permisio': 7541, 'abrircerrar': 54, 'obstruirse': 7065, 'fotoceldastuberia': 4836, 'proyectos': 8106, 'joystic': 5760, 'soldador': 9703, 'reemplazo': 8599, 'mont': 6735, 'terrrja': 10246, 'alcance': 418, 'alineador': 475, 'recorer': 8533, 'cntl': 2231, 'perderse': 7520, 'qurdarse': 8328, 'brzao': 1495, 'desa': 3095, 'pegada': 7493, 'exceso': 4465, 'nferior': 6951, 'capdos': 1784, 'defelctor': 2993, 'arreglando': 844, 'aisladores': 353, 'deslizado': 3393, 'desaparecen': 3163, 'regi': 8634, 'ldlacarreadorcuna': 5933, 'decapadoabrir': 2959, 'slittermandrill': 9661, 'salidapeines': 9260, 'peine': 7505, 'barnimesa': 1121, 'hornovalvula': 5387, 'pegad': 7492, 'dr': 3734, 'pricipal': 7971, 'enrola': 4185, 'ap': 650, 'mandr': 6295, 'fuerte': 4919, 'lluvia': 6109, 'expa': 4481, 'tensar': 10190, 'apretarla': 741, 'pinrol': 7638, 'laod': 5880, 'salia': 9249, 'gal': 4997, 'orings': 7221, 'soprte': 9799, 'recircilacion': 8505, 'planchuel': 7693, 'adicionales': 250, 'escuad': 4336, 'electrde': 3839, 'oler': 7118, 'dudosa': 3784, 'taylos': 10100, 'correc': 2613, 'aspas': 878, 'golpetea': 5121, 'desplaza': 3473, 'tensonivelador': 10205, 'lainas': 5845, 'com': 2307, 'compesor': 2337, 'relenar': 8692, 'contaores': 2500, 'cartas': 1851, 'tierra': 10271, 'fisica': 4721, 'arregalar': 840, 'lubricac': 6187, 'infe': 5504, 'ajusto': 397, 'parrilla': 7387, 'irwin': 5691, 'estrada': 4430, 'recirculaion': 8512, 'paralelas': 7348, 'tratar': 10635, 'fundida': 4960, 'morda': 6753, 'trasalapada': 10583, 'corriendose': 2657, 'descargan': 3225, 'capartse': 1779, 'suc': 9872, 'controle': 2543, 'rieles': 9033, 'rportan': 9173, 'ptaterraja': 8145, 'indicador': 5487, 'mesaaliment': 6561, 'moliono': 6697, 'cortinas': 2709, 'tornllo': 10421, 'ponien': 7791, 'ree': 8591, 'coleado': 2276, 'severo': 9528, 'abaj': 4, 'acomulacio': 153, 'defle': 2997, 'regresarse': 8657, 'ponerle': 7786, 'calza': 1672, 'apisionador': 693, 'fijacion': 4694, 'barniacarreadorchumacera': 1117, 'pinta': 7640, 'alimentasion': 460, 'cluth': 2223, 'trasporte': 10628, 'mensula': 6543, 'actua': 193, 'caidos': 1601, 'operare': 7163, 'expote': 4499, 'restir': 8886, 'funcde': 4944, 'soldadoran': 9711, 'sol': 9687, 'manita': 6347, 'faltar': 4623, 'infmot': 5516, 'soporta': 9792, 'refaccion': 8606, 'barnireguladora': 1124, 'presionniple': 7953, 'gplano': 5136, 'inclinadoleva': 5471, 'actuaores': 202, 'aguagas': 318, 'abiertoajustarpasar': 29, 'cortando': 2698, 'nteinf': 7029, 'atoradas': 910, 'intentos': 5605, 'solsadora': 9750, 'enredarse': 4179, 'desca': 3203, 'calcu': 1611, 'desbalanceo': 3186, 'led': 5943, 'zonal': 11243, 'bielas': 1246, 'program': 8043, 'planchuelas': 7695, 'nort': 7013, 'cunia': 2853, 'nematron': 6936, 'proce': 8021, 'contactode': 2481, 'pol': 7759, 'catarina': 1892, 'barnimonobeam': 1123, 'incrmentform': 5481, 'lubrican': 6195, 'trasnportadora': 10618, 'carete': 1811, 'humos': 5410, 'apagada': 654, 'pantall': 7328, 'sesnsor': 9516, 'volverse': 11113, 'drenar': 3746, 'detalles': 3540, 'claricador': 2190, 'jarret': 5727, 'pegados': 7496, 'fotoelectrico': 4837, 'apisionar': 695, 'almac': 499, 'rosando': 9139, 'botare': 1397, 'almacena': 502, 'purg': 8222, 'catarin': 1891, 'gjira': 5098, 'flejcha': 4763, 'habilitacion': 5239, 'calienta': 1655, 'supmotriz': 9951, 'llantas': 6077, 'remote': 8708, 'primero': 7979, 'pesaje': 7569, 'patinamiento': 7442, 'abiertas': 27, 'ocasion': 7084, 'visualmente': 11062, 'lista': 6063, 'rectif': 8543, 'mesrevis': 6570, 'reguladorpresio': 8670, 'pintado': 7641, 'yogeo': 11223, 'modaza': 6650, 'yogueo': 11226, 'cassete': 1879, 'scale': 9297, 'brk': 1484, 'proc': 8020, 'pinon': 7636, 'escor': 4324, 'resibo': 8825, 'bajando': 1046, 'resete': 8813, 'prosespo': 8061, 'rersete': 8799, 'ren': 8715, 'plumas': 7740, 'desenrrolla': 3321, 'regulad': 8664, 'pinchados': 7624, 'prenderla': 7917, 'desenrollad': 3306, 'hor': 5378, 'apareser': 675, 'gemu': 5058, 'desoldada': 3423, 'mi': 6605, 'endereza': 4060, 'fotoc': 4825, 'riend': 9037, 'capsula': 1789, 'capsulas': 1790, 'deflecto': 3000, 'tracto': 10487, 'universidad': 10784, 'apr': 732, 'paq': 7333, 'iniciar': 5545, 'levantado': 5972, 'jog': 5744, 'regre': 8652, 'desenebrarse': 3291, 'tova': 10444, 'vuel': 11138, 'tcs': 10113, 'motrices': 6809, 'desfasarse': 3349, 'retraida': 8926, 'al': 401, 'seguridada': 9404, 'ahulados': 343, 'cartucho': 1856, 'operan': 7157, 'limt': 6044, 'clutch': 2222, 'mordzs': 6766, 'enfriambajo': 4106, 'medic': 6508, 'ambo': 569, 'senseor': 9446, 'trasductores': 10585, 'gasolina': 5038, 'fusble': 4971, 'alt': 519, 'transformadore': 10530, 'joitin': 5754, 'plnmfhmi': 7734, 'activar': 184, 'ofisinas': 7105, 'restable': 8865, 'volteadores': 11096, 'view': 11040, 'bisceladora': 1255, 'decapadose': 2961, 'lavaojos': 5900, 'detect': 3546, 'bander': 1098, 'alostar': 512, 'clarid': 2191, 'bloques': 1300, 'correr': 2643, 'arrrancase': 857, 'producto': 8039, 'altatemperatura': 522, 'electronica': 3873, 'sold': 9695, 'danad': 2892, 'descoleal': 3252, 'linia': 6054, 'transmisio': 10545, 'areglar': 783, 'pasador': 7406, 'exprim': 4502, 'shiller': 9537, 'tomando': 10353, 'carg': 1812, 'cortadora': 2680, 'plasma': 7710, 'sevi': 9529, 'monobeamse': 6730, 'realizo': 8413, 'monobeaentr': 6727, 'emoujador': 3957, 'dicvicion': 3604, 'atorase': 926, 'macho': 6233, 'daniado': 2912, 'electronic': 3872, 'tempertaura': 10163, 'pad': 7301, 'senalcorrector': 9436, 'liniea': 6055, 'muescador': 6871, 'lor': 6144, 'calbrar': 1610, 'obsturador': 7067, 'superio': 9943, 'spool': 9815, 'colision': 2287, 'barridas': 1149, 'alpha': 515, 'cuenta': 2829, 'metros': 6596, 'acomodando': 146, 'divicion': 3686, 'infla': 5513, 'siames': 9544, 'interme': 5621, 'tres': 10647, 'beces': 1220, 'metalico': 6578, 'pajusta': 7306, 'ahulada': 341, 'puer': 8185, 'comulador': 2368, 'cacha': 1559, 'gotas': 5128, 'enh': 4140, 'aceitador': 103, 'intervencion': 5647, 'celox': 1951, 'capan': 1774, 'mata': 6445, 'qe': 8245, 'manualmenteno': 6379, 'sensore': 9450, 'accionamiento': 88, 'cilindr': 2146, 'psi': 8122, 'sehace': 9407, 'acumulacin': 214, 'llega': 6083, 'carter': 1854, 'agragar': 299, 'balanceador': 1065, 'balanc': 1062, 'funiona': 4965, 'pistas': 7657, 'extender': 4531, 'modificacion': 6655, 'bobinas': 1317, 'guardas': 5207, 'unas': 10768, 'chupacarcos': 2120, 'dnarse': 3691, 'rodamiento': 9071, 'mordazase': 6759, 'luces': 6214, 'quema': 8290, 'levan': 5967, 'invertidos': 5669, 'resagados': 8803, 'barrido': 1150, 'sestablero': 9522, 'enceunrs': 4022, 'apagado': 656, 'conjuntos': 2458, 'ise': 5693, 'satarp': 9283, 'protectora': 8078, 'filos': 4701, 'existe': 4474, 'corrente': 2642, 'camas': 1681, 'abatibles': 15, 'entreada': 4264, 'rechaza': 8483, 'enrol': 4184, 'req': 8795, 'combustion': 2323, 'habia': 5236, 'arrancarce': 823, 'dejars': 3021, 'en': 4006, 'ctivrse': 2770, 'qebrarze': 8248, 'ponientegirar': 7795, 'desorillnte': 3448, 'direccional': 3641, 'demaciado': 3044, 'gru': 5179, 'nodar': 6995, 'confina': 2438, 'distribucio': 3673, 'maguera': 6260, 'seguido': 9389, 'pina': 7617, 'acc': 80, 'depsito': 3082, 'qedo': 8252, 'madril': 6242, 'demaciada': 3043, 'rest': 8856, 'camnio': 1728, 'fusinble': 4980, 'reguladora': 8667, 'rotula': 9162, 'crro': 2749, 'entrd': 4260, 'llenrse': 6101, 'bnds': 1307, 'embudos': 3943, 'ml': 6638, 'clibrr': 2213, 'cortdores': 2703, 'doblez': 3717, 'desescoreo': 3341, 'liberando': 5992, 'desfasandose': 3347, 'rec': 8448, 'bos': 1373, 'tomacorriente': 10351, 'inexistentes': 5501, 'nde': 6925, 'admicion': 255, 'segimento': 9372, 'kprensa': 5813, 'pruebasno': 8113, 'whdesenrolladorapisionador': 11168, 'cint': 2168, 'enrrolllado': 4217, 'permicivo': 7536, 'verd': 10983, 'neciende': 6928, 'manuale': 6373, 'calentadora': 1618, 'baj': 1041, 'clim': 2214, 'principalclima': 7991, 'cli': 2211, 'caeclima': 1576, 'bataiiar': 1181, 'desaparecio': 3165, 'era': 4300, 'demorasa': 3056, 'insertar': 5559, 'biselador': 1260, 'dejando': 3018, 'elmacen': 3914, 'regilar': 8635, 'cntrl': 2232, 'provisionales': 8093, 'acumul': 212, 'caetemperatura': 1591, 'apagarase': 661, 'starp': 9833, 'tempera': 10154, 'carer': 1810, 'churubusco': 2123, 'whrebabeadorrodillo': 11178, 'cuentamets': 2834, 'enrolladoeres': 4194, 'enrrolladore': 4213, 'pasta': 7431, 'quiebran': 8307, 'regreso': 8658, 'formadora': 4808, 'abiertos': 32, 'espreado': 4390, 'ban': 1082, 'adora': 256, 'idrahulico': 5424, 'ballero': 1078, 'depocito': 3077, 'protege': 8081, 'breker': 1453, 'arrnque': 853, 'enxender': 4274, 'quebrarce': 8269, 'bamco': 1080, 'seleccionada': 9414, 'atoradotorcerse': 913, 'colacortar': 2259, 'controlando': 2541, 'conductividad': 2410, 'ano': 618, 'bandaarreglar': 1093, 'alimetar': 464, 'lubroc': 6208, 'ceja': 1947, 'molinos': 6692, 'cancelar': 1750, 'recurrente': 8566, 'gp': 5131, 'transmi': 10539, 'aprieta': 747, 'volteo': 11103, 'pos': 7836, 'extrema': 4561, 'fyga': 4988, 'posici': 7846, 'contl': 2514, 'salien': 9270, 'contrlo': 2535, 'contrl': 2533, 'temas': 10144, 'torcer': 10382, 'ldo': 5935, 'recargarce': 8466, 'maniobrar': 6337, 'ioc': 5685, 'anod': 619, 'tuberias': 10699, 'pasan': 7408, 'ruidosa': 9193, 'tdc': 10115, 'maestro': 6245, 'presio': 7944, 'enehbrar': 4081, 'desalimientos': 3132, 'valvulasvapor': 10869, 'hidra': 5321, 'roodillo': 9128, 'frono': 4890, 'segira': 9373, 'monitores': 6722, 'rectific': 8544, 'abrazadera': 44, 'interr': 5633, 'arrugando': 860, 'charo': 2037, 'buggy': 1507, 'lubricaron': 6201, 'parrillas': 7388, 'planca': 7685, 'enehbrado': 4078, 'azul': 1023, 'galm': 4999, 'lentos': 5961, 'manipulad': 6342, 'danadosolo': 2898, 'empaq': 3967, 'pastas': 7432, 'lainasen': 5846, 'transportdor': 10563, 'rosamiento': 9138, 'delg': 3030, 'caminan': 1715, 'grupo': 5192, 'potencia': 7868, 'escruber': 4333, 'ventiladores': 10972, 'escrube': 4332, 'valvuleo': 10870, 'reste': 8883, 'quimic': 8314, 'nose': 7018, 'novimiento': 7022, 'anormal': 621, 'roto': 9161, 'cambiarlo': 1696, 'supfuga': 9949, 'cpu': 2728, 'pueden': 8181, 'realizar': 8412, 'gds': 5057, 'cucharron': 2814, 'guillotina': 5222, 'entradasllenar': 4255, 'desl': 3381, 'cuarto': 2789, 'controlsol': 2546, 'pvc': 8240, 'barniacarreador': 1116, 'driverol': 3759, 'arranq': 826, 'tornilloscabezal': 10413, 'desgasta': 3363, 'nivelsion': 6989, 'arrastran': 836, 'mater': 6450, 'clarificador': 2195, 'glicol': 5105, 'aaceite': 1, 'aliniacion': 486, 'cortadoressalirse': 2691, 'susios': 9972, 'botaese': 1388, 'charol': 2038, 'switcheo': 9985, 'actualiza': 200, 'mark': 6427, 'serevisa': 9490, 'maniobra': 6335, 'apunta': 760, 'cicuito': 2131, 'tarjeta': 10091, 'hornono': 5386, 'sync': 9992, 'fracturados': 4855, 'malo': 6275, 'medias': 6507, 'triten': 10657, 'av': 987, 'amarada': 543, 'atinada': 899, 'mesamaniobras': 6563, 'esc': 4312, 'pro': 8003, 'secue': 9352, 'whrueda': 11179, 'cuentametrospiston': 2833, 'func': 4943, 'teper': 10212, 'friccion': 4884, 'iman': 5432, 'exprimi': 4504, 'pyc': 8242, 'gr': 5143, 'kdesenrolladorrodillos': 5792, 'electr': 3838, 'bobin': 1313, 'bombprespte': 1353, 'barnibomba': 1119, 'presionbaja': 7949, 'brincan': 1468, 'sproket': 9819, 'slot': 9663, 'cargada': 1814, 'movimieto': 6832, 'portaherramienta': 7826, 'callo': 1663, 'compres': 2350, 'ptp': 8164, 'fracturarse': 4857, 'volteado': 11093, 'regresar': 8656, 'centrtado': 1980, 'mttofalla': 6856, 'revolver': 9017, 'stand': 9830, 'pinones': 7637, 'contador': 2487, 'empacado': 3960, 'vse': 11135, 'megea': 6534, 'torret': 10429, 'soltando': 9754, 'apriete': 749, 'basculeo': 1166, 'flr': 4780, 'reconectar': 8529, 'rama': 8343, 'jalar': 5716, 'laminia': 5863, 'hacerse': 5262, 'ondulac': 7133, 'prose': 8057, 'medidamusquear': 6518, 'reco': 8515, 'desplazamiento': 3476, 'botarselector': 1406, 'convergnciarep': 2549, 'calentandose': 1624, 'seguro': 9406, 'gan': 5020, 'interrogacion': 5634, 'gprincipal': 5141, 'desenergiza': 3293, 'montar': 6747, 'trasductor': 10584, 'tgo': 10251, 'gus': 5230, 'giratoria': 5093, 'mordaz': 6756, 'reaprietar': 8425, 'acx': 230, 'jno': 5742, 'tuercade': 10708, 'parado': 7345, 'desmantelamiento': 3404, 'danar': 2900, 'reinica': 8676, 'tiristo': 10307, 'taparse': 10062, 'paralela': 7347, 'deficiente': 2995, 'soldadorabotars': 9709, 'levabaja': 5964, 'borran': 1367, 'trackig': 10485, 'salio': 9273, 'reposicion': 8780, 'navecarro': 6918, 'tarimas': 10088, 'seguriudad': 9405, 'colicion': 2286, 'skinpas': 9638, 'botadas': 1382, 'electric': 3841, 'rapidas': 8356, 'caidasambos': 1598, 'talle': 10027, 'neg': 6930, 'cuentametro': 2831, 'delante': 3025, 'hana': 5273, 'mangas': 6311, 'manuales': 6374, 'tom': 10349, 'generales': 5069, 'pines': 7630, 'agc': 291, 'mercoil': 6556, 'alotamiento': 513, 'matizado': 6460, 'limpiando': 6028, 'ocasiona': 7085, 'secuen': 9353, 'tableros': 10007, 'desfasada': 3343, 'rebabedext': 8437, 'api': 682, 'diente': 3608, 'botas': 1410, 'sueto': 9900, 'hidmed': 5319, 'repporta': 8785, 'cervovalvula': 2020, 'gla': 5101, 'na': 6903, 'desbloquean': 3195, 'botadass': 1383, 'termopa': 10236, 'ottotransmision': 7279, 'mediciones': 6511, 'invertir': 5670, 'princ': 7985, 'sobrecargado': 9676, 'resibos': 8826, 'delengu': 3029, 'conecciones': 2417, 'retorta': 8921, 'avanse': 993, 'mistniebla': 6632, 'mu': 6860, 'sdc': 9319, 'gdecsur': 5055, 'jostick': 5756, 'gt': 5197, 'restablce': 8863, 'bloqu': 1283, 'esprimidor': 4394, 'aperturacierre': 680, 'fierroesponja': 4690, 'valproporcion': 10852, 'skps': 9642, 'estoperos': 4425, 'fiujometro': 4729, 'maquillado': 6400, 'costale': 2716, 'orient': 7200, 'chicago': 2064, 'ala': 402, 'enfriamineto': 4117, 'fluo': 4790, 'presionesfalla': 7952, 'torno': 10424, 'ross': 9150, 'poli': 7763, 'mw': 6899, 'suavizar': 9851, 'elevadorrep': 3892, 'corre': 2611, 'carrotransfer': 1843, 'abrasadera': 41, 'triper': 10653, 'valvuia': 10863, 'sincho': 9589, 'apoyar': 728, 'detergent': 3562, 'actual': 199, 'pls': 7737, 'dalladas': 2885, 'hangar': 5274, 'bloqueado': 1290, 'desbloqueado': 3194, 'rauyos': 8369, 'pare': 7373, 'asia': 872, 'humo': 5409, 'movergancho': 6818, 'narcar': 6909, 'avanzan': 995, 'instrumentos': 5592, 'actuadorvl': 197, 'falamazo': 4582, 'parilla': 7377, 'posic': 7844, 'dectecta': 2983, 'deterg': 3560, 'sss': 9824, 'transpv': 10569, 'ineccistente': 5494, 'gdn': 5056, 'briquet': 1477, 'muest': 6876, 'tarrajakosfeldmetalizadoramotor': 10095, 'ajujerar': 373, 'kls': 5801, 'fracturan': 4856, 'oprd': 7177, 'vib': 11010, 'vivraciones': 11064, 'sedazo': 9365, 'cruzeta': 2765, 'trasl': 10595, 'desnatar': 3410, 'antirretorno': 645, 'end': 4055, 'gorro': 5126, 'jcambio': 5732, 'bruja': 1494, 'lindexv': 6048, 'cbezal': 1912, 'sub': 9852, 'taque': 10077, 'planchas': 7689, 'vulcanizar': 11150, 'pesadora': 7568, 'tbp': 10109, 'taze': 10103, 'soportte': 9797, 'motacumu': 6778, 'porbadora': 7803, 'accionan': 89, 'sepradores': 9478, 'restifi': 8885, 'desmi': 3405, 'perfil': 7527, 'psll': 8124, 'serpentin': 9493, 'enehbradora': 4080, 'manutentor': 6386, 'manutentorfalla': 6389, 'suavisar': 9850, 'neumatica': 6943, 'impulsor': 5453, 'aregado': 781, 'muesqueador': 6873, 'bata': 1180, 'cilco': 2141, 'breaker': 1451, 'botarseno': 1408, 'velocidades': 10946, 'enhebr': 4145, 'empolvadora': 3993, 'cement': 1952, 'cosfeld': 2714, 'nivlador': 6990, 'faltan': 4619, 'dando': 2908, 'tiron': 10310, 'estand': 4406, 'anch': 597, 'desorilladorrecargarse': 3442, 'purgo': 8231, 'colectoras': 2282, 'cunano': 2847, 'seguir': 9391, 'moldes': 6669, 'caerseles': 1590, 'reventartse': 8964, 'ondulada': 7134, 'desgancha': 3357, 'perico': 7529, 'acumularce': 226, 'lamin': 5853, 'doblerces': 3713, 'trension': 10645, 'reverseada': 8971, 'recaegarce': 8450, 'reca': 8449, 'diseno': 3653, 'fase': 4633, 'comun': 2369, 'pantallade': 7330, 'favor': 4644, 'despacio': 3453, 'cubrir': 2804, 'trapos': 10579, 'olan': 7116, 'deformar': 3007, 'desorillad': 3437, 'liberarse': 5994, 'hundida': 5411, 'dobleses': 3716, 'transversales': 10575, 'torcerse': 10383, 'dobleno': 3711, 'abrio': 52, 'interrumpor': 5640, 'tubular': 10705, 'coj': 2251, 'termiana': 10221, 'escoreo': 4326, 'orrilla': 7233, 'pugadores': 8194, 'monobea': 6726, 'hm': 5357, 'ucarsol': 10741, 'exit': 4476, 'jalla': 5717, 'enftiamiemto': 4123, 'aislamient': 354, 'px': 8241, 'oh': 7106, 'programacion': 8045, 'estacon': 4403, 'ffalla': 4682, 'libricacion': 5997, 'programasion': 8050, 'tapazon': 10064, 'extrator': 4559, 'momobeam': 6710, 'uniodades': 10781, 'pluma': 7739, 'baypass': 1208, 'gben': 5049, 'posision': 7859, 'pdtc': 7469, 'sondean': 9773, 'briqueteadora': 1480, 'mezclador': 6599, 'tong': 10363, 'diaria': 3601, 'over': 7284, 'speed': 9811, 'surno': 9964, 'recuperacion': 8558, 'trasformador': 10594, 'comando': 2313, 'salidarecobr': 9263, 've': 10931, 'mantenia': 6361, 'vicera': 11025, 'asa': 865, 'excentricos': 4463, 'apertu': 678, 'ganc': 5022, 'desgarga': 3358, 'repocision': 8758, 'mcs': 6479, 'laca': 5828, 'pesq': 7578, 'nueva': 7042, 'emgno': 3954, 'corregi': 2637, 'manutentorbase': 6387, 'manutentorse': 6393, 'soldo': 9732, 'cademas': 1566, 'paralelimo': 7350, 'desaliniamiento': 3148, 'despegador': 3460, 'sistemahid': 9617, 'met': 6574, 'recoci': 8520, 'danaron': 2904, 'resistencias': 8834, 'jalra': 5723, 'prubas': 8109, 'succiongorro': 9875, 'abricerrar': 49, 'pren': 7913, 'bsjs': 1498, 'inverso': 5664, 'justin': 5782, 'luminaria': 6219, 'polv': 7770, 'wvsbmarca': 11208, 'ocntrol': 7091, 'jogea': 5745, 'soldadoraal': 9707, 'momen': 6708, 'grietas': 5176, 'reporte': 8779, 'dura': 3790, 'desliza': 3390, 'valvul': 10864, 'retened': 8904, 'funciuona': 4955, 'corrido': 2652, 'motob': 6782, 'vibrador': 11020, 'vfb': 11002, 'teemperatur': 10127, 'acumuladores': 223, 'disoley': 3655, 'enta': 4228, 'droive': 3763, 'madar': 6236, 'lveno': 6227, 'feeston': 4661, 'yoistl': 11228, 'espancion': 4364, 'crb': 2732, 'comuniccion': 2384, 'aden': 243, 'mttobomba': 6855, 'volteadorso': 11099, 'copleguias': 2581, 'fta': 4900, 'suich': 9906, 'ctrol': 2774, 'neumaticos': 6946, 'pdescartar': 7464, 'departamento': 3070, 'lugar': 6216, 'agitadores': 294, 'mecha': 6497, 'oto': 7269, 'tpg': 10450, 'juste': 5780, 'osb': 7240, 'faltando': 4620, 'aprox': 758, 'alimen': 440, 'alarmar': 409, 'intermedi': 5623, 'principa': 7989, 'prec': 7887, 'escrubber': 4331, 'basculante': 1163, 'gmf': 5109, 'lbs': 5907, 'rastra': 8366, 'servidores': 9505, 'despunta': 3505, 'defecto': 2992, 'piernas': 7602, 'ladoss': 5836, 'frenoni': 4875, 'danarce': 2902, 'aflojarce': 272, 'soldadorapasarse': 9713, 'elastomero': 3826, 'fren': 4868, 'bobmas': 1319, 'usibles': 10796, 'srubber': 9821, 'trip': 10652, 'indica': 5484, 'cancado': 1748, 'xx': 11216, 'cfe': 2025, 'oscilaba': 7243, 'tablareos': 10000, 'aspuntalado': 880, 'apuntalado': 761, 'du': 3779, 'jalan': 5715, 'rebava': 8442, 'izq': 5706, 'friltro': 4885, 'conec': 2413, 'alumbrador': 535, 'dirigido': 3646, 'iluminacion': 5429, 'soldadorano': 9712, 'termica': 10222, 'liquido': 6061, 'subirse': 9870, 'alla': 496, 'generan': 5070, 'chumacebomba': 2104, 'cartuc': 1855, 'laina': 5841, 'valero': 10836, 'revar': 8946, 'abc': 19, 'validar': 10841, 'generados': 5067, 'frenar': 4871, 'bibracion': 1240, 'limpiaron': 6032, 'per': 7516, 'abilitaron': 36, 'habilitan': 5240, 'espec': 4367, 'zoanr': 11240, 'limiar': 6008, 'cuchillla': 2822, 'calibran': 1643, 'fsl': 4897, 'rodilos': 9090, 'paros': 7380, 'reproceso': 8790, 'interrumpe': 5636, 'lenguetas': 5953, 'expand': 4487, 'quemarse': 8297, 'corrers': 2644, 'funcion': 4947, 'esenrollador': 4349, 'princal': 7986, 'regula': 8663, 'motorreductores': 6803, 'validando': 10840, 'jiratorio': 5738, 'muestreador': 6882, 'puerto': 8190, 'solicitarlo': 9740, 'polde': 7760, 'cilndros': 2154, 'neumatic': 6942, 'otepte': 7265, 'desprenderse': 3491, 'swich': 9981, 'cucharr': 2813, 'ae': 258, 'ajsta': 367, 'tambos': 10034, 'pode': 7753, 'secado': 9330, 'wvolteadordoblado': 11205, 'escaner': 4318, 'carra': 1830, 'fincio': 4712, 'movimientos': 6831, 'ambiador': 567, 'desaliniacion': 3146, 'revaire': 8945, 'acondicionado': 158, 'cc': 1914, 'contrapesos': 2528, 'escuadrar': 4339, 'esapciadora': 4311, 'stira': 9838, 'activandose': 183, 'normalizan': 7010, 'lq': 6155, 'cccc': 1915, 'alum': 532, 'impacto': 5440, 'rv': 9202, 'pfi': 7582, 'pdt': 7467, 'chu': 2094, 'busa': 1514, 'alimetacion': 463, 'dispuesto': 3667, 'frl': 4888, 'biseladoras': 1262, 'ldl': 5932, 'provoc': 8095, 'enhebrando': 4154, 'frcturo': 4864, 'sugetador': 9905, 'nuvos': 7050, 'cambiado': 1686, 'mide': 6614, 'acude': 207, 'conmutadores': 2462, 'presionada': 7948, 'ventear': 10961, 'apollan': 723, 'intercambio': 5614, 'ddm': 2940, 'completamen': 2343, 'vida': 11029, 'util': 10801, 'recuperr': 8564, 'ranarex': 8348, 'marti': 6434, 'acriba': 169, 'estacion': 4401, 'recorrer': 8534, 'revsian': 9020, 'ace': 94, 'envolvente': 4272, 'gtc': 5198, 'manutentorpulir': 6391, 'prob': 8004, 'vavula': 10918, 'torcido': 10385, 'frac': 4846, 'nop': 7004, 'docificadora': 3719, 'arado': 766, 'colocan': 2294, 'activan': 181, 'plimpieza': 7729, 'contrapeso': 2527, 'flama': 4736, 'desacoplars': 3107, 'empareja': 3976, 'flamade': 4737, 'ahusta': 345, 'volum': 11109, 'convert': 2551, 'entar': 4230, 'tg': 10250, 'pistolas': 7661, 'prendio': 7921, 'arrancaba': 817, 'reaprieta': 8423, 'reestalecer': 8604, 'ceoillo': 1981, 'bomb': 1342, 'scrs': 9313, 'apareadora': 669, 'scr': 9306, 'desinstalar': 3378, 'salchicha': 9238, 'litros': 6067, 'carte': 1853, 'dsalineado': 3769, 'barandales': 1109, 'locomotora': 6125, 'decenroscarse': 2969, 'pinton': 7642, 'segm': 9376, 'acercadores': 122, 'reventad': 8956, 'descarrila': 3230, 'infpte': 5520, 'correctament': 2619, 'sucion': 9882, 'varandal': 10891, 'vastidor': 10915, 'cargan': 1819, 'pes': 7566, 'registr': 8641, 'tuyerca': 10723, 'hizo': 5355, 'kdesenrolladorfuga': 5791, 'molinokdesenrolladordesprendimiento': 6686, 'bailando': 1032, 'axial': 1013, 'probocan': 8019, 'lt': 6167, 'pgirar': 7585, 'torretacambiar': 10431, 'sobrscarga': 9682, 'transi': 10532, 'entradafalla': 4249, 'comunicac': 2374, 'deslizadora': 3395, 'volante': 11072, 'puertaq': 8188, 'desescore': 3340, 'fugando': 4932, 'bobinadora': 1316, 'pedales': 7481, 'restabblese': 8859, 'patona': 7452, 'molinokacumuladorpinch': 6680, 'instalcion': 5586, 'suelda': 9887, 'suavisa': 9849, 'inveror': 5662, 'maromo': 6431, 'agrgar': 313, 'untrasonico': 10785, 'digital': 3627, 'modificar': 6657, 'acuder': 208, 'referncia': 8615, 'elongaicion': 3921, 'lse': 6158, 'puentes': 8184, 'buss': 1520, 'presentar': 7938, 'kystone': 5824, 'hannan': 5276, 'espande': 4365, 'activaba': 177, 'choche': 2076, 'esuipos': 4443, 'qebrador': 8246, 'orienterepetir': 7202, 'vanda': 10881, 'pinasllenarse': 7620, 'at': 884, 'espectrometro': 4370, 'masas': 6438, 'temopar': 10147, 'gases': 5036, 'resiones': 8828, 'bajarce': 1050, 'repartidores': 8742, 'combertidor': 2317, 'soladora': 9692, 'conceta': 2391, 'ciega': 2133, 'coloctor': 2301, 'mov': 6816, 'venterarse': 10965, 'ocacciones': 7072, 'pich': 7592, 'lcmesa': 5919, 'revisionpiston': 9004, 'emparejamien': 3981, 'hanna': 5275, 'vicker': 11027, 'blower': 1302, 'baldor': 1072, 'rodalimentador': 9068, 'cubre': 2799, 'liempesa': 6002, 'hueso': 5397, 'razgar': 8379, 'lleno': 6099, 'secadora': 9333, 'batalar': 1183, 'silo': 9584, 'gase': 5035, 'delta': 3042, 'tenian': 10187, 'loop': 6136, 'transportaor': 10561, 'limpiesa': 6036, 'proximitor': 8103, 'actualizar': 201, 'ocaciona': 7076, 'aterr': 890, 'enroscar': 4204, 'orriolla': 7236, 'invesor': 5671, 'seccionador': 9341, 'yse': 11232, 'cortadorescalibre': 2688, 'nu': 7037, 'bastidosr': 1177, 'recalcado': 8451, 'instalartornillo': 5583, 'faltante': 4621, 'mat': 6444, 'desbrida': 3200, 'alieacion': 435, 'solera': 9735, 'tirascal': 10306, 'botados': 1387, 'caecas': 1575, 'cortal': 2696, 'holder': 5369, 'botones': 1421, 'danados': 2897, 'chec': 2047, 'hv': 5412, 'demor': 3052, 'molinok': 6679, 'vaporflux': 10888, 'cizall': 2182, 'roolo': 9130, 'colocacion': 2292, 'repiradero': 8752, 'interruptores': 5643, 'resetea': 8814, 'silvin': 9586, 'saliendo': 9271, 'cortadore': 2685, 'inyector': 5680, 'limpiza': 6041, 'danode': 2919, 'catarinaelimina': 1893, 'colectores': 2283, 'enebra': 4069, 'desajust': 3118, 'miniral': 6625, 'electri': 3840, 'primeras': 7978, 'rigi': 9043, 'tensor': 10206, 'guirar': 5225, 'desplazmiento': 3481, 'flamazo': 4739, 'anillos': 614, 'pulgadas': 8198, 'gnd': 5112, 'elevadora': 3889, 'elina': 3912, 'prinipal': 7997, 'timeout': 10291, 'salidos': 9269, 'preformado': 7904, 'solddao': 9729, 'fleha': 4754, 'hdlc': 5289, 'upte': 10791, 'abierocerrado': 24, 'alinia': 484, 'revistimiento': 9010, 'desfazado': 3352, 'correccion': 2614, 'desorillaodor': 3443, 'nem': 6933, 'real': 8405, 'nematro': 6935, 'deslineamiento': 3384, 'anormales': 622, 'escalones': 4316, 'monerse': 6716, 'argon': 788, 'ril': 9047, 'engargoladora': 4128, 'engargo': 4127, 'tol': 10340, 'caj': 1604, 'notte': 7021, 'reventado': 8959, 'maltrato': 6281, 'empalma': 3962, 'secambia': 9337, 'desaloja': 3152, 'fino': 4715, 'operado': 7151, 'gcadena': 5052, 'sopleteocaida': 9788, 'cadensople': 1572, 'scarp': 9301, 'coper': 2575, 'vaciar': 10812, 'tottem': 10442, 'tambo': 10032, 'cabio': 1550, 'ade': 235, 'solu': 9759, 'buza': 1522, 'cedimentacion': 1941, 'acoplamient': 161, 'asistema': 877, 'pedal': 7480, 'comedor': 2324, 'segurdad': 9400, 'abanicos': 9, 'desbalanceados': 3185, 'boler': 1328, 'atornillar': 928, 'ivsur': 5704, 'casi': 1872, 'precal': 7889, 'refractario': 8622, 'precalent': 7890, 'tirnilleria': 10309, 'maderal': 6238, 'veda': 10935, 'baipasears': 1037, 'recup': 8555, 'on': 7128, 'desenergizar': 3294, 'sb': 9292, 'joguea': 5749, 'penetracion': 7515, 'intalacion': 5595, 'aplastador': 714, 'espesol': 4380, 'pinhasy': 7633, 'requerida': 8796, 'ced': 1937, 'grodillos': 5178, 'imanadoschumacera': 5435, 'dificulta': 3622, 'char': 2035, 'stkaer': 9839, 'hidrulica': 5344, 'fallando': 4595, 'velocida': 10944, 'arena': 785, 'batallat': 1195, 'casets': 1868, 'reguistro': 8661, 'grafic': 5150, 'desenegizada': 3292, 'marcando': 6419, 'aun': 956, 'briqueteas': 1481, 'subestacion': 9862, 'detuvo': 3579, 'vavulas': 10919, 'rejilla': 8683, 'loco': 6124, 'rodeillo': 9075, 'vuelve': 11147, 'aceitadoraabr': 105, 'tijerqa': 10284, 'contrapunto': 2530, 'acidulada': 134, 'bqt': 1433, 'forman': 4810, 'solicitar': 9739, 'mirillas': 6628, 'malla': 6272, 'cb': 1911, 'desbalanceado': 3184, 'desinstalacion': 3377, 'interrupto': 5641, 'amarradascaidas': 551, 'provocando': 8099, 'pesan': 7571, 'embarques': 3928, 'chatarreo': 2044, 'colapsarse': 2270, 'bricars': 1459, 'bua': 1503, 'balatas': 1070, 'roce': 9061, 'soportede': 9794, 'pdtcb': 7471, 'nono': 7003, 'segudridad': 9388, 'slb': 9649, 'patio': 7449, 'driv': 3752, 'odometro': 7098, 'lcprobadorafalla': 5929, 'motorredmonobeeam': 6800, 'alistar': 492, 'desoldan': 3427, 'plastico': 7711, 'antiimpacto': 639, 'tripper': 10654, 'liena': 6003, 'soltars': 9756, 'dufont': 3786, 'valvulal': 10866, 'sevovalvula': 9530, 'desarmo': 3177, 'cilintro': 2151, 'trabajn': 10470, 'sereporta': 9489, 'tema': 10143, 'debloquean': 2950, 'lubrico': 6204, 'chaqueta': 2034, 'vdf': 10930, 'constantemente': 2474, 'cebazal': 1935, 'fleche': 4753, 'ftf': 4903, 'ransportadora': 8351, 'caniarse': 1761, 'claxon': 2204, 'intermedioa': 5626, 'respone': 8852, 'manipulacion': 6341, 'transferenc': 10525, 'gir': 5085, 'bobas': 1311, 'fueradescartes': 4916, 'adicion': 249, 'apgarse': 681, 'rotura': 9163, 'queria': 8304, 'recirculaci': 8508, 'tempe': 10149, 'vig': 11041, 'inundadas': 5656, 'frenado': 4870, 'hijos': 5349, 'sistemas': 9618, 'brincoteo': 1473, 'rued': 9186, 'cucharondisenho': 2812, 'difer': 3614, 'valvua': 10862, 'comalear': 2310, 'desfazarse': 3353, 'nema': 6934, 'tornllosroles': 10422, 'baipase': 1034, 'baipaseando': 1035, 'relleno': 8705, 'sondeo': 9776, 'ptc': 8146, 'tn': 10328, 'tracero': 10483, 'opresor': 7180, 'pteajusta': 8149, 'arraq': 829, 'nesa': 6937, 'satrp': 9284, 'colado': 2261, 'csx': 2769, 'desgajarse': 3356, 'passearse': 7429, 'mue': 6864, 'cicl': 2126, 'camino': 1721, 'calle': 1660, 'barrra': 1155, 'olla': 7123, 'contencion': 2503, 'clarif': 2194, 'empieza': 3988, 'desnvolve': 3418, 'corridas': 2651, 'alumbreado': 537, 'tapadas': 10056, 'ltc': 6168, 'ocupa': 7093, 'desloqueo': 3402, 'techin': 10122, 'canasra': 1741, 'desolta': 3430, 'trasmsior': 10615, 'bypassearse': 1530, 'bana': 1083, 'parachoques': 7341, 'poslect': 7862, 'brazoy': 1446, 'ecanico': 3803, 'ati': 896, 'reversa': 8968, 'laminaoperarse': 5860, 'rot': 9151, 'tandem': 10039, 'toveras': 10447, 'saturadas': 9287, 'disparo': 3659, 'prottermica': 8088, 'wsb': 11199, 'empaqacumulador': 3968, 'transmisores': 10548, 'comandos': 2314, 'caly': 1671, 'elevecion': 3901, 'echale': 3806, 'saturada': 9286, 'concetan': 2392, 'alarmado': 408, 'coronas': 2607, 'chorrea': 2091, 'vtf': 11136, 'ponienterestablecer': 7796, 'dmds': 3690, 'turnillo': 10719, 'bajasube': 1056, 'voltajeca': 11088, 'validr': 10842, 'bueltas': 1505, 'perdimiso': 7523, 'rozar': 9166, 'inibhirse': 5538, 'bayy': 1210, 'calorsolda': 1667, 'ccm': 1917, 'cmabio': 2225, 'mantener': 6359, 'ajutarlo': 400, 'unidas': 10778, 'nievla': 6959, 'planez': 7701, 'satura': 9285, 'baypasean': 1204, 'retencion': 8903, 'pararelismo': 7365, 'paralelism': 7351, 'niveldo': 6986, 'conico': 2451, 'motobombas': 6784, 'tolve': 10348, 'gondolas': 5125, 'enheb': 4144, 'tenp': 10188, 'preparador': 7927, 'rodollo': 9093, 'vatallar': 10916, 'tuebria': 10706, 'bria': 1457, 'caequedarse': 1583, 'marcaba': 6413, 'rever': 8967, 'repontan': 8769, 'recuperasion': 8563, 'quemada': 8291, 'vciado': 10924, 'pasaba': 7404, 'equipogrua': 4290, 'correctivo': 2623, 'cartuchpo': 1857, 'purta': 8234, 'redutor': 8590, 'maltrata': 6277, 'emplaye': 3992, 'retiar': 8909, 'atr': 935, 'ringfeder': 9050, 'manguito': 6328, 'stamco': 9828, 'bujes': 1510, 'feet': 4662, 'msterial': 6845, 'medidarec': 6520, 'correguir': 2640, 'totems': 10440, 'restregador': 8894, 'baipasease': 1039, 'destapan': 3520, 'fluchea': 4783, 'skyn': 9644, 'perros': 7558, 'resortes': 8842, 'revcablado': 8948, 'valvv': 10872, 'desprendi': 3492, 'prinsipal': 7999, 'camviar': 1734, 'bovina': 1428, 'linpiador': 6056, 'supe': 9940, 'detecte': 3552, 'sens': 9443, 'desoeollad': 3420, 'cortes': 2705, 'glc': 5102, 'reparasion': 8736, 'jreportan': 5765, 'medidamuesquear': 6517, 'operartse': 7166, 'reodillo': 8716, 'calzar': 1674, 'sacarlo': 9217, 'ski': 9633, 'encapsulado': 4014, 'trabarse': 10475, 'presetna': 7941, 'inive': 5548, 'medir': 6532, 'inatalacion': 5459, 'despunt': 3504, 'auxilar': 984, 'hacie': 5267, 'conectro': 2429, 'cominicacion': 2330, 'motorbomba': 6787, 'supresores': 9957, 'fugareponer': 4934, 'dobler': 3712, 'oso': 7249, 'mangeras': 6313, 'diveros': 3684, 'hidraulicos': 5333, 'kcarro': 5790, 'cortadorportaherramient': 2692, 'coje': 2252, 'recolector': 8528, 'gc': 5050, 'lubricaci': 6189, 'tba': 10106, 'insatalar': 5557, 'brique': 1476, 'mesclador': 6567, 'entradas': 4254, 'reapreta': 8417, 'mallas': 6273, 'embona': 3932, 'caids': 1602, 'corren': 2641, 'motro': 6813, 'salda': 9239, 'cap': 1765, 'delanteral': 3026, 'rectifica': 8545, 'fallr': 4608, 'acesso': 128, 'cerramiento': 2008, 'patonadeslizadores': 7453, 'solubl': 9761, 'mayor': 6474, 'irving': 5690, 'cdnte': 1926, 'metida': 6590, 'maxima': 6470, 'velociadad': 10942, 'tuberi': 10694, 'acoplamineto': 163, 'excentrico': 4462, 'desembuelven': 3286, 'descarr': 3229, 'instalaron': 5581, 'baras': 1110, 'descarilarse': 3228, 'rallo': 8341, 'enfrimiento': 4121, 'safada': 9225, 'silicato': 9577, 'auxi': 983, 'comprimido': 2356, 'qui': 8305, 'messal': 6571, 'scrapa': 9310, 'mtz': 6859, 'cho': 2075, 'leliminar': 5947, 'hum': 5402, 'atorararse': 921, 'distribuido': 3677, 'booster': 1359, 'tmys': 10327, 'desajustarse': 3127, 'descascarado': 3247, 'quemadord': 8294, 'laines': 5847, 'recuperado': 8559, 'bridado': 1462, 'humidificador': 5408, 'centrifugadora': 1977, 'iapagarse': 5417, 'glecolcolector': 5104, 'gylson': 5233, 'prnesa': 8002, 'posicionadora': 7854, 'monob': 6724, 'flrcha': 4781, 'trozada': 10675, 'tableado': 10002, 'repocsicion': 8760, 'ultrasonid': 10759, 'hbilitar': 5282, 'expusora': 4524, 'contactosv': 2485, 'plazoletam': 7722, 'losrayos': 6145, 'ultimo': 10755, 'grieta': 5175, 'plane': 7697, 'ai': 346, 'moerse': 6663, 'tolv': 10345, 'desajusto': 3129, 'ls': 6157, 'visten': 11060, 'seinterviene': 9409, 'acm': 138, 'stock': 9840, 'soldada': 9698, 'resporta': 8853, 'skdec': 9631, 'reubicacion': 8940, 'delantero': 3027, 'despegado': 3459, 'ajustarse': 390, 'procesos': 8030, 'carretes': 1833, 'areae': 779, 'fotoce': 4826, 'mezcladora': 6600, 'ventilaodr': 10973, 'chat': 2041, 'desemvolverse': 3287, 'react': 8397, 'messalid': 6572, 'protector': 8077, 'posi': 7840, 'min': 6619, 'fija': 4693, 'maracar': 6407, 'mojarse': 6666, 'rectificado': 8547, 'trasformado': 10593, 'ppor': 7879, 'batallaer': 1186, 'conden': 2397, 'cinsttopes': 2167, 'valvuls': 10871, 'neutraliza': 6948, 'sueltan': 9892, 'trabada': 10459, 'permita': 7549, 'repota': 8783, 'desprendido': 3494, 'aoperacion': 648, 'torsida': 10435, 'acomod': 141, 'ajustado': 383, 'partiendo': 7397, 'batallando': 1187, 'ampicionador': 586, 'enrllador': 4182, 'trasvase': 10631, 'carbon': 1800, 'ive': 5703, 'termopozos': 10240, 'batall': 1184, 'abansa': 10, 'condenzado': 2404, 'dosificadora': 3729, 'posicipon': 7856, 'atorarseresetear': 924, 'volve': 11111, 'liumite': 6068, 'trasforma': 10592, 'exprimid': 4505, 'remplazar': 8714, 'aventar': 1000, 'intala': 5594, 'mediana': 6505, 'cotar': 2720, 'bisagra': 1253, 'patin': 7438, 'operaece': 7156, 'laminades': 5856, 'trai': 10499, 'eespectrometro': 3817, 'oli': 7121, 'comploeto': 2347, 'picnh': 7595, 'encunada': 4052, 'embri': 3937, 'current': 2856, 'gober': 5115, 'repuesto': 8793, 'pcalibrar': 7462, 'os': 7238, 'decsk': 2980, 'desprende': 3489, 'gua': 5201, 'salidasacar': 9265, 'calibrada': 1639, 'coloco': 2300, 'desnivelarse': 3414, 'despe': 3456, 'typer': 10730, 'ptrmonobeam': 8171, 'molinowsoldadoramordazas': 6695, 'stack': 9825, 'cluch': 2220, 'sobrecalentamiento': 9673, 'gobernador': 5116, 'canbia': 1746, 'suolda': 9937, 'pudo': 8175, 'camapana': 1678, 'llenarce': 6092, 'tir': 10296, 'sacrificado': 9222, 'gruanv': 5183, 'limpiaor': 6029, 'teyper': 10248, 'cubierta': 2797, 'candadear': 1755, 'apagadas': 655, 'cuello': 2827, 'enollador': 4169, 'inspecion': 5567, 'mea': 6482, 'envolvedora': 4271, 'descalibrad': 3209, 'emba': 3924, 'cortarse': 2700, 'chumacerasbomba': 2111, 'super': 9941, 'ir': 5687, 'molinokcarro': 6685, 'cortadorportaherramienta': 2693, 'termipar': 10232, 'valvalu': 10856, 'alimentando': 457, 'nterruptor': 7033, 'nuevos': 7046, 'briquetiadora': 1482, 'xsvl': 11214, 'ptaenvolvedora': 8136, 'acarredor': 77, 'ptaprobadora': 8144, 'shumaceras': 9541, 'rodamient': 9069, 'danarsse': 2907, 'yoggear': 11225, 'intdrive': 5598, 'dosifl': 3731, 'posibles': 7843, 'alimentacio': 444, 'tranfers': 10515, 'dany': 2921, 'fallae': 4591, 'antigua': 637, 'maltratar': 6279, 'posible': 7842, 'equi': 4283, 'posicionada': 7851, 'pack': 7300, 'deshace': 3370, 'parandose': 7362, 'biselado': 1259, 'geneeral': 5060, 'marq': 6432, 'transm': 10538, 'recibo': 8500, 'vascula': 10908, 'recalentada': 8452, 'server': 9497, 'tc': 10111, 'fde': 4652, 'preion': 7906, 'dconvertidor': 2938, 'desenollador': 3298, 'traba': 10458, 'bisc': 1254, 'enrroll': 4208, 'bombaj': 1344, 'repocicion': 8756, 'chumacerascompj': 2112, 'pajaro': 7305, 'portatil': 7833, 'detteccion': 3576, 'truena': 10683, 'torniillo': 10396, 'ver': 10982, 'demorta': 3058, 'braeaker': 1438, 'comp': 2335, 'jueg': 5772, 'plaquita': 7708, 'entradadel': 4246, 'poca': 7745, 'corrige': 2661, 'caedrive': 1577, 'enhberado': 4141, 'parmiso': 7378, 'urcaso': 10792, 'chorreadero': 2092, 'inundarse': 5659, 'spindles': 9813, 'ndinstalar': 6926, 'bajandose': 1047, 'equiipo': 4284, 'aprender': 734, 'regist': 8639, 'desvio': 3536, 'reductvoltead': 8589, 'vorrarce': 11115, 'ejuste': 3825, 'dettecta': 3577, 'chumacer': 2106, 'desenrrolador': 3319, 'sencillo': 9439, 'puro': 8233, 'platos': 7720, 'danielli': 2915, 'manguerade': 6324, 'muestr': 6877, 'rebajar': 8440, 'apisionadores': 694, 'resirculaci': 8829, 'reajuste': 8404, 'fundentes': 4958, 'caden': 1567, 'salidahorno': 9257, 'formas': 4813, 'tanqneutraliza': 10044, 'enfriamientos': 4116, 'rejistro': 8686, 'volc': 11074, 'gente': 5074, 'fabricanse': 4574, 'proporcina': 8054, 'ext': 4526, 'grecon': 5171, 'alc': 415, 'gabinete': 4990, 'desilacharse': 3374, 'erntra': 4304, 'proseso': 8059, 'desorrilador': 3450, 'reversear': 8972, 'obstrucc': 7060, 'iny': 5672, 'quimi': 8313, 'inye': 5674, 'hornocampana': 5384, 'rotatoraia': 9158, 'contactores': 2483, 'wsoldadoramordazasatoron': 11201, 'adenlante': 244, 'an': 592, 'arandelas': 770, 'surcoche': 9962, 'detecto': 3553, 'trasferencia': 10591, 'botarsemant': 1407, 'principial': 7993, 'bqtequipo': 1435, 'anticolicion': 632, 'gnvcambiar': 5114, 'identificasion': 5422, 'nombre': 7001, 'desalinea': 3134, 'bloqueosvvvv': 1299, 'transv': 10571, 'libera': 5990, 'valatas': 10829, 'contenedor': 2504, 'abrasader': 40, 'saliada': 9250, 'solvente': 9768, 'encharcami': 4023, 'arana': 768, 'huelgo': 5396, 'embu': 3940, 'diferentes': 3620, 'ocacioes': 7074, 'unudad': 10787, 'torrta': 10434, 'desconectada': 3263, 'acondicionar': 159, 'trozados': 10677, 'voltedor': 11101, 'unidd': 10779, 'reducion': 8581, 'monitorear': 6720, 'usar': 10794, 'laminapor': 5861, 'seccon': 9343, 'rpeortan': 9169, 'pinchrol': 7627, 'guaeda': 5202, 'alio': 489, 'ret': 8896, 'cr': 2729, 'chopr': 2088, 'carrro': 1844, 'transfe': 10523, 'checan': 2050, 'persiones': 7559, 'recircular': 8513, 'punto': 8218, 'neuma': 6940, 'imanes': 5436, 'pinf': 7631, 'flu': 4782, 'trunior': 10684, 'vf': 11001, 'rayosx': 8377, 'tia': 10260, 'comiensa': 2328, 'soluci': 9763, 'tiper': 10295, 'bitarse': 1264, 'cfnventilador': 2028, 'suitch': 9907, 'antallas': 624, 'taponear': 10073, 'lubricaccion': 6188, 'hornomonobeam': 5385, 'levantamiento': 5973, 'duecto': 3785, 'alin': 467, 'segment': 9379, 'septimo': 9480, 'trabajand': 10466, 'rompimiento': 9126, 'espiga': 4384, 'deformarse': 3008, 'revestir': 8975, 'falland': 4594, 'caliibracion': 1658, 'confiabilidad': 2436, 'amarrad': 548, 'rallando': 8339, 'direccio': 3636, 'seguriadad': 9401, 'restblese': 8882, 'ocasines': 7082, 'registros': 8648, 'manut': 6382, 'estop': 4422, 'corrriente': 2672, 'repocicionde': 8757, 'atorrarse': 933, 'metal': 6576, 'kv': 5821, 'resircular': 8832, 'hofman': 5367, 'proteccon': 8073, 'mor': 6750, 'ajusrar': 376, 'soldaduras': 9720, 'sore': 9802, 'modide': 6654, 'micartas': 6609, 'enpacar': 4171, 'aplanador': 711, 'quer': 8301, 'trabajados': 10464, 'van': 10880, 'siste': 9611, 'espera': 4373, 'cincinati': 2162, 'cfnde': 2027, 'bypasear': 1528, 'lds': 5937, 'clar': 2189, 'contratist': 2531, 'maromear': 6430, 'mesemp': 6568, 'solsar': 9751, 'barnizadorahorno': 1131, 'secadomonobeam': 9331, 'regres': 8653, 'sisema': 9607, 'visera': 11055, 'enhebral': 4153, 'traslapada': 10603, 'recalibracion': 8456, 'bajas': 1054, 'desplazrse': 3482, 'ponerse': 7788, 'realioza': 8406, 'despostillarse': 3487, 'maltratarse': 6280, 'engrasar': 4137, 'reventar': 8961, 'imisio': 5439, 'consigue': 2470, 'lsl': 6164, 'alineado': 474, 'bandamesa': 1094, 'volteopiston': 11104, 'barnizadoramesa': 1132, 'barnizadoramonobeam': 1133, 'goma': 5123, 'desacopl': 3100, 'jjj': 5740, 'proporcional': 8056, 'pinc': 7622, 'escu': 4334, 'relief': 8697, 'restabl': 8861, 'cucharondes': 2811, 'vaso': 10912, 'portafiltro': 7822, 'time': 10290, 'pesajeen': 7570, 'embaques': 3927, 'fabricando': 4573, 'trafitambo': 10496, 'espectometro': 4368, 'bamda': 1081, 'desaliniada': 3147, 'busacr': 1515, 'mome': 6707, 'broceso': 1487, 'ajus': 374, 'resetdesviador': 8812, 'supresora': 9956, 'camvio': 1735, 'jalones': 5722, 'fuertes': 4920, 'traf': 10491, 'oxicort': 7290, 'entradalado': 4251, 'sondando': 9771, 'restablse': 8878, 'soldadorabatallar': 9708, 'ppre': 7880, 'cervo': 2019, 'mpm': 6838, 'trabajaba': 10463, 'presnsaestopa': 7957, 'limipos': 6011, 'encontrarla': 4044, 'conectad': 2419, 'artd': 863, 'lb': 5906, 'fuerzase': 4924, 'gruapor': 5184, 'ftj': 4904, 'variaciones': 10896, 'ptj': 8163, 'pdij': 7465, 'bastagos': 1173, 'buses': 1518, 'paradas': 7343, 'busses': 1521, 'skinp': 9636, 'impedidor': 5441, 'tubosalida': 10704, 'fujo': 4941, 'syn': 9991, 'cadaena': 1565, 'swutch': 9989, 'psl': 8123, 'restirar': 8889, 'almrma': 508, 'recoiler': 8526, 'estorbar': 4426, 'delcarcamo': 3028, 'contraflujo': 2520, 'maquin': 6401, 'fis': 4718, 'secu': 9351, 'tyg': 10729, 'pane': 7322, 'bqtse': 1436, 'clavija': 2201, 'reflect': 8616, 'molinokbolsaspiston': 6682, 'salhorno': 9247, 'dese': 3282, 'voltajecd': 11089, 'mecanicamente': 6489, 'dallado': 2886, 'punt': 8212, 'llador': 6072, 'retornos': 8920, 'tapados': 10058, 'mecanimo': 6493, 'temposonik': 10171, 'plnachar': 7731, 'camiar': 1712, 'aflojare': 273, 'enfresn': 4100, 'pantanlla': 7332, 'tien': 10269, 'soldarlqm': 9726, 'anclas': 602, 'jy': 5784, 'electrovalvula': 3879, 'intentodesfazado': 5604, 'frenotironear': 4880, 'caminant': 1717, 'levacion': 5966, 'vickers': 11028, 'permisiva': 7543, 'linpios': 6057, 'galones': 5000, 'venturi': 10979, 'gastado': 5040, 'ov': 7281, 'elevadores': 3891, 'cl': 2186, 'cambnio': 1707, 'viker': 11049, 'bajase': 1055, 'lainamin': 5843, 'powertrak': 7872, 'supsalida': 9959, 'abri': 48, 'tarje': 10090, 'comreso': 2364, 'quimica': 8315, 'ocasionada': 7086, 'contenedores': 2505, 'camber': 1683, 'resorte': 8841, 'tirante': 10301, 'muieven': 6891, 'arancar': 769, 'nibel': 6953, 'torrea': 10428, 'aplan': 710, 'muchas': 6862, 'afecta': 261, 'tps': 10451, 'transf': 10522, 'molinokcalibradocuentametros': 6684, 'syncro': 9994, 'jj': 5739, 'intercam': 5608, 'interc': 5607, 'quedarce': 8283, 'muesquiador': 6875, 'canastilla': 1745, 'materiales': 6454, 'quen': 8299, 'volocador': 11079, 'anivel': 615, 'valcula': 10833, 'califica': 1657, 'basin': 1170, 'desvialdo': 3535, 'cruda': 2758, 'viejo': 11035, 'mthermatool': 6850, 'video': 11030, 'acumuladoras': 222, 'meterial': 6587, 'desenvoloverse': 3333, 'secae': 9335, 'cerse': 2017, 'detecc': 3543, 'meve': 6597, 'tercera': 10216, 'naylamind': 6920, 'desabilitado': 3096, 'caravina': 1799, 'torcid': 10384, 'dell': 3039, 'desplegar': 3484, 'despostillado': 3486, 'retenes': 8908, 'vez': 11000, 'cadadea': 1564, 'suminitro': 9930, 'gloqueo': 5106, 'grave': 5170, 'derollo': 3090, 'entrdada': 4262, 'calcular': 1612, 'instalando': 5578, 'trse': 10682, 'visual': 11061, 'amp': 582, 'fabricaion': 4571, 'gatillos': 5043, 'plafon': 7682, 'contacos': 2478, 'vpiso': 11127, 'utilitario': 10804, 'roscadomair': 9145, 'indicacion': 5485, 'desenrroscarce': 3328, 'berthold': 1233, 'dela': 3024, 'laser': 5888, 'respirade': 8846, 'lamparta': 5871, 'sacadescartes': 9210, 'voltador': 11084, 'bpmba': 1430, 'carrucha': 1846, 'cortocircuito': 2711, 'mairmesa': 6265, 'molinowretenedor': 6694, 'cintasmanguera': 2171, 'vibr': 11012, 'reviision': 8986, 'galvanizadoestrellacuna': 5008, 'cadenaa': 1569, 'galvanizadomesa': 5010, 'sopleteocadena': 9787, 'nin': 6960, 'ractura': 8331, 'clevi': 2207, 'bombay': 1349, 'aditamentos': 253, 'jse': 5768, 'fexible': 4680, 'torr': 10426, 'caey': 1592, 'pocisiona': 7749, 'cortadorvolante': 2695, 'llevar': 6103, 'autolineador': 968, 'desori': 3433, 'vela': 10938, 'comales': 2311, 'vaja': 10825, 'traductor': 10488, 'ptele': 8155, 'tempen': 10152, 'retroceso': 8936, 'retrceso': 8929, 'duscto': 3793, 'purgando': 8226, 'molinoksierra': 6690, 'ottocono': 7274, 'tren': 10643, 'verificacion': 10986, 'desc': 3202, 'glecol': 5103, 'js': 5767, 'forzar': 4818, 'atoramient': 914, 'tf': 10249, 'radioactiva': 8337, 'laynamid': 5903, 'vanzo': 10883, 'daniada': 2911, 'demo': 3051, 'reposicioon': 8781, 'recuprar': 8565, 'reversible': 8974, 'chorearse': 2090, 'ajustee': 393, 'iba': 5418, 'elevandores': 3897, 'deflect': 2999, 'rejillas': 8684, 'restea': 8884, 'tuv': 10721, 'colgado': 2285, 'perimetral': 7531, 'fucible': 4909, 'decapada': 2957, 'espreas': 4391, 'canaste': 1744, 'bolber': 1327, 'sedas': 9362, 'reincidir': 8674, 'desconectarse': 3269, 'centradora': 1968, 'nor': 7005, 'voteador': 11125, 'pinassalirse': 7621, 'agarrar': 288, 'lumbrado': 6218, 'presna': 7956, 'alfha': 431, 'imanados': 5434, 'galvanizadofmotobomba': 5009, 'scrapp': 9312, 'corredisa': 2633, 'espejo': 4371, 'mvar': 6898, 'ucto': 10742, 'bptarse': 1432, 'remplasar': 8711, 'plancha': 7687, 'vulcanizado': 11149, 'lubr': 6183, 'ntey': 7036, 'bomas': 1341, 'agujerar': 327, 'sentrador': 9458, 'vortex': 11116, 'oteatorarse': 7256, 'ajenasaguageneral': 361, 'calenta': 1616, 'espacio': 4360, 'baarse': 1025, 'fuible': 4938, 'alineaccion': 471, 'ldlbiseladora': 5934, 'pteguarda': 8153, 'mfk': 6602, 'restira': 8887, 'prop': 8052, 'segminfizqui': 9385, 'pirde': 7646, 'ajustesno': 396, 'cortadorpuerta': 2694, 'inspec': 5563, 'neumati': 6941, 'pca': 7461, 'aguas': 320, 'funcionando': 4951, 'bolteadorno': 1338, 'gusano': 5231, 'wt': 11203, 'mc': 6477, 'atorando': 918, 'motorg': 6796, 'brinco': 1472, 'cic': 2125, 'embarquez': 3929, 'reposion': 8782, 'muestread': 6881, 'naylamid': 6919, 'rompedo': 9121, 'candadea': 1754, 'baypaseanse': 1205, 'normaliza': 7009, 'ern': 4303, 'encidenden': 4024, 'ptralimentaccion': 8168, 'claridades': 2193, 'conectadesconecta': 2420, 'vulcv': 11151, 'imex': 5438, 'torn': 10393, 'coople': 2568, 'rompedor': 9122, 'cm': 2224, 'patinada': 7441, 'maniob': 6333, 'telescopiadas': 10137, 'falk': 4586, 'agitador': 293, 'respetar': 8845, 'ref': 8605, 'fdbk': 4651, 'destape': 3524, 'contingencia': 2507, 'vir': 11051, 'arir': 791, 'lcprobadorabarra': 5925, 'ring': 9049, 'feder': 4658, 'jalabolas': 5714, 'empacar': 3961, 'escucha': 4342, 'desplazah': 3474, 'regresando': 8655, 'por': 7801, 'yostil': 11229, 'llebarse': 6081, 'tensionno': 10200, 'ganvanizado': 5028, 'enrollar': 4201, 'acaomodar': 68, 'jalon': 5719, 'ini': 5536, 'embra': 3933, 'maya': 6472, 'sop': 9781, 'prevemtivo': 7966, 'thermatoool': 10255, 'ptaporbadora': 8143, 'meza': 6598, 'contramord': 2523, 'electricidad': 3849, 'sl': 9645, 'uncoder': 10769, 'muestriador': 6884, 'bobima': 1312, 'amperaje': 584, 'magneti': 6253, 'part': 7391, 'dev': 3580, 'bascr': 1160, 'rebabiador': 8439, 'molinokrebabeadormal': 6689, 'rebabeo': 8438, 'imanado': 5433, 'posisionador': 7860, 'energizase': 4092, 'patinar': 7446, 'desoldadora': 3425, 'acabar': 63, 'divisor': 3688, 'desviadora': 3532, 'sesor': 9517, 'prodidr': 8032, 'air': 348, 'sundwing': 9933, 'dejo': 3023, 'caro': 1826, 'levanyando': 5982, 'nylmid': 7056, 'remot': 8707, 'restablcer': 8864, 'remo': 8706, 'mzb': 6902, 'segruidad': 9387, 'vxya': 11153, 'septiembre': 9479, 'motoro': 6798, 'palj': 7312, 'volacdor': 11070, 'arrastr': 833, 'colisiona': 2288, 'continuidad': 2512, 'descarto': 3244, 'ptagalvanizado': 8137, 'valtekvapor': 10853, 'baipassea': 1040, 'pie': 7598, 'votars': 11122, 'restables': 8874, 'tensione': 10198, 'dercarte': 3085, 'laminano': 5859, 'swicheo': 9982, 'horquilla': 5388, 'comenta': 2325, 'bordes': 1364, 'accionando': 90, 'estractor': 4429, 'desatorando': 3180, 'aprovecha': 755, 'riser': 9051, 'risers': 9052, 'enpujador': 4175, 'pdtca': 7470, 'flla': 4769, 'pemiso': 7510, 'doblarze': 3704, 'mayugar': 6475, 'retrae': 8924, 'volcadorse': 11078, 'agrietarse': 314, 'protexcion': 8085, 'extraxtor': 4560, 'arenado': 786, 'montando': 6745, 'contension': 2506, 'walkim': 11155, 'ptalinea': 8139, 'colectorvc': 2284, 'bl': 1268, 'vol': 11069, 'velosidad': 10947, 'escoperos': 4323, 'reinstalando': 8678, 'mediaprecion': 6506, 'conbertainer': 2390, 'mptope': 6840, 'monobe': 6725, 'editor': 3815, 'peler': 7507, 'ferrocote': 4673, 'predictivo': 7899, 'torretasno': 10433, 'quitan': 8321, 'uncoiler': 10770, 'lu': 6175, 'metalicp': 6580, 'descarrilado': 3231, 'modicom': 6653, 'pellet': 7508, 'demedia': 3046, 'estrase': 4432, 'centardo': 1960, 'descandades': 3220, 'delt': 3041, 'golpeteo': 5122, 'gacho': 4994, 'copmu': 2584, 'interferencia': 5618, 'briq': 1475, 'trafico': 10493, 'been': 1222, 'ptaenderezadora': 8135, 'molinow': 6693, 'gia': 5081, 'peeler': 7488, 'refrescar': 8624, 'tranportadora': 10519, 'decador': 2952, 'medidatras': 6525, 'intecambiador': 5600, 'liea': 6001, 'oilmi': 7111, 'automaticocentrar': 979, 'cassets': 1881, 'repoener': 8761, 'chucmaceras': 2097, 'gaces': 4993, 'tempmanual': 10167, 'longui': 6135, 'corti': 2706, 'encode': 4035, 'eapesor': 3796, 'prepa': 7923, 'cambiarse': 1698, 'estion': 4412, 'botarcr': 1396, 'hopper': 5377, 'prac': 7883, 'aprestar': 735, 'srv': 9822, 'redondas': 8577, 'crucetas': 2756, 'dej': 3014, 'ltf': 6170, 'daa': 2867, 'flec': 4745, 'enrrollad': 4210, 'deformasion': 3009, 'si': 9543, 'bomda': 1356, 'transversa': 10573, 'correspondiente': 2646, 'lsur': 6165, 'volcad': 11075, 'hle': 5356, 'manuelmente': 6380, 'motrice': 6808, 'ave': 999, 'metee': 6583, 'momobeem': 6711, 'socket': 9683, 'sedesacopla': 9366, 'centrad': 1965, 'enorollador': 4170, 'retraer': 8925, 'expu': 4513, 'silicon': 9578, 'desorillar': 3444, 'completamante': 2341, 'serepara': 9488, 'lija': 6005, 'exprimirores': 4510, 'telescopi': 10136, 'rechupe': 8493, 'salidano': 9259, 'qued': 8276, 'soquet': 9801, 'despue': 3500, 'conmutador': 2461, 'falata': 4584, 'enebarar': 4068, 'reponen': 8766, 'desalineamien': 3141, 'partirs': 7400, 'peg': 7489, 'llenastiras': 6096, 'parpadea': 7381, 'ajenas': 358, 'ottofuga': 7275, 'ptrbrazos': 8169, 'henebra': 5296, 'dasajuste': 2930, 'otegirar': 7260, 'sac': 9207, 'recargars': 8468, 'coraz': 2591, 'plnm': 7733, 'aa': 0, 'niveladores': 6981, 'clip': 2217, 'alinacion': 468, 'seperador': 9473, 'bola': 1324, 'detener': 3556, 'normaliz': 7008, 'rev': 8942, 'rechupado': 8488, 'intendencia': 5601, 'trabes': 10479, 'desaoramiento': 3160, 'bn': 1305, 'rdillos': 8387, 'ptrsierra': 8172, 'ohler': 7107, 'lcfiltro': 5918, 'cinc': 2158, 'bolas': 1326, 'chuck': 2096, 'patro': 7454, 'parchado': 7369, 'abanda': 7, 'retablece': 8897, 'jogueo': 5751, 'cortadordoble': 2684, 'cilin': 2144, 'gcse': 5053, 'vajo': 10826, 'metio': 6593, 'dtbc': 3777, 'poleas': 7762, 'brincarse': 1471, 'tragajando': 10498, 'extrac': 4541, 'gsopleteopiston': 5196, 'rectangular': 8540, 'cizalle': 2184, 'aprietan': 748, 'etre': 4449, 'abilita': 34, 'aftb': 281, 'transpprtador': 10568, 'tabsa': 10011, 'medidaestarse': 6516, 'pla': 7675, 'callendo': 1661, 'mattius': 6465, 'falsiar': 4613, 'monta': 6736, 'batakkar': 1182, 'rasapador': 8359, 'revison': 9007, 'potenciometro': 7869, 'superiro': 9946, 'fondentes': 4800, 'termpozos': 10242, 'tanqa': 10042, 'lgases': 5988, 'emparejador': 3977, 'mesas': 6566, 'reductorvoltea': 8588, 'coincide': 2250, 'desoldo': 3429, 'inte': 5599, 'manuten': 6384, 'jampak': 5725, 'hacver': 5272, 'adicio': 248, 'recaragarse': 8459, 'parpadear': 7383, 'recobr': 8517, 'enebrada': 4071, 'valvvs': 10874, 'pistn': 7658, 'emfalla': 3952, 'indicadores': 5489, 'pasoantes': 7425, 'fundirse': 4963, 'apizonadores': 707, 'dispersion': 3661, 'reven': 8953, 'paca': 7299, 'micrometro': 6611, 'planas': 7684, 'suporte': 9952, 'mandrilrevizar': 6300, 'fracturas': 4858, 'matew': 6457, 'abie': 22, 'oplimcas': 7175, 'averiarse': 1006, 'fractu': 4849, 'nible': 6954, 'razgarse': 8380, 'rechupase': 8492, 'contcta': 2502, 'chupa': 2119, 'charcos': 2036, 'rodilloplano': 9085, 'pzas': 8243, 'tampoco': 10036, 'manutento': 6385, 'bajarsubir': 1052, 'ator': 905, 'pars': 7389, 'morida': 6773, 'floj': 4771, 'force': 4802, 'tirantes': 10302, 'parac': 7340, 'molenr': 6670, 'low': 6149, 'pressure': 7960, 'descalib': 3206, 'porron': 7816, 'desenrolla': 3305, 'tornmillos': 10423, 'cdorriente': 1927, 'pisrton': 7655, 'drave': 3739, 'front': 4891, 'salga': 9246, 'catalmacense': 1890, 'ins': 5556, 'molinokmesa': 6687, 'salidabolsa': 9253, 'repararde': 8734, 'portasensores': 7832, 'enrolldor': 4203, 'coil': 2249, 'lshh': 6160, 'lshlsl': 6163, 'sebaja': 9326, 'enfriamj': 4118, 'esooria': 4357, 'salidamoverse': 9258, 'acomodarla': 148, 'tander': 10040, 'roratoria': 9133, 'metalicos': 6579, 'dici': 3603, 'apargarse': 676, 'nomarcar': 7000, 'proporciona': 8055, 'desenvol': 3332, 'cilo': 2156, 'ajenasproyectogeneral': 365, 'viejop': 11036, 'tronar': 10666, 'cent': 1958, 'ambosempaques': 572, 'gastados': 5041, 'cadende': 1571, 'lcprobadorafuga': 5931, 'marcador': 6415, 'jalo': 5718, 'acomodarlo': 149, 'esponja': 4387, 'barias': 1111, 'beses': 1234, 'rrollad': 9175, 'manutentorcolocar': 6388, 'amboslubricar': 573, 'dentada': 3062, 'ayud': 1015, 'lcprobadorabaja': 5924, 'barnizadoramonobeamfractura': 1134, 'recirculadores': 8511, 'ph': 7586, 'tronando': 10665, 'listo': 6064, 'rebabeado': 8434, 'cambiode': 1701, 'almientar': 507, 'directo': 3645, 'ip': 5686, 'pm': 7741, 'valvl': 10859, 'whdesenrolladorfuga': 11169, 'rten': 9181, 'distrubidora': 3682, 'pruevas': 8115, 'decskp': 2981, 'vandera': 10882, 'enebrad': 4070, 'telescopiarce': 10138, 'sostenimient': 9805, 'mar': 6404, 'purganse': 8227, 'minima': 6623, 'enrrollado': 4211, 'fugador': 4930, 'producc': 8035, 'atuercas': 945, 'distribudora': 3675, 'ubicacion': 10734, 'tecnican': 10126, 'relevador': 8695, 'referencias': 8614, 'turcas': 10718, 'calidad': 1653, 'deslizadore': 3396, 'delineador': 3038, 'daar': 2872, 'inflaba': 5514, 'mant': 6356, 'diela': 3606, 'muve': 6897, 'deguridad': 3012, 'recorte': 8538, 'mustra': 6894, 'fush': 4973, 'sustituir': 9976, 'boarse': 1309, 'checandon': 2053, 'retirado': 8912, 'venir': 10952, 'despuntado': 3507, 'respaldo': 8844, 'cello': 1950, 'fab': 4566, 'insta': 5570, 'trnqte': 10660, 'chumacecastillo': 2105, 'enfriamdisco': 4107, 'ninguna': 6963, 'direc': 3634, 'ui': 10749, 'subebajasube': 9855, 'enehebrar': 4083, 'guas': 5211, 'distribuidore': 3680, 'recar': 8458, 'ordaza': 7193, 'mobil': 6647, 'dao': 2922, 'pall': 7313, 'tiran': 10299, 'gria': 5174, 'motoventilador': 6804, 'esprimdor': 4393, 'indicasion': 5490, 'avilita': 1008, 'quimicos': 8317, 'probarla': 8013, 'exeso': 4470, 'lubricasion': 6202, 'realixar': 8408, 'funsion': 4966, 'planch': 7686, 'formar': 4811, 'rigido': 9045, 'queb': 8259, 'apagarce': 662, 'finciona': 4713, 'botorse': 1422, 'seq': 9482, 'magneticas': 6256, 'bjo': 1267, 'medior': 6531, 'sopo': 9789, 'supresor': 9955, 'sueldar': 9889, 'mango': 6316, 'graseras': 5168, 'pulen': 8196, 'fueza': 4925, 'uuu': 10805, 'apagon': 667, 'lluvias': 6110, 'desaparecer': 3164, 'pantal': 7327, 'apreatar': 733, 'cabezale': 1538, 'cremalleras': 2735, 'labrirlcerrar': 5827, 'lcerrar': 5915, 'cooopera': 2564, 'descalibracion': 3208, 'horizontal': 5381, 'ollas': 7124, 'sumergid': 9924, 'sumer': 9921, 'memtor': 6538, 'suba': 9853, 'esqinas': 4397, 'centr': 1961, 'dal': 2879, 'conductivo': 2411, 'porton': 7835, 'desajustada': 3121, 'progra': 8042, 'inclin': 5464, 'estantezonal': 4409, 'nivela': 6973, 'mirilla': 6627, 'requiere': 8797, 'madri': 6241, 'casests': 1863, 'opturador': 7190, 'sucied': 9879, 'ambosalinear': 571, 'estanteria': 4408, 'tornille': 10403, 'trasn': 10616, 'tuveria': 10722, 'sinchos': 9590, 'eme': 3944, 'leve': 5984, 'termopozo': 10239, 'tt': 10688, 'braza': 1440, 'jlg': 5741, 'conos': 2465, 'usillo': 10797, 'detubo': 3578, 'robotde': 9060, 'tempemho': 10151, 'bypas': 1526, 'jaula': 5729, 'sebota': 9327, 'semodificav': 9432, 'boitarce': 1321, 'controllado': 2545, 'permitir': 7553, 'operarla': 7164, 'cubiertas': 2798, 'ondularce': 7137, 'patita': 7451, 'rastrear': 8367, 'descuadra': 3280, 'pri': 7969, 'maq': 6397, 'tronars': 10667, 'reventa': 8955, 'determopar': 3564, 'recircu': 8506, 'recirc': 8504, 'trozo': 10680, 'reparacionde': 8728, 'rechpado': 8484, 'comvertainer': 2388, 'mara': 6405, 'med': 6501, 'desalogar': 3151, 'mae': 6244, 'west': 11164, 'cincel': 2159, 'destapo': 3525, 'sinterizada': 9602, 'transmisi': 10544, 'dandole': 2909, 'incremento': 5480, 'by': 1525, 'pdts': 7474, 'vento': 10976, 'espcrepa': 4366, 'cube': 2795, 'conexxion': 2435, 'barreras': 1145, 'ind': 5483, 'lshhlshlsl': 6161, 'atoarce': 902, 'cuc': 2805, 'trabarjar': 10474, 'selectore': 9419, 'caerce': 1585, 'subie': 9865, 'ga': 4989, 'agualodos': 319, 'ing': 5522, 'hugo': 5399, 'suarez': 9848, 'ajutan': 398, 'tironean': 10312, 'desacom': 3097, 'apelmasado': 677, 'completame': 2342, 'escuadfre': 4337, 'doblr': 3718, 'numera': 7048, 'cde': 1921, 'trole': 10663, 'iniccion': 5540, 'oxicorte': 7291, 'parallelismo': 7358, 'paralelismoa': 7353, 'contrapesso': 2529, 'acopla': 160, 'cumunicacion': 2844, 'desenhebrarse': 3296, 'clavo': 2203, 'inferio': 5508, 'lleva': 6102, 'cablado': 1551, 'exitacion': 4478, 'constanteme': 2473, 'ladp': 5837, 'selectoras': 9418, 'desembolberse': 3285, 'criping': 2742, 'rollono': 9112, 'tansportador': 10051, 'cra': 2730, 'colsion': 2304, 'trabe': 10477, 'preformad': 7903, 'barnizadoraacarreadorcadena': 1130, 'chisporroteando': 2072, 'marcadora': 6416, 'galvani': 5005, 'produc': 8034, 'estir': 4413, 'durant': 3791, 'ven': 10950, 'decapad': 2956, 'nteote': 7031, 'troquelrecargarse': 10672, 'trnasmisor': 10658, 'contrajo': 2522, 'refuerz': 8626, 'colecora': 2278, 'comunicacon': 2381, 'rosar': 9140, 'entraba': 4239, 'restaleciendo': 8879, 'gallv': 4998, 'machuelea': 6234, 'transmis': 10542, 'conveyorno': 2561, 'iinstala': 5427, 'quemados': 8296, 'atorse': 934, 'enrolladorn': 4198, 'resetearon': 8817, 'dsoldada': 3775, 'cambiand': 1691, 'contrap': 2526, 'respnder': 8847, 'mercoid': 6555, 'ampicionadores': 587, 'enfriamento': 4109, 'fuerarecargarse': 4918, 'laminamaniobra': 5858, 'autoalin': 962, 'pases': 7421, 'monobeen': 6732, 'pegarse': 7501, 'wi': 11181, 'acoplando': 164, 'fract': 4847, 'encinta': 4029, 'haciend': 5268, 'girab': 5087, 'grafitos': 5157, 'vibrando': 11023, 'fargot': 4629, 'mecani': 6487, 'primetals': 7982, 'desacomoda': 3098, 'chispa': 2071, 'tratadora': 10634, 'brica': 1458, 'espesores': 4382, 'oril': 7209, 'tama': 10030, 'encontrarse': 4045, 'descarter': 3239, 'dlop': 3689, 'operac': 7146, 'cs': 2766, 'rcdo': 8383, 'alimentacioncadena': 447, 'gestrellapernos': 5077, 'amaran': 545, 'clucht': 2221, 'descas': 3245, 'soportes': 9796, 'nav': 6915, 'solicintan': 9736, 'liberacion': 5991, 'formacion': 4805, 'riena': 9036, 'bea': 1217, 'lcpistones': 5922, 'gestrellaflecha': 5076, 'pandeada': 7320, 'scanner': 9299, 'baiipasea': 1031, 'enproceso': 4174, 'dewja': 3584, 'contravuelta': 2532, 'cada': 1563, 'rato': 8368, 'mto': 6851, 'comunic': 2372, 'inhalambricos': 5527, 'stoker': 9841, 'ponerlos': 7787, 'decomunicacion': 2974, 'rolad': 9100, 'bat': 1179, 'aceitea': 113, 'enfriadr': 4104, 'bascu': 1161, 'tapetes': 10068, 'dielectricos': 3607, 'whmesa': 11175, 'transferenciacadena': 10527, 'laterale': 5894, 'funcio': 4945, 'arrranca': 856, 'calibracio': 1635, 'np': 7023, 'contar': 2501, 'ladopte': 5834, 'borrar': 1368, 'puso': 8238, 'hiltti': 5350, 'pisocanal': 7654, 'coregir': 2599, 'suerguido': 9897, 'presin': 7943, 'linde': 6047, 'pararce': 7364, 'arrmador': 852, 'extraccion': 4545, 'fitl': 4727, 'rx': 9205, 'quiera': 8309, 'secundaria': 9359, 'wformador': 11165, 'paquetescuna': 7336, 'llendo': 6097, 'extarctor': 4528, 'gpiston': 5135, 'extractorbase': 4551, 'sufrideras': 9904, 'sc': 9295, 'pasarce': 7410, 'vuetas': 11148, 'resividor': 8835, 'referenci': 8612, 'tubera': 10693, 'restregado': 8893, 'ingertos': 5524, 'pasosoldado': 7426, 'portacables': 7820, 'yreve': 11231, 'labar': 5825, 'elevamiento': 3896, 'tanqf': 10043, 'roportan': 9131, 'mttosensor': 6857, 'manutentorpiston': 6390, 'molinokacumuladorreductor': 6681, 'vo': 11068, 'sunerguido': 9934, 'lf': 5986, 'funsiona': 4967, 'dae': 2876, 'mtad': 6847, 'permniso': 7554, 'agregaron': 310, 'deslixante': 3388, 'dtbv': 3778, 'amarradoantes': 553, 'minutos': 6626, 'motivo': 6780, 'ensoldadora': 4225, 'molinokcadenas': 6683, 'inclinadasdesmontada': 5468, 'molinokpaso': 6688, 'soldadoaranadela': 9701, 'ligero': 6004, 'ponchada': 7780, 'servio': 9506, 'rodamn': 9074, 'levant': 5969, 'alimentac': 443, 'aserse': 871, 'provo': 8094, 'tubing': 10701, 'lleja': 6088, 'automatic': 974, 'condj': 2406, 'tinaco': 10292, 'contraid': 2521, 'proviciona': 8091, 'bacin': 1029, 'hab': 5234, 'hidroxido': 5340, 'gillotina': 5083, 'aben': 21, 'indicadora': 5488, 'lit': 6065, 'manotentor': 6355, 'osilamiento': 7246, 'rodillbrazo': 9081, 'apisionad': 690, 'rapida': 8355, 'medido': 6527, 'rejular': 8687, 'bobinado': 1315, 'rectificad': 8546, 'tubaliment': 10690, 'pegarle': 7499, 'prim': 7972, 'cand': 1751, 'justa': 5779, 'impide': 5442, 'flechapich': 4750, 'sum': 9920, 'autmoatico': 960, 'subeia': 9857, 'cubridora': 2802, 'cubridoras': 2803, 'sondear': 9775, 'bypasean': 1527, 'desirena': 3379, 'ptadecapado': 8134, 'manute': 6383, 'energiza': 4090, 'naris': 6910, 'funcione': 4953, 'revfers': 8976, 'decapdo': 2962, 'subiendo': 9866, 'lleg': 6082, 'forzado': 4816, 'cilindrio': 2147, 'enehebrado': 4082, 'cntrol': 2233, 'ghrua': 5078, 'enrolador': 4186, 'repetidas': 8749, 'mecanicas': 6490, 'alineadores': 477, 'ptracarreadorestapa': 8167, 'incertar': 5462, 'hidro': 5336, 'mangura': 6329, 'hidtijera': 5346, 'wired': 11188, 'inici': 5541, 'soldguild': 9731, 'poil': 7758, 'pesion': 7575, 'corilla': 2603, 'festoon': 4679, 'pizarra': 7673, 'scoreboard': 9305, 'despedicio': 3457, 'sumerguble': 9926, 'distribuidores': 3681, 'lcprobadorabomba': 5926, 'desalida': 3131, 'seal': 9323, 'baje': 1057, 'desacoplan': 3104, 'depositos': 3081, 'velobsole': 10940, 'obs': 7058, 'tornilos': 10414, 'calent': 1615, 'atoramineto': 916, 'temperatu': 10157, 'hacerciclo': 5260, 'aislador': 352, 'retsbalece': 8939, 'recargarla': 8467, 'ksierra': 5816, 'thermatoo': 10253, 'programar': 8048, 'perma': 7534, 'barzo': 1157, 'externa': 4536, 'mortiz': 6775, 'trasvasa': 10629, 'patios': 7450, 'conato': 2389, 'cuentascatenaria': 2836, 'ferrolaciones': 4674, 'senzor': 9460, 'muerto': 6869, 'aliniac': 485, 'pulidores': 8202, 'casters': 1887, 'quintolubric': 8319, 'dest': 3517, 'mord': 6752, 'otawa': 7252, 'bombhco': 1352, 'bt': 1499, 'interstop': 5644, 'rr': 9174, 'basculear': 1165, 'grados': 5146, 'escur': 4343, 'abasto': 12, 'revabas': 8944, 'descandadean': 3219, 'resorillar': 8840, 'principqal': 7995, 'enrolladorpunta': 4199, 'sona': 9769, 'eaton': 3798, 'hansen': 5277, 'ganancia': 5021, 'contact': 2479, 'seprador': 9477, 'chek': 2060, 'tola': 10341, 'desenrroscado': 3327, 'gacarreadorrodillos': 4992, 'mauina': 6466, 'intervino': 5653, 'guardi': 5208, 'coordina': 2569, 'dispenser': 3660, 'desenrolladores': 3309, 'extensiones': 4533, 'disc': 3649, 'tempratura': 10172, 'instrume': 5589, 'conica': 2450, 'drenado': 3744, 'ltcontrol': 6169, 'derrepente': 3092, 'enfrod': 4122, 'endc': 4056, 'varilla': 10904, 'olgura': 7119, 'thermattol': 10256, 'torniller': 10404, 'cosmetico': 2715, 'pmsmedir': 7743, 'manip': 6339, 'rebabear': 8436, 'ventana': 10956, 'vapc': 10885, 'enhe': 4143, 'descandadea': 3218, 'uuuucto': 10806, 'shotoff': 9540, 'inertisado': 5497, 'vap': 10884, 'osc': 7241, 'montajeelectricofalla': 6740, 'garrucha': 5033, 'kacumuladorpinch': 5785, 'desacoplada': 3102, 'pdv': 7475, 'viste': 11059, 'aroearse': 807, 'caterpillar': 1897, 'amarranse': 558, 'trasvasar': 10630, 'controles': 2544, 'men': 6539, 'pinchroll': 7628, 'prepar': 7924, 'cana': 1736, 'nevel': 6950, 'sellos': 9428, 'valvxsv': 10875, 'gtor': 5199, 'uc': 10739, 'tm': 10321, 'empa': 3959, 'ahorro': 339, 'transportadores': 10560, 'pedaso': 7484, 'maltratado': 6278, 'munon': 6893, 'vd': 10926, 'grasas': 5166, 'form': 4803, 'ajistes': 366, 'pod': 7752, 'desvador': 3529, 'pura': 8220, 'trasmisotes': 10614, 'gsopleo': 5195, 'vapormanguera': 10889, 'coplo': 2583, 'activars': 187, 'rollpin': 9115, 'secorre': 9350, 'ocupada': 7094, 'chumac': 2103, 'dies': 3610, 'ksoldadoramordazas': 5819, 'cortadorbalero': 2681, 'kpiston': 5812, 'hablitando': 5247, 'otns': 7268, 'enfriamien': 4112, 'lipiador': 6060, 'expulsadora': 4518, 'afuera': 282, 'shutoff': 9542, 'carros': 1842, 'lamparatironear': 5870, 'scrubberbajo': 9316, 'alo': 510, 'bron': 1488, 'valocidad': 10846, 'ottosistema': 7278, 'nitogeno': 6966, 'manaul': 6287, 'stamets': 9829, 'inclinadocadena': 5470, 'reducacarreador': 8579, 'sesafa': 9513, 'fleca': 4746, 'caue': 1901, 'crap': 2731, 'idraulica': 5425, 'circunferen': 2177, 'corrigiendo': 2663, 'xsvb': 11212, 'umificador': 10766, 'bajobajo': 1059, 'cuaderna': 2779, 'combustib': 2320, 'kmesa': 5802, 'scaner': 9298, 'bridar': 1463, 'adaptador': 233, 'cancelacion': 1749, 'modfificar': 6652, 'gargantas': 5031, 'ahcia': 338, 'revisioin': 9002, 'parsytec': 7390, 'interno': 5632, 'wsopleteo': 11202, 'barnizadoramonobeammesa': 1135, 'chooper': 2080, 'tranportado': 10518, 'deconexion': 2976, 'valvvpsa': 10873, 'reostato': 8717, 'traccion': 10482, 'pulg': 8197, 'kacumuladorreductor': 5786, 'aprisionador': 751, 'rompen': 9124, 'chumaseras': 2116, 'elon': 3915, 'valvulasde': 10868, 'dsenrroscarse': 3774, 'orinte': 7222, 'armador': 794, 'hacendo': 5258, 'valmecanica': 10845, 'prosesarse': 8058, 'manutentorvolteador': 6396, 'tkosfeldrodillo': 10319, 'emparejadorcadena': 3978, 'arreglanbdo': 843, 'disparej': 3657, 'aceit': 98, 'stop': 9842, 'rect': 8539, 'desbridado': 3201, 'aislar': 356, 'levas': 5983, 'transport': 10555, 'oscc': 7242, 'funte': 4968, 'lcfalta': 5917, 'presionbomba': 7950, 'desbloquear': 3196, 'ptehacerlo': 8154, 'punia': 8211, 'cuchiilas': 2817, 'ocho': 7090, 'bloquoes': 1301, 'mg': 6603, 'desenroolador': 3312, 'loca': 6119, 'acar': 69, 'asiendo': 873, 'arco': 776, 'posiciom': 7848, 'rorro': 9134, 'distri': 3671, 'restirarse': 8890, 'toten': 10441, 'desconoce': 3272, 'cusa': 2858, 'oi': 7108, 'vasculeo': 10910, 'movida': 6823, 'alpte': 516, 'flejador': 4758, 'kpa': 5811, 'setrosa': 9525, 'electricaal': 3843, 'ulttrasonido': 10764, 'btallar': 1501, 'correg': 2636, 'fabr': 4567, 'casete': 1866, 'respuesto': 8855, 'depo': 3076, 'preform': 7902, 'acarreadora': 74, 'safado': 9226, 'sincronizador': 9598, 'reparandola': 8732, 'tonillos': 10366, 'recibos': 8501, 'cheque': 2061, 'tronand': 10664, 'dcel': 2937, 'lubri': 6184, 'cy': 2863, 'plantas': 7707, 'despostilla': 3485, 'cuatro': 2793, 'amm': 578, 'comba': 2315, 'aliniacionde': 487, 'ponchado': 7781, 'trbajando': 10639, 'guillotin': 5221, 'posib': 7841, 'daniad': 2910, 'detmaste': 3569, 'agu': 315, 'estoper': 4423, 'valventeo': 10858, 'desconcham': 3256, 'reapritornilleria': 8427, 'extry': 4563, 'achique': 130, 'mangaera': 6310, 'meguear': 6536, 'roscar': 9148, 'actusliza': 206, 'castem': 1884, 'caid': 1594, 'latera': 5892, 'elinina': 3913, 'kosfel': 5806, 'dersarm': 3093, 'rodillosacelerador': 9087, 'viking': 11050, 'modelo': 6651, 'ovalo': 7282, 'desorilladormuesquear': 3441, 'otesur': 7267, 'mandriles': 6299, 'serbanda': 9485, 'oteinf': 7261, 'tac': 10012, 'baquillas': 1102, 'envudo': 4273, 'cond': 2395, 'tam': 10029, 'aceitglicol': 118, 'diablito': 3591, 'intalar': 5596, 'para': 7338, 'interviene': 5651, 'futa': 4984, 'empalme': 3964, 'desbc': 3188, 'reparacio': 8725, 'sacarla': 9215, 'ampicion': 585, 'cargados': 1818, 'vertir': 10996, 'frente': 4881, 'mesaempaque': 6562, 'galva': 5003, 'desprendio': 3496, 'cmangas': 2226, 'cnte': 2230, 'desarm': 3168, 'barrasguia': 1142, 'aza': 1020, 'taco': 10014, 'banado': 1084, 'reuctor': 8941, 'limpiezas': 6038, 'vivraci': 11063, 'hudialico': 5394, 'torniq': 10415, 'vps': 11129, 'clasiflicador': 2197, 'ovni': 7288, 'inertizado': 5499, 'xsvc': 11213, 'vestidores': 10999, 'tmaircabezalmordazas': 10324, 'termomagnetico': 10235, 'aflojo': 278, 'straker': 9844, 'vuela': 11139, 'desaguar': 3115, 'baston': 1178, 'jumper': 5774, 'lle': 6080, 'convertain': 2552, 'pinhas': 7632, 'soldarse': 9727, 'taraja': 10082, 'botes': 1415, 'llenos': 6100, 'apizoandor': 704, 'buzas': 1523, 'orrillas': 7234, 'matizador': 6461, 'sueldan': 9888, 'trasmisore': 10612, 'rapador': 8353, 'nolino': 6997, 'plncha': 7732, 'ecxeso': 3809, 'flotante': 4778, 'limpiarla': 6031, 'manipulado': 6343, 'otecarro': 7257, 'separdor': 9472, 'estudio': 4441, 'poceso': 7746, 'inversora': 5666, 'obturador': 7070, 'bas': 1158, 'prins': 7998, 'prncipal': 8001, 'ede': 3811, 'anticrimping': 634, 'mufla': 6889, 'personalde': 7564, 'ksoldadoraantorcha': 5818, 'gulld': 5227, 'prenden': 7915, 'unidireccional': 10780, 'tableromordaza': 10005, 'autom': 969, 'checam': 2049, 'escama': 4317, 'ptaksoldadoraantorcha': 8138, 'comple': 2338, 'schok': 9303, 'cortin': 2707, 'lshhlshlslse': 6162, 'sondeandestapan': 9774, 'lubvolante': 6213, 'vdes': 10927, 'carroi': 1841, 'tranferencia': 10514, 'interrumple': 5639, 'peremiso': 7525, 'tub': 10689, 'vdeslizante': 10929, 'lostornillos': 6147, 'depositar': 3079, 'apreta': 737, 'paradesalojo': 7344, 'trico': 10648, 'tableropara': 10006, 'comunicacionhard': 2378, 'nvl': 7053, 'verse': 10989, 'alinena': 482, 'tsr': 10687, 'iniciado': 5543, 'housing': 5390, 'dispositivo': 3665, 'distribuid': 3676, 'tkosfeldcabezalmordazas': 10318, 'ksierraalarma': 5817, 'enehbra': 4077, 'pemisivo': 7509, 'resirculador': 8831, 'bombap': 1347, 'rebicionde': 8445, 'presentan': 7937, 'alarmas': 411, 'deslizantecb': 3399, 'brirncar': 1483, 'panralla': 7325, 'fabricacin': 4569, 'ptabarnizadora': 8133, 'wvolteadorpiston': 11206, 'dobles': 3714, 'devoltaje': 3583, 'mach': 6232, 'guis': 5226, 'reve': 8951, 'fijara': 4696, 'instalara': 5580, 'izaje': 5705, 'desbloque': 3192, 'desprend': 3488, 'botarese': 1399, 'detenida': 3558, 'fotoceld': 4829, 'manutentortope': 6394, 'lcbiseladorawalkingbeam': 5913, 'continuo': 2513, 'cun': 2845, 'choque': 2089, 'bolante': 1325, 'taladra': 10022, 'taquete': 10078, 'sepone': 9476, 'elevar': 3898, 'funcioana': 4946, 'circunferenci': 2178, 'loope': 6137, 'vas': 10907, 'fo': 4793, 'main': 6263, 'voz': 11126, 'seglazo': 9375, 'presente': 7939, 'refuerzos': 8628, 'soporteria': 9795, 'cruc': 2753, 'supcabezal': 9939, 'empezo': 3987, 'desarmart': 3176, 'zarco': 11237, 'dririve': 3751, 'quinto': 8318, 'inyermedio': 5683, 'bfalsa': 1236, 'fleccion': 4747, 'sueltos': 9895, 'dealco': 2945, 'greve': 5173, 'rompedora': 9123, 'wprensadado': 11196, 'reporatan': 8772, 'clam': 2188, 'descartesmesa': 3242, 'aceitadroa': 109, 'deconecta': 2975, 'desconchado': 3255, 'desenhebrar': 3295, 'candadeo': 1756, 'ajusres': 377, 'siguio': 9574, 'ptemaltrat': 8156, 'enex': 4094, 'ciclones': 2130, 'ruidoplato': 9191, 'descartan': 3235, 'desoldados': 3426, 'teminales': 10145, 'terminal': 10227, 'vcd': 10922, 'metro': 6595, 'tab': 9996, 'osa': 7239, 'alinecion': 481, 'bb': 1211, 'ctutch': 2776, 'converyor': 2558, 'alcos': 429, 'joystik': 5762, 'caersae': 1588, 'exsprimidor': 4525, 'maniobr': 6334, 'persona': 7562, 'cronometro': 2747, 'agrear': 301, 'disel': 3652, 'concha': 2394, 'vag': 10817, 'ond': 7129, 'fallatoma': 4602, 'mpconectores': 6837, 'jrevision': 5766, 'ultra': 10756, 'sonido': 9778, 'ptracarreador': 8166, 'aceitadorarodillo': 108, 'ptrmesa': 8170, 'empaquetadopiston': 3975, 'aflopjamiento': 279, 'dejan': 3017, 'nvcolocando': 7052, 'gurda': 5229, 'loss': 6146, 'fit': 4726, 'armonica': 804, 'capacitores': 1768, 'ambio': 568, 'decent': 2970, 'deel': 2987, 'detecion': 3545, 'rtma': 9183, 'adaptar': 234, 'extracion': 4546, 'arreglo': 846, 'paralelsimo': 7355, 'gaj': 4995, 'remplaza': 8713, 'bela': 1224, 'lopera': 6142, 'aceitec': 114, 'inyaccion': 5673, 'cilguillotinac': 2142, 'pmslimpiar': 7742, 'cdsu': 1931, 'ne': 6927, 'ultrasonida': 10760, 'separadora': 9467, 'comunplc': 2386, 'entradadrop': 4248, 'cribas': 2740, 'microswitch': 6613, 'revisionxsv': 9005, 'restablesen': 8876, 'retractil': 8922, 'emisor': 3956, 'camdio': 1710, 'sepmagnetico': 9475, 'revicio': 8979, 'estirar': 4418, 'restab': 8858, 'ferroaleciones': 4672, 'ms': 6842, 'dolinger': 3721, 'descar': 3222, 'hemergencia': 5294, 'ventiladore': 10971, 'pit': 7668, 'rcado': 8382, 'transmitidor': 10550, 'intercambiar': 5613, 'acarr': 70, 'emrgencia': 4002, 'inducido': 5492, 'encarrilar': 4016, 'permisivos': 7545, 'dtb': 3776, 'vortexk': 11117, 'taponeada': 10072, 'une': 10771, 'encuentran': 4051, 'provicional': 8092, 'distr': 3670, 'havilitar': 5281, 'enrgizan': 4181, 'solidos': 9743, 'fpurga': 4844, 'agregados': 305, 'boveda': 1426, 'operadore': 7154, 'reci': 8494, 'natallar': 6913, 'toela': 10339, 'cruzando': 2764, 'mgnetico': 6604, 'cremllera': 2737, 'enhebrada': 4148, 'cotrol': 2722, 'trabel': 10478, 'tierrade': 10272, 'willder': 11185, 'agrago': 300, 'revusa': 9021, 'dolo': 3723, 'interestop': 5615, 'chueca': 2099, 'carcasa': 1803, 'enreda': 4177, 'desmonta': 3407, 'fugaen': 4931, 'oficina': 7104, 'cuerda': 2837, 'enciendel': 4026, 'bombaneutraliz': 1346, 'ut': 10800, 'boll': 1331, 'colocado': 2293, 'emerg': 3948, 'kguias': 5795, 'rebexte': 8443, 'slitterdesorillemotor': 9659, 'lazo': 5905, 'cbr': 1913, 'segc': 9371, 'cnf': 2229, 'distrib': 3672, 'tmaircabezalpiston': 10325, 'purgabombasajusttorsionador': 8224, 'safar': 9228, 'engran': 4130, 'afolajamiento': 280, 'tornilla': 10400, 'biel': 1244, 'paneles': 7324, 'recob': 8516, 'maneobrar': 6304, 'manit': 6346, 'comundrop': 2370, 'castillo': 1888, 'procesar': 8023, 'adelantarlo': 241, 'desaparesen': 3166, 'cartcher': 1852, 'maunutentortornillos': 6467, 'retrtactil': 8937, 'fleja': 4756, 'segmeto': 9384, 'apo': 720, 'estructur': 4439, 'proll': 8051, 'hdr': 5291, 'hdc': 5288, 'contamin': 2490, 'expuesto': 4514, 'manipualdor': 6340, 'revi': 8977, 'conex': 2430, 'tijc': 10275, 'inc': 5460, 'lebantaba': 5938, 'comunicacionplc': 2380, 'alineadorafalla': 476, 'comuni': 2371, 'toldo': 10344, 'calentarsetr': 1626, 'tumbar': 10713, 'desensor': 3331, 'tranformador': 10516, 'tlc': 10320, 'tegulador': 10128, 'manivel': 6349, 'blade': 1269, 'pegan': 7497, 'drene': 3747, 'amci': 575, 'safars': 9230, 'desinatalar': 3376, 'expimidor': 4495, 'pl': 7674, 'barrapreparar': 1139, 'fuerafalla': 4917, 'comunicacionpl': 2379, 'entarda': 4231, 'plcentrada': 7726, 'bokillas': 1322, 'repportan': 8786, 'embalsamado': 3926, 'desconectador': 3265, 'fucha': 4907, 'carretilla': 1834, 'tornillcapadlevamordazas': 10402, 'manutentorrevision': 6392, 'tormilleria': 10391, 'intervien': 5650, 'vcolocacion': 10925, 'banera': 1101, 'hidlaulica': 5316, 'receta': 8478, 'tvm': 10725, 'btarse': 1502, 'regul': 8662, 'inyec': 5675, 'espaciodor': 4361, 'cambir': 1706, 'uidades': 10750, 'haci': 5263, 'horn': 5382, 'niveladoras': 6979, 'amar': 542, 'desacoplando': 3105, 'fracturadas': 4853, 'eliminacion': 3905, 'licencia': 5998, 'tappres': 10076, 'depaso': 3071, 'limita': 6013, 'escalera': 4313, 'power': 7870, 'track': 10484, 'fractrura': 4848, 'intervie': 5649, 'cacho': 1561, 'norter': 7017, 'rechup': 8486, 'otr': 7270, 'post': 7863, 'puesta': 8191, 'sopoerte': 9790, 'bols': 1334, 'recortan': 8536, 'manghid': 6315, 'estirad': 4415, 'tanqueslam': 10050, 'hablitar': 5248, 'lampar': 5865, 'preparando': 7929, 'nc': 6922, 'fallgancho': 4605, 'cinta': 2169, 'portapeine': 7831, 'marco': 6425, 'engrasa': 4136, 'jamp': 5724, 'permisib': 7539, 'alineaci': 472, 'reventon': 8966, 'calmm': 1664, 'parando': 7361, 'jalonear': 5720, 'comu': 2365, 'recalentarce': 8455, 'whdesenrolladorplato': 11170, 'eleveadora': 3900, 'pitse': 7670, 'limpiase': 6033, 'ftaftb': 4901, 'purgase': 8230, 'llama': 6073, 'fcv': 4649, 'lat': 5890, 'sepuede': 9481, 'recortando': 8537, 'broca': 1485, 'candad': 1753, 'desliz': 3389, 'botadono': 1386, 'levantarse': 5977, 'comunicacionfotocelda': 2377, 'resetfalla': 8819, 'expulsaba': 4517, 'tbse': 10110, 'abcse': 20, 'entrdas': 4263, 'analogas': 595, 'prs': 8108, 'bi': 1239, 'emparejadores': 3980, 'pistola': 7660, 'inyectora': 5681, 'servi': 9498, 'acutador': 228, 'despatar': 3455, 'templ': 10165, 'simultaneos': 9588, 'dale': 2881, 'premier': 7912, 'transpportador': 10567, 'teller': 10141, 'motorcalibrado': 6788, 'callibrado': 1662, 'capad': 1769, 'acopoda': 167, 'tuiberia': 10711, 'cunha': 2852, 'paa': 7298, 'controlador': 2540, 'josting': 5759, 'estrano': 4431, 'mantzadora': 6369, 'concetor': 2393, 'taladro': 10023, 'blo': 1272, 'repocison': 8759, 'plte': 7738, 'rodexpp': 9076, 'entijera': 4236, 'cortadorescambio': 2689, 'cochelado': 2240, 'vuelv': 11146, 'faalla': 4565, 'amarr': 546, 'danara': 2901, 'temperaturat': 10161, 'cuba': 2794, 'tcab': 10112, 'granalla': 5159, 'caracol': 1796, 'pdtabc': 7468, 'dosificador': 3728, 'psoldarpasarse': 8125, 'procesopruebas': 8028, 'botarsae': 1403, 'escuadrequitar': 4341, 'locosolo': 6126, 'extra': 4540, 'intervienen': 5652, 'reboiler': 8446, 'confronta': 2440, 'lubmotor': 6181, 'cilndvd': 2155, 'sob': 9668, 'azufre': 1022, 'puntavolver': 8216, 'otea': 7255, 'dri': 3748, 'autoreductor': 980, 'casetes': 1867, 'matizar': 6463, 'espeso': 4379, 'fenar': 4663, 'wolk': 11194, 'acomada': 140, 'tolava': 10342, 'manaual': 6286, 'reconoce': 8531, 'asufre': 882, 'combio': 2319, 'supote': 9953, 'memoria': 6537, 'fast': 4636, 'izqu': 5707, 'wvsv': 11209, 'vibradores': 11021, 'sellado': 9423, 'qurbrarse': 8327, 'sproc': 9816, 'flech': 4748, 'parpareo': 7385, 'espriado': 4392, 'vepsa': 10981, 'platinas': 7718, 'boqu': 1360, 'retsablece': 8938, 'trazas': 10638, 'destapartanque': 3523, 'intentar': 5603, 'trnasmisores': 10659, 'proboca': 8018, 'dsajuste': 3768, 'atanque': 885, 'filtrador': 4703, 'comienza': 2329, 'diferiencia': 3621, 'prc': 7885, 'sodadora': 9685, 'vuelo': 11140, 'doblesalir': 3715, 'origina': 7207, 'lubricado': 6193, 'abatibl': 13, 'acatuador': 78, 'martillos': 6435, 'pulidor': 8201, 'actu': 192, 'privicional': 8000, 'lagrimeo': 5839, 'anterio': 628, 'rifle': 9042, 'mani': 6330, 'blokeador': 1279, 'payo': 7457, 'noret': 7006, 'desalineamientos': 3143, 'vibraddor': 11018, 'ingresar': 5525, 'morgil': 6768, 'preposicionar': 7932, 'batallr': 1197, 'skdii': 9632, 'costilla': 2718, 'entragan': 4256, 'contaminacio': 2492, 'natural': 6914, 'lubricad': 6192, 'planchuelasabrir': 7696, 'sopr': 9798, 'faulearse': 4642, 'quea': 8257, 'puga': 8193, 'cts': 2775, 'datiempo': 2932, 'orientesur': 7204, 'aceitadorano': 106, 'vece': 10932, 'accion': 84, 'plataform': 7712, 'cej': 1946, 'obstrucion': 7062, 'limpiafor': 6026, 'desnrollador': 3417, 'perso': 7561, 'reponeaceite': 8765, 'fusi': 4974, 'oye': 7296, 'desajustadas': 3122, 'moduloen': 6660, 'equip': 4285, 'tacones': 10017, 'typers': 10731, 'transvcersa': 10572, 'reaprietan': 8424, 'descone': 3257, 'sopl': 9782, 'barre': 1143, 'regadera': 8631, 'flamaprecalentador': 4738, 'contrldor': 2534, 'comunica': 2373, 'ocupaso': 7097, 'drops': 3765, 'tayper': 10101, 'inundandose': 5658, 'desgastada': 3364, 'servovalvulas': 9511, 'inerti': 5496, 'pop': 7797, 'up': 10789, 'tierras': 10273, 'fisicas': 4723, 'treportan': 10646, 'cuca': 2806, 'tabla': 9999, 'desarmaron': 3174, 'tablas': 10001, 'grasera': 5167, 'tube': 10691, 'manipuladores': 6345, 'fot': 4822, 'apisonado': 699, 'medidir': 6526, 'calibrascion': 1647, 'reconexion': 8530, 'termogra': 10233, 'endrezadora': 4066, 'radial': 8335, 'cilndro': 2153, 'virtual': 11052, 'encabezal': 4012, 'congelados': 2447, 'marcras': 6426, 'claibre': 2187, 'dist': 3668, 'llenars': 6093, 'congeladas': 2446, 'habl': 5244, 'desviadsor': 3534, 'paralerlismo': 7357, 'enehbrador': 4079, 'tasa': 10098, 'ffff': 4683, 'cerov': 1997, 'trabado': 10460, 'roillo': 9096, 'trasversor': 10632, 'velicidad': 10939, 'precaletador': 7892, 'llene': 6098, 'quebrados': 8268, 'seguimento': 9390, 'inivirce': 5552, 'arranc': 815, 'nv': 7051, 'aceiete': 97, 'tnave': 10329, 'yosting': 11230, 'manutentortornillos': 6395, 'averiado': 1005, 'incrementador': 5476, 'moduloo': 6661, 'larma': 5887, 'previo': 7968, 'garr': 5032, 'bbas': 1213, 'secundarios': 9361, 'ptan': 8142, 'ayudante': 1018, 'electricasuministrogeneral': 3848, 'desprogramo': 3498, 'lee': 5945, 'amortiguadores': 581, 'equipoenrollador': 4289, 'equipomolino': 4292, 'ofa': 7100, 'pendientes': 7513, 'collarin': 2290, 'producsion': 8038, 'demkora': 3050, 'pies': 7603, 'hodraulico': 5364, 'shaft': 9533, 'equipohumos': 4291, 'polvossistema': 7776, 'sellar': 9425, 'bie': 1243, 'montajeotrosgeneral': 6744, 'robo': 9057, 'falsocables': 4615, 'patinaban': 7440, 'agrego': 311, 'alinearla': 480, 'fpm': 4843, 'saco': 9220, 'sigmas': 9565, 'cuelga': 2825, 'sobrante': 9669, 'torada': 10380, 'zafa': 11235, 'electricostope': 3861, 'equiposistema': 4295, 'alcono': 428, 'emb': 3923, 'bf': 1235, 'enfriamieniento': 4113, 'electricosinstrumentaci': 3855, 'liquitain': 6062, 'extractores': 4552, 'descostilla': 3276, 'cuelgan': 2826, 'pandiad': 7321, 'slid': 9651, 'danan': 2899, 'sentra': 9456, 'jreponer': 5764, 'mantas': 6358, 'tensdion': 10191, 'registrar': 8644, 'iresetear': 5688, 'terrja': 10245, 'biceladora': 1241, 'nitrojeno': 6968, 'acumulado': 220, 'encendia': 4018, 'cavezal': 1905, 'rodamietos': 9073, 'sobrevelocidad': 9679, 'velpocidad': 10948, 'driveno': 3755, 'mconopen': 6478, 'ldp': 5936, 'deperdicio': 3074, 'comenzar': 2326, 'corrimiento': 2667, 'tenzor': 10208, 'revaba': 8943, 'incrustada': 5482, 'inihbirse': 5547, 'trasmison': 10610, 'deen': 2988, 'orila': 7210, 'permiivo': 7537, 'faul': 4640, 'salidatrabajando': 9266, 'overspeed': 7287, 'electricosdispositivos': 3853, 'mangeura': 6314, 'solucio': 9764, 'correctiv': 2622, 'descotillador': 3278, 'ventcfria': 10958, 'corazam': 2594, 'equipoauxiliares': 4287, 'cddispositivos': 1920, 'escorias': 4328, 'carrobanda': 1840, 'cdtransformador': 1933, 'mento': 6548, 'equipodesconexiones': 4288, 'extactor': 4527, 'sujet': 9911, 'charrola': 2040, 'intermed': 5622, 'alrma': 518, 'regillas': 8637, 'shaftsubirse': 9534, 'gammamas': 5018, 'reversatener': 8969, 'oprimi': 7184, 'constantes': 2475, 'fotoselda': 4840, 'paraba': 7339, 'arrar': 831, 'apro': 752, 'ridillo': 9030, 'hoffman': 5365, 'fisher': 4720, 'pesos': 7577, 'subia': 9864, 'cmbio': 2227, 'alimentado': 450, 'desaparece': 3162, 'arman': 796, 'escurridores': 4347, 'alcofalla': 427, 'ims': 5454, 'arramque': 813, 'sincronisazion': 9596, 'manguerra': 6327, 'telescopica': 10139, 'componer': 2349, 'despus': 3515, 'avnce': 1011, 'jsr': 5769, 'skruber': 9643, 'interned': 5631, 'avienta': 1007, 'correct': 2615, 'correcto': 2624, 'diametr': 3598, 'corecto': 2598, 'ajenasairegeneral': 363, 'execeso': 4467, 'tempo': 10168, 'electricosrobot': 3858, 'cdplcs': 1928, 'paseaflojarse': 7415, 'desperd': 3465, 'ejecutar': 3823, 'reaalizar': 8392, 'enfrente': 4099, 'cisalla': 2180, 'conectarmuestar': 2424, 'vidrio': 11032, 'protecto': 8076, 'guanga': 5203, 'surnorte': 9965, 'ultrsonico': 10762, 'alivio': 495, 'valorar': 10849, 'acomulac': 152, 'alcoesperar': 426, 'fotcelda': 4823, 'receptor': 8475, 'altopon': 526, 'montajemecanico': 6742, 'sacadescarte': 9209, 'descartessacar': 3243, 'producsi': 8037, 'shafttapa': 9535, 'corriendo': 2656, 'polvosbooster': 7774, 'chumacerarodillo': 2108, 'ariba': 789, 'cdinstrumentaci': 1922, 'scar': 9300, 'reventars': 8962, 'jc': 5731, 'tailout': 10019, 'targeta': 10087, 'milano': 6616, 'rdaacumularse': 8385, 'caecableado': 1574, 'ajueros': 371, 'alambre': 404, 'cinco': 2163, 'cilleta': 2152, 'despegada': 3458, 'nievelador': 6958, 'desarma': 3169, 'gatoe': 5045, 'maximo': 6471, 'carcamodel': 1802, 'frenoatorarse': 4873, 'manualmaente': 6375, 'vibraci': 11015, 'cambiai': 1688, 'problmea': 8017, 'operacio': 7147, 'recargaserse': 8471, 'correctame': 2617, 'otecortar': 7258, 'comunicion': 2385, 'sigama': 9562, 'juntas': 5776, 'fractutadas': 4860, 'pdte': 7472, 'prog': 8041, 'placha': 7680, 'cider': 2132, 'broce': 1486, 'teles': 10132, 'heraues': 5299, 'fotoceldamaniobras': 4833, 'tarada': 10081, 'corrcetamente': 2610, 'electricosducto': 3854, 'selectores': 9420, 'topase': 10374, 'exps': 4512, 'yfuerza': 11219, 'gammax': 5019, 'godolas': 5118, 'ptetraslapar': 8161, 'fmuestra': 4792, 'enfrie': 4119, 'agustar': 332, 'eb': 3799, 'rociado': 9063, 'clen': 2206, 'aflojase': 276, 'cdrobot': 1930, 'electricosinterruptor': 3856, 'guiapara': 5217, 'mter': 6848, 'erroneo': 4309, 'rntrar': 9055, 'registar': 8640, 'inicial': 5544, 'sig': 9561, 'pisador': 7650, 'cccfalla': 1916, 'taras': 10083, 'restblecer': 8881, 'goteando': 5129, 'telescop': 10134, 'web': 11163, 'break': 1450, 'fau': 4639, 'pueba': 8177, 'electrtica': 3880, 'galvaniazado': 5006, 'sliteer': 9655, 'peines': 7506, 'antigolpes': 636, 'deformacion': 3005, 'sde': 9320, 'ocacionar': 7079, 'angos': 608, 'aislamiento': 355, 'tensentrlubri': 10192, 'pdvcj': 7476, 'corrid': 2649, 'morgo': 6769, 'alcocambio': 425, 'apisionadior': 691, 'traslasion': 10606, 'cdinstrumentacion': 1923, 'lpor': 6153, 'grual': 5181, 'amarrando': 557, 'carrusel': 1847, 'opsal': 7187, 'cdinterruptor': 1924, 'suric': 9963, 'imsrollo': 5455, 'agustes': 336, 'electrohidraulico': 3869, 'almace': 500, 'aren': 784, 'fallen': 4604, 'gruano': 5182, 'polipa': 7765, 'rechupar': 8489, 'joguear': 5750, 'emeroperar': 3951, 'apoyarnos': 729, 'aplastadores': 715, 'reba': 8429, 'enrrollarse': 4216, 'surte': 9970, 'encabl': 4013, 'acarread': 72, 'descalabra': 3205, 'siderhorno': 9553, 'fuhs': 4937, 'retiene': 8910, 'fatiga': 4638, 'eval': 4451, 'motppal': 6805, 'eleval': 3893, 'placapiso': 7677, 'zero': 11239, 'agarrra': 290, 'poqer': 7799, 'swundwig': 9988, 'reseta': 8810, 'aregla': 782, 'restirase': 8891, 'tonillo': 10365, 'corrediza': 2634, 'bridle': 1466, 'partidos': 7396, 'ambudo': 574, 'bobma': 1318, 'acordeon': 168, 'present': 7935, 'cdsur': 1932, 'limal': 6007, 'acumcaeperd': 210, 'diferente': 3619, 'sistemaseditar': 9619, 'cedul': 1942, 'proteci': 8074, 'escorea': 4325, 'revolverlinea': 9019, 'atoirace': 903, 'agust': 331, 'alime': 439, 'tapando': 10060, 'rigid': 9044, 'electricostapa': 3860, 'entrollador': 4268, 'ali': 433, 'hidraul': 5325, 'ferrroaleaciones': 4676, 'agf': 292, 'ultrasinico': 10757, 'oxige': 7293, 'obttumbar': 7069, 'oxigen': 7294, 'plcs': 7728, 'tdist': 10117, 'portamangueras': 7828, 'procesobajar': 8026, 'terminado': 10226, 'segun': 9394, 'galopante': 5001, 'resetmolino': 8822, 'electricoslimites': 3857, 'retor': 8918, 'atravesad': 940, 'kempaquetado': 5793, 'recubre': 8553, 'sostiene': 9806, 'sostienen': 9807, 'eqm': 4281, 'separar': 9471, 'accinar': 83, 'interrumpirse': 5638, 'cablear': 1554, 'darla': 2926, 'ght': 5079, 'sealbem': 9324, 'barizadora': 1113, 'instalarse': 5582, 'pawer': 7455, 'caqueta': 1793, 'siclo': 9549, 'habilitabdo': 5238, 'grafiro': 5155, 'graf': 5147, 'batallarp': 1190, 'expulsa': 4516, 'electricossistema': 3859, 'spocker': 9814, 'deferroaleaciones': 2994, 'gunear': 5228, 'electricasuministrocaida': 3847, 'mentors': 6550, 'siamesas': 9546, 'reperar': 8748, 'ptefuga': 8152, 'cabezalmas': 1541, 'contaminada': 2494, 'sondea': 9772, 'sisthidlubredtijera': 9623, 'temperetura': 10162, 'tristor': 10655, 'sacdescartes': 9219, 'viajera': 11006, 'trrraja': 10681, 'malluga': 6274, 'drie': 3749, 'fallad': 4590, 'alarmarse': 410, 'tyristores': 10732, 'imprimen': 5451, 'hidraulicoi': 5332, 'uhalco': 10746, 'contaminadas': 2495, 'segmentospinch': 9382, 'refaciones': 8608, 'empates': 3985, 'filtrar': 4705, 'trata': 10633, 'desamarar': 3155, 'fijo': 4697, 'proba': 8005, 'bloke': 1278, 'sinta': 9601, 'exproket': 4511, 'slaida': 9647, 'polvoscasa': 7775, 'detectan': 3549, 'nehumatico': 6932, 'fdummy': 4653, 'descascara': 3246, 'corazasubirse': 2597, 'cdrectificador': 1929, 'cauerse': 1902, 'rad': 8332, 'proeso': 8040, 'fparo': 4842, 'cerono': 1996, 'rundevolver': 9197, 'probarpero': 8014, 'ru': 9185, 'traslapa': 10602, 'fijosup': 4698, 'descal': 3204, 'fartir': 4632, 'walkinn': 11159, 'analisis': 593, 'soldadur': 9718, 'tanquesabrir': 10049, 'ocacionando': 7078, 'saliente': 9272, 'sistemade': 9615, 'sistde': 9610, 'luna': 6221, 'cdlanzas': 1925, 'oxi': 7289, 'camboipo': 1709, 'pisicion': 7651, 'suci': 9876, 'sacatornillo': 9218, 'cilind': 2145, 'chcar': 2046, 'deshabilitar': 3369, 'fargo': 4628, 'etiquetas': 4448, 'increme': 5474, 'sierrade': 9558, 'suciosnivel': 9884, 'presiom': 7945, 'ocupar': 7096, 'orille': 7217, 'desplasamiento': 3472, 'movimie': 6829, 'incrementarse': 5479, 'corazarevisando': 2595, 'cora': 2588, 'afiladora': 263, 'lubrol': 6212, 'alibio': 434, 'botrse': 1424, 'conjunto': 2457, 'tiornilleria': 10294, 'cilinindros': 2150, 'difrente': 3626, 'vribracion': 11132, 'instalado': 5576, 'intercambiado': 5610, 'desilzante': 3375, 'resivo': 8836, 'deslian': 3383, 'hitachi': 5354, 'rotatorial': 9160, 'opcorrector': 7142, 'ajenasaguasistema': 362, 'gam': 5013, 'instrumentacion': 5590, 'limitacion': 6014, 'calibar': 1630, 'bh': 1237, 'eatacion': 3797, 'escurrdidores': 4344, 'acomodan': 145, 'ayuda': 1016, 'distancia': 3669, 'piloto': 7615, 'sockete': 9684, 'ondareparar': 7131, 'doblebrazo': 3706, 'soluible': 9766, 'alimentad': 449, 'paraleismo': 7346, 'rodamienta': 9070, 'conservacion': 2469, 'descostillador': 3277, 'danars': 2905, 'enderzadora': 4065, 'monoben': 6733, 'pilir': 7611, 'enseguida': 4221, 'acomularse': 157, 'breack': 1448, 'airmix': 351, 'mandrel': 6296, 'batallas': 1194, 'poe': 7755, 'soladr': 9693, 'ferno': 4665, 'traspo': 10622, 'oprimir': 7186, 'pasti': 7433, 'bnatallar': 1306, 'vija': 11048, 'alcanse': 420, 'variando': 10899, 'picavirutas': 7591, 'desal': 3130, 'diferenc': 3615, 'dat': 2931, 'high': 5347, 'calzado': 1673, 'reflejarse': 8619, 'programas': 8049, 'hmdi': 5358, 'lla': 6071, 'apretatr': 744, 'chumacerasalirse': 2110, 'demaciados': 3045, 'coreguir': 2600, 'cortado': 2678, 'limpeza': 6019, 'cedasos': 1939, 'matenimiento': 6449, 'cabezaal': 1536, 'conmutado': 2460, 'reb': 8428, 'apagad': 653, 'inibirse': 5539, 'mause': 6468, 'sistemaestarse': 9616, 'brincando': 1469, 'lente': 5956, 'nivwel': 6991, 'sunwing': 9936, 'pegaba': 7491, 'pared': 7374, 'corazasubirce': 2596, 'pfdl': 7581, 'roscadotarr': 9147, 'ferroale': 4667, 'patinando': 7444, 'infsal': 5521, 'sujeccion': 9909, 'sujec': 9908, 'sisteme': 9620, 'plantade': 7705, 'sinfines': 9600, 'molw': 6704, 'alimentadorsoldadora': 454, 'scruguer': 9318, 'chumazera': 2117, 'dedos': 2985, 'cubriciones': 2801, 'segunda': 9395, 'reportada': 8775, 'cedaso': 1938, 'tacometro': 10015, 'elevacio': 3886, 'interm': 5620, 'iliuminacion': 5428, 'probad': 8007, 'molwdadoprensa': 6705, 'molk': 6699, 'lubicacion': 6179, 'tuber': 10692, 'protecciones': 8071, 'cpte': 2727, 'venteartse': 10963, 'motris': 6810, 'generada': 5063, 'hco': 5286, 'repadar': 8721, 'correta': 2647, 'medidores': 6529, 'runse': 9198, 'puntos': 8219, 'medicon': 6512, 'anc': 596, 'roscadomesa': 9146, 'expandircerrar': 4491, 'budo': 1504, 'desenrros': 3326, 'protec': 8064, 'airmi': 350, 'corrrgir': 2671, 'mober': 6646, 'enbudos': 4010, 'diamenro': 3595, 'enapp': 4007, 'siguient': 9571, 'evk': 4458, 'regenerador': 8633, 'desli': 3382, 'robotarenador': 9059, 'cantidad': 1764, 'sajuste': 9233, 'ptedoblarse': 8151, 'parpadeo': 7384, 'reconocen': 8532, 'tornileria': 10398, 'tanqueagregaraceite': 10047, 'porteria': 7834, 'lubircasion': 6180, 'posisio': 7858, 'apila': 683, 'variasiones': 10903, 'averiadas': 1004, 'extracto': 4548, 'corazaalta': 2593, 'probando': 8011, 'desconectarmotor': 3268, 'caporon': 1787, 'interface': 5616, 'ornte': 7226, 'tendencias': 10181, 'mente': 6546, 'electrodode': 3866, 'tristores': 10656, 'ubend': 10733, 'cuichillas': 2840, 'acswt': 171, 'atar': 886, 'vampi': 10877, 'trozarse': 10679, 'mlolino': 6640, 'vampir': 10878, 'flair': 4734, 'radiador': 8334, 'ende': 4057, 'desviacion': 3530, 'frenoquedarse': 4876, 'guirando': 5224, 'std': 9836, 'coordinacion': 2570, 'roceso': 9062, 'agarar': 285, 'cuadro': 2785, 'espulsora': 4396, 'flacheo': 4733, 'reventados': 8960, 'hic': 5306, 'ondulade': 7135, 'traquin': 10580, 'inyect': 5677, 'limpiad': 6022, 'repart': 8739, 'cnc': 2228, 'desconsecun': 3274, 'elctrica': 3828, 'marcaparo': 6420, 'local': 6120, 'oroceso': 7227, 'vamp': 10876, 'pinion': 7635, 'vrevizar': 11131, 'desactivarse': 3114, 'abra': 39, 'piesa': 7604, 'semsor': 9433, 'sulto': 9919, 'abrasaderas': 42, 'desenrroll': 3320, 'desconect': 3260, 'justificar': 5781, 'slabon': 9646, 'deshidratador': 3371, 'aroja': 808, 'olivine': 7122, 'modo': 6658, 'len': 5949, 'uebrada': 10743, 'porquebarse': 7815, 'anga': 607, 'cambiamotor': 1689, 'dezlizante': 3585, 'reportar': 8778, 'hmiinspector': 5360, 'precionar': 7895, 'solt': 9752, 'quiedarse': 8308, 'activado': 179, 'decenroscarce': 2968, 'festo': 4678, 'motrizsal': 6812, 'desniv': 3412, 'ev': 4450, 'secambio': 9338, 'arnes': 805, 'bale': 1073, 'enhebro': 4157, 'preparo': 7931, 'pericos': 7530, 'skimpas': 9634, 'bean': 1219, 'votas': 11124, 'guira': 5223, 'ceuceta': 2023, 'ferroaleacio': 4669, 'surponiente': 9968, 'macas': 6231, 'clavar': 2198, 'trayecto': 10636, 'gasgard': 5037, 'variables': 10894, 'volteadas': 11092, 'raspar': 8365, 'hofm': 5366, 'fueracaerse': 4915, 'prendidasno': 7919, 'darse': 2929, 'gasta': 5039, 'palnetario': 7314, 'cierr': 2136, 'cruzad': 2762, 'cheche': 2056, 'cartabones': 1850, 'wit': 11189, 'amrado': 589, 'pbas': 7459, 'espesifi': 4378, 'cincr': 2164, 'anteriores': 630, 'adelaante': 238, 'rdas': 8386, 'traking': 10504, 'hueco': 5395, 'bendig': 1226, 'ordenes': 7195, 'jaul': 5728, 'aliste': 493, 'cepill': 1986, 'baypasiarse': 1207, 'coridas': 2601, 'provar': 8090, 'alfobreas': 432, 'bloqueada': 1288, 'rompio': 9127, 'acriva': 170, 'bomna': 1357, 'dezplasamiento': 3586, 'autocalibraciondesviacion': 966, 'bombe': 1350, 'condensad': 2398, 'estroboscopica': 4436, 'cambo': 1708, 'pordanarse': 7807, 'surote': 9967, 'sincronico': 9594, 'bloq': 1282, 'scrapchoper': 9311, 'rodillas': 9080, 'ama': 540, 'paleta': 7310, 'yoggeandola': 11224, 'desprender': 3490, 'secmentos': 9348, 'interfases': 5617, 'ima': 5430, 'reversea': 8970, 'fr': 4845, 'cambion': 1704, 'fus': 4970, 'tenazas': 10177, 'secmento': 9347, 'ruidio': 9189, 'ray': 8370, 'alci': 423, 'sco': 9304, 'bajaban': 1044, 'morgooil': 6772, 'planchelas': 7690, 'mordidabatallar': 6763, 'asiento': 874, 'atrassalirse': 939, 'tirasabrir': 10305, 'gruasq': 5188, 'vdescarte': 10928, 'acidos': 133, 'arboles': 775, 'rojo': 9097, 'aluminio': 538, 'complemento': 2339, 'tanterior': 10052, 'checks': 2058, 'amplificadora': 588, 'sbajo': 9293, 'conrol': 2467, 'temphidr': 10164, 'agregarle': 309, 'sujetan': 9916, 'cframe': 2029, 'cicloconvertidor': 2128, 'ahs': 340, 'bisel': 1257, 'subirle': 9869, 'dannarse': 2917, 'pares': 7376, 'creado': 2733, 'reisar': 8680, 'dametros': 2888, 'existemarcar': 4475, 'balancead': 1064, 'aparecer': 673, 'teb': 10120, 'desaliniamientos': 3149, 'accionados': 87, 'taza': 10102, 'atorarsse': 925, 'espesro': 4383, 'enlainar': 4163, 'colocaron': 2299, 'biirut': 1248, 'liun': 6069, 'sprokerts': 9818, 'abance': 6, 'hcos': 5287, 'contaminanda': 2497, 'descolcha': 3250, 'infm': 5515, 'offpres': 7103, 'pistonmesa': 7666, 'poniendole': 7793, 'muestro': 6885, 'calorcerrado': 1666, 'arrranque': 858, 'elongac': 3918, 'bloquarse': 1284, 'despun': 3502, 'viruta': 11053, 'plataorma': 7714, 'completar': 2345, 'chuamcera': 2095, 'lent': 5954, 'tnd': 10330, 'molinono': 6691, 'sundwin': 9932, 'naylamit': 6921, 'inspe': 5562, 'enjuagu': 4160, 'mojando': 6665, 'dehyp': 3013, 'eliminador': 3906, 'estender': 4411, 'desaotorar': 3161, 'abrirlas': 56, 'epor': 4276, 'conntrol': 2463, 'porno': 7810, 'rayox': 8378, 'cruseta': 2761, 'embobinado': 3930, 'contaminarse': 2498, 'apizon': 705, 'recepcion': 8474, 'incrementar': 5478, 'purgas': 8229, 'repoportan': 8771, 'dentr': 3065, 'cargo': 1825, 'autocalibracion': 965, 'standa': 9831, 'caqrro': 1792, 'soldartij': 9728, 'chabeta': 2031, 'conicos': 2452, 'operdor': 7171, 'delgad': 3032, 'despu': 3499, 'despuntadorsoldae': 3511, 'ransportador': 8350, 'conveyour': 2562, 'superoir': 9947, 'tbb': 10107, 'deascoplarse': 2947, 'desacpoplarse': 3112, 'quebarse': 8260, 'apisona': 697, 'interrumpir': 5637, 'cobre': 2235, 'apretand': 738, 'tornamesa': 10394, 'armarse': 801, 'abrirre': 57, 'trailer': 10500, 'descargas': 3227, 'enjuage': 4159, 'parpadeando': 7382, 'marcado': 6414, 'selecto': 9416, 'altra': 528, 'trapa': 10578, 'sustrato': 9977, 'ternium': 10243, 'derepente': 3088, 'plaraforma': 7709, 'excitacion': 4466, 'corrigio': 2664, 'corrregir': 2670, 'arrenque': 847, 'terce': 10214, 'batallart': 1193, 'subio': 9867, 'aflojasre': 277, 'localiza': 6121, 'humeda': 5405, 'capturada': 1791, 'portafusible': 7824, 'enenfriami': 4085, 'ptemf': 8157, 'olno': 7125, 'torniquetespersonal': 10419, 'tramision': 10507, 'enrroscar': 4218, 'corrie': 2654, 'pasemarcar': 7420, 'traslacio': 10596, 'tobogan': 10335, 'ol': 7115, 'ventilnacion': 10975, 'depasoantes': 3072, 'qs': 8254, 'peatomal': 7478, 'lenea': 5951, 'calibrazion': 1648, 'tarj': 10089, 'sidementacion': 9551, 'sidematacion': 9550, 'roptura': 9132, 'frenocambio': 4874, 'sietam': 9560, 'barnizado': 1127, 'acumuldor': 227, 'coplee': 2580, 'bhlubiracion': 1238, 'readomax': 8401, 'arrancados': 819, 'riende': 9041, 'desgarrado': 3360, 'tara': 10080, 'desarmarce': 3173, 'frenoterminar': 4879, 'pasecortar': 7418, 'maltrat': 6276, 'preconcentrado': 7897, 'rool': 9129, 'comida': 2327, 'walkingbeam': 11158, 'aciadelant': 131, 'celdas': 1949, 'cabezalespinas': 1540, 'llamar': 6074, 'funda': 4956, 'naranja': 6908, 'abietrta': 33, 'sldadora': 9650, 'empisa': 3990, 'fallasistema': 4600, 'troquelador': 10671, 'chi': 2063, 'aguado': 317, 'desenrtollador': 3330, 'alcan': 417, 'enclavada': 4032, 'secencia': 9345, 'tensonivelad': 10203, 'aujeros': 948, 'diamentros': 3596, 'incorrectos': 5473, 'actuai': 198, 'ehebrado': 3821, 'posiccion': 7845, 'transverzal': 10576, 'sonando': 9770, 'empaquertado': 3971, 'ope': 7143, 'ene': 4067, 'succionar': 9874, 'lamp': 5864, 'pastillas': 7435, 'maza': 6476, 'direcc': 3635, 'ladolibre': 5833, 'confrontaj': 2441, 'comalguillotina': 2312, 'cargando': 1820, 'molono': 6701, 'elimin': 3903, 'vertocal': 10997, 'tie': 10263, 'refacciones': 8607, 'gamafalla': 5015, 'iniven': 5549, 'levantat': 5978, 'voltedora': 11102, 'ajsutaron': 369, 'segmn': 9386, 'pistor': 7667, 'electro': 3863, 'rotametro': 9154, 'llan': 6075, 'deaceite': 2943, 'copel': 2574, 'cuadrante': 2782, 'relevado': 8694, 'herkules': 5301, 'revizando': 9013, 'eslabones': 4353, 'machuelear': 6235, 'desfasado': 3345, 'dallada': 2884, 'istalat': 5698, 'ready': 8402, 'aguste': 335, 'tseoo': 10686, 'bajary': 1053, 'loguear': 6130, 'usuario': 10799, 'gabinetes': 4991, 'detectada': 3548, 'cerchas': 1994, 'tensiona': 10197, 'puragar': 8221, 'ceparador': 1983, 'sensa': 9444, 'ju': 5770, 'siguientetrabajar': 9573, 'tycg': 10728, 'vue': 11137, 'tranversales': 10577, 'canast': 1742, 'trnsmicion': 10661, 'espr': 4388, 'mini': 6622, 'fotoselada': 4839, 'overarm': 7285, 'see': 9369, 'tq': 10452, 'bloqueadore': 1292, 'exprimidore': 4508, 'caparze': 1780, 'bendingy': 1230, 'tiltin': 10288, 'tilti': 10287, 'nofunciona': 6996, 'hacieno': 5270, 'rdstornilleria': 8389, 'separadro': 9470, 'zeniplex': 11238, 'mnguera': 6644, 'yu': 11233, 'expri': 4501, 'sistea': 9612, 'escurrido': 4345, 'sitem': 9628, 'tonrnillo': 10367, 'diame': 3594, 'vuelohacer': 11141, 'vuelohacerse': 11142, 'tolca': 10343, 'seca': 9329, 'eq': 4279, 'den': 3059, 'joices': 5752, 'bailandobrazo': 1033, 'desenroscars': 3315, 'permit': 7548, 'queds': 8289, 'enrgia': 4180, 'mamparas': 6283, 'condensadoscambiar': 2403, 'sillleta': 9583, 'encontrand': 4043, 'encorder': 4047, 'sincrinizacion': 9591, 'gusanos': 5232, 'brazoarenador': 1442, 'borro': 1372, 'informacion': 5517, 'regis': 8638, 'deformado': 3006, 'rebosadero': 8447, 'escape': 4319, 'birlo': 1250, 'dee': 2986, 'desorilles': 3446, 'loclizar': 6123, 'rallas': 8340, 'muho': 6890, 'jue': 5771, 'activados': 180, 'tape': 10065, 'crossover': 2748, 'optica': 7188, 'electroposicionador': 3877, 'sujetadores': 9915, 'escurrimiento': 4348, 'restiradora': 8888, 'aterriza': 891, 'enmbra': 4167, 'apagados': 657, 'portacuchillas': 7821, 'corolla': 2605, 'suelt': 9890, 'nivele': 6987, 'condones': 2407, 'empiezan': 3989, 'energizados': 4091, 'torniqeteshacerse': 10416, 'resagador': 8802, 'bentearse': 1231, 'cocho': 2242, 'wilden': 11184, 'paileria': 7303, 'shok': 9539, 'condensadosbota': 2402, 'desprendida': 3493, 'recircula': 8507, 'limipeza': 6010, 'cambiolimpieza': 1703, 'sigu': 9567, 'siguebloqueada': 9569, 'dsconectan': 3771, 'litro': 6066, 'rectidicador': 8542, 'panchuelas': 7318, 'hydac': 5415, 'colecoctor': 2277, 'pus': 8236, 'desconocida': 3273, 'detactarfuga': 3538, 'csin': 2768, 'fusetron': 4972, 'frs': 4893, 'secha': 9346, 'revisarlo': 8996, 'rodios': 9092, 'girarlo': 5091, 'electricano': 3845, 'danos': 2920, 'retablecen': 8898, 'tenfu': 10185, 'cabezzaal': 1546, 'tijsep': 10285, 'vibrado': 11019, 'sistma': 9626, 'alarna': 412, 'detectarfugamayor': 3551, 'actuarsedetectorde': 204, 'actuarsefugamayor': 205, 'faiso': 4577, 'dala': 2880, 'gppal': 5139, 'sv': 9978, 'ntealmacen': 7028, 'roscadokosfeld': 9144, 'nuevas': 7044, 'trbajar': 10640, 'ariete': 790, 'touch': 10443, 'jogear': 5746, 'estuv': 4442, 'lubricantes': 6198, 'refencia': 8611, 'resurtir': 8895, 'elevac': 3884, 'anclado': 601, 'refectarios': 8610, 'hidrgogeno': 5335, 'elevarse': 3899, 'retroces': 8935, 'cruce': 2754, 'quebraron': 8270, 'sacarlas': 9216, 'manualmen': 6376, 'medrayos': 6533, 'graficas': 5154, 'fallaciclo': 4589, 'ymesa': 11220, 'poicisionar': 7756, 'cuzeta': 2859, 'empapelar': 3966, 'regulan': 8671, 'solofunciona': 9747, 'contam': 2489, 'maniful': 6331, 'deforma': 3004, 'mpto': 6839, 'vibrac': 11014, 'opcae': 7141, 'entradameter': 4252, 'inferiore': 5510, 'poquito': 7800, 'embud': 3941, 'ajustastando': 391, 'grapasperno': 5163, 'desoperarse': 3431, 'fusibl': 4976, 'deescu': 2989, 'asta': 881, 'volv': 11110, 'morot': 6774, 'medidase': 6524, 'muesque': 6872, 'tirado': 10298, 'cajones': 1608, 'exteriores': 4535, 'ciwalking': 2181, 'botaclo': 1380, 'serca': 9486, 'contaminado': 2496, 'sellante': 9424, 'desprogramarse': 3497, 'diferencias': 3618, 'cumaceras': 2842, 'mota': 6777, 'traki': 10502, 'cruecta': 2759, 'conuna': 2547, 'fasltante': 4635, 'be': 1216, 'descuadre': 3281, 'elongaci': 3919, 'entrante': 4258, 'botandotener': 1392, 'enlongacion': 4166, 'medid': 6513, 'trabajosvartios': 10473, 'revisada': 8990, 'bri': 1456, 'enfoca': 4097, 'safan': 9227, 'contando': 2499, 'cestas': 2022, 'lubricae': 6194, 'ferrealeaciones': 4666, 'mayer': 6473, 'hidrstatica': 5341, 'cargargando': 1822, 'trasp': 10621, 'pesador': 7567, 'apodaca': 721, 'midiendo': 6615, 'polipsato': 7769, 'sue': 9885, 'caramo': 1797, 'manguerass': 6326, 'calibraciion': 1633, 'conectase': 2425, 'polipato': 7768, 'polip': 7764, 'flasa': 4742, 'colecotr': 2279, 'manizadora': 6351, 'seccionar': 9342, 'alcanza': 421, 'arrib': 849, 'molinohacer': 6678, 'plaza': 7721, 'hyd': 5414, 'elecrt': 3835, 'capadade': 1771, 'aida': 347, 'solta': 9753, 'fotoelectricos': 4838, 'salidda': 9267, 'bacedel': 1028, 'descaste': 3248, 'revientarse': 8984, 'colupna': 2306, 'lanave': 5875, 'borraron': 1369, 'yogeartener': 11222, 'oprim': 7182, 'recocida': 8522, 'pgada': 7584, 'uni': 10772, 'sencor': 9440, 'mantto': 6368, 'basiarse': 1169, 'ubicar': 10736, 'fust': 4982, 'foam': 4794, 'desenrosacarse': 3313, 'colapsadas': 2268, 'capcolapsada': 1782, 'drienda': 3750, 'expulsura': 4522, 'registren': 8646, 'push': 8237, 'valbulas': 10832, 'ulttrasonico': 10763, 'operados': 7155, 'arqueo': 809, 'devanado': 3581, 'aeite': 259, 'lelismo': 5948, 'troza': 10674, 'refleja': 8618, 'engranage': 4132, 'polveadora': 7771, 'mando': 6294, 'estroctura': 4437, 'desilach': 3373, 'boleta': 1329, 'imprime': 5450, 'elct': 3827, 'encu': 4049, 'dalla': 2883, 'intensidad': 5602, 'pueta': 8192, 'caras': 1798, 'pasasr': 7412, 'tereminar': 10217, 'encinto': 4030, 'destapado': 3519, 'inhbirse': 5528, 'walkin': 11156, 'desgast': 3362, 'pegars': 7500, 'ajusste': 379, 'descrte': 3279, 'barrera': 1144, 'rectificadres': 8550, 'acomudan': 151, 'planchar': 7688, 'slirse': 9654, 'nuero': 7041, 'auomatico': 957, 'tine': 10293, 'steo': 9837, 'intermedios': 5627, 'sisitema': 9608, 'slitgate': 9657, 'serie': 9492, 'alimentan': 455, 'batallarpara': 1191, 'apoyarse': 730, 'ajugeros': 372, 'gavilan': 5048, 'enpalman': 4172, 'rerstablese': 8800, 'gris': 5177, 'cabezl': 1542, 'continuando': 2510, 'sapo': 9282, 'correctrament': 2628, 'amitad': 577, 'voltiar': 11108, 'techito': 10123, 'baraa': 1105, 'transpotador': 10566, 'arri': 848, 'taponamient': 10071, 'neumaticas': 6944, 'coertar': 2245, 'sel': 9411, 'responden': 8850, 'gias': 5082, 'convertidior': 2554, 'nievel': 6957, 'imprim': 5449, 'primarios': 7975, 'cuceta': 2807, 'ceruceta': 2018, 'descartaron': 3237, 'agusto': 337, 'ay': 1014, 'alistando': 491, 'imprecion': 5445, 'agujerada': 325, 'alineo': 483, 'daba': 2874, 'nainamil': 6906, 'depuntador': 3083, 'camina': 1714, 'sisalla': 9606, 'recirculador': 8510, 'batallara': 1189, 'orno': 7225, 'fusib': 4975, 'alts': 530, 'realzan': 8414, 'solusion': 9767, 'meta': 6575, 'hicasde': 5308, 'cambiarle': 1695, 'descart': 3233, 'revisarc': 8995, 'rejistr': 8685, 'oruga': 7237, 'chequeo': 2062, 'rlectrico': 9054, 'interuptor': 5646, 'execso': 4468, 'dejarlo': 3020, 'rebabea': 8433, 'enpolvadorano': 4173, 'redestrella': 8572, 'inerruptor': 5495, 'estacker': 4402, 'lozoya': 6150, 'manualment': 6377, 'avansar': 992, 'seleccion': 9413, 'aplastad': 713, 'inyectar': 5679, 'pder': 7463, 'henebrar': 5298, 'direcionado': 3643, 'servic': 9499, 'obstruido': 7064, 'rebajarla': 8441, 'pulmones': 8205, 'visibil': 11056, 'aterrizando': 894, 'encontr': 4042, 'vlvula': 11066, 'toca': 10336, 'monton': 6749, 'desfogue': 3354, 'nivealador': 6971, 'procesoreversear': 8029, 'pillas': 7613, 'expr': 4500, 'muev': 6886, 'tronilleria': 10668, 'card': 1806, 'vari': 10892, 'rechupa': 8487, 'trafo': 10497, 'hook': 5376, 'suppte': 9954, 'alcansa': 419, 'jenera': 5733, 'temrinar': 10174, 'calibracin': 1634, 'desenrolaldor': 3303, 'ondular': 7136, 'obsolescenc': 7059, 'aceitdora': 111, 'conpuerta': 2466, 'chillers': 2068, 'torqueando': 10425, 'alientador': 437, 'monebeans': 6715, 'recetas': 8479, 'defasada': 2991, 'decarro': 2965, 'ensayos': 4220, 'teornilleria': 10210, 'batallarse': 1192, 'campanea': 1730, 'repcadenas': 8744, 'expulzador': 4523, 'conisidad': 2453, 'repitio': 8753, 'hidru': 5342, 'comucacion': 2366, 'milesi': 6617, 'ventilaor': 10974, 'caidadesenrroll': 1596, 'antorcha': 646, 'imersion': 5437, 'contr': 2517, 'dscalibra': 3770, 'flotar': 4779, 'quija': 8311, 'pulpitos': 8208, 'apretarse': 742, 'posicionar': 7855, 'hacerlo': 5261, 'cocona': 2243, 'sistenfto': 9622, 'bara': 1104, 'darive': 2925, 'rbotado': 8381, 'botadoantes': 1385, 'fotoceldaautoalineador': 4831, 'inhibido': 5533, 'elevaci': 3885, 'vista': 11058, 'embalaje': 3925, 'termomagn': 10234, 'fives': 4730, 'ranura': 8352, 'guardamotor': 5206, 'mdia': 6480, 'deparadora': 3068, 'jaloneo': 5721, 'reproce': 8789, 'kreparar': 5815, 'aglomerante': 295, 'conversion': 2550, 'corrimie': 2666, 'arraque': 830, 'jois': 5753, 'configura': 2437, 'volteadorsalida': 11098, 'dientes': 3609, 'aditament': 251, 'altas': 521, 'bvalbula': 1524, 'cerrars': 2014, 'acwitadora': 229, 'desenbolberse': 3290, 'passiarse': 7430, 'impresoras': 5448, 'meterlos': 6589, 'pue': 8176, 'anticriping': 635, 'pedientes': 7486, 'madida': 6239, 'centraba': 1964, 'reapertar': 8416, 'fotoceldano': 4834, 'resetharde': 8820, 'ware': 11160, 'operarce': 7162, 'slliter': 9662, 'borarse': 1363, 'seramica': 9484, 'cuadernal': 2780, 'balenceo': 1074, 'monto': 6748, 'evento': 4453, 'desorrillador': 3451, 'acmcalibrar': 139, 'botarrse': 1401, 'inclinacion': 5465, 'basti': 1174, 'capodos': 1786, 'eficiencia': 3819, 'inhalambrico': 5526, 'borrase': 1371, 'fantasma': 4627, 'trabjando': 10481, 'rayar': 8373, 'startp': 9835, 'combetidor': 2318, 'rl': 9053, 'votada': 11119, 'galvaizado': 5004, 'fed': 4656, 'wr': 11197, 'lunas': 6222, 'checo': 2059, 'retractril': 8923, 'angulo': 611, 'encendida': 4019, 'caminantes': 1719, 'maleza': 6271, 'trayectoria': 10637, 'desalin': 3133, 'partido': 7395, 'ant': 623, 'desbalance': 3183, 'redde': 8569, 'qumarse': 8326, 'cascarilla': 1861, 'cruzada': 2763, 'eqhidraulico': 4280, 'encodersv': 4039, 'mica': 6606, 'choke': 2079, 'laminas': 5862, 'tormenta': 10390, 'abiertohabili': 31, 'desplazamientoelectrico': 3477, 'oc': 7071, 'salirsew': 9277, 'cortdor': 2702, 'apisionado': 692, 'detorreta': 3575, 'mangueas': 6319, 'soldados': 9715, 'muelas': 6867, 'operasion': 7167, 'fata': 4637, 'imprimir': 5452, 'pistoncoche': 7663, 'maniobrando': 6336, 'danarde': 2903, 'reley': 8696, 'repoiner': 8762, 'corredizo': 2635, 'transpoprtadoras': 10553, 'monbeam': 6712, 'banba': 1088, 'merc': 6553, 'motordisco': 6789, 'resion': 8827, 'intermitentes': 5629, 'suerra': 9898, 'piezas': 7606, 'agarre': 289, 'coordinacionredi': 2572, 'ajusrtes': 378, 'vaiven': 10823, 'hacr': 5271, 'plan': 7683, 'levacas': 5965, 'contorl': 2516, 'desbasta': 3187, 'aterizando': 889, 'dimensiones': 3630, 'desalineamientotea': 3144, 'limpiea': 6035, 'condensadora': 2400, 'paralelsmo': 7356, 'proces': 8022, 'engrannaaje': 4135, 'mustreo': 6895, 'secaen': 9336, 'pinasatorarse': 7619, 'manio': 6332, 'presionreapriete': 7955, 'sccruber': 9302, 'monobeamsalida': 6729, 'traficose': 10494, 'idicadores': 5423, 'agarr': 286, 'energeticos': 4087, 'empasar': 3983, 'cavita': 1906, 'molinio': 6674, 'deteca': 3542, 'canas': 1740, 'cotro': 2721, 'licotite': 6000, 'testautomatico': 10247, 'fallano': 4596, 'abilitar': 35, 'enguaje': 4139, 'enrolladas': 4191, 'barraquitar': 1140, 'orillase': 7216, 'veciado': 10934, 'enehrado': 4084, 'semagnetico': 9430, 'tempsonic': 10173, 'viejita': 11034, 'pln': 7730, 'hmireforzar': 5361, 'edicion': 3812, 'him': 5351, 'aceitadara': 101, 'electronicas': 3874, 'grava': 5169, 'ayudant': 1017, 'alimentaciogservicio': 445, 'pincho': 7625, 'orlla': 7223, 'tramsmision': 10509, 'sentrado': 9457, 'reviosar': 8987, 'revavas': 8947, 'refrigerante': 8625, 'reviion': 8985, 'capr': 1788, 'ensucian': 4226, 'ramillado': 8344, 'orillad': 7214, 'seccuenc': 9344, 'total': 10438, 'qudarse': 8256, 'apisio': 687, 'trafinstalacion': 10495, 'hya': 5413, 'instalat': 5585, 'emer': 3947, 'trae': 10489, 'lanzas': 5879, 'arraca': 812, 'vpores': 11128, 'centraa': 1963, 'segmetno': 9383, 'chiller': 2067, 'istrumento': 5699, 'boxter': 1429, 'daanacable': 2871, 'circulador': 2175, 'juventud': 5783, 'brespuesta': 1455, 'sentdo': 9455, 'automaticas': 977, 'datosrollo': 2934, 'siguie': 9570, 'cohe': 2248, 'funete': 4964, 'alrgo': 517, 'zonalperless': 11244, 'expandircolapsar': 4492, 'pora': 7802, 'espadal': 4363, 'ventanilla': 10957, 'encargados': 4015, 'tueria': 10710, 'quench': 8300, 'primeros': 7980, 'electristatica': 3862, 'ppara': 7876, 'impr': 5444, 'levantapresion': 5975, 'poscicionar': 7837, 'falte': 4624, 'trasnsmicion': 10619, 'fura': 4969, 'cuadrito': 2784, 'limpiadore': 6024, 'saparador': 9281, 'magneticoalta': 6258, 'umidades': 10765, 'adecuada': 236, 'afectand': 262, 'acumuladas': 219, 'mane': 6301, 'desorlle': 3449, 'deseenrr': 3284, 'danadomotor': 2896, 'dectar': 2982, 'entena': 4232, 'swuitch': 9987, 'jostin': 5758, 'cuchullia': 2824, 'suspendida': 9974, 'haceiten': 5256, 'perimiso': 7532, 'enhberar': 4142, 'braso': 1439, 'girocoche': 5096, 'port': 7818, 'quede': 8287, 'corrigue': 2665, 'nivelbotarse': 6984, 'oilla': 7110, 'cprtar': 2726, 'repo': 8755, 'bja': 1266, 'censores': 1957, 'proteccionde': 8069, 'correctamen': 2618, 'cristal': 2743, 'electrohidraulica': 3868, 'evaporador': 4452, 'volvio': 11114, 'reparcion': 8737, 'epp': 4278, 'porq': 7813, 'pivote': 7671, 'sesreportan': 9519, 'selec': 9412, 'empuja': 3997, 'negros': 6931, 'escalonado': 4315, 'giroplato': 5097, 'pesca': 7573, 'engrana': 4131, 'proteccionpistones': 8072, 'regrsa': 8659, 'reinda': 8675, 'permoiso': 7555, 'der': 3084, 'lateralporta': 5896, 'rellenando': 8703, 'nom': 6999, 'acabe': 65, 'sesores': 9518, 'sesen': 9514, 'extenciones': 4530, 'vac': 10809, 'recien': 8503, 'arregl': 841, 'rollopasarse': 9113, 'protecion': 8075, 'hidd': 5314, 'vaiipasearse': 10818, 'psra': 8127, 'correctamnete': 2621, 'cerrarce': 2013, 'palpador': 7315, 'dfn': 3588, 'cambiandole': 1693, 'rebab': 8430, 'fcambioflujometro': 4647, 'defusible': 3010, 'anfriamiento': 606, 'mast': 6440, 'calvula': 1670, 'hirdaulico': 5353, 'deslisador': 3385, 'cayendo': 1908, 'queamdor': 8258, 'izquierda': 5709, 'uote': 10788, 'bse': 1497, 'respablecer': 8843, 'compresro': 2354, 'cecar': 1936, 'motorreductoracarre': 6802, 'motorre': 6799, 'sierrra': 9559, 'lamparade': 5868, 'sensororilla': 9452, 'plca': 7724, 'alimentadora': 452, 'cami': 1711, 'gras': 5164, 'psacar': 8119, 'desplazarse': 3480, 'gpo': 5137, 'transportadoras': 10559, 'jequipos': 5734, 'echarle': 3808, 'dall': 2882, 'arribatijeraescuadre': 851, 'esco': 4320, 'capacitor': 1767, 'infponie': 5519, 'rventarse': 9203, 'conrtacto': 2468, 'prresio': 8107, 'presionprobadora': 7954, 'fuch': 4906, 'bbuscar': 1214, 'hablo': 5249, 'corregu': 2639, 'procesotener': 8031, 'acabo': 66, 'gruesos': 5191, 'psensor': 8120, 'restablacer': 8862, 'camiom': 1723, 'vehiculo': 10936, 'particular': 7394, 'fusuble': 4983, 'fotoceldamaniobra': 4832, 'sess': 9520, 'falsos': 4616, 'pasehacer': 7419, 'presurizado': 7964, 'crucetta': 2757, 'voltiad': 11106, 'deje': 3022, 'parase': 7368, 'aparadeora': 668, 'tiem': 10264, 'pegarsele': 7502, 'diisk': 3629, 'interrum': 5635, 'calibrees': 1650, 'grueso': 5190, 'gancgo': 5023, 'hidraulcia': 5326, 'pedaseria': 7483, 'desenvolvio': 3336, 'quedars': 8285, 'tamolino': 10035, 'secuensia': 9358, 'utilitari': 10802, 'peguen': 7504, 'comunucacion': 2387, 'deslixadores': 3387, 'aterrizado': 893, 'tall': 10024, 'eleva': 3883, 'adalente': 232, 'areab': 778, 'revistiendo': 9009, 'churub': 2121, 'mitriz': 6634, 'revemtarse': 8952, 'fundir': 4962, 'ensintando': 4222, 'poten': 7867, 'neu': 6938, 'mai': 6262, 'af': 260, 'lentogui': 5959, 'baypassi': 1209, 'acumula': 213, 'torniuete': 10420, 'voltaedor': 11085, 'taimfalla': 10021, 'maneral': 6307, 'lubricante': 6197, 'desorilladorbom': 3440, 'churubu': 2122, 'desanrollador': 3158, 'dentado': 3064, 'ocaci': 7073, 'saldadora': 9241, 'emrgenci': 4001, 'camin': 1713, 'interumpe': 5645, 'orientete': 7205, 'inpe': 5554, 'chmaceras': 2074, 'falamiarse': 4583, 'brons': 1492, 'emparejadore': 3979, 'protegido': 8083, 'posfuera': 7838, 'zockett': 11241, 'aprovecharon': 756, 'sienta': 9555, 'estirador': 4417, 'ltvaria': 6174, 'fundenteshorno': 4959, 'computo': 2363, 'niveladore': 6980, 'conecat': 2414, 'refueza': 8629, 'cloector': 2219, 'quitaron': 8324, 'apisiondor': 696, 'agujerps': 330, 'ax': 1012, 'moviero': 6827, 'trinquete': 10651, 'vaciars': 10813, 'decapa': 2955, 'reparac': 8723, 'inductivos': 5493, 'nombres': 7002, 'amarram': 555, 'banderilla': 1100, 'ko': 5803, 'repa': 8719, 'plati': 7715, 'mmse': 6643, 'delgadase': 3035, 'delgadas': 3034, 'conde': 2396, 'casrodillo': 1877, 'salpicadero': 9279, 'decentrad': 2971, 'tvtv': 10726, 'lubrocle': 6210, 'reddel': 8570, 'implementar': 5443, 'lg': 5987, 'fri': 4882, 'enfermeria': 4096, 'companero': 2336, 'ocup': 7092, 'reienda': 8673, 'haciai': 5265, 'manejadora': 6302, 'ajusatar': 375, 'alimentrar': 461, 'despuntafdor': 3512, 'trozar': 10678, 'etiquetar': 4447, 'cemtro': 1953, 'sistena': 9621, 'soldadu': 9717, 'visibilidad': 11057, 'esliter': 4355, 'mecan': 6486, 'yois': 11227, 'matiu': 6458, 'busqueda': 1519, 'inventario': 5661, 'conducida': 2408, 'ptente': 8160, 'desaseleracion': 3178, 'gar': 5030, 'guard': 5204, 'deslplegadora': 3403, 'rezagados': 9023, 'ficha': 4687, 'comunicasion': 2383, 'detape': 3541, 'nadamas': 6904, 'voltesalid': 11105, 'larg': 5882, 'gruesa': 5189, 'planesa': 7698, 'inivida': 5550, 'mecfuga': 6496, 'aceitecarro': 115, 'dentadas': 3063, 'desactivado': 3113, 'falotante': 4609, 'tabajar': 9997, 'mordz': 6765, 'qebrarse': 8247, 'quebrearse': 8274, 'embriage': 3939, 'lalmina': 5848, 'transportar': 10562, 'briquetadora': 1479, 'bmp': 1304, 'sisthidr': 9624, 'llegando': 6085, 'division': 3687, 'psh': 8121, 'enrolladolimpieza': 4195, 'quebrad': 8263, 'laimentar': 5840, 'treabajar': 10642, 'ponen': 7783, 'aflojars': 274, 'elctricos': 3829, 'adela': 237, 'iun': 5702, 'quebrarsa': 8271, 'quebrase': 8273, 'corri': 2648, 'tumba': 10712, 'barrerse': 1146, 'poierde': 7757, 'lipeza': 6058, 'habrirse': 5253, 'tjera': 10316, 'quitarlo': 8323, 'reguladorde': 8668, 'piletas': 7610, 'pinchr': 7626, 'enrrolador': 4207, 'intercambiadores': 5612, 'coordinacionfalta': 2571, 'predio': 7900, 'valate': 10830, 'proximo': 8104, 'pot': 7866, 'pipa': 7643, 'bajaba': 1043, 'accdiffreno': 81, 'ajenasaguafalla': 359, 'ajenasaguafalta': 360, 'despunatdor': 3503, 'seleccionado': 9415, 'voltadeador': 11082, 'laboratorio': 5826, 'tms': 10326, 'vibiracion': 11011, 'expancio': 4485, 'colaps': 2265, 'redise': 8576, 'escobilla': 4321, 'folio': 4799, 'lamian': 5852, 'senosre': 9442, 'brequer': 1454, 'sbrequer': 9294, 'enrty': 4219, 'aflojandose': 270, 'encortar': 4048, 'enguague': 4138, 'bridatanque': 1465, 'enjuagueredi': 4162, 'galvzanizado': 5012, 'mincarta': 6620, 'tuberiade': 10696, 'sx': 9990, 'soladad': 9690, 'conj': 2454, 'fornarce': 4814, 'doblec': 3707, 'decctpe': 2967, 'acete': 129, 'produ': 8033, 'raspa': 8361, 'fdalla': 4650, 'fojo': 4798, 'kimpiando': 5797, 'choopper': 2081, 'abba': 17, 'magneticoaltos': 6259, 'lada': 5830, 'agustarlas': 333, 'tuberiapor': 10698, 'regletas': 8650, 'laso': 5889, 'amaqrrado': 541, 'mediac': 6503, 'lmotriz': 6114, 'reversearestar': 8973, 'elonga': 3917, 'caminane': 1716, 'manula': 6381, 'contramordasa': 2524, 'bleado': 1271, 'estok': 4421, 'colocarle': 2298, 'mediacion': 6504, 'amecanismos': 576, 'dezplazamiento': 3587, 'osilando': 7247, 'brazoocasionado': 1443, 'brazoocasionando': 1444, 'abriendose': 51, 'bovedin': 1427, 'trakin': 10503, 'markar': 6428, 'soladar': 9691, 'servomotor': 9508, 'separadoras': 9468, 'colapsada': 2267, 'armo': 802, 'activarla': 186, 'erro': 4305, 'autoti': 981, 'kodsfel': 5804, 'frios': 4887, 'rolos': 9117, 'rtollos': 9184, 'pocisionar': 7750, 'canbio': 1747, 'detalle': 3539, 'bosla': 1374, 'molinofalla': 6677, 'strok': 9845, 'comodar': 2334, 'circ': 2172, 'aparecio': 674, 'enevrar': 4093, 'hidraulicotaller': 5334, 'mys': 6900, 'correctoopera': 2625, 'parta': 7392, 'elevam': 3895, 'armaron': 800, 'asignacion': 876, 'rfalla': 9024, 'rolo': 9116, 'botone': 1418, 'prematuro': 7911, 'avisos': 1010, 'gruua': 5193, 'segurida': 9402, 'emegen': 3945, 'rodilllo': 9082, 'desanivelado': 3157, 'levantr': 5980, 'vca': 10921, 'cerca': 1992, 'switchs': 9986, 'levnatar': 5985, 'pill': 7612, 'operaparo': 7159, 'dolb': 3720, 'fosas': 4821, 'tironea': 10311, 'desplazam': 3475, 'pasea': 7414, 'trasmici': 10607, 'tijeraescuad': 10281, 'intouch': 5654, 'mentenimento': 6547, 'empk': 3991, 'prima': 7973, 'copes': 2577, 'retablecimiento': 8900, 'ajutar': 399, 'pisionador': 7652, 'desacomular': 3099, 'deplazamiento': 3075, 'lton': 6172, 'dedescartes': 2984, 'ocacionados': 7077, 'lim': 6006, 'orillas': 7215, 'armando': 797, 'posiscion': 7857, 'otedel': 7259, 'direccionales': 3642, 'ppn': 7878, 'separ': 9462, 'asiganan': 875, 'atienden': 898, 'puedn': 8182, 'nca': 6923, 'conjelado': 2455, 'rele': 8690, 'fallart': 4598, 'causando': 1904, 'reprietan': 8787, 'sobrevol': 9680, 'ajsutar': 368, 'balata': 1069, 'oprimio': 7185, 'checaron': 2055, 'sacae': 9211, 'realizando': 8411, 'hdmi': 5290, 'covertidores': 2724, 'sanitizante': 9280, 'translacion': 10537, 'alivi': 494, 'empujadora': 3999, 'rtds': 9180, 'foza': 4841, 'batoneras': 1202, 'drivede': 3754, 'embolbente': 3931, 'desbo': 3199, 'alargo': 406, 'lqa': 6156, 'conjun': 2456, 'cabezote': 1543, 'despuntadoir': 3508, 'recalentadas': 8453, 'brecker': 1452, 'pegar': 7498, 'exce': 4461, 'bandeja': 1097, 'desplazamineto': 3479, 'retener': 8907, 'pedaseri': 7482, 'muerde': 6868, 'recibido': 8496, 'rijera': 9046, 'desoillador': 3421, 'automaticam': 976, 'sentro': 9459, 'fuda': 4910, 'grabe': 5145, 'desorilli': 3447, 'pis': 7647, 'chumcaeras': 2118, 'camionetas': 1727, 'adent': 245, 'reeles': 8593, 'rodajas': 9067, 'puli': 8199, 'soucion': 9810, 'derol': 3089, 'humed': 5404, 'monbeans': 6713, 'fliecha': 4768, 'chico': 2066, 'ultim': 10752, 'asustar': 883, 'proximida': 8101, 'acomodados': 144, 'opfotocelda': 7173, 'lineafalsear': 6051, 'lamy': 5874, 'oplimr': 7176, 'mterial': 6849, 'pir': 7645, 'pfc': 7579, 'comiunicaci': 2332, 'primario': 7974, 'porcentaje': 7806, 'rea': 8391, 'porsentaje': 7817, 'perderce': 7519, 'tornillkeria': 10410, 'ganho': 5027, 'sobrebate': 9670, 'merma': 6557, 'cortat': 2701, 'recuper': 8556, 'caeope': 1582, 'tapper': 10074, 'ridi': 9029, 'toverac': 10446, 'apiladoras': 685, 'alamarse': 403, 'esper': 4372, 'valorando': 10848, 'moradaza': 6751, 'ara': 765, 'wild': 11183, 'inventari': 5660, 'porc': 7805, 'equivocados': 4298, 'enbrazo': 4008, 'espes': 4377, 'procesofalla': 8027, 'inversa': 5663, 'desorile': 3435, 'casbezal': 1860, 'lplamina': 6152, 'purgue': 8232, 'salg': 9245, 'cortadoresca': 2687, 'conecci': 2415, 'acumulacio': 215, 'valdireccional': 10834, 'fcarga': 4648, 'proteger': 8082, 'frenorodillo': 4877, 'coexion': 2246, 'volcado': 11076, 'nieval': 6956, 'correa': 2612, 'bulon': 1511, 'rst': 9176, 'traabaja': 10456, 'tranp': 10517, 'bajos': 1060, 'aprobecho': 753, 'recarge': 8472, 'coroto': 2608, 'apizonadorrodillo': 708, 'operaciones': 7149, 'enhebradorun': 4152, 'ccms': 1918, 'luego': 6215, 'restabelce': 8860, 'sepillo': 9474, 'fusibleapizonador': 4978, 'driverod': 3758, 'patinand': 7443, 'lamaparas': 5850, 'barinzadora': 1112, 'acarreadoras': 75, 'barnz': 1136, 'operadorajustando': 7153, 'sedasos': 9364, 'orillla': 7218, 'soldadadora': 9699, 'levanatr': 5968, 'marakar': 6410, 'karga': 5787, 'skinpa': 9637, 'asegurar': 868, 'vlvulas': 11067, 'cotador': 2719, 'operativas': 7169, 'perde': 7517, 'validad': 10839, 'adelantar': 240, 'micartar': 6608, 'degastadas': 3011, 'tre': 10641, 'fle': 4744, 'lubengranes': 6178, 'omm': 7127, 'principio': 7994, 'pruga': 8116, 'doblecces': 3708, 'preca': 7888, 'descalibradarecobre': 3211, 'decalibrar': 2953, 'entradabajo': 4244, 'apretr': 745, 'ultimas': 10754, 'hiraulico': 5352, 'cangilonea': 1759, 'aniveladores': 616, 'pinston': 7639, 'llna': 6108, 'sensoe': 9448, 'dummyv': 3788, 'limpsupote': 6043, 'rtc': 9178, 'dessrmarse': 3516, 'prenderse': 7918, 'mlino': 6639, 'vuelt': 11143, 'lina': 6046, 'retrio': 8931, 'disp': 3656, 'ahumeando': 344, 'eslinga': 4354, 'roza': 9164, 'rodaja': 9066, 'trasladan': 10599, 'repentino': 8746, 'comberidor': 2316, 'lote': 6148, 'siasso': 9547, 'accionarse': 92, 'cacar': 1558, 'reparaion': 8729, 'senores': 9441, 'cop': 2573, 'recargad': 8462, 'anjuague': 617, 'maracr': 6409, 'censo': 1955, 'infder': 5503, 'seco': 9349, 'lancer': 5876, 'amrillo': 590, 'edificios': 3813, 'guerda': 5212, 'acumulada': 218, 'autocalibra': 964, 'placs': 7681, 'caiida': 1603, 'pfiltros': 7583, 'cpillo': 2725, 'generadores': 5066, 'botatrse': 1412, 'dejaba': 3016, 'enclavado': 4033, 'brzso': 1496, 'dannado': 2916, 'presurizad': 7963, 'porbajo': 7804, 'comprsores': 2357, 'corredea': 2629, 'afueraicro': 283, 'btada': 1500, 'gener': 5061, 'empaquelado': 3970, 'calentamient': 1622, 'armados': 795, 'desviadoras': 3533, 'priarios': 7970, 'descalirrado': 3217, 'movidos': 6825, 'desenrrolladores': 3325, 'refactario': 8609, 'aceiteentuberia': 116, 'cremayeras': 2736, 'rof': 9095, 'banarce': 1087, 'normalizar': 7011, 'instalaci': 5573, 'tilde': 10286, 'puntaguild': 8214, 'barriles': 1151, 'senalesmicro': 9438, 'subefuera': 9856, 'ramirez': 8345, 'reviscion': 8998, 'exentricos': 4469, 'exetricosl': 4471, 'revcuperar': 8949, 'isnstalacion': 5694, 'ferroaleaci': 4668, 'cooperaen': 2566, 'sak': 9234, 'chumacerasde': 2113, 'comnicacion': 2333, 'solada': 9689, 'corrinete': 2669, 'gruaspor': 5187, 'cambios': 1705, 'torinillos': 10389, 'orillaajustes': 7213, 'actividad': 189, 'dre': 3740, 'dive': 3683, 'gu': 5200, 'separadores': 9469, 'powertrack': 7871, 'calentadores': 1620, 'redestre': 8571, 'transfertencia': 10528, 'valler': 10844, 'emulsion': 4005, 'aspriado': 879, 'sucialimpiez': 9878, 'batallo': 1196, 'fruas': 4894, 'reactiva': 8398, 'muelamandril': 6866, 'estrell': 4433, 'rollocarro': 9109, 'multilap': 6892, 'desco': 3249, 'dajar': 2878, 'sobrecalentador': 9672, 'blokeo': 1281, 'reportanrodillos': 8777, 'conveyoe': 2559, 'vigasfalla': 11047, 'reestableser': 8603, 'mmb': 6642, 'entregar': 4266, 'reprrar': 8791, 'tralslado': 10506, 'detmastes': 3572, 'tuberial': 10697, 'sunwgin': 9935, 'drl': 3762, 'reptarjelectronsdrbascpchat': 8792, 'cygt': 2864, 'ajustad': 382, 'cantado': 1763, 'resalizan': 8804, 'varos': 10906, 'ductocolector': 3781, 'anticolision': 633, 'anti': 631, 'fuega': 4911, 'chatarr': 2042, 'estaker': 4404, 'hidarulico': 5312, 'encitar': 4031, 'tiempor': 10267, 'precsur': 7898, 'molf': 6671, 'valenfto': 10835, 'oprerar': 7179, 'ate': 888, 'arregla': 842, 'compresorno': 2353, 'choppe': 2086, 'idebtificar': 5419, 'mana': 6285, 'seactivo': 9322, 'mttotolva': 6858, 'ottobanda': 7273, 'espigas': 4385, 'lmf': 6111, 'acabdo': 64, 'enderesar': 4058, 'desbiadora': 3189, 'sigmma': 9566, 'fluj': 4784, 'desnrollad': 3416, 'engebrador': 4129, 'recividor': 8514, 'silos': 9585, 'mits': 6635, 'costales': 2717, 'incidente': 5463, 'bolqueadores': 1333, 'reapretado': 8418, 'orillo': 7219, 'later': 5891, 'apretartornilleria': 743, 'cavitacion': 1907, 'desechab': 3283, 'daados': 2870, 'volanete': 11071, 'brinquetas': 1474, 'reventadamesa': 8958, 'despegar': 3462, 'switchde': 9984, 'muuuuy': 6896, 'opto': 7189, 'alca': 416, 'lainamid': 5842, 'colrol': 2303, 'obstruyendo': 7066, 'nedida': 6929, 'top': 10369, 'deajr': 2944, 'valhidsoporte': 10837, 'desplegadora': 3483, 'defletor': 3003, 'lcfalla': 5916, 'volteadormesa': 11097, 'slitterenrolladorswitch': 9660, 'fugade': 4929, 'jana': 5726, 'portafleje': 7823, 'llmux': 6107, 'ti': 10259, 'passdecapado': 7428, 'molinof': 6676, 'recete': 8480, 'verificador': 10987, 'filamento': 4699, 'electricista': 3850, 'solenoides': 9734, 'fallat': 4601, 'metido': 6591, 'vivrando': 11065, 'movio': 6833, 'moverlo': 6819, 'presena': 7934, 'energisa': 4089, 'restablecio': 8872, 'experimidor': 4494, 'nortepte': 7016, 'descalibrase': 3215, 'detenido': 3559, 'enftoparte': 4125, 'areductor': 780, 'quebra': 8262, 'ferroaleacione': 4670, 'chumacra': 2114, 'expanci': 4484, 'ajusters': 394, 'navaja': 6916, 'entro': 4267, 'agm': 296, 'dea': 2942, 'ning': 6961, 'esfuerzo': 4351, 'manta': 6357, 'arroja': 854, 'plantajjgn': 7706, 'carri': 1836, 'meterlo': 6588, 'correctos': 2627, 'siatema': 9548, 'rgrb': 9027, 'obligando': 7057, 'ovbligando': 7283, 'elctronica': 3830, 'sopor': 9791, 'baranda': 1107, 'sellaron': 9426, 'plcrayos': 7727, 'desgarra': 3359, 'encodermotor': 4037, 'manchar': 6288, 'recogre': 8525, 'coratr': 2590, 'drivr': 3761, 'exisitente': 4473, 'hidcvc': 5313, 'reciclar': 8502, 'serpentines': 9494, 'usados': 10793, 'vente': 10959, 'repentinamente': 8745, 'crmpi': 2745, 'casett': 1869, 'aulada': 949, 'paralelismode': 7354, 'provocand': 8098, 'soprtes': 9800, 'lo': 6117, 'mandan': 6292, 'flaje': 4735, 'guillo': 5220, 'maldril': 6269, 'calentam': 1621, 'sacrifici': 9223, 'ventilado': 10968, 'trineo': 10650, 'crtse': 2751, 'amrro': 591, 'vaipaciarse': 10820, 'espulsadora': 4395, 'limpizas': 6042, 'hatchs': 5280, 'esensores': 4350, 'torado': 10381, 'forzan': 4817, 'ensintar': 4223, 'hidrailico': 5323, 'dyspley': 3795, 'basc': 1159, 'tapamos': 10059, 'tornillaria': 10401, 'pdtj': 7473, 'tijeraescuadre': 10282, 'cune': 2849, 'blockear': 1274, 'cubren': 2800, 'relizan': 8699, 'minipulidor': 6624, 'realisaron': 8407, 'reajustar': 8403, 'encodder': 4034, 'azuf': 1021, 'tortuga': 10436, 'columna': 2305, 'fabricasion': 4576, 'flauta': 4743, 'cosfel': 2713, 'salisa': 9278, 'figas': 4692, 'vigade': 11043, 'salidapo': 9261, 'dond': 3726, 'valvpegada': 10860, 'decorte': 2977, 'tapo': 10069, 'ptecoche': 8150, 'botace': 1379, 'expinf': 4496, 'cvaldera': 2861, 'tmaircabezalbomba': 10323, 'torillos': 10388, 'trasnmision': 10617, 'flojaapretando': 4773, 'traseramo': 10587, 'acelera': 119, 'prosesos': 8060, 'inivido': 5551, 'viaga': 11005, 'repararfuga': 8735, 'lampas': 5872, 'segur': 9399, 'atornilla': 927, 'laminado': 5857, 'neumetica': 6947, 'manome': 6352, 'desenrrollado': 3323, 'flejadoracadena': 4760, 'repopner': 8770, 'tro': 10662, 'deshuso': 3372, 'enredada': 4178, 'atirada': 900, 'ujn': 10751, 'culla': 2841, 'caset': 1864, 'comalea': 2309, 'desalineamie': 3140, 'ocacion': 7075, 'encuntra': 4054, 'calinete': 1659, 'enthornocadena': 4235, 'pilotaje': 7614, 'activarce': 185, 'aloto': 514, 'lectu': 5940, 'anchos': 600, 'demistin': 3048, 'retita': 8917, 'agustaron': 334, 'aprisiona': 750, 'duda': 3783, 'cabezxal': 1545, 'prendiente': 7920, 'ottopiston': 7277, 'casquillos': 1875, 'prov': 8089, 'vaipaciare': 10819, 'grega': 5172, 'wbulbolagrimeo': 11161, 'csambio': 2767, 'estraccion': 4428, 'validacion': 10838, 'cerraban': 2001, 'recargase': 8470, 'tijeras': 10283, 'andamio': 603, 'rolloc': 9108, 'manti': 6364, 'tenia': 10186, 'velvula': 10949, 'distribucion': 3674, 'protectoras': 8079, 'soliucion': 9744, 'desacostillador': 3111, 'ee': 3816, 'tele': 10131, 'detienen': 3567, 'espersores': 4376, 'topo': 10377, 'desenvolve': 3334, 'quedaban': 8278, 'presento': 7940, 'mate': 6447, 'lcbiseladoraotemordaza': 5910, 'larga': 5883, 'camionet': 1725, 'seis': 9410, 'controil': 2537, 'reponder': 8763, 'movi': 6821, 'prindipal': 7996, 'aque': 762, 'aumente': 952, 'echar': 3807, 'raparar': 8354, 'uhidraulica': 10748, 'contactror': 2486, 'nota': 7019, 'wlaking': 11190, 'emperejador': 3986, 'aletas': 430, 'lcbiseladorapteburil': 5911, 'wa': 11154, 'hidlub': 5318, 'decasette': 2966, 'dollinger': 3722, 'ps': 8118, 'arrugas': 861, 'orrila': 7232, 'sostema': 9804, 'pendie': 7511, 'lubrocelan': 6209, 'rolldescarte': 9104, 'bloqueando': 1295, 'porosa': 7812, 'convierte': 2563, 'calderon': 1614, 'atascarse': 887, 'flujp': 4789, 'calidracion': 1654, 'encendidos': 4021, 'levantta': 5981, 'lcprobadoracabezalno': 5928, 'abrazad': 43, 'wcalibradocadena': 11162, 'decpado': 2978, 'tornillerio': 10409, 'arrancarlas': 824, 'actiuvidades': 174, 'vibra': 11013, 'messalida': 6573, 'estandariza': 4407, 'tendsion': 10182, 'telesc': 10133, 'tabler': 10003, 'terminaron': 10231, 'juntos': 5778, 'intercambi': 5609, 'proteccio': 8067, 'pilascolectoras': 7609, 'enftosec': 4126, 'serviciore': 9501, 'espolon': 4386, 'ptex': 8162, 'teminar': 10146, 'emergensia': 3950, 'inibhen': 5537, 'bio': 1249, 'wol': 11193, 'king': 5799, 'plcaca': 7725, 'volber': 11073, 'devanados': 3582, 'fina': 4709, 'desapropiado': 3167, 'ensinto': 4224, 'merca': 6554, 'arrugada': 859, 'reducir': 8582, 'tensiom': 10195, 'faya': 4645, 'severa': 9527, 'alista': 490, 'uy': 10807, 'vert': 10990, 'otawwa': 7253, 'calibraron': 1646, 'desf': 3342, 'revizr': 9015, 'pteno': 8159, 'res': 8801, 'viajeras': 11007, 'barniza': 1126, 'redacarr': 8568, 'rodinf': 9091, 'inferiorn': 5512, 'notrabajar': 7020, 'kin': 5798, 'maqina': 6398, 'desconectad': 3262, 'caemaniobras': 1580, 'armaro': 799, 'reforzando': 8620, 'trabajarse': 10469, 'cienta': 2134, 'ord': 7192, 'prarce': 7884, 'lubricion': 6203, 'abbb': 18, 'cincendios': 2160, 'agregan': 307, 'tormillos': 10392, 'limpie': 6034, 'direcciona': 3638, 'reanudar': 8415, 'soldadores': 9714, 'driveongacion': 3756, 'riendarodillo': 9039, 'detmast': 3568, 'uga': 10744, 'elecrtrica': 3836, 'cuajarse': 2788, 'lubritali': 6205, 'refreencia': 8623, 'enrrollar': 4215, 'mangueracoche': 6323, 'vaj': 10824, 'avansa': 991, 'lno': 6115, 'registraba': 8643, 'rpmok': 9171, 'enlogacion': 4164, 'hora': 5379, 'transimsion': 10534, 'canjilones': 1762, 'desgastes': 3368, 'monitoreando': 6719, 'gpailaguias': 5132, 'gestrellachumacera': 5075, 'kcalibradose': 5789, 'pruiebas': 8117, 'descalibrar': 3213, 'soldaran': 9725, 'ptea': 8148, 'gobierna': 5117, 'disitntas': 3654, 'lubpines': 6182, 'revde': 8950, 'ehebra': 3820, 'funciones': 4954, 'masico': 6439, 'botarsse': 1409, 'confinado': 2439, 'semi': 9431, 'colaa': 2257, 'bottarse': 1425, 'alcanzar': 422, 'cuajars': 2787, 'obstruccion': 7061, 'proteje': 8084, 'extracor': 4547, 'impregnarse': 5446, 'pretar': 7965, 'botaqrce': 1393, 'apiz': 703, 'whpaso': 11176, 'soldadotornillo': 9716, 'pand': 7319, 'wn': 11192, 'rodillode': 9084, 'aote': 649, 'molotes': 6703, 'llevarselo': 6105, 'whimpedidorfalta': 11174, 'habiltar': 5243, 'salirce': 9275, 'fla': 4732, 'orquillas': 7231, 'aflojada': 267, 'mpc': 6836, 'use': 10795, 'traseras': 10588, 'ornillo': 7224, 'tranferenc': 10513, 'almacennorte': 504, 'kosfeldcabezalmonobeam': 5808, 'barniacarreadorsalidacandadoreventado': 1118, 'lcbiseladorapteportaherramient': 5912, 'fvb': 4986, 'pule': 8195, 'dv': 3794, 'permitia': 7552, 'etiqu': 4446, 'coppera': 2585, 'reliza': 8698, 'sensorretenedor': 9453, 'lcprobadoracabezalmanguera': 5927, 'pruebse': 8114, 'reparacioin': 8726, 'rara': 8358, 'lar': 5881, 'mabos': 6230, 'entradadisco': 4247, 'frecuencia': 4866, 'pichanchas': 7594, 'tijeraesc': 10280, 'subest': 9861, 'thermathool': 10252, 'bicromato': 1242, 'gpailapicos': 5133, 'doblados': 3701, 'maqui': 6399, 'genral': 5073, 'transmior': 10541, 'hercules': 5300, 'eventoanteior': 4454, 'ocasio': 7083, 'bloquead': 1287, 'tehrmatool': 10129, 'olher': 7120, 'desnivleacion': 3415, 'avanze': 997, 'embragu': 3934, 'aplicac': 717, 'lvemno': 6226, 'turc': 10716, 'marque': 6433, 'bada': 1030, 'laynamin': 5904, 'dent': 3061, 'bajara': 1049, 'ventur': 10978, 'ycadena': 11218, 'reaprettar': 8422, 'botasrse': 1411, 'motobonba': 6785, 'dai': 2877, 'mordeza': 6761, 'fuerz': 4921, 'acalibre': 67, 'ruta': 9200, 'wthermatool': 11204, 'wse': 11200, 'lccadenas': 5914, 'lcprobadora': 5923, 'conexi': 2432, 'rpmsde': 9172, 'rpm': 9170, 'esquina': 4398, 'iterior': 5701, 'sil': 9575, 'sueta': 9899, 'operer': 7172, 'acer': 121, 'cubier': 2796, 'tier': 10270, 'tbo': 10108, 'mdida': 6481, 'desfasar': 3348, 'probable': 8006, 'ptamesa': 8140, 'cerradoabiertofvbd': 2006, 'fvbd': 4987, 'presurizacion': 7962, 'invertido': 5668, 'capar': 1775, 'sobrecalen': 9671, 'mastiles': 6443, 'sedi': 9367, 'jo': 5743, 'recu': 8552, 'lineamientos': 6052, 'extraca': 4542, 'fslla': 4898, 'cruezata': 2760, 'movrese': 6834, 'enfrimaiento': 4120, 'dolomitica': 3724, 'sodar': 9686, 'vaipas': 10821, 'corrigen': 2662, 'evpulsar': 4459, 'eliminan': 3907, 'ethernet': 4445, 'equis': 4297, 'enconchado': 4041, 'perforada': 7528, 'aceitadorarellenar': 107, 'aprovecho': 757, 'sellad': 9422, 'actuado': 194, 'alimentand': 456, 'hca': 5283, 'infote': 5518, 'bendings': 1229, 'retraso': 8928, 'bentilado': 1232, 'contaminaci': 2491, 'escaleras': 4314, 'pasamanos': 7407, 'pat': 7436, 'qalinea': 8244, 'inse': 5558, 'parchoques': 7372, 'apt': 759, 'tensonivel': 10202, 'pulpit': 8206, 'reemplazando': 8597, 'rolloenheb': 9110, 'expan': 4482, 'entf': 4233, 'despasio': 3454, 'orqueta': 7228, 'correder': 2630, 'muertos': 6870, 'resetsni': 8824, 'inalamb': 5457, 'aguje': 323, 'exitador': 4479, 'campof': 1732, 'desajus': 3117, 'bqtdano': 1434, 'vsap': 11134, 'desenrolll': 3311, 'banan': 1085, 'fakka': 4578, 'sua': 9847, 'elevalv': 3894, 'porfalla': 7809, 'aucciliar': 947, 'empatando': 3984, 'fisici': 4724, 'inspecc': 5564, 'desaogue': 3159, 'dieccional': 3605, 'enhrbrad': 4158, 'casre': 1876, 'gser': 5194, 'explocividad': 4497, 'cardanes': 1809, 'vertica': 10993, 'demira': 3047, 'bast': 1171, 'nta': 7026, 'entradaaflojarse': 4243, 'procesarse': 8024, 'alas': 413, 'medidaen': 6515, 'pescuadrar': 7574, 'lentopunta': 5960, 'chue': 2098, 'propios': 8053, 'transimion': 10533}\n"
          ]
        }
      ],
      "source": [
        " # vemos que hace TfidVectorizer()\n",
        "v = TfidfVectorizer()\n",
        "transformed_output = v.fit_transform(df4[\"Descripción\"])\n",
        "print(v.vocabulary_)"
      ]
    },
    {
      "cell_type": "markdown",
      "metadata": {
        "id": "Rw2KdJZIgMjy"
      },
      "source": [
        "Ahora para entrenar el modelo de TF-IDF Transform necesitamos de clasificadores de sklearn como KNN, Random Forest, etc.\n",
        "\n",
        "Usamos los clasificadores para ver cuál es el mejor modelo."
      ]
    },
    {
      "cell_type": "markdown",
      "metadata": {
        "id": "ZLAzdz7FgH1_"
      },
      "source": [
        "### **K Neighbors**"
      ]
    },
    {
      "cell_type": "markdown",
      "source": [
        "Para K Neighbors vamos a realizar todas las combinaciónes posibles de utilizar variables independientes para la variable dependiente y ver cuál tiene más precisión."
      ],
      "metadata": {
        "id": "RirwSsUOLips"
      }
    },
    {
      "cell_type": "markdown",
      "metadata": {
        "id": "98mndlcfisLr"
      },
      "source": [
        "**EMPEZAMOS POR SÍNTOMA Y DESCRIPCIÓN NADA MÁS**"
      ]
    },
    {
      "cell_type": "code",
      "execution_count": 81,
      "metadata": {
        "id": "cJaEy0lDWGXe"
      },
      "outputs": [],
      "source": [
        "# TRAIN TEST\n",
        "x = df4[\"Descripción\"] \n",
        "y = df4[\"Síntoma\"]\n",
        "\n",
        "from sklearn.model_selection import train_test_split\n",
        "x_train, x_test, y_train, y_test = train_test_split(x, y, test_size = 0.2, random_state = 1) # entrenamos con el 80% y probamos con el 20%"
      ]
    },
    {
      "cell_type": "code",
      "execution_count": 82,
      "metadata": {
        "colab": {
          "base_uri": "https://localhost:8080/",
          "height": 0
        },
        "id": "sbGUFhHQc66O",
        "outputId": "8fd90608-3c5d-4279-82ed-85bc9b4836c8"
      },
      "outputs": [
        {
          "output_type": "stream",
          "name": "stdout",
          "text": [
            "              precision    recall  f1-score   support\n",
            "\n",
            "           1       0.37      0.57      0.45       341\n",
            "           2       0.34      0.50      0.40       121\n",
            "           3       0.26      0.55      0.35      1226\n",
            "           4       0.00      0.00      0.00         8\n",
            "           5       0.40      0.09      0.15        22\n",
            "           6       0.81      0.53      0.64        66\n",
            "           7       0.34      0.32      0.33       969\n",
            "           8       0.42      0.39      0.40       635\n",
            "           9       0.19      0.22      0.20        96\n",
            "          10       0.49      0.46      0.47      1310\n",
            "          11       0.43      0.44      0.44      1573\n",
            "          12       0.68      0.57      0.62      1109\n",
            "          13       0.50      0.40      0.44       489\n",
            "          14       0.50      0.48      0.49      1811\n",
            "          15       0.45      0.39      0.42       892\n",
            "          16       0.35      0.19      0.24        48\n",
            "          17       0.28      0.11      0.16        73\n",
            "          18       0.50      0.24      0.32       242\n",
            "          19       0.43      0.20      0.27        76\n",
            "          20       0.61      0.45      0.52       254\n",
            "          21       0.36      0.45      0.40        47\n",
            "          22       0.43      0.32      0.37       148\n",
            "          23       0.66      0.45      0.53        47\n",
            "          24       0.38      0.15      0.22        79\n",
            "          25       0.43      0.19      0.26       379\n",
            "          26       0.47      0.44      0.45       206\n",
            "          27       0.18      0.08      0.11        50\n",
            "          28       0.32      0.15      0.21        78\n",
            "          30       0.60      0.19      0.29        62\n",
            "          31       0.21      0.06      0.09        53\n",
            "          32       0.25      0.17      0.20        78\n",
            "          33       0.25      0.12      0.17        16\n",
            "          34       1.00      0.08      0.15        24\n",
            "          35       0.33      0.16      0.21        82\n",
            "          36       0.56      0.30      0.39        30\n",
            "          37       0.36      0.21      0.26        43\n",
            "          38       0.37      0.16      0.22        44\n",
            "          39       0.67      0.04      0.08        47\n",
            "          40       0.00      0.00      0.00         3\n",
            "          41       0.50      0.50      0.50         2\n",
            "          42       0.72      0.65      0.68        20\n",
            "          43       0.33      0.17      0.22        12\n",
            "          44       0.25      0.05      0.09        19\n",
            "          45       1.00      0.25      0.40         4\n",
            "          46       0.00      0.00      0.00         2\n",
            "          47       0.00      0.00      0.00         3\n",
            "          48       0.25      0.25      0.25         4\n",
            "          49       0.00      0.00      0.00         1\n",
            "\n",
            "    accuracy                           0.42     12944\n",
            "   macro avg       0.40      0.26      0.29     12944\n",
            "weighted avg       0.45      0.42      0.42     12944\n",
            "\n"
          ]
        },
        {
          "output_type": "stream",
          "name": "stderr",
          "text": [
            "/usr/local/lib/python3.9/dist-packages/sklearn/metrics/_classification.py:1344: UndefinedMetricWarning: Precision and F-score are ill-defined and being set to 0.0 in labels with no predicted samples. Use `zero_division` parameter to control this behavior.\n",
            "  _warn_prf(average, modifier, msg_start, len(result))\n",
            "/usr/local/lib/python3.9/dist-packages/sklearn/metrics/_classification.py:1344: UndefinedMetricWarning: Precision and F-score are ill-defined and being set to 0.0 in labels with no predicted samples. Use `zero_division` parameter to control this behavior.\n",
            "  _warn_prf(average, modifier, msg_start, len(result))\n",
            "/usr/local/lib/python3.9/dist-packages/sklearn/metrics/_classification.py:1344: UndefinedMetricWarning: Precision and F-score are ill-defined and being set to 0.0 in labels with no predicted samples. Use `zero_division` parameter to control this behavior.\n",
            "  _warn_prf(average, modifier, msg_start, len(result))\n"
          ]
        }
      ],
      "source": [
        "from sklearn.neighbors import KNeighborsClassifier\n",
        "from sklearn.pipeline import Pipeline\n",
        "from sklearn.metrics import classification_report\n",
        "\n",
        "clf = Pipeline([\n",
        "      (\"vectorizer_tfidf\", TfidfVectorizer()),\n",
        "      (\"KNN\", KNeighborsClassifier())\n",
        "])\n",
        "\n",
        "clf.fit(x_train, y_train)\n",
        "\n",
        "y_pred = clf.predict(x_test)\n",
        "\n",
        "print(classification_report(y_test, y_pred))"
      ]
    },
    {
      "cell_type": "markdown",
      "metadata": {
        "id": "a6AE5deedj0P"
      },
      "source": [
        "**Usamos Descripción y Qué pasó para variables independientes para estimar la variable dependiente Síntoma**"
      ]
    },
    {
      "cell_type": "code",
      "execution_count": null,
      "metadata": {
        "id": "OI6tEu3GBVF7"
      },
      "outputs": [],
      "source": [
        "# TRAIN TEST\n",
        "x = df4[\"Descripción\"] + df4[\"Qué pasó?\"] \n",
        "y = df4[\"Síntoma\"]\n",
        "\n",
        "from sklearn.model_selection import train_test_split\n",
        "x_train, x_test, y_train, y_test = train_test_split(x, y, test_size = 0.2, random_state = 1) # entrenamos con el 80% y probamos con el 20%"
      ]
    },
    {
      "cell_type": "code",
      "execution_count": null,
      "metadata": {
        "colab": {
          "base_uri": "https://localhost:8080/"
        },
        "id": "6dG-9F_uBU2T",
        "outputId": "84103a48-2b8c-4e74-cd87-0c768f611559"
      },
      "outputs": [
        {
          "name": "stdout",
          "output_type": "stream",
          "text": [
            "              precision    recall  f1-score   support\n",
            "\n",
            "           1       0.50      0.44      0.47       341\n",
            "           2       0.44      0.31      0.37       121\n",
            "           3       0.58      0.41      0.48      1226\n",
            "           4       0.00      0.00      0.00         8\n",
            "           5       0.42      0.23      0.29        22\n",
            "           6       0.83      0.65      0.73        66\n",
            "           7       0.47      0.35      0.40       969\n",
            "           8       0.53      0.33      0.41       635\n",
            "           9       0.49      0.24      0.32        96\n",
            "          10       0.60      0.36      0.45      1310\n",
            "          11       0.55      0.43      0.48      1573\n",
            "          12       0.85      0.65      0.73      1109\n",
            "          13       0.58      0.34      0.43       489\n",
            "          14       0.23      0.75      0.36      1811\n",
            "          15       0.53      0.29      0.37       892\n",
            "          16       0.46      0.23      0.31        48\n",
            "          17       0.44      0.10      0.16        73\n",
            "          18       0.59      0.24      0.34       242\n",
            "          19       0.63      0.22      0.33        76\n",
            "          20       0.65      0.45      0.53       254\n",
            "          21       0.36      0.26      0.30        47\n",
            "          22       0.67      0.45      0.54       148\n",
            "          23       0.86      0.38      0.53        47\n",
            "          24       0.62      0.19      0.29        79\n",
            "          25       0.58      0.20      0.30       379\n",
            "          26       0.59      0.40      0.48       206\n",
            "          27       0.47      0.16      0.24        50\n",
            "          28       0.43      0.13      0.20        78\n",
            "          30       0.59      0.16      0.25        62\n",
            "          31       0.30      0.06      0.10        53\n",
            "          32       0.37      0.22      0.27        78\n",
            "          33       0.33      0.19      0.24        16\n",
            "          34       1.00      0.08      0.15        24\n",
            "          35       0.29      0.13      0.18        82\n",
            "          36       1.00      0.27      0.42        30\n",
            "          37       0.42      0.19      0.26        43\n",
            "          38       0.50      0.20      0.29        44\n",
            "          39       0.64      0.15      0.24        47\n",
            "          40       0.00      0.00      0.00         3\n",
            "          41       1.00      0.50      0.67         2\n",
            "          42       0.88      0.75      0.81        20\n",
            "          43       1.00      0.08      0.15        12\n",
            "          44       0.25      0.05      0.09        19\n",
            "          45       0.00      0.00      0.00         4\n",
            "          46       0.00      0.00      0.00         2\n",
            "          47       0.00      0.00      0.00         3\n",
            "          48       1.00      0.25      0.40         4\n",
            "          49       0.00      0.00      0.00         1\n",
            "\n",
            "    accuracy                           0.43     12944\n",
            "   macro avg       0.51      0.26      0.32     12944\n",
            "weighted avg       0.53      0.43      0.44     12944\n",
            "\n"
          ]
        },
        {
          "name": "stderr",
          "output_type": "stream",
          "text": [
            "/usr/local/lib/python3.9/dist-packages/sklearn/metrics/_classification.py:1344: UndefinedMetricWarning: Precision and F-score are ill-defined and being set to 0.0 in labels with no predicted samples. Use `zero_division` parameter to control this behavior.\n",
            "  _warn_prf(average, modifier, msg_start, len(result))\n",
            "/usr/local/lib/python3.9/dist-packages/sklearn/metrics/_classification.py:1344: UndefinedMetricWarning: Precision and F-score are ill-defined and being set to 0.0 in labels with no predicted samples. Use `zero_division` parameter to control this behavior.\n",
            "  _warn_prf(average, modifier, msg_start, len(result))\n",
            "/usr/local/lib/python3.9/dist-packages/sklearn/metrics/_classification.py:1344: UndefinedMetricWarning: Precision and F-score are ill-defined and being set to 0.0 in labels with no predicted samples. Use `zero_division` parameter to control this behavior.\n",
            "  _warn_prf(average, modifier, msg_start, len(result))\n"
          ]
        }
      ],
      "source": [
        "from sklearn.neighbors import KNeighborsClassifier\n",
        "from sklearn.pipeline import Pipeline\n",
        "from sklearn.metrics import classification_report\n",
        "\n",
        "clf = Pipeline([\n",
        "      (\"vectorizer_tfidf\", TfidfVectorizer()),\n",
        "      #kmeans,\n",
        "      (\"KNN\", KNeighborsClassifier())\n",
        "])\n",
        "\n",
        "clf.fit(x_train, y_train)\n",
        "\n",
        "y_pred = clf.predict(x_test)\n",
        "\n",
        "print(classification_report(y_test, y_pred))"
      ]
    },
    {
      "cell_type": "markdown",
      "metadata": {
        "id": "S2VqqJ7eebpR"
      },
      "source": [
        "**Usamos Descripción, Qué pasó y Por qué pasó para variables independientes para estimar la variable dependiente Síntoma**"
      ]
    },
    {
      "cell_type": "code",
      "execution_count": null,
      "metadata": {
        "id": "tCbWvk4aB9by"
      },
      "outputs": [],
      "source": [
        "# TRAIN TEST\n",
        "x = df4[\"Descripción\"] + df4[\"Qué pasó?\"] +df4[\"Por qué pasó?\"]\n",
        "y = df4[\"Síntoma\"]\n",
        "\n",
        "from sklearn.model_selection import train_test_split\n",
        "x_train, x_test, y_train, y_test = train_test_split(x, y, test_size = 0.2, random_state = 1) # entrenamos con el 80% y probamos con el 20%"
      ]
    },
    {
      "cell_type": "code",
      "execution_count": null,
      "metadata": {
        "colab": {
          "base_uri": "https://localhost:8080/"
        },
        "id": "tcb27iaYB9Gw",
        "outputId": "43f70671-893f-4f96-ff30-d532118d3975"
      },
      "outputs": [
        {
          "name": "stdout",
          "output_type": "stream",
          "text": [
            "              precision    recall  f1-score   support\n",
            "\n",
            "           1       0.40      0.69      0.50       341\n",
            "           2       0.44      0.49      0.46       121\n",
            "           3       0.48      0.53      0.50      1226\n",
            "           4       0.12      0.12      0.12         8\n",
            "           5       0.22      0.18      0.20        22\n",
            "           6       0.83      0.80      0.82        66\n",
            "           7       0.40      0.47      0.43       969\n",
            "           8       0.44      0.45      0.44       635\n",
            "           9       0.38      0.24      0.29        96\n",
            "          10       0.54      0.58      0.56      1310\n",
            "          11       0.51      0.56      0.53      1573\n",
            "          12       0.75      0.72      0.74      1109\n",
            "          13       0.49      0.45      0.47       489\n",
            "          14       0.57      0.60      0.58      1811\n",
            "          15       0.48      0.48      0.48       892\n",
            "          16       0.57      0.33      0.42        48\n",
            "          17       0.39      0.19      0.26        73\n",
            "          18       0.53      0.26      0.35       242\n",
            "          19       0.59      0.30      0.40        76\n",
            "          20       0.61      0.48      0.54       254\n",
            "          21       0.41      0.45      0.43        47\n",
            "          22       0.56      0.55      0.56       148\n",
            "          23       0.71      0.47      0.56        47\n",
            "          24       0.45      0.16      0.24        79\n",
            "          25       0.42      0.30      0.35       379\n",
            "          26       0.60      0.48      0.53       206\n",
            "          27       0.44      0.22      0.29        50\n",
            "          28       0.40      0.22      0.28        78\n",
            "          30       0.64      0.23      0.33        62\n",
            "          31       0.31      0.17      0.22        53\n",
            "          32       0.41      0.24      0.31        78\n",
            "          33       0.20      0.06      0.10        16\n",
            "          34       1.00      0.08      0.15        24\n",
            "          35       0.34      0.28      0.31        82\n",
            "          36       0.76      0.43      0.55        30\n",
            "          37       0.46      0.30      0.37        43\n",
            "          38       0.38      0.23      0.29        44\n",
            "          39       0.69      0.23      0.35        47\n",
            "          40       0.00      0.00      0.00         3\n",
            "          41       0.33      0.50      0.40         2\n",
            "          42       0.85      0.85      0.85        20\n",
            "          43       0.50      0.17      0.25        12\n",
            "          44       0.40      0.11      0.17        19\n",
            "          45       0.50      0.25      0.33         4\n",
            "          46       0.00      0.00      0.00         2\n",
            "          47       0.00      0.00      0.00         3\n",
            "          48       1.00      0.25      0.40         4\n",
            "          49       0.00      0.00      0.00         1\n",
            "\n",
            "    accuracy                           0.52     12944\n",
            "   macro avg       0.47      0.34      0.37     12944\n",
            "weighted avg       0.52      0.52      0.51     12944\n",
            "\n"
          ]
        },
        {
          "name": "stderr",
          "output_type": "stream",
          "text": [
            "/usr/local/lib/python3.9/dist-packages/sklearn/metrics/_classification.py:1344: UndefinedMetricWarning: Precision and F-score are ill-defined and being set to 0.0 in labels with no predicted samples. Use `zero_division` parameter to control this behavior.\n",
            "  _warn_prf(average, modifier, msg_start, len(result))\n",
            "/usr/local/lib/python3.9/dist-packages/sklearn/metrics/_classification.py:1344: UndefinedMetricWarning: Precision and F-score are ill-defined and being set to 0.0 in labels with no predicted samples. Use `zero_division` parameter to control this behavior.\n",
            "  _warn_prf(average, modifier, msg_start, len(result))\n",
            "/usr/local/lib/python3.9/dist-packages/sklearn/metrics/_classification.py:1344: UndefinedMetricWarning: Precision and F-score are ill-defined and being set to 0.0 in labels with no predicted samples. Use `zero_division` parameter to control this behavior.\n",
            "  _warn_prf(average, modifier, msg_start, len(result))\n"
          ]
        }
      ],
      "source": [
        "from sklearn.neighbors import KNeighborsClassifier\n",
        "from sklearn.pipeline import Pipeline\n",
        "from sklearn.metrics import classification_report\n",
        "\n",
        "clf = Pipeline([\n",
        "      (\"vectorizer_tfidf\", TfidfVectorizer()),\n",
        "      (\"KNN\", KNeighborsClassifier())\n",
        "])\n",
        "\n",
        "clf.fit(x_train, y_train)\n",
        "\n",
        "y_pred = clf.predict(x_test)\n",
        "\n",
        "print(classification_report(y_test, y_pred))"
      ]
    },
    {
      "cell_type": "markdown",
      "metadata": {
        "id": "Uicj3WawfapP"
      },
      "source": [
        "**Usamos Qué pasó, Por qué pasó y Qué se hizo para variables independientes para estimar la variable dependiente Síntoma**"
      ]
    },
    {
      "cell_type": "code",
      "execution_count": null,
      "metadata": {
        "id": "7zrLR2dNEdkE"
      },
      "outputs": [],
      "source": [
        "# TRAIN TEST\n",
        "x = df4[\"Qué pasó?\"] +df4[\"Por qué pasó?\"] + df4[\"Qué se hizo?\"]\n",
        "y = df4[\"Síntoma\"]\n",
        "\n",
        "from sklearn.model_selection import train_test_split\n",
        "x_train, x_test, y_train, y_test = train_test_split(x, y, test_size = 0.2, random_state = 1) # entrenamos con el 80% y probamos con el 20%"
      ]
    },
    {
      "cell_type": "code",
      "execution_count": null,
      "metadata": {
        "colab": {
          "base_uri": "https://localhost:8080/"
        },
        "id": "eeK4UBRCEdTu",
        "outputId": "4f01cd3c-5b77-4cdc-fdcf-7a81f0e37c46"
      },
      "outputs": [
        {
          "name": "stdout",
          "output_type": "stream",
          "text": [
            "              precision    recall  f1-score   support\n",
            "\n",
            "           1       0.45      0.64      0.53       341\n",
            "           2       0.47      0.55      0.51       121\n",
            "           3       0.29      0.71      0.41      1226\n",
            "           4       0.00      0.00      0.00         8\n",
            "           5       0.57      0.18      0.28        22\n",
            "           6       0.89      0.82      0.85        66\n",
            "           7       0.51      0.42      0.46       969\n",
            "           8       0.52      0.42      0.46       635\n",
            "           9       0.43      0.24      0.31        96\n",
            "          10       0.60      0.54      0.57      1310\n",
            "          11       0.58      0.52      0.55      1573\n",
            "          12       0.84      0.81      0.83      1109\n",
            "          13       0.47      0.44      0.46       489\n",
            "          14       0.63      0.57      0.60      1811\n",
            "          15       0.55      0.46      0.50       892\n",
            "          16       0.55      0.35      0.43        48\n",
            "          17       0.33      0.12      0.18        73\n",
            "          18       0.61      0.29      0.39       242\n",
            "          19       0.72      0.28      0.40        76\n",
            "          20       0.67      0.48      0.56       254\n",
            "          21       0.41      0.36      0.39        47\n",
            "          22       0.58      0.56      0.57       148\n",
            "          23       0.63      0.40      0.49        47\n",
            "          24       0.72      0.16      0.27        79\n",
            "          25       0.44      0.31      0.36       379\n",
            "          26       0.63      0.44      0.52       206\n",
            "          27       0.47      0.18      0.26        50\n",
            "          28       0.58      0.18      0.27        78\n",
            "          30       0.50      0.26      0.34        62\n",
            "          31       0.35      0.21      0.26        53\n",
            "          32       0.36      0.22      0.27        78\n",
            "          33       0.25      0.12      0.17        16\n",
            "          34       0.40      0.08      0.14        24\n",
            "          35       0.32      0.21      0.25        82\n",
            "          36       0.86      0.40      0.55        30\n",
            "          37       0.52      0.35      0.42        43\n",
            "          38       0.41      0.20      0.27        44\n",
            "          39       0.79      0.23      0.36        47\n",
            "          40       0.00      0.00      0.00         3\n",
            "          41       0.50      0.50      0.50         2\n",
            "          42       0.94      0.85      0.89        20\n",
            "          43       0.50      0.17      0.25        12\n",
            "          44       0.43      0.16      0.23        19\n",
            "          45       0.00      0.00      0.00         4\n",
            "          46       0.00      0.00      0.00         2\n",
            "          47       0.00      0.00      0.00         3\n",
            "          48       0.00      0.00      0.00         4\n",
            "          49       0.00      0.00      0.00         1\n",
            "\n",
            "    accuracy                           0.52     12944\n",
            "   macro avg       0.46      0.32      0.36     12944\n",
            "weighted avg       0.56      0.52      0.52     12944\n",
            "\n"
          ]
        },
        {
          "name": "stderr",
          "output_type": "stream",
          "text": [
            "/usr/local/lib/python3.9/dist-packages/sklearn/metrics/_classification.py:1344: UndefinedMetricWarning: Precision and F-score are ill-defined and being set to 0.0 in labels with no predicted samples. Use `zero_division` parameter to control this behavior.\n",
            "  _warn_prf(average, modifier, msg_start, len(result))\n",
            "/usr/local/lib/python3.9/dist-packages/sklearn/metrics/_classification.py:1344: UndefinedMetricWarning: Precision and F-score are ill-defined and being set to 0.0 in labels with no predicted samples. Use `zero_division` parameter to control this behavior.\n",
            "  _warn_prf(average, modifier, msg_start, len(result))\n",
            "/usr/local/lib/python3.9/dist-packages/sklearn/metrics/_classification.py:1344: UndefinedMetricWarning: Precision and F-score are ill-defined and being set to 0.0 in labels with no predicted samples. Use `zero_division` parameter to control this behavior.\n",
            "  _warn_prf(average, modifier, msg_start, len(result))\n"
          ]
        }
      ],
      "source": [
        "from sklearn.neighbors import KNeighborsClassifier\n",
        "from sklearn.pipeline import Pipeline\n",
        "from sklearn.metrics import classification_report\n",
        "\n",
        "clf = Pipeline([\n",
        "      (\"vectorizer_tfidf\", TfidfVectorizer()),\n",
        "      (\"KNN\", KNeighborsClassifier())\n",
        "])\n",
        "\n",
        "clf.fit(x_train, y_train)\n",
        "\n",
        "y_pred = clf.predict(x_test)\n",
        "\n",
        "print(classification_report(y_test, y_pred))"
      ]
    },
    {
      "cell_type": "markdown",
      "metadata": {
        "id": "QEkxbkSWf-Cx"
      },
      "source": [
        "**Usamos Qué pasó y Por qué pasó para variables independientes para estimar la variable dependiente Síntoma**"
      ]
    },
    {
      "cell_type": "code",
      "execution_count": null,
      "metadata": {
        "id": "XPvbYLt9FEKP"
      },
      "outputs": [],
      "source": [
        "# TRAIN TEST\n",
        "x = df4[\"Qué pasó?\"] +df4[\"Por qué pasó?\"] \n",
        "y = df4[\"Síntoma\"]\n",
        "\n",
        "from sklearn.model_selection import train_test_split\n",
        "x_train, x_test, y_train, y_test = train_test_split(x, y, test_size = 0.2, random_state = 1) # entrenamos con el 80% y probamos con el 20%"
      ]
    },
    {
      "cell_type": "code",
      "execution_count": null,
      "metadata": {
        "colab": {
          "base_uri": "https://localhost:8080/"
        },
        "id": "QP-HwcSDFD92",
        "outputId": "14f08284-0669-44b4-cc38-235f4c460b83"
      },
      "outputs": [
        {
          "name": "stdout",
          "output_type": "stream",
          "text": [
            "              precision    recall  f1-score   support\n",
            "\n",
            "           1       0.39      0.65      0.48       341\n",
            "           2       0.38      0.52      0.44       121\n",
            "           3       0.27      0.66      0.39      1226\n",
            "           4       0.33      0.12      0.18         8\n",
            "           5       0.50      0.18      0.27        22\n",
            "           6       0.81      0.82      0.81        66\n",
            "           7       0.50      0.43      0.46       969\n",
            "           8       0.57      0.39      0.46       635\n",
            "           9       0.50      0.19      0.27        96\n",
            "          10       0.59      0.54      0.57      1310\n",
            "          11       0.56      0.50      0.53      1573\n",
            "          12       0.85      0.81      0.83      1109\n",
            "          13       0.45      0.42      0.43       489\n",
            "          14       0.61      0.56      0.59      1811\n",
            "          15       0.51      0.46      0.49       892\n",
            "          16       0.56      0.38      0.45        48\n",
            "          17       0.36      0.14      0.20        73\n",
            "          18       0.57      0.29      0.38       242\n",
            "          19       0.56      0.25      0.35        76\n",
            "          20       0.69      0.46      0.55       254\n",
            "          21       0.50      0.30      0.37        47\n",
            "          22       0.60      0.54      0.57       148\n",
            "          23       0.73      0.40      0.52        47\n",
            "          24       0.61      0.14      0.23        79\n",
            "          25       0.49      0.30      0.37       379\n",
            "          26       0.65      0.44      0.52       206\n",
            "          27       0.42      0.16      0.23        50\n",
            "          28       0.36      0.15      0.22        78\n",
            "          30       0.55      0.26      0.35        62\n",
            "          31       0.40      0.15      0.22        53\n",
            "          32       0.33      0.24      0.28        78\n",
            "          33       0.50      0.12      0.20        16\n",
            "          34       0.20      0.04      0.07        24\n",
            "          35       0.37      0.20      0.26        82\n",
            "          36       0.79      0.37      0.50        30\n",
            "          37       0.71      0.40      0.51        43\n",
            "          38       0.43      0.20      0.28        44\n",
            "          39       0.81      0.28      0.41        47\n",
            "          40       0.00      0.00      0.00         3\n",
            "          41       0.50      0.50      0.50         2\n",
            "          42       1.00      0.85      0.92        20\n",
            "          43       0.67      0.17      0.27        12\n",
            "          44       0.50      0.11      0.17        19\n",
            "          45       0.00      0.00      0.00         4\n",
            "          46       0.00      0.00      0.00         2\n",
            "          47       0.00      0.00      0.00         3\n",
            "          48       0.00      0.00      0.00         4\n",
            "          49       0.00      0.00      0.00         1\n",
            "\n",
            "    accuracy                           0.51     12944\n",
            "   macro avg       0.47      0.31      0.36     12944\n",
            "weighted avg       0.55      0.51      0.51     12944\n",
            "\n"
          ]
        },
        {
          "name": "stderr",
          "output_type": "stream",
          "text": [
            "/usr/local/lib/python3.9/dist-packages/sklearn/metrics/_classification.py:1344: UndefinedMetricWarning: Precision and F-score are ill-defined and being set to 0.0 in labels with no predicted samples. Use `zero_division` parameter to control this behavior.\n",
            "  _warn_prf(average, modifier, msg_start, len(result))\n",
            "/usr/local/lib/python3.9/dist-packages/sklearn/metrics/_classification.py:1344: UndefinedMetricWarning: Precision and F-score are ill-defined and being set to 0.0 in labels with no predicted samples. Use `zero_division` parameter to control this behavior.\n",
            "  _warn_prf(average, modifier, msg_start, len(result))\n",
            "/usr/local/lib/python3.9/dist-packages/sklearn/metrics/_classification.py:1344: UndefinedMetricWarning: Precision and F-score are ill-defined and being set to 0.0 in labels with no predicted samples. Use `zero_division` parameter to control this behavior.\n",
            "  _warn_prf(average, modifier, msg_start, len(result))\n"
          ]
        }
      ],
      "source": [
        "from sklearn.neighbors import KNeighborsClassifier\n",
        "from sklearn.pipeline import Pipeline\n",
        "from sklearn.metrics import classification_report\n",
        "\n",
        "clf = Pipeline([\n",
        "      (\"vectorizer_tfidf\", TfidfVectorizer()),\n",
        "      (\"KNN\", KNeighborsClassifier())\n",
        "])\n",
        "\n",
        "clf.fit(x_train, y_train)\n",
        "\n",
        "y_pred = clf.predict(x_test)\n",
        "\n",
        "print(classification_report(y_test, y_pred))"
      ]
    },
    {
      "cell_type": "markdown",
      "metadata": {
        "id": "lYtbl6pfgcQL"
      },
      "source": [
        "**Usamos Qué pasó para variable independiente para estimar la variable dependiente Síntoma**"
      ]
    },
    {
      "cell_type": "code",
      "execution_count": null,
      "metadata": {
        "id": "fA0H5vmeFjVb"
      },
      "outputs": [],
      "source": [
        "# TRAIN TEST\n",
        "x = df4[\"Qué pasó?\"] \n",
        "y = df4[\"Síntoma\"]\n",
        "\n",
        "from sklearn.model_selection import train_test_split\n",
        "x_train, x_test, y_train, y_test = train_test_split(x, y, test_size = 0.2, random_state = 1) # entrenamos con el 80% y probamos con el 20%"
      ]
    },
    {
      "cell_type": "code",
      "execution_count": null,
      "metadata": {
        "colab": {
          "base_uri": "https://localhost:8080/"
        },
        "id": "B72m88oEFoMq",
        "outputId": "0842d4d4-b1e3-4e7c-f2f8-f160c0fa956c"
      },
      "outputs": [
        {
          "name": "stdout",
          "output_type": "stream",
          "text": [
            "              precision    recall  f1-score   support\n",
            "\n",
            "           1       0.40      0.48      0.44       341\n",
            "           2       0.32      0.40      0.36       121\n",
            "           3       0.47      0.44      0.46      1226\n",
            "           4       0.00      0.00      0.00         8\n",
            "           5       0.27      0.14      0.18        22\n",
            "           6       0.68      0.79      0.73        66\n",
            "           7       0.38      0.38      0.38       969\n",
            "           8       0.47      0.33      0.39       635\n",
            "           9       0.25      0.16      0.19        96\n",
            "          10       0.50      0.43      0.46      1310\n",
            "          11       0.47      0.51      0.49      1573\n",
            "          12       0.83      0.80      0.82      1109\n",
            "          13       0.50      0.39      0.44       489\n",
            "          14       0.57      0.52      0.54      1811\n",
            "          15       0.48      0.37      0.42       892\n",
            "          16       0.38      0.25      0.30        48\n",
            "          17       0.50      0.12      0.20        73\n",
            "          18       0.58      0.26      0.36       242\n",
            "          19       0.62      0.21      0.31        76\n",
            "          20       0.73      0.44      0.55       254\n",
            "          21       0.34      0.23      0.28        47\n",
            "          22       0.68      0.51      0.58       148\n",
            "          23       0.51      0.38      0.44        47\n",
            "          24       0.67      0.18      0.28        79\n",
            "          25       0.56      0.21      0.30       379\n",
            "          26       0.62      0.40      0.49       206\n",
            "          27       0.26      0.16      0.20        50\n",
            "          28       0.35      0.10      0.16        78\n",
            "          30       0.36      0.19      0.25        62\n",
            "          31       0.33      0.06      0.10        53\n",
            "          32       0.01      0.27      0.02        78\n",
            "          33       0.17      0.06      0.09        16\n",
            "          34       1.00      0.08      0.15        24\n",
            "          35       0.26      0.15      0.19        82\n",
            "          36       0.39      0.37      0.38        30\n",
            "          37       0.38      0.19      0.25        43\n",
            "          38       0.56      0.23      0.32        44\n",
            "          39       0.57      0.17      0.26        47\n",
            "          40       0.00      0.00      0.00         3\n",
            "          41       1.00      0.50      0.67         2\n",
            "          42       0.77      0.85      0.81        20\n",
            "          43       0.67      0.17      0.27        12\n",
            "          44       0.50      0.05      0.10        19\n",
            "          45       0.00      0.00      0.00         4\n",
            "          46       0.00      0.00      0.00         2\n",
            "          47       0.00      0.00      0.00         3\n",
            "          48       0.00      0.00      0.00         4\n",
            "          49       0.00      0.00      0.00         1\n",
            "\n",
            "    accuracy                           0.44     12944\n",
            "   macro avg       0.42      0.27      0.30     12944\n",
            "weighted avg       0.52      0.44      0.47     12944\n",
            "\n"
          ]
        },
        {
          "name": "stderr",
          "output_type": "stream",
          "text": [
            "/usr/local/lib/python3.9/dist-packages/sklearn/metrics/_classification.py:1344: UndefinedMetricWarning: Precision and F-score are ill-defined and being set to 0.0 in labels with no predicted samples. Use `zero_division` parameter to control this behavior.\n",
            "  _warn_prf(average, modifier, msg_start, len(result))\n",
            "/usr/local/lib/python3.9/dist-packages/sklearn/metrics/_classification.py:1344: UndefinedMetricWarning: Precision and F-score are ill-defined and being set to 0.0 in labels with no predicted samples. Use `zero_division` parameter to control this behavior.\n",
            "  _warn_prf(average, modifier, msg_start, len(result))\n",
            "/usr/local/lib/python3.9/dist-packages/sklearn/metrics/_classification.py:1344: UndefinedMetricWarning: Precision and F-score are ill-defined and being set to 0.0 in labels with no predicted samples. Use `zero_division` parameter to control this behavior.\n",
            "  _warn_prf(average, modifier, msg_start, len(result))\n"
          ]
        }
      ],
      "source": [
        "from sklearn.neighbors import KNeighborsClassifier\n",
        "from sklearn.pipeline import Pipeline\n",
        "from sklearn.metrics import classification_report\n",
        "\n",
        "clf = Pipeline([\n",
        "      (\"vectorizer_tfidf\", TfidfVectorizer()),\n",
        "      (\"KNN\", KNeighborsClassifier())\n",
        "])\n",
        "\n",
        "clf.fit(x_train, y_train)\n",
        "\n",
        "y_pred = clf.predict(x_test)\n",
        "\n",
        "print(classification_report(y_test, y_pred))"
      ]
    },
    {
      "cell_type": "markdown",
      "metadata": {
        "id": "_4wQwR4CgwSm"
      },
      "source": [
        "**Usamos Por qué paso para variable independiente para estimar la variable dependiente Síntoma**"
      ]
    },
    {
      "cell_type": "code",
      "execution_count": null,
      "metadata": {
        "id": "DtPrvyFoGBja"
      },
      "outputs": [],
      "source": [
        "# TRAIN TEST\n",
        "x = df4[\"Por qué pasó?\"]\n",
        "y = df4[\"Síntoma\"]\n",
        "\n",
        "from sklearn.model_selection import train_test_split\n",
        "x_train, x_test, y_train, y_test = train_test_split(x, y, test_size = 0.2, random_state = 1) # entrenamos con el 80% y probamos con el 20%"
      ]
    },
    {
      "cell_type": "code",
      "execution_count": null,
      "metadata": {
        "colab": {
          "base_uri": "https://localhost:8080/"
        },
        "id": "E2eyU0acGBNl",
        "outputId": "55da00d5-9d43-40d3-f7e4-e0a432e678fa"
      },
      "outputs": [
        {
          "name": "stdout",
          "output_type": "stream",
          "text": [
            "              precision    recall  f1-score   support\n",
            "\n",
            "           1       0.44      0.49      0.46       341\n",
            "           2       0.34      0.45      0.39       121\n",
            "           3       0.44      0.46      0.45      1226\n",
            "           4       0.00      0.00      0.00         8\n",
            "           5       0.14      0.05      0.07        22\n",
            "           6       0.74      0.73      0.73        66\n",
            "           7       0.17      0.60      0.26       969\n",
            "           8       0.52      0.46      0.49       635\n",
            "           9       0.42      0.34      0.38        96\n",
            "          10       0.61      0.51      0.55      1310\n",
            "          11       0.52      0.41      0.46      1573\n",
            "          12       0.82      0.77      0.79      1109\n",
            "          13       0.51      0.33      0.40       489\n",
            "          14       0.59      0.47      0.52      1811\n",
            "          15       0.52      0.41      0.46       892\n",
            "          16       0.70      0.40      0.51        48\n",
            "          17       0.13      0.04      0.06        73\n",
            "          18       0.56      0.24      0.34       242\n",
            "          19       0.50      0.16      0.24        76\n",
            "          20       0.64      0.40      0.49       254\n",
            "          21       0.23      0.13      0.16        47\n",
            "          22       0.60      0.33      0.43       148\n",
            "          23       0.46      0.26      0.33        47\n",
            "          24       0.62      0.13      0.21        79\n",
            "          25       0.52      0.25      0.33       379\n",
            "          26       0.60      0.44      0.50       206\n",
            "          27       0.24      0.14      0.18        50\n",
            "          28       0.46      0.14      0.22        78\n",
            "          30       0.59      0.21      0.31        62\n",
            "          31       0.56      0.09      0.16        53\n",
            "          32       0.19      0.09      0.12        78\n",
            "          33       0.25      0.06      0.10        16\n",
            "          34       0.50      0.04      0.08        24\n",
            "          35       0.36      0.20      0.25        82\n",
            "          36       1.00      0.30      0.46        30\n",
            "          37       0.61      0.33      0.42        43\n",
            "          38       0.64      0.20      0.31        44\n",
            "          39       0.88      0.30      0.44        47\n",
            "          40       0.00      0.00      0.00         3\n",
            "          41       1.00      0.50      0.67         2\n",
            "          42       1.00      0.85      0.92        20\n",
            "          43       0.33      0.17      0.22        12\n",
            "          44       0.25      0.11      0.15        19\n",
            "          45       0.00      0.00      0.00         4\n",
            "          46       0.00      0.00      0.00         2\n",
            "          47       0.00      0.00      0.00         3\n",
            "          48       0.00      0.00      0.00         4\n",
            "          49       0.00      0.00      0.00         1\n",
            "\n",
            "    accuracy                           0.45     12944\n",
            "   macro avg       0.44      0.27      0.31     12944\n",
            "weighted avg       0.53      0.45      0.47     12944\n",
            "\n"
          ]
        },
        {
          "name": "stderr",
          "output_type": "stream",
          "text": [
            "/usr/local/lib/python3.9/dist-packages/sklearn/metrics/_classification.py:1344: UndefinedMetricWarning: Precision and F-score are ill-defined and being set to 0.0 in labels with no predicted samples. Use `zero_division` parameter to control this behavior.\n",
            "  _warn_prf(average, modifier, msg_start, len(result))\n",
            "/usr/local/lib/python3.9/dist-packages/sklearn/metrics/_classification.py:1344: UndefinedMetricWarning: Precision and F-score are ill-defined and being set to 0.0 in labels with no predicted samples. Use `zero_division` parameter to control this behavior.\n",
            "  _warn_prf(average, modifier, msg_start, len(result))\n",
            "/usr/local/lib/python3.9/dist-packages/sklearn/metrics/_classification.py:1344: UndefinedMetricWarning: Precision and F-score are ill-defined and being set to 0.0 in labels with no predicted samples. Use `zero_division` parameter to control this behavior.\n",
            "  _warn_prf(average, modifier, msg_start, len(result))\n"
          ]
        }
      ],
      "source": [
        "from sklearn.neighbors import KNeighborsClassifier\n",
        "from sklearn.pipeline import Pipeline\n",
        "from sklearn.metrics import classification_report\n",
        "\n",
        "clf = Pipeline([\n",
        "      (\"vectorizer_tfidf\", TfidfVectorizer()),\n",
        "      (\"KNN\", KNeighborsClassifier())\n",
        "])\n",
        "\n",
        "clf.fit(x_train, y_train)\n",
        "\n",
        "y_pred = clf.predict(x_test)\n",
        "\n",
        "print(classification_report(y_test, y_pred))"
      ]
    },
    {
      "cell_type": "markdown",
      "metadata": {
        "id": "_8sku1ekhlLw"
      },
      "source": [
        "**Usamos Por qué pasó y Qué se hizo para variables independientes para estimar la variable dependiente Síntoma**"
      ]
    },
    {
      "cell_type": "code",
      "execution_count": null,
      "metadata": {
        "id": "xKHPMhnYHHXX"
      },
      "outputs": [],
      "source": [
        "# TRAIN TEST\n",
        "x = df4[\"Por qué pasó?\"] + df4[\"Qué se hizo?\"]\n",
        "y = df4[\"Síntoma\"]\n",
        "\n",
        "from sklearn.model_selection import train_test_split\n",
        "x_train, x_test, y_train, y_test = train_test_split(x, y, test_size = 0.2, random_state = 1) # entrenamos con el 80% y probamos con el 20%"
      ]
    },
    {
      "cell_type": "code",
      "execution_count": null,
      "metadata": {
        "colab": {
          "base_uri": "https://localhost:8080/"
        },
        "id": "-gzHK8jGHHx5",
        "outputId": "51491990-6778-4568-a59e-17274e4eb600"
      },
      "outputs": [
        {
          "name": "stdout",
          "output_type": "stream",
          "text": [
            "              precision    recall  f1-score   support\n",
            "\n",
            "           1       0.43      0.63      0.51       341\n",
            "           2       0.41      0.55      0.47       121\n",
            "           3       0.26      0.70      0.37      1226\n",
            "           4       0.00      0.00      0.00         8\n",
            "           5       0.25      0.14      0.18        22\n",
            "           6       0.78      0.82      0.80        66\n",
            "           7       0.54      0.38      0.44       969\n",
            "           8       0.60      0.39      0.47       635\n",
            "           9       0.52      0.24      0.33        96\n",
            "          10       0.64      0.52      0.57      1310\n",
            "          11       0.57      0.46      0.51      1573\n",
            "          12       0.83      0.81      0.82      1109\n",
            "          13       0.53      0.35      0.42       489\n",
            "          14       0.64      0.54      0.59      1811\n",
            "          15       0.40      0.57      0.47       892\n",
            "          16       0.62      0.42      0.50        48\n",
            "          17       0.56      0.07      0.12        73\n",
            "          18       0.70      0.26      0.38       242\n",
            "          19       0.64      0.24      0.35        76\n",
            "          20       0.74      0.44      0.55       254\n",
            "          21       0.41      0.26      0.32        47\n",
            "          22       0.65      0.56      0.60       148\n",
            "          23       0.79      0.32      0.45        47\n",
            "          24       0.94      0.19      0.32        79\n",
            "          25       0.51      0.31      0.39       379\n",
            "          26       0.66      0.46      0.54       206\n",
            "          27       0.50      0.12      0.19        50\n",
            "          28       0.39      0.17      0.23        78\n",
            "          30       0.60      0.24      0.34        62\n",
            "          31       0.58      0.13      0.22        53\n",
            "          32       0.37      0.19      0.25        78\n",
            "          33       0.40      0.25      0.31        16\n",
            "          34       0.29      0.08      0.13        24\n",
            "          35       0.39      0.20      0.26        82\n",
            "          36       0.92      0.37      0.52        30\n",
            "          37       0.65      0.30      0.41        43\n",
            "          38       0.44      0.16      0.23        44\n",
            "          39       0.88      0.15      0.25        47\n",
            "          40       0.00      0.00      0.00         3\n",
            "          41       0.33      0.50      0.40         2\n",
            "          42       1.00      0.85      0.92        20\n",
            "          43       0.25      0.08      0.12        12\n",
            "          44       0.38      0.26      0.31        19\n",
            "          45       0.00      0.00      0.00         4\n",
            "          46       0.00      0.00      0.00         2\n",
            "          47       0.00      0.00      0.00         3\n",
            "          48       0.00      0.00      0.00         4\n",
            "          49       0.00      0.00      0.00         1\n",
            "\n",
            "    accuracy                           0.50     12944\n",
            "   macro avg       0.48      0.31      0.35     12944\n",
            "weighted avg       0.57      0.50      0.51     12944\n",
            "\n"
          ]
        },
        {
          "name": "stderr",
          "output_type": "stream",
          "text": [
            "/usr/local/lib/python3.9/dist-packages/sklearn/metrics/_classification.py:1344: UndefinedMetricWarning: Precision and F-score are ill-defined and being set to 0.0 in labels with no predicted samples. Use `zero_division` parameter to control this behavior.\n",
            "  _warn_prf(average, modifier, msg_start, len(result))\n",
            "/usr/local/lib/python3.9/dist-packages/sklearn/metrics/_classification.py:1344: UndefinedMetricWarning: Precision and F-score are ill-defined and being set to 0.0 in labels with no predicted samples. Use `zero_division` parameter to control this behavior.\n",
            "  _warn_prf(average, modifier, msg_start, len(result))\n",
            "/usr/local/lib/python3.9/dist-packages/sklearn/metrics/_classification.py:1344: UndefinedMetricWarning: Precision and F-score are ill-defined and being set to 0.0 in labels with no predicted samples. Use `zero_division` parameter to control this behavior.\n",
            "  _warn_prf(average, modifier, msg_start, len(result))\n"
          ]
        }
      ],
      "source": [
        "from sklearn.neighbors import KNeighborsClassifier\n",
        "from sklearn.pipeline import Pipeline\n",
        "from sklearn.metrics import classification_report\n",
        "\n",
        "clf = Pipeline([\n",
        "      (\"vectorizer_tfidf\", TfidfVectorizer()),\n",
        "      (\"KNN\", KNeighborsClassifier())\n",
        "])\n",
        "\n",
        "clf.fit(x_train, y_train)\n",
        "\n",
        "y_pred = clf.predict(x_test)\n",
        "\n",
        "print(classification_report(y_test, y_pred))"
      ]
    },
    {
      "cell_type": "markdown",
      "metadata": {
        "id": "qRHrpKHqi1gw"
      },
      "source": [
        "**Usamos Qué pasó para variables independientes para estimar la variable dependiente Síntoma**"
      ]
    },
    {
      "cell_type": "code",
      "execution_count": null,
      "metadata": {
        "id": "Zbgd-jwMGfKC"
      },
      "outputs": [],
      "source": [
        "# TRAIN TEST\n",
        "x = df4[\"Qué se hizo?\"]\n",
        "y = df4[\"Síntoma\"]\n",
        "\n",
        "from sklearn.model_selection import train_test_split\n",
        "x_train, x_test, y_train, y_test = train_test_split(x, y, test_size = 0.2, random_state = 1) # entrenamos con el 80% y probamos con el 20%"
      ]
    },
    {
      "cell_type": "code",
      "execution_count": null,
      "metadata": {
        "colab": {
          "base_uri": "https://localhost:8080/"
        },
        "id": "OGo6EnWBGfpq",
        "outputId": "63241ae6-3647-435c-d1d4-9b0f11ff5985"
      },
      "outputs": [
        {
          "name": "stdout",
          "output_type": "stream",
          "text": [
            "              precision    recall  f1-score   support\n",
            "\n",
            "           1       0.48      0.48      0.48       341\n",
            "           2       0.47      0.35      0.40       121\n",
            "           3       0.53      0.42      0.47      1226\n",
            "           4       0.00      0.00      0.00         8\n",
            "           5       0.27      0.18      0.22        22\n",
            "           6       0.69      0.80      0.74        66\n",
            "           7       0.13      0.64      0.22       969\n",
            "           8       0.56      0.37      0.45       635\n",
            "           9       0.48      0.24      0.32        96\n",
            "          10       0.62      0.45      0.53      1310\n",
            "          11       0.57      0.36      0.44      1573\n",
            "          12       0.82      0.80      0.81      1109\n",
            "          13       0.51      0.27      0.35       489\n",
            "          14       0.61      0.48      0.54      1811\n",
            "          15       0.58      0.35      0.43       892\n",
            "          16       0.44      0.15      0.22        48\n",
            "          17       0.33      0.03      0.05        73\n",
            "          18       0.76      0.21      0.34       242\n",
            "          19       0.47      0.21      0.29        76\n",
            "          20       0.74      0.43      0.54       254\n",
            "          21       0.33      0.21      0.26        47\n",
            "          22       0.64      0.53      0.58       148\n",
            "          23       0.78      0.30      0.43        47\n",
            "          24       0.79      0.14      0.24        79\n",
            "          25       0.45      0.19      0.26       379\n",
            "          26       0.75      0.38      0.51       206\n",
            "          27       0.70      0.14      0.23        50\n",
            "          28       0.52      0.17      0.25        78\n",
            "          30       0.46      0.19      0.27        62\n",
            "          31       0.23      0.06      0.09        53\n",
            "          32       0.35      0.17      0.23        78\n",
            "          33       0.27      0.19      0.22        16\n",
            "          34       0.67      0.08      0.15        24\n",
            "          35       0.48      0.13      0.21        82\n",
            "          36       1.00      0.30      0.46        30\n",
            "          37       0.63      0.28      0.39        43\n",
            "          38       0.28      0.20      0.24        44\n",
            "          39       0.56      0.21      0.31        47\n",
            "          40       0.00      0.00      0.00         3\n",
            "          41       1.00      0.50      0.67         2\n",
            "          42       0.94      0.85      0.89        20\n",
            "          43       0.00      0.00      0.00        12\n",
            "          44       0.18      0.11      0.13        19\n",
            "          45       0.00      0.00      0.00         4\n",
            "          46       0.00      0.00      0.00         2\n",
            "          47       0.00      0.00      0.00         3\n",
            "          48       0.00      0.00      0.00         4\n",
            "          49       0.00      0.00      0.00         1\n",
            "\n",
            "    accuracy                           0.43     12944\n",
            "   macro avg       0.46      0.26      0.31     12944\n",
            "weighted avg       0.56      0.43      0.46     12944\n",
            "\n"
          ]
        },
        {
          "name": "stderr",
          "output_type": "stream",
          "text": [
            "/usr/local/lib/python3.9/dist-packages/sklearn/metrics/_classification.py:1344: UndefinedMetricWarning: Precision and F-score are ill-defined and being set to 0.0 in labels with no predicted samples. Use `zero_division` parameter to control this behavior.\n",
            "  _warn_prf(average, modifier, msg_start, len(result))\n",
            "/usr/local/lib/python3.9/dist-packages/sklearn/metrics/_classification.py:1344: UndefinedMetricWarning: Precision and F-score are ill-defined and being set to 0.0 in labels with no predicted samples. Use `zero_division` parameter to control this behavior.\n",
            "  _warn_prf(average, modifier, msg_start, len(result))\n",
            "/usr/local/lib/python3.9/dist-packages/sklearn/metrics/_classification.py:1344: UndefinedMetricWarning: Precision and F-score are ill-defined and being set to 0.0 in labels with no predicted samples. Use `zero_division` parameter to control this behavior.\n",
            "  _warn_prf(average, modifier, msg_start, len(result))\n"
          ]
        }
      ],
      "source": [
        "from sklearn.neighbors import KNeighborsClassifier\n",
        "from sklearn.pipeline import Pipeline\n",
        "from sklearn.metrics import classification_report\n",
        "\n",
        "clf = Pipeline([\n",
        "      (\"vectorizer_tfidf\", TfidfVectorizer()),\n",
        "      (\"KNN\", KNeighborsClassifier())\n",
        "])\n",
        "\n",
        "clf.fit(x_train, y_train)\n",
        "\n",
        "y_pred = clf.predict(x_test)\n",
        "\n",
        "print(classification_report(y_test, y_pred))"
      ]
    },
    {
      "cell_type": "markdown",
      "metadata": {
        "id": "-OV1CT1yet4U"
      },
      "source": [
        "**Usamos Descripción, Qué pasó, Por qué pasó y Qué se hizo para variables independientes para estimar la variable dependiente Síntoma**"
      ]
    },
    {
      "cell_type": "code",
      "execution_count": 83,
      "metadata": {
        "id": "Gmauy9DmCj-x"
      },
      "outputs": [],
      "source": [
        "# TRAIN TEST\n",
        "x = v.transform((df4[\"Descripción\"] + df4[\"Qué pasó?\"] +df4[\"Por qué pasó?\"] + df4[\"Qué se hizo?\"]).values.astype('U'))\n",
        "y = df4[\"Síntoma\"]\n",
        "\n",
        "from sklearn.model_selection import train_test_split\n",
        "x_train, x_test, y_train, y_test = train_test_split(x, y, test_size = 0.2, random_state = 1) # entrenamos con el 80% y probamos con el 20%"
      ]
    },
    {
      "cell_type": "code",
      "execution_count": null,
      "metadata": {
        "colab": {
          "base_uri": "https://localhost:8080/"
        },
        "id": "V3n4pQNdCjuL",
        "outputId": "202300d7-cc75-4465-ddb6-c3ce18a792ab"
      },
      "outputs": [
        {
          "name": "stdout",
          "output_type": "stream",
          "text": [
            "              precision    recall  f1-score   support\n",
            "\n",
            "           1       0.42      0.69      0.52       341\n",
            "           2       0.42      0.54      0.47       121\n",
            "           3       0.52      0.56      0.54      1226\n",
            "           4       0.17      0.12      0.14         8\n",
            "           5       0.27      0.18      0.22        22\n",
            "           6       0.79      0.80      0.80        66\n",
            "           7       0.40      0.47      0.43       969\n",
            "           8       0.44      0.48      0.46       635\n",
            "           9       0.36      0.27      0.31        96\n",
            "          10       0.56      0.58      0.57      1310\n",
            "          11       0.54      0.58      0.56      1573\n",
            "          12       0.76      0.73      0.75      1109\n",
            "          13       0.49      0.49      0.49       489\n",
            "          14       0.58      0.61      0.59      1811\n",
            "          15       0.50      0.51      0.51       892\n",
            "          16       0.54      0.40      0.46        48\n",
            "          17       0.50      0.22      0.30        73\n",
            "          18       0.53      0.29      0.38       242\n",
            "          19       0.52      0.30      0.38        76\n",
            "          20       0.61      0.48      0.54       254\n",
            "          21       0.43      0.43      0.43        47\n",
            "          22       0.56      0.52      0.54       148\n",
            "          23       0.62      0.55      0.58        47\n",
            "          24       0.48      0.18      0.26        79\n",
            "          25       0.42      0.31      0.36       379\n",
            "          26       0.56      0.46      0.51       206\n",
            "          27       0.44      0.16      0.24        50\n",
            "          28       0.47      0.28      0.35        78\n",
            "          30       0.59      0.27      0.37        62\n",
            "          31       0.38      0.15      0.22        53\n",
            "          32       0.47      0.35      0.40        78\n",
            "          33       0.00      0.00      0.00        16\n",
            "          34       0.50      0.12      0.20        24\n",
            "          35       0.31      0.23      0.27        82\n",
            "          36       0.92      0.40      0.56        30\n",
            "          37       0.48      0.33      0.39        43\n",
            "          38       0.48      0.23      0.31        44\n",
            "          39       0.75      0.19      0.31        47\n",
            "          40       0.00      0.00      0.00         3\n",
            "          41       0.25      0.50      0.33         2\n",
            "          42       1.00      0.85      0.92        20\n",
            "          43       0.40      0.17      0.24        12\n",
            "          44       0.50      0.21      0.30        19\n",
            "          45       0.00      0.00      0.00         4\n",
            "          46       0.00      0.00      0.00         2\n",
            "          47       0.00      0.00      0.00         3\n",
            "          48       1.00      0.25      0.40         4\n",
            "          49       0.00      0.00      0.00         1\n",
            "\n",
            "    accuracy                           0.53     12944\n",
            "   macro avg       0.46      0.34      0.37     12944\n",
            "weighted avg       0.53      0.53      0.53     12944\n",
            "\n"
          ]
        },
        {
          "name": "stderr",
          "output_type": "stream",
          "text": [
            "/usr/local/lib/python3.9/dist-packages/sklearn/metrics/_classification.py:1344: UndefinedMetricWarning: Precision and F-score are ill-defined and being set to 0.0 in labels with no predicted samples. Use `zero_division` parameter to control this behavior.\n",
            "  _warn_prf(average, modifier, msg_start, len(result))\n",
            "/usr/local/lib/python3.9/dist-packages/sklearn/metrics/_classification.py:1344: UndefinedMetricWarning: Precision and F-score are ill-defined and being set to 0.0 in labels with no predicted samples. Use `zero_division` parameter to control this behavior.\n",
            "  _warn_prf(average, modifier, msg_start, len(result))\n",
            "/usr/local/lib/python3.9/dist-packages/sklearn/metrics/_classification.py:1344: UndefinedMetricWarning: Precision and F-score are ill-defined and being set to 0.0 in labels with no predicted samples. Use `zero_division` parameter to control this behavior.\n",
            "  _warn_prf(average, modifier, msg_start, len(result))\n"
          ]
        }
      ],
      "source": [
        "from sklearn.neighbors import KNeighborsClassifier\n",
        "from sklearn.pipeline import Pipeline\n",
        "from sklearn.metrics import classification_report\n",
        "\n",
        "clf = Pipeline([\n",
        "      (\"vectorizer_tfidf\", TfidfVectorizer()),\n",
        "      (\"KNN\", KNeighborsClassifier())\n",
        "])\n",
        "\n",
        "clf.fit(x_train, y_train)\n",
        "\n",
        "y_pred = clf.predict(x_test)\n",
        "\n",
        "print(classification_report(y_test, y_pred))"
      ]
    },
    {
      "cell_type": "markdown",
      "metadata": {
        "id": "I0RJ6nb7goK0"
      },
      "source": [
        "Al terminar con todas las combinaciones posibles para la variable independiente para estimar la variable Síntoma, nos damos cuenta que lo mejor es utilizar todas las variables independientes, es decir, Descripción, Qué pasó?, Por qué pasó? y Qué se hizo? ya que obtuvo el mayor valor de Precisión el cual fue de 53%. \n",
        "\n",
        "Vamos a ver cómo funcionó"
      ]
    },
    {
      "cell_type": "code",
      "execution_count": null,
      "metadata": {
        "colab": {
          "base_uri": "https://localhost:8080/"
        },
        "id": "JwjF7LM4gqT9",
        "outputId": "6ff7a279-d6bb-4163-d611-f57c6220d84f"
      },
      "outputs": [
        {
          "data": {
            "text/plain": [
              "29783    falla drive rda run procesomarca falla  driver...\n",
              "53496    acomoda freno rodillo synchroreportan desajust...\n",
              "21339    segmentos cambiofalla posicion segmentobaja pr...\n",
              "29380    falla fleccion molinoreporta operador falla fl...\n",
              "60986     revisar falla encendidoarranca motor dieselte...\n",
              "dtype: object"
            ]
          },
          "execution_count": 117,
          "metadata": {},
          "output_type": "execute_result"
        }
      ],
      "source": [
        "x_test[:5]"
      ]
    },
    {
      "cell_type": "code",
      "execution_count": null,
      "metadata": {
        "colab": {
          "base_uri": "https://localhost:8080/"
        },
        "id": "n_0MQBcvguHj",
        "outputId": "7c092c04-cfb6-4b8e-ef17-1609f9ada71e"
      },
      "outputs": [
        {
          "data": {
            "text/plain": [
              "29783    14\n",
              "53496    10\n",
              "21339    12\n",
              "29380    14\n",
              "60986    39\n",
              "Name: Síntoma, dtype: int64"
            ]
          },
          "execution_count": 118,
          "metadata": {},
          "output_type": "execute_result"
        }
      ],
      "source": [
        "y_test[:5]"
      ]
    },
    {
      "cell_type": "code",
      "execution_count": null,
      "metadata": {
        "colab": {
          "base_uri": "https://localhost:8080/"
        },
        "id": "sP5MqTaLgw9H",
        "outputId": "2a6245c9-9824-48d2-fdc7-41db0ec5f448"
      },
      "outputs": [
        {
          "data": {
            "text/plain": [
              "array([14, 12,  1, 14,  3])"
            ]
          },
          "execution_count": 119,
          "metadata": {},
          "output_type": "execute_result"
        }
      ],
      "source": [
        "y_pred[:5]"
      ]
    },
    {
      "cell_type": "markdown",
      "metadata": {
        "id": "0N_wQfV1g1Zj"
      },
      "source": [
        "Vemos que tuvo error en la segunda, la tercera y en la última. Esto debido a que tiene una precisión de 53%, es decir, como tirar una moneda, lo cual no nos beneficia mucho."
      ]
    },
    {
      "cell_type": "markdown",
      "metadata": {
        "id": "8icmkXsZv7_H"
      },
      "source": [
        "**K neighbors con cambio de hiperparámetro**\n",
        "\n",
        "Podemos utilizar la función de GridSearchCV para encontrar los mejores hiperparámetros de la función K Neighbors"
      ]
    },
    {
      "cell_type": "code",
      "execution_count": null,
      "metadata": {
        "colab": {
          "base_uri": "https://localhost:8080/"
        },
        "id": "Y5IruLNl0TQY",
        "outputId": "0612c16a-6812-451c-8fae-7d6bae26628f"
      },
      "outputs": [
        {
          "name": "stderr",
          "output_type": "stream",
          "text": [
            "/usr/local/lib/python3.9/dist-packages/sklearn/model_selection/_split.py:700: UserWarning: The least populated class in y has only 1 members, which is less than n_splits=5.\n",
            "  warnings.warn(\n"
          ]
        },
        {
          "name": "stdout",
          "output_type": "stream",
          "text": [
            "              precision    recall  f1-score   support\n",
            "\n",
            "           1       0.42      0.72      0.53       341\n",
            "           2       0.42      0.59      0.49       121\n",
            "           3       0.49      0.60      0.54      1226\n",
            "           4       0.15      0.25      0.19         8\n",
            "           5       0.14      0.18      0.16        22\n",
            "           6       0.67      0.83      0.74        66\n",
            "           7       0.37      0.52      0.43       969\n",
            "           8       0.45      0.53      0.48       635\n",
            "           9       0.35      0.35      0.35        96\n",
            "          10       0.58      0.60      0.59      1310\n",
            "          11       0.54      0.55      0.55      1573\n",
            "          12       0.73      0.76      0.75      1109\n",
            "          13       0.52      0.46      0.49       489\n",
            "          14       0.63      0.61      0.62      1811\n",
            "          15       0.58      0.48      0.53       892\n",
            "          16       0.50      0.31      0.38        48\n",
            "          17       0.52      0.18      0.27        73\n",
            "          18       0.63      0.34      0.44       242\n",
            "          19       0.73      0.39      0.51        76\n",
            "          20       0.65      0.48      0.56       254\n",
            "          21       0.52      0.36      0.43        47\n",
            "          22       0.66      0.58      0.62       148\n",
            "          23       0.68      0.49      0.57        47\n",
            "          24       0.62      0.19      0.29        79\n",
            "          25       0.53      0.34      0.41       379\n",
            "          26       0.73      0.51      0.60       206\n",
            "          27       0.62      0.20      0.30        50\n",
            "          28       0.55      0.21      0.30        78\n",
            "          30       0.75      0.24      0.37        62\n",
            "          31       0.39      0.17      0.24        53\n",
            "          32       0.51      0.32      0.39        78\n",
            "          33       1.00      0.19      0.32        16\n",
            "          34       0.40      0.08      0.14        24\n",
            "          35       0.48      0.29      0.36        82\n",
            "          36       0.93      0.43      0.59        30\n",
            "          37       0.52      0.28      0.36        43\n",
            "          38       0.46      0.27      0.34        44\n",
            "          39       0.74      0.30      0.42        47\n",
            "          40       0.00      0.00      0.00         3\n",
            "          41       0.25      0.50      0.33         2\n",
            "          42       1.00      0.85      0.92        20\n",
            "          43       0.50      0.17      0.25        12\n",
            "          44       0.29      0.11      0.15        19\n",
            "          45       0.33      0.25      0.29         4\n",
            "          46       0.00      0.00      0.00         2\n",
            "          47       0.00      0.00      0.00         3\n",
            "          48       0.50      0.25      0.33         4\n",
            "          49       0.00      0.00      0.00         1\n",
            "\n",
            "    accuracy                           0.55     12944\n",
            "   macro avg       0.50      0.36      0.39     12944\n",
            "weighted avg       0.56      0.55      0.54     12944\n",
            "\n"
          ]
        },
        {
          "name": "stderr",
          "output_type": "stream",
          "text": [
            "/usr/local/lib/python3.9/dist-packages/sklearn/metrics/_classification.py:1344: UndefinedMetricWarning: Precision and F-score are ill-defined and being set to 0.0 in labels with no predicted samples. Use `zero_division` parameter to control this behavior.\n",
            "  _warn_prf(average, modifier, msg_start, len(result))\n",
            "/usr/local/lib/python3.9/dist-packages/sklearn/metrics/_classification.py:1344: UndefinedMetricWarning: Precision and F-score are ill-defined and being set to 0.0 in labels with no predicted samples. Use `zero_division` parameter to control this behavior.\n",
            "  _warn_prf(average, modifier, msg_start, len(result))\n",
            "/usr/local/lib/python3.9/dist-packages/sklearn/metrics/_classification.py:1344: UndefinedMetricWarning: Precision and F-score are ill-defined and being set to 0.0 in labels with no predicted samples. Use `zero_division` parameter to control this behavior.\n",
            "  _warn_prf(average, modifier, msg_start, len(result))\n"
          ]
        }
      ],
      "source": [
        "from sklearn.neighbors import KNeighborsClassifier\n",
        "from sklearn.pipeline import Pipeline\n",
        "from sklearn.metrics import classification_report\n",
        "from sklearn.model_selection import GridSearchCV\n",
        "\n",
        "# Define the pipeline with TF-IDF vectorizer, KNN classifier, and GridSearchCV for hyperparameter tuning\n",
        "pipeline = Pipeline([\n",
        "    ('tfidf', TfidfVectorizer()),  # Convert text to numerical vectors using TF-IDF\n",
        "    ('knn', KNeighborsClassifier())  # Use KNN classifier to classify the data\n",
        "])\n",
        "\n",
        "# Define the hyperparameters to search over using GridSearchCV\n",
        "params = {\n",
        "    'tfidf__max_df': [0.5, 0.75, 1.0],  # Maximum document frequency allowed\n",
        "    'tfidf__ngram_range': [(1, 1), (1, 2)],  # Range of n-grams to include\n",
        "    'knn__n_neighbors': [3, 5, 7]  # Number of neighbors to use for KNN classification\n",
        "}\n",
        "\n",
        "# Create GridSearchCV object with the defined pipeline and hyperparameters\n",
        "grid_search = GridSearchCV(pipeline, params, cv=5, n_jobs=-1)\n",
        "\n",
        "# Fit the GridSearchCV object to the training data\n",
        "grid_search.fit(x_train, y_train)\n",
        "\n",
        "# hacemos las predicciones para x_test y lo guardamos en y_pred\n",
        "best_pipeline = grid_search.best_estimator_\n",
        "y_pred = best_pipeline.predict(x_test)\n",
        "\n",
        "# imprimimos el reporte de la clasificación\n",
        "print(classification_report(y_test, y_pred))"
      ]
    },
    {
      "cell_type": "markdown",
      "metadata": {
        "id": "W13RnlFFlTxD"
      },
      "source": [
        "### **AVISO:**\n",
        "\n",
        "Anteriormente, vivmos que la combinación de las cuatro variables independientes es el que mejor nos predice el modelo, por lo tanto de aquí en adelante únicamente estaremos entrenando y probando el dataset con los cuatro variables concatenados. Lo concatenamos ya que estos variables nos proporcionan más información de cada registro para categorizarlo."
      ]
    },
    {
      "cell_type": "code",
      "execution_count": null,
      "metadata": {
        "id": "Imo5wPTtlPWo"
      },
      "outputs": [],
      "source": [
        "# TRAIN TEST\n",
        "x = df4[\"Descripción\"] + df4[\"Qué pasó?\"] +df4[\"Por qué pasó?\"] + df4[\"Qué se hizo?\"]\n",
        "y = df4[\"Síntoma\"]\n",
        "\n",
        "from sklearn.model_selection import train_test_split\n",
        "x_train, x_test, y_train, y_test = train_test_split(x, y, test_size = 0.2, random_state = 1) # entrenamos con el 80% y probamos con el 20%"
      ]
    },
    {
      "cell_type": "markdown",
      "metadata": {
        "id": "-1uS8ySEhSpq"
      },
      "source": [
        "### **Random Forest**"
      ]
    },
    {
      "cell_type": "code",
      "execution_count": null,
      "metadata": {
        "colab": {
          "base_uri": "https://localhost:8080/"
        },
        "id": "xFHk5JrJhZvU",
        "outputId": "33f8227c-1074-4a79-fe60-eb9862e64bd9"
      },
      "outputs": [
        {
          "name": "stdout",
          "output_type": "stream",
          "text": [
            "              precision    recall  f1-score   support\n",
            "\n",
            "           1       0.61      0.71      0.66       341\n",
            "           2       0.66      0.41      0.51       121\n",
            "           3       0.72      0.53      0.61      1226\n",
            "           4       0.25      0.12      0.17         8\n",
            "           5       1.00      0.23      0.37        22\n",
            "           6       0.88      0.79      0.83        66\n",
            "           7       0.55      0.50      0.53       969\n",
            "           8       0.64      0.54      0.59       635\n",
            "           9       0.88      0.23      0.36        96\n",
            "          10       0.59      0.76      0.66      1310\n",
            "          11       0.56      0.66      0.61      1573\n",
            "          12       0.58      0.87      0.70      1109\n",
            "          13       0.54      0.66      0.59       489\n",
            "          14       0.58      0.75      0.65      1811\n",
            "          15       0.63      0.59      0.61       892\n",
            "          16       0.91      0.42      0.57        48\n",
            "          17       0.82      0.12      0.21        73\n",
            "          18       0.88      0.32      0.47       242\n",
            "          19       0.86      0.33      0.48        76\n",
            "          20       0.80      0.52      0.63       254\n",
            "          21       0.61      0.43      0.50        47\n",
            "          22       0.78      0.61      0.69       148\n",
            "          23       0.67      0.51      0.58        47\n",
            "          24       0.89      0.20      0.33        79\n",
            "          25       0.69      0.29      0.41       379\n",
            "          26       1.00      0.72      0.84       206\n",
            "          27       0.71      0.20      0.31        50\n",
            "          28       0.90      0.24      0.38        78\n",
            "          30       0.84      0.26      0.40        62\n",
            "          31       0.73      0.21      0.32        53\n",
            "          32       0.49      0.26      0.34        78\n",
            "          33       0.56      0.31      0.40        16\n",
            "          34       1.00      0.08      0.15        24\n",
            "          35       0.69      0.22      0.33        82\n",
            "          36       1.00      0.53      0.70        30\n",
            "          37       0.78      0.33      0.46        43\n",
            "          38       0.53      0.20      0.30        44\n",
            "          39       0.89      0.36      0.52        47\n",
            "          40       0.00      0.00      0.00         3\n",
            "          41       1.00      0.50      0.67         2\n",
            "          42       1.00      0.85      0.92        20\n",
            "          43       0.50      0.17      0.25        12\n",
            "          44       0.29      0.11      0.15        19\n",
            "          45       0.00      0.00      0.00         4\n",
            "          46       0.00      0.00      0.00         2\n",
            "          47       0.00      0.00      0.00         3\n",
            "          48       0.50      0.25      0.33         4\n",
            "          49       0.00      0.00      0.00         1\n",
            "\n",
            "    accuracy                           0.61     12944\n",
            "   macro avg       0.65      0.37      0.44     12944\n",
            "weighted avg       0.64      0.61      0.60     12944\n",
            "\n"
          ]
        },
        {
          "name": "stderr",
          "output_type": "stream",
          "text": [
            "/usr/local/lib/python3.9/dist-packages/sklearn/metrics/_classification.py:1344: UndefinedMetricWarning: Precision and F-score are ill-defined and being set to 0.0 in labels with no predicted samples. Use `zero_division` parameter to control this behavior.\n",
            "  _warn_prf(average, modifier, msg_start, len(result))\n",
            "/usr/local/lib/python3.9/dist-packages/sklearn/metrics/_classification.py:1344: UndefinedMetricWarning: Precision and F-score are ill-defined and being set to 0.0 in labels with no predicted samples. Use `zero_division` parameter to control this behavior.\n",
            "  _warn_prf(average, modifier, msg_start, len(result))\n",
            "/usr/local/lib/python3.9/dist-packages/sklearn/metrics/_classification.py:1344: UndefinedMetricWarning: Precision and F-score are ill-defined and being set to 0.0 in labels with no predicted samples. Use `zero_division` parameter to control this behavior.\n",
            "  _warn_prf(average, modifier, msg_start, len(result))\n"
          ]
        }
      ],
      "source": [
        "from sklearn.ensemble import RandomForestClassifier\n",
        "\n",
        "#Creamos el pipeline que permite primero cambiar el dataframe con TfidVectorizer y luego usar el clasificador\n",
        "clf = Pipeline([\n",
        "    (\"vectorizer_tfidf\", TfidfVectorizer()),\n",
        "    (\"Random Forest\", RandomForestClassifier())\n",
        "])\n",
        "\n",
        "clf.fit(x_train, y_train)\n",
        "\n",
        "# hacemos las predicciones para x_test y lo guardamos en y_pred\n",
        "y_pred = clf.predict(x_test)\n",
        "\n",
        "# imprimimos el reporte de la clasificación\n",
        "print(classification_report(y_test, y_pred))"
      ]
    },
    {
      "cell_type": "markdown",
      "metadata": {
        "id": "kbQ1aEdNi38W"
      },
      "source": [
        "Vamos a ver cómo funcionó"
      ]
    },
    {
      "cell_type": "code",
      "execution_count": null,
      "metadata": {
        "colab": {
          "base_uri": "https://localhost:8080/"
        },
        "id": "KNZUGP0vi4mR",
        "outputId": "d93ffc37-e9c8-48e5-9f3f-6ad410707639"
      },
      "outputs": [
        {
          "data": {
            "text/plain": [
              "29783    falla drive rda run procesomarca falla  driver...\n",
              "53496    acomoda freno rodillo synchroreportan desajust...\n",
              "21339    segmentos cambiofalla posicion segmentobaja pr...\n",
              "29380    falla fleccion molinoreporta operador falla fl...\n",
              "60986     revisar falla encendidoarranca motor dieselte...\n",
              "dtype: object"
            ]
          },
          "execution_count": 122,
          "metadata": {},
          "output_type": "execute_result"
        }
      ],
      "source": [
        "x_test[:5]"
      ]
    },
    {
      "cell_type": "code",
      "execution_count": null,
      "metadata": {
        "colab": {
          "base_uri": "https://localhost:8080/"
        },
        "id": "EN3Cih9Ji6a5",
        "outputId": "17ae7c32-c282-4c4f-b24c-48791afe1b83"
      },
      "outputs": [
        {
          "data": {
            "text/plain": [
              "29783    14\n",
              "53496    10\n",
              "21339    12\n",
              "29380    14\n",
              "60986    39\n",
              "Name: Síntoma, dtype: int64"
            ]
          },
          "execution_count": 123,
          "metadata": {},
          "output_type": "execute_result"
        }
      ],
      "source": [
        "y_test[:5]"
      ]
    },
    {
      "cell_type": "code",
      "execution_count": null,
      "metadata": {
        "colab": {
          "base_uri": "https://localhost:8080/"
        },
        "id": "rC7kTxbFi8aw",
        "outputId": "89050285-f841-4ef2-927f-18c79b3aa831"
      },
      "outputs": [
        {
          "data": {
            "text/plain": [
              "array([14, 10,  7, 14,  3])"
            ]
          },
          "execution_count": 124,
          "metadata": {},
          "output_type": "execute_result"
        }
      ],
      "source": [
        "y_pred[:5]"
      ]
    },
    {
      "cell_type": "markdown",
      "metadata": {
        "id": "AMPcjjQ0kl4C"
      },
      "source": [
        "Observamos que Random Forest tuvo un mejor desepmeño que KNN ya que aumentó la precisión (61%) y además observamos que ahora solo se equivocó en la tercera y última línea en la muestra.\n",
        "\n",
        "**Random Forest con diferente hiperparámetro**\n",
        "\n",
        "En el siguiente código, al ser muy pesada ya que realiza varias iteraciones, se utilizó el acelerador de hardware en entorno de ejecución a GPU que agiliza los procesos de ML."
      ]
    },
    {
      "cell_type": "code",
      "source": [
        "from sklearn.ensemble import RandomForestClassifier\n",
        "from sklearn.model_selection import GridSearchCV\n",
        "from sklearn.pipeline import Pipeline\n",
        "from sklearn.metrics import classification_report\n",
        "from sklearn.feature_extraction.text import TfidfVectorizer\n",
        "from sklearn.model_selection import train_test_split\n",
        "\n",
        "# seleccionar el entorno de ejecución GPU\n",
        "import tensorflow as tf\n",
        "device_name = tf.test.gpu_device_name()\n",
        "if device_name != '/device:GPU:0':\n",
        "    print('GPU device not found')\n",
        "print('Found GPU at: {}'.format(device_name))\n",
        "\n",
        "# Descargar los datos\n",
        "from sklearn.datasets import fetch_20newsgroups\n",
        "newsgroups_train = fetch_20newsgroups(subset='train')\n",
        "X, y = newsgroups_train.data, newsgroups_train.target\n",
        "\n",
        "# Dividir en entrenamiento y prueba\n",
        "x_train, x_test, y_train, y_test = train_test_split(X, y, test_size=0.2, random_state=42)\n",
        "\n",
        "#Creamos el pipeline que permite primero cambiar el dataframe con TfidVectorizer y luego usar el clasificador\n",
        "pipeline = Pipeline([\n",
        "    (\"tfidf\", TfidfVectorizer()),\n",
        "    (\"rf\", RandomForestClassifier())\n",
        "])\n",
        "\n",
        "parameters = {\n",
        "    'tfidf__max_df': [0.5, 0.75, 1.0],\n",
        "    'rf__n_estimators': [50, 100, 200],\n",
        "    'rf__max_depth': [10, 20, None],\n",
        "    'rf__min_samples_split': [2, 5, 10]\n",
        "}\n",
        "\n",
        "# perform the grid search\n",
        "with tf.device('/device:GPU:0'):\n",
        "    grid_search = GridSearchCV(pipeline, parameters, cv=5, n_jobs=-1, verbose=1)\n",
        "    grid_search.fit(x_train, y_train)\n",
        "\n",
        "# hacemos las predicciones para x_test y lo guardamos en y_pred\n",
        "best_pipeline = grid_search.best_estimator_\n",
        "y_pred = best_pipeline.predict(x_test)\n",
        "\n",
        "# imprimimos el reporte de la clasificación\n",
        "print(classification_report(y_test, y_pred))"
      ],
      "metadata": {
        "colab": {
          "base_uri": "https://localhost:8080/"
        },
        "id": "IcY3OQB3AZUK",
        "outputId": "8feb52f9-dcee-4748-f45d-3ded619d6845"
      },
      "execution_count": null,
      "outputs": [
        {
          "output_type": "stream",
          "name": "stdout",
          "text": [
            "Found GPU at: /device:GPU:0\n",
            "Fitting 5 folds for each of 81 candidates, totalling 405 fits\n",
            "              precision    recall  f1-score   support\n",
            "\n",
            "           0       0.91      0.89      0.90        97\n",
            "           1       0.70      0.87      0.78       104\n",
            "           2       0.78      0.82      0.80       115\n",
            "           3       0.71      0.66      0.68       123\n",
            "           4       0.90      0.75      0.81       126\n",
            "           5       0.80      0.91      0.85       106\n",
            "           6       0.74      0.88      0.80       109\n",
            "           7       0.88      0.88      0.88       139\n",
            "           8       0.93      0.92      0.92       122\n",
            "           9       0.85      0.96      0.90       102\n",
            "          10       0.94      0.94      0.94       108\n",
            "          11       0.99      0.96      0.98       125\n",
            "          12       0.84      0.72      0.77       114\n",
            "          13       0.91      0.90      0.90       119\n",
            "          14       0.92      0.95      0.94       127\n",
            "          15       0.80      0.90      0.85       122\n",
            "          16       0.89      0.97      0.93       121\n",
            "          17       0.93      0.97      0.95       102\n",
            "          18       0.95      0.82      0.88       107\n",
            "          19       0.94      0.40      0.56        75\n",
            "\n",
            "    accuracy                           0.86      2263\n",
            "   macro avg       0.86      0.85      0.85      2263\n",
            "weighted avg       0.86      0.86      0.86      2263\n",
            "\n"
          ]
        }
      ]
    },
    {
      "cell_type": "markdown",
      "source": [
        "Observamos que el modelo subió hasta un 86% por lo cual subió bastante el modelo lo cual nos beneficia mucho.\n",
        "\n",
        "Importamos el modelo a pickle para poder usarlo en nuestra página web"
      ],
      "metadata": {
        "id": "_haGxR8ZOzWC"
      }
    },
    {
      "cell_type": "code",
      "source": [
        "import pickle\n",
        "filename = \"RFbueno.pkl\"\n",
        "outfile = open(filename, 'wb')\n",
        "\n",
        "pickle.dump(pipeline, outfile, 2)\n",
        "outfile.close()"
      ],
      "metadata": {
        "id": "7NmCDSlQ1H5J"
      },
      "execution_count": null,
      "outputs": []
    },
    {
      "cell_type": "markdown",
      "source": [
        "Imprimimos los hiperparámetros que obtuvieron el mejor resultado."
      ],
      "metadata": {
        "id": "NKFGwsJYO4hq"
      }
    },
    {
      "cell_type": "code",
      "source": [
        "from sklearn.model_selection import GridSearchCV\n",
        "print(grid_search.best_params_)\n",
        "print(grid_search.best_score_)"
      ],
      "metadata": {
        "colab": {
          "base_uri": "https://localhost:8080/"
        },
        "id": "lPIG_nSfQOak",
        "outputId": "ef0f225f-6af6-4fc3-8649-397cfad56b18"
      },
      "execution_count": null,
      "outputs": [
        {
          "output_type": "stream",
          "name": "stdout",
          "text": [
            "{'rf__max_depth': None, 'rf__min_samples_split': 5, 'rf__n_estimators': 200, 'tfidf__max_df': 0.5}\n",
            "0.8499626286261673\n"
          ]
        }
      ]
    },
    {
      "cell_type": "markdown",
      "source": [
        "**AHORA CON CAUSA**"
      ],
      "metadata": {
        "id": "IpJZXgNbZ5iK"
      }
    },
    {
      "cell_type": "code",
      "source": [
        "# TRAIN TEST\n",
        "x = df4[\"Descripción\"] + df4[\"Qué pasó?\"] +df4[\"Por qué pasó?\"] + df4[\"Qué se hizo?\"]\n",
        "#y = df4[\"Síntoma\"]\n",
        "y = df4[\"Causa\"]\n",
        "\n",
        "from sklearn.model_selection import train_test_split\n",
        "x_train, x_test, y_train, y_test = train_test_split(x, y, test_size = 0.2, random_state = 1) # entrenamos con el 80% y probamos con el 20%"
      ],
      "metadata": {
        "id": "lDo6YG7GZ4qq"
      },
      "execution_count": null,
      "outputs": []
    },
    {
      "cell_type": "code",
      "source": [
        "from sklearn.ensemble import RandomForestClassifier\n",
        "from sklearn.model_selection import GridSearchCV\n",
        "from sklearn.pipeline import Pipeline\n",
        "from sklearn.metrics import classification_report\n",
        "from sklearn.feature_extraction.text import TfidfVectorizer\n",
        "from sklearn.model_selection import train_test_split\n",
        "\n",
        "# seleccionar el entorno de ejecución GPU\n",
        "import tensorflow as tf\n",
        "device_name = tf.test.gpu_device_name()\n",
        "if device_name != '/device:GPU:0':\n",
        "    print('GPU device not found')\n",
        "print('Found GPU at: {}'.format(device_name))\n",
        "\n",
        "# Descargar los datos\n",
        "from sklearn.datasets import fetch_20newsgroups\n",
        "newsgroups_train = fetch_20newsgroups(subset='train')\n",
        "X, y = newsgroups_train.data, newsgroups_train.target\n",
        "\n",
        "# Dividir en entrenamiento y prueba\n",
        "x_train, x_test, y_train, y_test = train_test_split(X, y, test_size=0.2, random_state=42)\n",
        "\n",
        "#Creamos el pipeline que permite primero cambiar el dataframe con TfidVectorizer y luego usar el clasificador\n",
        "pipeline = Pipeline([\n",
        "    (\"tfidf\", TfidfVectorizer()),\n",
        "    (\"rf\", RandomForestClassifier())\n",
        "])\n",
        "\n",
        "parameters = {\n",
        "    'tfidf__max_df': [0.5, 0.75, 1.0],\n",
        "    'rf__n_estimators': [50, 100, 200],\n",
        "    'rf__max_depth': [10, 20, None],\n",
        "    'rf__min_samples_split': [2, 5, 10]\n",
        "}\n",
        "\n",
        "# perform the grid search\n",
        "with tf.device('/device:GPU:0'):\n",
        "    grid_search = GridSearchCV(pipeline, parameters, cv=5, n_jobs=-1, verbose=1)\n",
        "    grid_search.fit(x_train, y_train)\n",
        "\n",
        "# hacemos las predicciones para x_test y lo guardamos en y_pred\n",
        "best_pipeline = grid_search.best_estimator_\n",
        "y_pred = best_pipeline.predict(x_test)\n",
        "\n",
        "# imprimimos el reporte de la clasificación\n",
        "print(classification_report(y_test, y_pred))"
      ],
      "metadata": {
        "colab": {
          "base_uri": "https://localhost:8080/"
        },
        "id": "KZOk-Qv8aJLd",
        "outputId": "b78ae9fd-0241-48ed-912d-faf941680294"
      },
      "execution_count": null,
      "outputs": [
        {
          "output_type": "stream",
          "name": "stdout",
          "text": [
            "Found GPU at: /device:GPU:0\n",
            "Fitting 5 folds for each of 81 candidates, totalling 405 fits\n",
            "              precision    recall  f1-score   support\n",
            "\n",
            "           0       0.91      0.86      0.88        97\n",
            "           1       0.74      0.83      0.78       104\n",
            "           2       0.75      0.82      0.78       115\n",
            "           3       0.71      0.69      0.70       123\n",
            "           4       0.92      0.77      0.84       126\n",
            "           5       0.84      0.90      0.87       106\n",
            "           6       0.73      0.89      0.80       109\n",
            "           7       0.86      0.86      0.86       139\n",
            "           8       0.94      0.91      0.93       122\n",
            "           9       0.84      0.96      0.90       102\n",
            "          10       0.93      0.94      0.93       108\n",
            "          11       0.98      0.96      0.97       125\n",
            "          12       0.82      0.75      0.78       114\n",
            "          13       0.93      0.92      0.93       119\n",
            "          14       0.91      0.94      0.93       127\n",
            "          15       0.78      0.87      0.82       122\n",
            "          16       0.89      0.97      0.93       121\n",
            "          17       0.94      0.97      0.96       102\n",
            "          18       0.95      0.81      0.87       107\n",
            "          19       0.92      0.45      0.61        75\n",
            "\n",
            "    accuracy                           0.86      2263\n",
            "   macro avg       0.86      0.85      0.85      2263\n",
            "weighted avg       0.86      0.86      0.86      2263\n",
            "\n"
          ]
        }
      ]
    },
    {
      "cell_type": "code",
      "source": [
        "from sklearn.model_selection import GridSearchCV\n",
        "print(grid_search.best_params_)\n",
        "print(grid_search.best_score_)"
      ],
      "metadata": {
        "colab": {
          "base_uri": "https://localhost:8080/"
        },
        "id": "PhOYKc0KrnG-",
        "outputId": "9134812f-f0ac-4b0e-c218-1f80bdb414e6"
      },
      "execution_count": null,
      "outputs": [
        {
          "output_type": "stream",
          "name": "stdout",
          "text": [
            "{'rf__max_depth': None, 'rf__min_samples_split': 5, 'rf__n_estimators': 200, 'tfidf__max_df': 0.5}\n",
            "0.8474209481041273\n"
          ]
        }
      ]
    },
    {
      "cell_type": "markdown",
      "source": [
        "Observamos que también funciona con Causa con la misma accuracy."
      ],
      "metadata": {
        "id": "SdOPgYBFPZw-"
      }
    },
    {
      "cell_type": "markdown",
      "metadata": {
        "id": "cu_QaZGyjCTx"
      },
      "source": [
        "### **NAIVE BAYES**"
      ]
    },
    {
      "cell_type": "code",
      "execution_count": null,
      "metadata": {
        "colab": {
          "base_uri": "https://localhost:8080/"
        },
        "id": "mZqiYK1OjStj",
        "outputId": "a579eef7-7792-4a15-dec5-855cde324995"
      },
      "outputs": [
        {
          "output_type": "stream",
          "name": "stdout",
          "text": [
            "              precision    recall  f1-score   support\n",
            "\n",
            "           1       0.64      0.31      0.42       341\n",
            "           2       0.90      0.07      0.14       121\n",
            "           3       0.63      0.36      0.46      1226\n",
            "           4       0.00      0.00      0.00         8\n",
            "           5       0.00      0.00      0.00        22\n",
            "           6       1.00      0.11      0.19        66\n",
            "           7       0.52      0.35      0.42       969\n",
            "           8       0.71      0.22      0.33       635\n",
            "           9       0.00      0.00      0.00        96\n",
            "          10       0.40      0.85      0.55      1310\n",
            "          11       0.39      0.64      0.48      1573\n",
            "          12       0.90      0.64      0.75      1109\n",
            "          13       0.59      0.38      0.46       489\n",
            "          14       0.39      0.82      0.53      1811\n",
            "          15       0.59      0.47      0.52       892\n",
            "          16       0.00      0.00      0.00        48\n",
            "          17       0.00      0.00      0.00        73\n",
            "          18       0.92      0.10      0.17       242\n",
            "          19       0.00      0.00      0.00        76\n",
            "          20       0.93      0.33      0.48       254\n",
            "          21       0.00      0.00      0.00        47\n",
            "          22       0.90      0.26      0.40       148\n",
            "          23       1.00      0.06      0.12        47\n",
            "          24       1.00      0.06      0.12        79\n",
            "          25       1.00      0.03      0.06       379\n",
            "          26       0.00      0.00      0.00       206\n",
            "          27       0.00      0.00      0.00        50\n",
            "          28       0.00      0.00      0.00        78\n",
            "          30       0.00      0.00      0.00        62\n",
            "          31       0.00      0.00      0.00        53\n",
            "          32       0.00      0.00      0.00        78\n",
            "          33       0.00      0.00      0.00        16\n",
            "          34       0.00      0.00      0.00        24\n",
            "          35       0.00      0.00      0.00        82\n",
            "          36       0.00      0.00      0.00        30\n",
            "          37       0.00      0.00      0.00        43\n",
            "          38       0.00      0.00      0.00        44\n",
            "          39       0.00      0.00      0.00        47\n",
            "          40       0.00      0.00      0.00         3\n",
            "          41       0.00      0.00      0.00         2\n",
            "          42       0.00      0.00      0.00        20\n",
            "          43       0.00      0.00      0.00        12\n",
            "          44       0.00      0.00      0.00        19\n",
            "          45       0.00      0.00      0.00         4\n",
            "          46       0.00      0.00      0.00         2\n",
            "          47       0.00      0.00      0.00         3\n",
            "          48       0.00      0.00      0.00         4\n",
            "          49       0.00      0.00      0.00         1\n",
            "\n",
            "    accuracy                           0.47     12944\n",
            "   macro avg       0.28      0.13      0.14     12944\n",
            "weighted avg       0.53      0.47      0.43     12944\n",
            "\n"
          ]
        },
        {
          "output_type": "stream",
          "name": "stderr",
          "text": [
            "/usr/local/lib/python3.9/dist-packages/sklearn/metrics/_classification.py:1344: UndefinedMetricWarning: Precision and F-score are ill-defined and being set to 0.0 in labels with no predicted samples. Use `zero_division` parameter to control this behavior.\n",
            "  _warn_prf(average, modifier, msg_start, len(result))\n",
            "/usr/local/lib/python3.9/dist-packages/sklearn/metrics/_classification.py:1344: UndefinedMetricWarning: Precision and F-score are ill-defined and being set to 0.0 in labels with no predicted samples. Use `zero_division` parameter to control this behavior.\n",
            "  _warn_prf(average, modifier, msg_start, len(result))\n",
            "/usr/local/lib/python3.9/dist-packages/sklearn/metrics/_classification.py:1344: UndefinedMetricWarning: Precision and F-score are ill-defined and being set to 0.0 in labels with no predicted samples. Use `zero_division` parameter to control this behavior.\n",
            "  _warn_prf(average, modifier, msg_start, len(result))\n"
          ]
        }
      ],
      "source": [
        "from sklearn.naive_bayes import MultinomialNB\n",
        "from sklearn.pipeline import Pipeline\n",
        "from sklearn.metrics import classification_report\n",
        "from sklearn.model_selection import GridSearchCV\n",
        "\n",
        "NB = Pipeline([\n",
        "    (\"vectorizer_tfidf\", TfidfVectorizer()),\n",
        "    (\"Multi NM\", MultinomialNB())\n",
        "])\n",
        "\n",
        "NB = NB.fit(x_train, y_train)\n",
        "\n",
        "y_pred = NB.predict(x_test)\n",
        "\n",
        "print(classification_report(y_test, y_pred))"
      ]
    },
    {
      "cell_type": "code",
      "source": [
        "import pickle\n",
        "filename = \"NBmodelo.pkl\"\n",
        "outfile = open(filename, 'wb')\n",
        "\n",
        "pickle.dump(NB, outfile, 2)\n",
        "outfile.close()"
      ],
      "metadata": {
        "id": "7wFb9R5L4M6Q"
      },
      "execution_count": null,
      "outputs": []
    },
    {
      "cell_type": "markdown",
      "metadata": {
        "id": "9RZGAQmyjiRi"
      },
      "source": [
        "Vemos que su precisión fue de 47%\n",
        "\n",
        "Vamos a ver cómo funcionó"
      ]
    },
    {
      "cell_type": "code",
      "execution_count": null,
      "metadata": {
        "colab": {
          "base_uri": "https://localhost:8080/"
        },
        "id": "pglndO1Mjit5",
        "outputId": "27caf787-0367-4b28-8690-2bfca0bd112a"
      },
      "outputs": [
        {
          "output_type": "execute_result",
          "data": {
            "text/plain": [
              "29783    falla drive rda run procesomarca falla  driver...\n",
              "53496    acomoda freno rodillo synchroreportan desajust...\n",
              "21339    segmentos cambiofalla posicion segmentobaja pr...\n",
              "29380    falla fleccion molinoreporta operador falla fl...\n",
              "60986     revisar falla encendidoarranca motor dieselte...\n",
              "48831    entra tencion linea paso entra tencion linea p...\n",
              "4824     fuga hid filtrofuga aceite filtros torniquetee...\n",
              "58967    dar atras descartarqeuda medidapasa medidaoper...\n",
              "51563    reportan operativo separadordeja turno anterio...\n",
              "53130    eliminar fuga cilindro hannareportan fuga acei...\n",
              "41953    carro lento soldarvinculoscarro lento soldarha...\n",
              "56569    caerse cadena motor desplazamientoreportan mue...\n",
              "44566    botarse convertidor molinosr bota convertidor ...\n",
              "27141    retirar motor sist hid control orillaretirar m...\n",
              "57508    falla senales bps moldereporta operador senale...\n",
              "7646     falla mordaza entradatralapa mordaza entradada...\n",
              "41682    trabaja separdor magneticotrabaja separdor mag...\n",
              "15462    safa cua cabezal scrap choperreporta operador ...\n",
              "29897    falla comunplc entradareportan detien linea ir...\n",
              "27390    molino molino f suben completa mensalen rodill...\n",
              "dtype: object"
            ]
          },
          "metadata": {},
          "execution_count": 91
        }
      ],
      "source": [
        "x_test[:20]"
      ]
    },
    {
      "cell_type": "code",
      "execution_count": null,
      "metadata": {
        "colab": {
          "base_uri": "https://localhost:8080/"
        },
        "id": "4EhJtIfjjkCB",
        "outputId": "c2024347-e373-42aa-831c-2257801e724e"
      },
      "outputs": [
        {
          "output_type": "execute_result",
          "data": {
            "text/plain": [
              "29783    14\n",
              "53496    10\n",
              "21339    12\n",
              "29380    14\n",
              "60986    39\n",
              "48831    26\n",
              "4824      7\n",
              "58967    32\n",
              "51563    15\n",
              "53130    13\n",
              "41953    14\n",
              "56569     7\n",
              "44566    11\n",
              "27141    38\n",
              "57508    11\n",
              "7646     11\n",
              "41682    39\n",
              "15462    10\n",
              "29897    11\n",
              "27390    15\n",
              "Name: Síntoma, dtype: int64"
            ]
          },
          "metadata": {},
          "execution_count": 92
        }
      ],
      "source": [
        "y_test[:20]"
      ]
    },
    {
      "cell_type": "code",
      "execution_count": null,
      "metadata": {
        "colab": {
          "base_uri": "https://localhost:8080/"
        },
        "id": "HG-w22Vijmri",
        "outputId": "ff829a6e-17ea-4934-cb09-ac28846c314c"
      },
      "outputs": [
        {
          "output_type": "execute_result",
          "data": {
            "text/plain": [
              "array([14, 10, 10, 14,  3, 14,  7, 14, 10,  7, 14, 10, 11, 14, 14, 11, 11,\n",
              "       10, 11, 15])"
            ]
          },
          "metadata": {},
          "execution_count": 93
        }
      ],
      "source": [
        "y_pred[:20]"
      ]
    },
    {
      "cell_type": "code",
      "execution_count": null,
      "metadata": {
        "colab": {
          "base_uri": "https://localhost:8080/"
        },
        "id": "d0uGq-HOT_uO",
        "outputId": "d4fbeabe-b758-475e-d6b1-4827b738a416"
      },
      "outputs": [
        {
          "data": {
            "text/plain": [
              "29783    falla drive rda run procesomarca falla  driver...\n",
              "53496    acomoda freno rodillo synchroreportan desajust...\n",
              "21339    segmentos cambiofalla posicion segmentobaja pr...\n",
              "29380    falla fleccion molinoreporta operador falla fl...\n",
              "60986     revisar falla encendidoarranca motor dieselte...\n",
              "                               ...                        \n",
              "52940    botarse enrrolador enebrar botarsda jog lineae...\n",
              "27828    cizalla entrada corta solo doblacorta cuchilla...\n",
              "38238    falla acswt motor entryreportan caerse tension...\n",
              "57503    tec  centro refactariodemora hornoalarmo tec c...\n",
              "37393    hacer limpieza conectores conmutadomolino revi...\n",
              "Length: 12944, dtype: object"
            ]
          },
          "execution_count": 53,
          "metadata": {},
          "output_type": "execute_result"
        }
      ],
      "source": [
        "x_test"
      ]
    },
    {
      "cell_type": "markdown",
      "metadata": {
        "id": "aN6x02e8k6VD"
      },
      "source": [
        "El clasificador Naive Bayes tiene 47% de precisión y vemos errores en la tercera y última fila en la muestra.\n",
        "\n",
        "Hacemos una prueba a ver cómo funciona si nosotros metemos los datos a mano."
      ]
    },
    {
      "cell_type": "code",
      "execution_count": null,
      "metadata": {
        "colab": {
          "base_uri": "https://localhost:8080/"
        },
        "id": "6StiJNYKQ67t",
        "outputId": "7f6df54e-bdc7-49e5-a2ed-0caad4d1dd00"
      },
      "outputs": [
        {
          "data": {
            "text/plain": [
              "array([14, 14, 14, 14, 14, 14, 10])"
            ]
          },
          "execution_count": 111,
          "metadata": {},
          "output_type": "execute_result"
        }
      ],
      "source": [
        "prueba = [\"hacer limpieza conectores conmutadomolino revi\", \n",
        "          \"hacer limpieza conectores conmutadomolino revi\", \n",
        "          \"sehh servicio emergencia equ falla plc programacion efectua servicio cia control tech tensonivelado\",\n",
        "          \"tornillo desgastado vielas lado motri mal corte material abre tapa viela cambio tornillo\"]\n",
        "prediccion = clf.predict(prueba)\n",
        "prediccion"
      ]
    },
    {
      "cell_type": "markdown",
      "metadata": {
        "id": "q40E41qBtqVv"
      },
      "source": [
        "**Naive Bayes con otros hiperparámetros**"
      ]
    },
    {
      "cell_type": "code",
      "execution_count": null,
      "metadata": {
        "colab": {
          "base_uri": "https://localhost:8080/"
        },
        "id": "w_yStE5NttAX",
        "outputId": "4d212a44-1d96-4c20-927f-cf2040916100"
      },
      "outputs": [
        {
          "name": "stdout",
          "output_type": "stream",
          "text": [
            "Fitting 5 folds for each of 30 candidates, totalling 150 fits\n"
          ]
        },
        {
          "name": "stderr",
          "output_type": "stream",
          "text": [
            "/usr/local/lib/python3.9/dist-packages/sklearn/model_selection/_split.py:700: UserWarning: The least populated class in y has only 1 members, which is less than n_splits=5.\n",
            "  warnings.warn(\n"
          ]
        },
        {
          "name": "stdout",
          "output_type": "stream",
          "text": [
            "              precision    recall  f1-score   support\n",
            "\n",
            "           1       0.65      0.65      0.65       341\n",
            "           2       0.80      0.36      0.50       121\n",
            "           3       0.65      0.56      0.60      1226\n",
            "           4       0.00      0.00      0.00         8\n",
            "           5       1.00      0.05      0.09        22\n",
            "           6       1.00      0.68      0.81        66\n",
            "           7       0.57      0.52      0.54       969\n",
            "           8       0.72      0.50      0.59       635\n",
            "           9       0.94      0.17      0.28        96\n",
            "          10       0.53      0.81      0.64      1310\n",
            "          11       0.49      0.74      0.59      1573\n",
            "          12       0.91      0.76      0.83      1109\n",
            "          13       0.59      0.62      0.61       489\n",
            "          14       0.56      0.78      0.65      1811\n",
            "          15       0.58      0.66      0.61       892\n",
            "          16       1.00      0.21      0.34        48\n",
            "          17       1.00      0.01      0.03        73\n",
            "          18       0.91      0.30      0.45       242\n",
            "          19       0.95      0.24      0.38        76\n",
            "          20       0.86      0.47      0.61       254\n",
            "          21       0.90      0.19      0.32        47\n",
            "          22       0.87      0.61      0.71       148\n",
            "          23       0.94      0.36      0.52        47\n",
            "          24       1.00      0.15      0.26        79\n",
            "          25       0.79      0.28      0.41       379\n",
            "          26       0.99      0.63      0.77       206\n",
            "          27       1.00      0.02      0.04        50\n",
            "          28       1.00      0.13      0.23        78\n",
            "          30       0.91      0.16      0.27        62\n",
            "          31       0.88      0.13      0.23        53\n",
            "          32       0.80      0.10      0.18        78\n",
            "          33       1.00      0.12      0.22        16\n",
            "          34       1.00      0.08      0.15        24\n",
            "          35       0.83      0.12      0.21        82\n",
            "          36       1.00      0.33      0.50        30\n",
            "          37       0.80      0.09      0.17        43\n",
            "          38       0.88      0.16      0.27        44\n",
            "          39       0.91      0.21      0.34        47\n",
            "          40       0.00      0.00      0.00         3\n",
            "          41       0.00      0.00      0.00         2\n",
            "          42       1.00      0.85      0.92        20\n",
            "          43       0.00      0.00      0.00        12\n",
            "          44       0.00      0.00      0.00        19\n",
            "          45       0.00      0.00      0.00         4\n",
            "          46       0.00      0.00      0.00         2\n",
            "          47       0.00      0.00      0.00         3\n",
            "          48       0.00      0.00      0.00         4\n",
            "          49       0.00      0.00      0.00         1\n",
            "\n",
            "    accuracy                           0.61     12944\n",
            "   macro avg       0.67      0.29      0.34     12944\n",
            "weighted avg       0.66      0.61      0.59     12944\n",
            "\n"
          ]
        },
        {
          "name": "stderr",
          "output_type": "stream",
          "text": [
            "/usr/local/lib/python3.9/dist-packages/sklearn/metrics/_classification.py:1344: UndefinedMetricWarning: Precision and F-score are ill-defined and being set to 0.0 in labels with no predicted samples. Use `zero_division` parameter to control this behavior.\n",
            "  _warn_prf(average, modifier, msg_start, len(result))\n",
            "/usr/local/lib/python3.9/dist-packages/sklearn/metrics/_classification.py:1344: UndefinedMetricWarning: Precision and F-score are ill-defined and being set to 0.0 in labels with no predicted samples. Use `zero_division` parameter to control this behavior.\n",
            "  _warn_prf(average, modifier, msg_start, len(result))\n",
            "/usr/local/lib/python3.9/dist-packages/sklearn/metrics/_classification.py:1344: UndefinedMetricWarning: Precision and F-score are ill-defined and being set to 0.0 in labels with no predicted samples. Use `zero_division` parameter to control this behavior.\n",
            "  _warn_prf(average, modifier, msg_start, len(result))\n"
          ]
        }
      ],
      "source": [
        "from sklearn.pipeline import Pipeline\n",
        "from sklearn.feature_extraction.text import TfidfVectorizer\n",
        "from sklearn.naive_bayes import MultinomialNB\n",
        "from sklearn.model_selection import GridSearchCV\n",
        "\n",
        "# define the pipeline\n",
        "pipeline = Pipeline([\n",
        "    ('tfidf', TfidfVectorizer()),\n",
        "    ('nb', MultinomialNB())\n",
        "])\n",
        "\n",
        "# define the hyperparameters to search over\n",
        "parameters = {\n",
        "    'tfidf__max_df': [0.5, 0.75, 1.0],\n",
        "    'tfidf__ngram_range': [(1,1), (1,2)],\n",
        "    'nb__alpha': [0.1, 0.5, 1, 2, 5]\n",
        "}\n",
        "\n",
        "# perform the grid search\n",
        "grid_search = GridSearchCV(pipeline, parameters, cv=5, n_jobs=-1, verbose=1)\n",
        "grid_search.fit(x_train, y_train)\n",
        "\n",
        "# hacemos las predicciones para x_test y lo guardamos en y_pred\n",
        "best_pipeline = grid_search.best_estimator_\n",
        "y_pred = best_pipeline.predict(x_test)\n",
        "\n",
        "# imprimimos el reporte de la clasificación\n",
        "print(classification_report(y_test, y_pred))"
      ]
    },
    {
      "cell_type": "markdown",
      "source": [
        "De igual manera, observamos que el modelo también subió bastante con un porcentaje de 61%.\n",
        "\n",
        "Así mismo, también creamos el pickle para probarlo en la página web."
      ],
      "metadata": {
        "id": "sT-Uv61pQKQJ"
      }
    },
    {
      "cell_type": "code",
      "source": [
        "import pickle\n",
        "filename = \"NBbueno.pkl\"\n",
        "outfile = open(filename, 'wb')\n",
        "\n",
        "pickle.dump(NBbueno, outfile, 2)\n",
        "outfile.close()"
      ],
      "metadata": {
        "id": "ui_1IBkFQo2X"
      },
      "execution_count": null,
      "outputs": []
    },
    {
      "cell_type": "markdown",
      "metadata": {
        "id": "lSsOqNwXv525"
      },
      "source": [
        "### **K-means**"
      ]
    },
    {
      "cell_type": "code",
      "execution_count": 85,
      "metadata": {
        "id": "CmOBSt1_crS7"
      },
      "outputs": [],
      "source": [
        "x1 = df4[\"Descripción\"].str.cat(df4[\"Qué pasó?\"], sep = \" \")\n",
        "x2 = x1.str.cat(df4[\"Por qué pasó?\"], sep = \" \")\n",
        "x = x2.str.cat(df4[\"Qué se hizo?\"], sep = \" \")\n",
        "# x = df4[\"Causa\"] \n",
        "y = df4[\"Síntoma\"]\n",
        "\n",
        "from sklearn.model_selection import train_test_split\n",
        "x_train, x_test, y_train, y_test = train_test_split(x, y, test_size = 0.2, random_state = 1) # entrenamos con el 80% y probamos con el 20%\n"
      ]
    },
    {
      "cell_type": "code",
      "execution_count": 86,
      "metadata": {
        "id": "Xh8dwTS7MUVu",
        "colab": {
          "base_uri": "https://localhost:8080/",
          "height": 0
        },
        "outputId": "a432c724-4b18-4beb-d8de-c98f90cb0cea"
      },
      "outputs": [
        {
          "output_type": "stream",
          "name": "stderr",
          "text": [
            "/usr/local/lib/python3.9/dist-packages/sklearn/cluster/_kmeans.py:870: FutureWarning: The default value of `n_init` will change from 10 to 'auto' in 1.4. Set the value of `n_init` explicitly to suppress the warning\n",
            "  warnings.warn(\n"
          ]
        }
      ],
      "source": [
        "from sklearn.cluster import KMeans\n",
        "tfidf_vectorizer = TfidfVectorizer()\n",
        "tfidf = tfidf_vectorizer.fit_transform(x_train)\n",
        "sse = []\n",
        "for k in range(1, 50):\n",
        "    kmeans = KMeans(n_clusters=k)\n",
        "    kmeans.fit(tfidf)\n",
        "    sse.append(kmeans.inertia_)\n"
      ]
    },
    {
      "cell_type": "code",
      "execution_count": 87,
      "metadata": {
        "id": "g_o023VPiEtj",
        "colab": {
          "base_uri": "https://localhost:8080/",
          "height": 433
        },
        "outputId": "c3110793-7e75-4616-efd5-131073ecfb22"
      },
      "outputs": [
        {
          "output_type": "stream",
          "name": "stdout",
          "text": [
            "El codo se encuentra en k=36\n"
          ]
        },
        {
          "output_type": "stream",
          "name": "stderr",
          "text": [
            "<ipython-input-87-4e468b1a04dc>:16: MatplotlibDeprecationWarning: The seaborn styles shipped by Matplotlib are deprecated since 3.6, as they no longer correspond to the styles shipped by seaborn. However, they will remain available as 'seaborn-v0_8-<style>'. Alternatively, directly use the seaborn API instead.\n",
            "  plt.style.use(\"seaborn\")\n"
          ]
        },
        {
          "output_type": "display_data",
          "data": {
            "text/plain": [
              "<Figure size 576x396 with 1 Axes>"
            ],
            "image/png": "[encoded data removed]"
          },
          "metadata": {}
        }
      ],
      "source": [
        "# Graficar codo\n",
        "import numpy as np\n",
        "\n",
        "# Diferencias entre valores de SSE\n",
        "diff = np.diff(sse)\n",
        "\n",
        "# Ratio de cambio entre valores consecutivos\n",
        "diff_ratio = diff / sse[:-1]\n",
        "\n",
        "# Indice del punto de inflexión\n",
        "inflection_idx = np.argmax(diff_ratio) + 1\n",
        "\n",
        "# Grafica la curva de codo y el punto de inflexión\n",
        "\n",
        "print(f'El codo se encuentra en k={inflection_idx}')\n",
        "plt.style.use(\"seaborn\")\n",
        "plt.plot(range(1, 50), sse)\n",
        "plt.xticks(range(1, 50))\n",
        "plt.xlabel(\"# Clusters\")\n",
        "plt.ylabel(\"SSE\")\n",
        "plt.axvline(x=inflection_idx, color='r', linestyle='--')\n",
        "plt.show()"
      ]
    },
    {
      "cell_type": "markdown",
      "source": [
        "Como podemos observar el K means nos arrojó una cantidad de 36 clusters."
      ],
      "metadata": {
        "id": "K7qCODycbEKN"
      }
    },
    {
      "cell_type": "code",
      "execution_count": 88,
      "metadata": {
        "id": "U-Y-wBRMjIh4",
        "colab": {
          "base_uri": "https://localhost:8080/",
          "height": 129
        },
        "outputId": "6d6b2c12-9e07-4996-b70b-922751a13a36"
      },
      "outputs": [
        {
          "output_type": "stream",
          "name": "stderr",
          "text": [
            "/usr/local/lib/python3.9/dist-packages/sklearn/cluster/_kmeans.py:870: FutureWarning: The default value of `n_init` will change from 10 to 'auto' in 1.4. Set the value of `n_init` explicitly to suppress the warning\n",
            "  warnings.warn(\n"
          ]
        },
        {
          "output_type": "execute_result",
          "data": {
            "text/plain": [
              "KMeans(n_clusters=36)"
            ],
            "text/html": [
              "<style>#sk-container-id-1 {color: black;background-color: white;}#sk-container-id-1 pre{padding: 0;}#sk-container-id-1 div.sk-toggleable {background-color: white;}#sk-container-id-1 label.sk-toggleable__label {cursor: pointer;display: block;width: 100%;margin-bottom: 0;padding: 0.3em;box-sizing: border-box;text-align: center;}#sk-container-id-1 label.sk-toggleable__label-arrow:before {content: \"▸\";float: left;margin-right: 0.25em;color: #696969;}#sk-container-id-1 label.sk-toggleable__label-arrow:hover:before {color: black;}#sk-container-id-1 div.sk-estimator:hover label.sk-toggleable__label-arrow:before {color: black;}#sk-container-id-1 div.sk-toggleable__content {max-height: 0;max-width: 0;overflow: hidden;text-align: left;background-color: #f0f8ff;}#sk-container-id-1 div.sk-toggleable__content pre {margin: 0.2em;color: black;border-radius: 0.25em;background-color: #f0f8ff;}#sk-container-id-1 input.sk-toggleable__control:checked~div.sk-toggleable__content {max-height: 200px;max-width: 100%;overflow: auto;}#sk-container-id-1 input.sk-toggleable__control:checked~label.sk-toggleable__label-arrow:before {content: \"▾\";}#sk-container-id-1 div.sk-estimator input.sk-toggleable__control:checked~label.sk-toggleable__label {background-color: #d4ebff;}#sk-container-id-1 div.sk-label input.sk-toggleable__control:checked~label.sk-toggleable__label {background-color: #d4ebff;}#sk-container-id-1 input.sk-hidden--visually {border: 0;clip: rect(1px 1px 1px 1px);clip: rect(1px, 1px, 1px, 1px);height: 1px;margin: -1px;overflow: hidden;padding: 0;position: absolute;width: 1px;}#sk-container-id-1 div.sk-estimator {font-family: monospace;background-color: #f0f8ff;border: 1px dotted black;border-radius: 0.25em;box-sizing: border-box;margin-bottom: 0.5em;}#sk-container-id-1 div.sk-estimator:hover {background-color: #d4ebff;}#sk-container-id-1 div.sk-parallel-item::after {content: \"\";width: 100%;border-bottom: 1px solid gray;flex-grow: 1;}#sk-container-id-1 div.sk-label:hover label.sk-toggleable__label {background-color: #d4ebff;}#sk-container-id-1 div.sk-serial::before {content: \"\";position: absolute;border-left: 1px solid gray;box-sizing: border-box;top: 0;bottom: 0;left: 50%;z-index: 0;}#sk-container-id-1 div.sk-serial {display: flex;flex-direction: column;align-items: center;background-color: white;padding-right: 0.2em;padding-left: 0.2em;position: relative;}#sk-container-id-1 div.sk-item {position: relative;z-index: 1;}#sk-container-id-1 div.sk-parallel {display: flex;align-items: stretch;justify-content: center;background-color: white;position: relative;}#sk-container-id-1 div.sk-item::before, #sk-container-id-1 div.sk-parallel-item::before {content: \"\";position: absolute;border-left: 1px solid gray;box-sizing: border-box;top: 0;bottom: 0;left: 50%;z-index: -1;}#sk-container-id-1 div.sk-parallel-item {display: flex;flex-direction: column;z-index: 1;position: relative;background-color: white;}#sk-container-id-1 div.sk-parallel-item:first-child::after {align-self: flex-end;width: 50%;}#sk-container-id-1 div.sk-parallel-item:last-child::after {align-self: flex-start;width: 50%;}#sk-container-id-1 div.sk-parallel-item:only-child::after {width: 0;}#sk-container-id-1 div.sk-dashed-wrapped {border: 1px dashed gray;margin: 0 0.4em 0.5em 0.4em;box-sizing: border-box;padding-bottom: 0.4em;background-color: white;}#sk-container-id-1 div.sk-label label {font-family: monospace;font-weight: bold;display: inline-block;line-height: 1.2em;}#sk-container-id-1 div.sk-label-container {text-align: center;}#sk-container-id-1 div.sk-container {/* jupyter's `normalize.less` sets `[hidden] { display: none; }` but bootstrap.min.css set `[hidden] { display: none !important; }` so we also need the `!important` here to be able to override the default hidden behavior on the sphinx rendered scikit-learn.org. See: https://github.com/scikit-learn/scikit-learn/issues/21755 */display: inline-block !important;position: relative;}#sk-container-id-1 div.sk-text-repr-fallback {display: none;}</style><div id=\"sk-container-id-1\" class=\"sk-top-container\"><div class=\"sk-text-repr-fallback\"><pre>KMeans(n_clusters=36)</pre><b>In a Jupyter environment, please rerun this cell to show the HTML representation or trust the notebook. <br />On GitHub, the HTML representation is unable to render, please try loading this page with nbviewer.org.</b></div><div class=\"sk-container\" hidden><div class=\"sk-item\"><div class=\"sk-estimator sk-toggleable\"><input class=\"sk-toggleable__control sk-hidden--visually\" id=\"sk-estimator-id-1\" type=\"checkbox\" checked><label for=\"sk-estimator-id-1\" class=\"sk-toggleable__label sk-toggleable__label-arrow\">KMeans</label><div class=\"sk-toggleable__content\"><pre>KMeans(n_clusters=36)</pre></div></div></div></div></div>"
            ]
          },
          "metadata": {},
          "execution_count": 88
        }
      ],
      "source": [
        "from sklearn.cluster import KMeans\n",
        "modelKmeans=KMeans(n_clusters=36)\n",
        "modelKmeans.fit(tfidf)"
      ]
    },
    {
      "cell_type": "code",
      "execution_count": 89,
      "metadata": {
        "id": "LmY_fnES-KGr",
        "colab": {
          "base_uri": "https://localhost:8080/",
          "height": 0
        },
        "outputId": "765dcc5f-bc7c-4df1-a60a-cbb5908579ac"
      },
      "outputs": [
        {
          "output_type": "stream",
          "name": "stdout",
          "text": [
            "[[0.00043549 0.         0.         ... 0.         0.         0.        ]\n",
            " [0.00045943 0.         0.         ... 0.         0.         0.        ]\n",
            " [0.         0.         0.         ... 0.         0.         0.        ]\n",
            " ...\n",
            " [0.         0.         0.         ... 0.         0.         0.        ]\n",
            " [0.         0.         0.         ... 0.         0.         0.        ]\n",
            " [0.         0.         0.         ... 0.         0.         0.        ]]\n"
          ]
        }
      ],
      "source": [
        "centroids = kmeans.cluster_centers_\n",
        "print(centroids)"
      ]
    },
    {
      "cell_type": "code",
      "execution_count": 93,
      "metadata": {
        "id": "wfC9z-HASrRD",
        "colab": {
          "base_uri": "https://localhost:8080/",
          "height": 0
        },
        "outputId": "240a6f01-0664-4b28-9f50-e9a8ea16a21c"
      },
      "outputs": [
        {
          "output_type": "execute_result",
          "data": {
            "text/plain": [
              "('PROTECCION', 'ABIERTO', 'AFLOJAMIENTO', 'Auto defecto', 'OTROS')"
            ]
          },
          "metadata": {},
          "execution_count": 93
        }
      ],
      "source": [
        "labels"
      ]
    },
    {
      "cell_type": "markdown",
      "metadata": {
        "id": "qEcQ0XSaKN5F"
      },
      "source": [
        "### **Support Vector Machine**"
      ]
    },
    {
      "cell_type": "code",
      "execution_count": null,
      "metadata": {
        "id": "Jb8OxN_6UCtq"
      },
      "outputs": [],
      "source": [
        "from sklearn.pipeline import Pipeline\n",
        "from sklearn.feature_extraction.text import TfidfVectorizer\n",
        "from sklearn.svm import SVC\n",
        "\n",
        "clf = Pipeline([\n",
        "    ('tfidf', TfidfVectorizer()),\n",
        "    (\"SVM\", SVC(kernel=\"linear\", C=1))\n",
        "])\n",
        "\n",
        "clf.fit(x_train, y_train)\n",
        "y_pred = clf.predict(x_test)"
      ]
    },
    {
      "cell_type": "code",
      "execution_count": null,
      "metadata": {
        "colab": {
          "base_uri": "https://localhost:8080/"
        },
        "id": "Aq-4yT79ZB6x",
        "outputId": "9fc8b555-06ba-4c26-d55a-28647858d206"
      },
      "outputs": [
        {
          "name": "stdout",
          "output_type": "stream",
          "text": [
            "              precision    recall  f1-score   support\n",
            "\n",
            "           1       0.47      0.57      0.52       341\n",
            "           2       0.57      0.43      0.49       121\n",
            "           3       0.44      0.40      0.42      1226\n",
            "           4       0.00      0.00      0.00         8\n",
            "           5       0.00      0.00      0.00        22\n",
            "           6       0.78      0.53      0.63        66\n",
            "           7       0.35      0.34      0.34       969\n",
            "           8       0.46      0.41      0.43       635\n",
            "           9       0.42      0.11      0.18        96\n",
            "          10       0.47      0.60      0.53      1310\n",
            "          11       0.36      0.54      0.43      1573\n",
            "          12       0.69      0.61      0.65      1109\n",
            "          13       0.51      0.51      0.51       489\n",
            "          14       0.44      0.57      0.50      1811\n",
            "          15       0.42      0.50      0.46       892\n",
            "          16       0.88      0.15      0.25        48\n",
            "          17       0.33      0.07      0.11        73\n",
            "          18       0.64      0.19      0.30       242\n",
            "          19       0.74      0.18      0.29        76\n",
            "          20       0.74      0.43      0.54       254\n",
            "          21       0.35      0.32      0.33        47\n",
            "          22       0.40      0.34      0.36       148\n",
            "          23       0.72      0.38      0.50        47\n",
            "          24       0.67      0.08      0.14        79\n",
            "          25       0.42      0.16      0.23       379\n",
            "          26       0.68      0.24      0.36       206\n",
            "          27       0.21      0.08      0.12        50\n",
            "          28       0.89      0.10      0.18        78\n",
            "          30       0.67      0.16      0.26        62\n",
            "          31       0.19      0.08      0.11        53\n",
            "          32       0.78      0.09      0.16        78\n",
            "          33       0.50      0.12      0.20        16\n",
            "          34       1.00      0.08      0.15        24\n",
            "          35       0.43      0.15      0.22        82\n",
            "          36       0.00      0.00      0.00        30\n",
            "          37       0.54      0.16      0.25        43\n",
            "          38       0.42      0.11      0.18        44\n",
            "          39       1.00      0.09      0.16        47\n",
            "          40       0.00      0.00      0.00         3\n",
            "          41       0.00      0.00      0.00         2\n",
            "          42       0.69      0.55      0.61        20\n",
            "          43       0.40      0.17      0.24        12\n",
            "          44       0.00      0.00      0.00        19\n",
            "          45       0.00      0.00      0.00         4\n",
            "          46       0.00      0.00      0.00         2\n",
            "          47       0.00      0.00      0.00         3\n",
            "          48       0.00      0.00      0.00         4\n",
            "          49       0.00      0.00      0.00         1\n",
            "\n",
            "    accuracy                           0.45     12944\n",
            "   macro avg       0.43      0.22      0.26     12944\n",
            "weighted avg       0.48      0.45      0.44     12944\n",
            "\n"
          ]
        },
        {
          "name": "stderr",
          "output_type": "stream",
          "text": [
            "/usr/local/lib/python3.9/dist-packages/sklearn/metrics/_classification.py:1344: UndefinedMetricWarning: Precision and F-score are ill-defined and being set to 0.0 in labels with no predicted samples. Use `zero_division` parameter to control this behavior.\n",
            "  _warn_prf(average, modifier, msg_start, len(result))\n",
            "/usr/local/lib/python3.9/dist-packages/sklearn/metrics/_classification.py:1344: UndefinedMetricWarning: Precision and F-score are ill-defined and being set to 0.0 in labels with no predicted samples. Use `zero_division` parameter to control this behavior.\n",
            "  _warn_prf(average, modifier, msg_start, len(result))\n",
            "/usr/local/lib/python3.9/dist-packages/sklearn/metrics/_classification.py:1344: UndefinedMetricWarning: Precision and F-score are ill-defined and being set to 0.0 in labels with no predicted samples. Use `zero_division` parameter to control this behavior.\n",
            "  _warn_prf(average, modifier, msg_start, len(result))\n"
          ]
        }
      ],
      "source": [
        "print(classification_report(y_test, y_pred))"
      ]
    },
    {
      "cell_type": "markdown",
      "source": [
        "Obtenemos un 45% de accuracy, no mejora nuestro mejor modelo de 86%"
      ],
      "metadata": {
        "id": "x8SlJdHBUaYJ"
      }
    },
    {
      "cell_type": "markdown",
      "metadata": {
        "id": "0dgtuIpeZy94"
      },
      "source": [
        "### **Logistic Regression**"
      ]
    },
    {
      "cell_type": "code",
      "execution_count": null,
      "metadata": {
        "colab": {
          "base_uri": "https://localhost:8080/"
        },
        "id": "aOHx8EXCaXpX",
        "outputId": "5d2550be-1ca0-488b-a666-d731124c5113"
      },
      "outputs": [
        {
          "name": "stderr",
          "output_type": "stream",
          "text": [
            "/usr/local/lib/python3.9/dist-packages/sklearn/linear_model/_logistic.py:458: ConvergenceWarning: lbfgs failed to converge (status=1):\n",
            "STOP: TOTAL NO. of ITERATIONS REACHED LIMIT.\n",
            "\n",
            "Increase the number of iterations (max_iter) or scale the data as shown in:\n",
            "    https://scikit-learn.org/stable/modules/preprocessing.html\n",
            "Please also refer to the documentation for alternative solver options:\n",
            "    https://scikit-learn.org/stable/modules/linear_model.html#logistic-regression\n",
            "  n_iter_i = _check_optimize_result(\n"
          ]
        },
        {
          "name": "stdout",
          "output_type": "stream",
          "text": [
            "              precision    recall  f1-score   support\n",
            "\n",
            "           1       0.60      0.67      0.63       341\n",
            "           2       0.69      0.39      0.50       121\n",
            "           3       0.57      0.54      0.55      1226\n",
            "           4       0.00      0.00      0.00         8\n",
            "           5       0.00      0.00      0.00        22\n",
            "           6       0.93      0.59      0.72        66\n",
            "           7       0.48      0.46      0.47       969\n",
            "           8       0.55      0.49      0.52       635\n",
            "           9       0.76      0.20      0.31        96\n",
            "          10       0.56      0.74      0.64      1310\n",
            "          11       0.48      0.68      0.56      1573\n",
            "          12       0.85      0.75      0.80      1109\n",
            "          13       0.53      0.60      0.56       489\n",
            "          14       0.55      0.70      0.62      1811\n",
            "          15       0.53      0.63      0.57       892\n",
            "          16       0.71      0.25      0.37        48\n",
            "          17       0.33      0.05      0.09        73\n",
            "          18       0.84      0.29      0.43       242\n",
            "          19       0.89      0.22      0.36        76\n",
            "          20       0.82      0.45      0.58       254\n",
            "          21       0.54      0.40      0.46        47\n",
            "          22       0.61      0.56      0.59       148\n",
            "          23       0.89      0.36      0.52        47\n",
            "          24       0.91      0.13      0.22        79\n",
            "          25       0.49      0.29      0.36       379\n",
            "          26       0.90      0.35      0.50       206\n",
            "          27       0.40      0.08      0.13        50\n",
            "          28       1.00      0.06      0.12        78\n",
            "          30       0.67      0.19      0.30        62\n",
            "          31       0.33      0.11      0.17        53\n",
            "          32       0.53      0.10      0.17        78\n",
            "          33       0.00      0.00      0.00        16\n",
            "          34       1.00      0.08      0.15        24\n",
            "          35       0.48      0.13      0.21        82\n",
            "          36       1.00      0.20      0.33        30\n",
            "          37       0.57      0.19      0.28        43\n",
            "          38       0.44      0.09      0.15        44\n",
            "          39       1.00      0.13      0.23        47\n",
            "          40       0.00      0.00      0.00         3\n",
            "          41       0.00      0.00      0.00         2\n",
            "          42       1.00      0.80      0.89        20\n",
            "          43       0.00      0.00      0.00        12\n",
            "          44       0.00      0.00      0.00        19\n",
            "          45       0.00      0.00      0.00         4\n",
            "          46       0.00      0.00      0.00         2\n",
            "          47       0.00      0.00      0.00         3\n",
            "          48       0.00      0.00      0.00         4\n",
            "          49       0.00      0.00      0.00         1\n",
            "\n",
            "    accuracy                           0.57     12944\n",
            "   macro avg       0.51      0.27      0.31     12944\n",
            "weighted avg       0.59      0.57      0.55     12944\n",
            "\n"
          ]
        },
        {
          "name": "stderr",
          "output_type": "stream",
          "text": [
            "/usr/local/lib/python3.9/dist-packages/sklearn/metrics/_classification.py:1344: UndefinedMetricWarning: Precision and F-score are ill-defined and being set to 0.0 in labels with no predicted samples. Use `zero_division` parameter to control this behavior.\n",
            "  _warn_prf(average, modifier, msg_start, len(result))\n",
            "/usr/local/lib/python3.9/dist-packages/sklearn/metrics/_classification.py:1344: UndefinedMetricWarning: Precision and F-score are ill-defined and being set to 0.0 in labels with no predicted samples. Use `zero_division` parameter to control this behavior.\n",
            "  _warn_prf(average, modifier, msg_start, len(result))\n",
            "/usr/local/lib/python3.9/dist-packages/sklearn/metrics/_classification.py:1344: UndefinedMetricWarning: Precision and F-score are ill-defined and being set to 0.0 in labels with no predicted samples. Use `zero_division` parameter to control this behavior.\n",
            "  _warn_prf(average, modifier, msg_start, len(result))\n"
          ]
        }
      ],
      "source": [
        "from sklearn.linear_model import LogisticRegression\n",
        "# Definir el vectorizador tf-idf\n",
        "tfidf = TfidfVectorizer()\n",
        "\n",
        "# Definir el clasificador Maximum Entropy (logistic regression)\n",
        "maxent = LogisticRegression()\n",
        "\n",
        "# Definir el pipeline\n",
        "pipeline = Pipeline([\n",
        "    ('tfidf', tfidf),\n",
        "    ('maxent', maxent)\n",
        "])\n",
        "\n",
        "pipeline.fit(x_train, y_train)\n",
        "\n",
        "y_pred = pipeline.predict(x_test)\n",
        "\n",
        "print(classification_report(y_test, y_pred))"
      ]
    },
    {
      "cell_type": "markdown",
      "metadata": {
        "id": "FDMkF-6kwOuk"
      },
      "source": [
        "**Logistic Regression con cambio de parámetro**\n",
        "\n",
        "Se intentó realizar GridSearchCV para encontrar los mejores hiperparámetros de Regresión Logística, sin embargo, al ser un modelo que requiere mucho procesamiento y RAM de la nube no se pudo efectuar el resultado."
      ]
    },
    {
      "cell_type": "code",
      "execution_count": null,
      "metadata": {
        "colab": {
          "base_uri": "https://localhost:8080/"
        },
        "id": "IObpv8qawTF5",
        "outputId": "c43161f9-c61e-4dc3-8ed7-0255468a98d7"
      },
      "outputs": [
        {
          "name": "stderr",
          "output_type": "stream",
          "text": [
            "/usr/local/lib/python3.9/dist-packages/sklearn/model_selection/_split.py:700: UserWarning: The least populated class in y has only 1 members, which is less than n_splits=5.\n",
            "  warnings.warn(\n",
            "/usr/local/lib/python3.9/dist-packages/sklearn/linear_model/_logistic.py:458: ConvergenceWarning: lbfgs failed to converge (status=1):\n",
            "STOP: TOTAL NO. of ITERATIONS REACHED LIMIT.\n",
            "\n",
            "Increase the number of iterations (max_iter) or scale the data as shown in:\n",
            "    https://scikit-learn.org/stable/modules/preprocessing.html\n",
            "Please also refer to the documentation for alternative solver options:\n",
            "    https://scikit-learn.org/stable/modules/linear_model.html#logistic-regression\n",
            "  n_iter_i = _check_optimize_result(\n",
            "/usr/local/lib/python3.9/dist-packages/sklearn/linear_model/_logistic.py:458: ConvergenceWarning: lbfgs failed to converge (status=1):\n",
            "STOP: TOTAL NO. of ITERATIONS REACHED LIMIT.\n",
            "\n",
            "Increase the number of iterations (max_iter) or scale the data as shown in:\n",
            "    https://scikit-learn.org/stable/modules/preprocessing.html\n",
            "Please also refer to the documentation for alternative solver options:\n",
            "    https://scikit-learn.org/stable/modules/linear_model.html#logistic-regression\n",
            "  n_iter_i = _check_optimize_result(\n",
            "/usr/local/lib/python3.9/dist-packages/sklearn/linear_model/_logistic.py:458: ConvergenceWarning: lbfgs failed to converge (status=1):\n",
            "STOP: TOTAL NO. of ITERATIONS REACHED LIMIT.\n",
            "\n",
            "Increase the number of iterations (max_iter) or scale the data as shown in:\n",
            "    https://scikit-learn.org/stable/modules/preprocessing.html\n",
            "Please also refer to the documentation for alternative solver options:\n",
            "    https://scikit-learn.org/stable/modules/linear_model.html#logistic-regression\n",
            "  n_iter_i = _check_optimize_result(\n",
            "/usr/local/lib/python3.9/dist-packages/sklearn/linear_model/_logistic.py:458: ConvergenceWarning: lbfgs failed to converge (status=1):\n",
            "STOP: TOTAL NO. of ITERATIONS REACHED LIMIT.\n",
            "\n",
            "Increase the number of iterations (max_iter) or scale the data as shown in:\n",
            "    https://scikit-learn.org/stable/modules/preprocessing.html\n",
            "Please also refer to the documentation for alternative solver options:\n",
            "    https://scikit-learn.org/stable/modules/linear_model.html#logistic-regression\n",
            "  n_iter_i = _check_optimize_result(\n",
            "/usr/local/lib/python3.9/dist-packages/sklearn/linear_model/_logistic.py:458: ConvergenceWarning: lbfgs failed to converge (status=1):\n",
            "STOP: TOTAL NO. of ITERATIONS REACHED LIMIT.\n",
            "\n",
            "Increase the number of iterations (max_iter) or scale the data as shown in:\n",
            "    https://scikit-learn.org/stable/modules/preprocessing.html\n",
            "Please also refer to the documentation for alternative solver options:\n",
            "    https://scikit-learn.org/stable/modules/linear_model.html#logistic-regression\n",
            "  n_iter_i = _check_optimize_result(\n",
            "/usr/local/lib/python3.9/dist-packages/sklearn/linear_model/_logistic.py:458: ConvergenceWarning: lbfgs failed to converge (status=1):\n",
            "STOP: TOTAL NO. of ITERATIONS REACHED LIMIT.\n",
            "\n",
            "Increase the number of iterations (max_iter) or scale the data as shown in:\n",
            "    https://scikit-learn.org/stable/modules/preprocessing.html\n",
            "Please also refer to the documentation for alternative solver options:\n",
            "    https://scikit-learn.org/stable/modules/linear_model.html#logistic-regression\n",
            "  n_iter_i = _check_optimize_result(\n",
            "/usr/local/lib/python3.9/dist-packages/sklearn/linear_model/_logistic.py:458: ConvergenceWarning: lbfgs failed to converge (status=1):\n",
            "STOP: TOTAL NO. of ITERATIONS REACHED LIMIT.\n",
            "\n",
            "Increase the number of iterations (max_iter) or scale the data as shown in:\n",
            "    https://scikit-learn.org/stable/modules/preprocessing.html\n",
            "Please also refer to the documentation for alternative solver options:\n",
            "    https://scikit-learn.org/stable/modules/linear_model.html#logistic-regression\n",
            "  n_iter_i = _check_optimize_result(\n",
            "/usr/local/lib/python3.9/dist-packages/sklearn/linear_model/_logistic.py:458: ConvergenceWarning: lbfgs failed to converge (status=1):\n",
            "STOP: TOTAL NO. of ITERATIONS REACHED LIMIT.\n",
            "\n",
            "Increase the number of iterations (max_iter) or scale the data as shown in:\n",
            "    https://scikit-learn.org/stable/modules/preprocessing.html\n",
            "Please also refer to the documentation for alternative solver options:\n",
            "    https://scikit-learn.org/stable/modules/linear_model.html#logistic-regression\n",
            "  n_iter_i = _check_optimize_result(\n",
            "/usr/local/lib/python3.9/dist-packages/sklearn/linear_model/_logistic.py:458: ConvergenceWarning: lbfgs failed to converge (status=1):\n",
            "STOP: TOTAL NO. of ITERATIONS REACHED LIMIT.\n",
            "\n",
            "Increase the number of iterations (max_iter) or scale the data as shown in:\n",
            "    https://scikit-learn.org/stable/modules/preprocessing.html\n",
            "Please also refer to the documentation for alternative solver options:\n",
            "    https://scikit-learn.org/stable/modules/linear_model.html#logistic-regression\n",
            "  n_iter_i = _check_optimize_result(\n",
            "/usr/local/lib/python3.9/dist-packages/sklearn/linear_model/_logistic.py:458: ConvergenceWarning: lbfgs failed to converge (status=1):\n",
            "STOP: TOTAL NO. of ITERATIONS REACHED LIMIT.\n",
            "\n",
            "Increase the number of iterations (max_iter) or scale the data as shown in:\n",
            "    https://scikit-learn.org/stable/modules/preprocessing.html\n",
            "Please also refer to the documentation for alternative solver options:\n",
            "    https://scikit-learn.org/stable/modules/linear_model.html#logistic-regression\n",
            "  n_iter_i = _check_optimize_result(\n"
          ]
        }
      ],
      "source": [
        "# Define the pipeline\n",
        "text_clf = Pipeline([\n",
        "    ('tfidf', TfidfVectorizer()),\n",
        "    ('clf', LogisticRegression())\n",
        "])\n",
        "\n",
        "# Define the parameters for GridSearchCV\n",
        "parameters = {\n",
        "    'tfidf__max_df': [0.25, 0.5, 0.75],\n",
        "    'tfidf__ngram_range': [(1,1), (1,2), (1,3)],\n",
        "    'clf__C': [0.01, 0.1, 1, 10]\n",
        "}\n",
        "\n",
        "# Define the GridSearchCV object\n",
        "gs_clf = GridSearchCV(text_clf, parameters, cv=5)\n",
        "\n",
        "# Fit the GridSearchCV object\n",
        "gs_clf = gs_clf.fit(x_train, y_train)\n",
        "\n",
        "# hacemos las predicciones para x_test y lo guardamos en y_pred\n",
        "best_pipeline = grid_search.best_estimator_\n",
        "y_pred = best_pipeline.predict(x_test)\n",
        "\n",
        "# imprimimos el reporte de la clasificación\n",
        "print(classification_report(y_test, y_pred))"
      ]
    },
    {
      "cell_type": "markdown",
      "source": [
        "# Selección de modelo\n",
        "\n",
        "Al observar los resultado de los modelos, concluimos que el modelo que mejor desempeño tuvo fue el de Random Forest con ajuste de hiperparámetros ya que obtuvo un resutlado de 86%."
      ],
      "metadata": {
        "id": "YIcqmfdHbNCW"
      }
    }
  ],
  "metadata": {
    "colab": {
      "provenance": [],
      "toc_visible": true
    },
    "gpuClass": "standard",
    "kernelspec": {
      "display_name": "Python 3",
      "name": "python3"
    },
    "language_info": {
      "name": "python"
    }
  },
  "nbformat": 4,
  "nbformat_minor": 0
}